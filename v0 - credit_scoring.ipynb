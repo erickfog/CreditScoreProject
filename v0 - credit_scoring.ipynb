{
 "cells": [
  {
   "cell_type": "markdown",
   "id": "62d54c5d",
   "metadata": {
    "hide_input": false
   },
   "source": [
    "# Entendimento do Problema e Planejamento da Solução"
   ]
  },
  {
   "cell_type": "markdown",
   "id": "c586d4ac",
   "metadata": {},
   "source": [
    "    O que preciso entregar? \n",
    "            Web App com modelo em produção fazendo previsões de inadimplência e taxa de juros personalizada.\n",
    "    \n",
    "    O que precisa ser feito? \n",
    "             Construção do Modelo;\n",
    "             Deployment do Modelo;\n",
    "         \n",
    "    Quais ferramentas utilizar? \n",
    "           - Python\n",
    "               1. Biblioteca de manipulação de dados(Pandas,Numpy e Scipy)\n",
    "               2. Biblioteca de Machine Learning (Scikit-Learn)\n",
    "               3. Biblioteca de Balanceamento de Dados (Imbalanced Learn)\n",
    "               4. Biblioteca de Vizualização de Dados (Matplotlib e Seaborn)\n",
    "            - Flask (Escrever a Handler API)\n",
    "            - Render (Cloud para Deployment)\n",
    "            - Streamlit ou Hugging Face (Web APP)\n",
    "    \n",
    "    Como fazer? \n",
    "            1. Fazer todo o processo de construção do modelo;\n",
    "            2. Escrever Handler API para chamar o pipeline de tratamento de dados e fazer request no modelo; \n",
    "            3. Fazer deployment da aplicação no Render; \n",
    "            4. Construir o webapp utilizando o streamlit;"
   ]
  },
  {
   "cell_type": "markdown",
   "id": "7587f796",
   "metadata": {},
   "source": [
    "## Metadados"
   ]
  },
  {
   "cell_type": "markdown",
   "id": "7ef97e73",
   "metadata": {},
   "source": [
    "1: Inadimplente\n",
    "0: Não inadimplente\n",
    "\n",
    "\n",
    "X1: Amount of the given credit (NT dollar): it includes\n",
    "both the individual consumer credit and his/her family\n",
    "(supplementary) credit.\n",
    "\u0002 X2: Gender (1 = male; 2 = female).\n",
    "\u0002 X3: Education (1 = graduate school; 2 = university;\n",
    "3 = high school; 4 = others).\n",
    "\u0002 X4: Marital status (1 = married; 2 = single; 3 = others).\n",
    "\u0002 X5: Age (year).\n",
    "\u0002 X6–X11: History of past payment. We tracked the past\n",
    "monthly payment records (from April to September,\n",
    "2005) as follows: X6 = the repayment status in Septem-\n",
    "ber, 2005; X7 = the repayment status in August,\n",
    "2005; . . .; X11 = the repayment status in April, 2005.\n",
    "The measurement scale for the repayment status is:\n",
    "\u00031 = pay duly; 1 = payment delay for one month;\n",
    "2 = payment delay for two months; . . .; 8 = payment\n",
    "delay for eight months; 9 = payment delay for nine\n",
    "months and above.\n",
    "\u0002 X12–X17: Amount of bill statement (NT dollar).\n",
    "X12 = amount of bill statement in September, 2005;\n",
    "X13 = amount of bill statement in August,\n",
    "2005; . . .; X17 = amount of bill statement in April, 2005.\n",
    "\u0002 X18–X23: Amount of previous payment (NT dollar).\n",
    "X18 = amount paid in September, 2005; X19 = amount\n",
    "paid in August, 2005; . . .; X23 = amount paid in April,\n",
    "2005."
   ]
  },
  {
   "cell_type": "markdown",
   "id": "ac228856",
   "metadata": {},
   "source": [
    "# PASSO 0 - Imports"
   ]
  },
  {
   "cell_type": "code",
   "execution_count": 1,
   "id": "5a064165",
   "metadata": {
    "ExecuteTime": {
     "end_time": "2023-04-12T18:06:16.328188Z",
     "start_time": "2023-04-12T18:06:15.603581Z"
    }
   },
   "outputs": [],
   "source": [
    "import math\n",
    "import pandas as pd\n",
    "import numpy  as np\n",
    "import inflection\n",
    "import requests\n",
    "import random\n",
    "import pickle\n",
    "import warnings\n",
    "import xgboost as xgb\n",
    "import seaborn as sns\n",
    "\n",
    "\n",
    "from boruta               import BorutaPy\n",
    "from scipy                import stats      as ss\n",
    "from matplotlib           import pyplot     as plt\n",
    "from IPython.core.display import HTML\n",
    "from IPython.display      import Image\n",
    "\n",
    "from sklearn.metrics import roc_auc_score, roc_curve, accuracy_score\n",
    "from sklearn.model_selection import train_test_split\n",
    "from sklearn.preprocessing import StandardScaler, MinMaxScaler, RobustScaler\n",
    "from sklearn.ensemble import RandomForestClassifier\n",
    "\n",
    "\n",
    "warnings.filterwarnings('ignore')"
   ]
  },
  {
   "cell_type": "markdown",
   "id": "b6dd6c0a",
   "metadata": {},
   "source": [
    "## 0.1 Helper Functions"
   ]
  },
  {
   "cell_type": "code",
   "execution_count": 2,
   "id": "13abd7f2",
   "metadata": {
    "ExecuteTime": {
     "end_time": "2023-04-12T18:06:16.764262Z",
     "start_time": "2023-04-12T18:06:16.758672Z"
    }
   },
   "outputs": [],
   "source": [
    "def cramer_v( x, y ):\n",
    "    cm = pd.crosstab( x, y ).values\n",
    "    n = cm.sum()\n",
    "    r, k = cm.shape\n",
    "    chi2 = ss.chi2_contingency( cm )[0]\n",
    "    chi2corr = max( 0, chi2 - (k-1)*(r-1)/(n-1) )\n",
    "    kcorr = k - (k-1)**2/(n-1)\n",
    "    rcorr = r - (r-1)**2/(n-1)\n",
    "    return np.sqrt( (chi2corr/n) / ( min( kcorr-1, rcorr-1 ) ) )\n",
    "\n",
    "\n",
    "def jupyter_settings():\n",
    "    %matplotlib inline\n",
    "    %pylab inline\n",
    "    plt.style.use( 'bmh' )\n",
    "    plt.rcParams['figure.figsize'] = [25, 12]\n",
    "    plt.rcParams['font.size'] = 24\n",
    "    display( HTML( '<style>.container { width:100% !important; }</style>') )\n",
    "    pd.options.display.max_columns = None\n",
    "    pd.options.display.max_rows = None\n",
    "    pd.set_option( 'display.expand_frame_repr', False )\n",
    "    sns.set()"
   ]
  },
  {
   "cell_type": "markdown",
   "id": "cd45b6ef",
   "metadata": {},
   "source": [
    "## 0.1 Loading Data"
   ]
  },
  {
   "cell_type": "code",
   "execution_count": 3,
   "id": "4b882ae0",
   "metadata": {
    "ExecuteTime": {
     "end_time": "2023-04-12T18:06:17.736948Z",
     "start_time": "2023-04-12T18:06:17.692313Z"
    }
   },
   "outputs": [],
   "source": [
    "df_raw = pd.read_csv('data/dataset_trat.csv', sep=';')"
   ]
  },
  {
   "cell_type": "code",
   "execution_count": 4,
   "id": "17327941",
   "metadata": {
    "ExecuteTime": {
     "end_time": "2023-04-12T18:06:18.552538Z",
     "start_time": "2023-04-12T18:06:18.541868Z"
    }
   },
   "outputs": [
    {
     "data": {
      "text/html": [
       "<div>\n",
       "<style scoped>\n",
       "    .dataframe tbody tr th:only-of-type {\n",
       "        vertical-align: middle;\n",
       "    }\n",
       "\n",
       "    .dataframe tbody tr th {\n",
       "        vertical-align: top;\n",
       "    }\n",
       "\n",
       "    .dataframe thead th {\n",
       "        text-align: right;\n",
       "    }\n",
       "</style>\n",
       "<table border=\"1\" class=\"dataframe\">\n",
       "  <thead>\n",
       "    <tr style=\"text-align: right;\">\n",
       "      <th></th>\n",
       "      <th>ID</th>\n",
       "      <th>SAFRA</th>\n",
       "      <th>LIMIT_BAL</th>\n",
       "      <th>SEX</th>\n",
       "      <th>EDUCATION</th>\n",
       "      <th>MARRIAGE</th>\n",
       "      <th>AGE</th>\n",
       "      <th>PAY_0</th>\n",
       "      <th>PAY_2</th>\n",
       "      <th>PAY_3</th>\n",
       "      <th>...</th>\n",
       "      <th>BILL_AMT4</th>\n",
       "      <th>BILL_AMT5</th>\n",
       "      <th>BILL_AMT6</th>\n",
       "      <th>PAY_AMT1</th>\n",
       "      <th>PAY_AMT2</th>\n",
       "      <th>PAY_AMT3</th>\n",
       "      <th>PAY_AMT4</th>\n",
       "      <th>PAY_AMT5</th>\n",
       "      <th>PAY_AMT6</th>\n",
       "      <th>default</th>\n",
       "    </tr>\n",
       "  </thead>\n",
       "  <tbody>\n",
       "    <tr>\n",
       "      <th>0</th>\n",
       "      <td>1</td>\n",
       "      <td>200510</td>\n",
       "      <td>20000</td>\n",
       "      <td>2</td>\n",
       "      <td>2</td>\n",
       "      <td>1</td>\n",
       "      <td>24</td>\n",
       "      <td>2</td>\n",
       "      <td>2</td>\n",
       "      <td>-1</td>\n",
       "      <td>...</td>\n",
       "      <td>0</td>\n",
       "      <td>0</td>\n",
       "      <td>0</td>\n",
       "      <td>0</td>\n",
       "      <td>689</td>\n",
       "      <td>0</td>\n",
       "      <td>0</td>\n",
       "      <td>0</td>\n",
       "      <td>0</td>\n",
       "      <td>1</td>\n",
       "    </tr>\n",
       "    <tr>\n",
       "      <th>1</th>\n",
       "      <td>2</td>\n",
       "      <td>200510</td>\n",
       "      <td>120000</td>\n",
       "      <td>2</td>\n",
       "      <td>2</td>\n",
       "      <td>2</td>\n",
       "      <td>26</td>\n",
       "      <td>-1</td>\n",
       "      <td>2</td>\n",
       "      <td>0</td>\n",
       "      <td>...</td>\n",
       "      <td>3272</td>\n",
       "      <td>3455</td>\n",
       "      <td>3261</td>\n",
       "      <td>0</td>\n",
       "      <td>1000</td>\n",
       "      <td>1000</td>\n",
       "      <td>1000</td>\n",
       "      <td>0</td>\n",
       "      <td>2000</td>\n",
       "      <td>1</td>\n",
       "    </tr>\n",
       "    <tr>\n",
       "      <th>2</th>\n",
       "      <td>3</td>\n",
       "      <td>200510</td>\n",
       "      <td>90000</td>\n",
       "      <td>2</td>\n",
       "      <td>2</td>\n",
       "      <td>2</td>\n",
       "      <td>34</td>\n",
       "      <td>0</td>\n",
       "      <td>0</td>\n",
       "      <td>0</td>\n",
       "      <td>...</td>\n",
       "      <td>14331</td>\n",
       "      <td>14948</td>\n",
       "      <td>15549</td>\n",
       "      <td>1518</td>\n",
       "      <td>1500</td>\n",
       "      <td>1000</td>\n",
       "      <td>1000</td>\n",
       "      <td>1000</td>\n",
       "      <td>5000</td>\n",
       "      <td>0</td>\n",
       "    </tr>\n",
       "    <tr>\n",
       "      <th>3</th>\n",
       "      <td>4</td>\n",
       "      <td>200510</td>\n",
       "      <td>50000</td>\n",
       "      <td>2</td>\n",
       "      <td>2</td>\n",
       "      <td>1</td>\n",
       "      <td>37</td>\n",
       "      <td>0</td>\n",
       "      <td>0</td>\n",
       "      <td>0</td>\n",
       "      <td>...</td>\n",
       "      <td>28314</td>\n",
       "      <td>28959</td>\n",
       "      <td>29547</td>\n",
       "      <td>2000</td>\n",
       "      <td>2019</td>\n",
       "      <td>1200</td>\n",
       "      <td>1100</td>\n",
       "      <td>1069</td>\n",
       "      <td>1000</td>\n",
       "      <td>0</td>\n",
       "    </tr>\n",
       "    <tr>\n",
       "      <th>4</th>\n",
       "      <td>5</td>\n",
       "      <td>200510</td>\n",
       "      <td>50000</td>\n",
       "      <td>1</td>\n",
       "      <td>2</td>\n",
       "      <td>1</td>\n",
       "      <td>57</td>\n",
       "      <td>-1</td>\n",
       "      <td>0</td>\n",
       "      <td>-1</td>\n",
       "      <td>...</td>\n",
       "      <td>20940</td>\n",
       "      <td>19146</td>\n",
       "      <td>19131</td>\n",
       "      <td>2000</td>\n",
       "      <td>36681</td>\n",
       "      <td>10000</td>\n",
       "      <td>9000</td>\n",
       "      <td>689</td>\n",
       "      <td>679</td>\n",
       "      <td>0</td>\n",
       "    </tr>\n",
       "  </tbody>\n",
       "</table>\n",
       "<p>5 rows × 26 columns</p>\n",
       "</div>"
      ],
      "text/plain": [
       "   ID   SAFRA  LIMIT_BAL  SEX  EDUCATION  MARRIAGE  AGE  PAY_0  PAY_2  PAY_3  \\\n",
       "0   1  200510      20000    2          2         1   24      2      2     -1   \n",
       "1   2  200510     120000    2          2         2   26     -1      2      0   \n",
       "2   3  200510      90000    2          2         2   34      0      0      0   \n",
       "3   4  200510      50000    2          2         1   37      0      0      0   \n",
       "4   5  200510      50000    1          2         1   57     -1      0     -1   \n",
       "\n",
       "   ...  BILL_AMT4  BILL_AMT5  BILL_AMT6  PAY_AMT1  PAY_AMT2  PAY_AMT3  \\\n",
       "0  ...          0          0          0         0       689         0   \n",
       "1  ...       3272       3455       3261         0      1000      1000   \n",
       "2  ...      14331      14948      15549      1518      1500      1000   \n",
       "3  ...      28314      28959      29547      2000      2019      1200   \n",
       "4  ...      20940      19146      19131      2000     36681     10000   \n",
       "\n",
       "   PAY_AMT4  PAY_AMT5  PAY_AMT6  default  \n",
       "0         0         0         0        1  \n",
       "1      1000         0      2000        1  \n",
       "2      1000      1000      5000        0  \n",
       "3      1100      1069      1000        0  \n",
       "4      9000       689       679        0  \n",
       "\n",
       "[5 rows x 26 columns]"
      ]
     },
     "execution_count": 4,
     "metadata": {},
     "output_type": "execute_result"
    }
   ],
   "source": [
    "df_raw.head()"
   ]
  },
  {
   "cell_type": "code",
   "execution_count": 102,
   "id": "70b6be06",
   "metadata": {
    "ExecuteTime": {
     "end_time": "2023-04-12T20:39:34.502716Z",
     "start_time": "2023-04-12T20:39:34.500349Z"
    }
   },
   "outputs": [
    {
     "data": {
      "text/plain": [
       "(30000, 26)"
      ]
     },
     "execution_count": 102,
     "metadata": {},
     "output_type": "execute_result"
    }
   ],
   "source": [
    "df_raw.shape"
   ]
  },
  {
   "cell_type": "code",
   "execution_count": 103,
   "id": "dfc5a747",
   "metadata": {
    "ExecuteTime": {
     "end_time": "2023-04-12T20:39:34.992122Z",
     "start_time": "2023-04-12T20:39:34.982734Z"
    }
   },
   "outputs": [
    {
     "data": {
      "text/plain": [
       "Index(['ID', 'SAFRA', 'LIMIT_BAL', 'SEX', 'EDUCATION', 'MARRIAGE', 'AGE',\n",
       "       'PAY_0', 'PAY_2', 'PAY_3', 'PAY_4', 'PAY_5', 'PAY_6', 'BILL_AMT1',\n",
       "       'BILL_AMT2', 'BILL_AMT3', 'BILL_AMT4', 'BILL_AMT5', 'BILL_AMT6',\n",
       "       'PAY_AMT1', 'PAY_AMT2', 'PAY_AMT3', 'PAY_AMT4', 'PAY_AMT5', 'PAY_AMT6',\n",
       "       'default'],\n",
       "      dtype='object')"
      ]
     },
     "execution_count": 103,
     "metadata": {},
     "output_type": "execute_result"
    }
   ],
   "source": [
    "df_raw.columns"
   ]
  },
  {
   "cell_type": "code",
   "execution_count": 106,
   "id": "5af7e633",
   "metadata": {
    "ExecuteTime": {
     "end_time": "2023-04-12T20:40:03.737627Z",
     "start_time": "2023-04-12T20:40:03.734028Z"
    }
   },
   "outputs": [
    {
     "data": {
      "text/plain": [
       "array([2, 1])"
      ]
     },
     "execution_count": 106,
     "metadata": {},
     "output_type": "execute_result"
    }
   ],
   "source": [
    "df_raw['SEX'].unique()"
   ]
  },
  {
   "cell_type": "code",
   "execution_count": 108,
   "id": "e01c12a0",
   "metadata": {
    "ExecuteTime": {
     "end_time": "2023-04-12T20:42:30.921357Z",
     "start_time": "2023-04-12T20:42:30.912532Z"
    }
   },
   "outputs": [],
   "source": [
    "df_raw['SEX'] = df_raw['SEX'].apply(lambda x: 'male' if x==1 else 'female')"
   ]
  },
  {
   "cell_type": "code",
   "execution_count": 109,
   "id": "46880870",
   "metadata": {
    "ExecuteTime": {
     "end_time": "2023-04-12T20:42:43.327675Z",
     "start_time": "2023-04-12T20:42:43.320970Z"
    }
   },
   "outputs": [
    {
     "data": {
      "text/plain": [
       "array(['female', 'male'], dtype=object)"
      ]
     },
     "execution_count": 109,
     "metadata": {},
     "output_type": "execute_result"
    }
   ],
   "source": [
    "df_raw['SEX'].unique()"
   ]
  },
  {
   "cell_type": "code",
   "execution_count": 111,
   "id": "0debf870",
   "metadata": {
    "ExecuteTime": {
     "end_time": "2023-04-12T20:44:29.786117Z",
     "start_time": "2023-04-12T20:44:29.774963Z"
    }
   },
   "outputs": [
    {
     "data": {
      "text/plain": [
       "array([2, 1, 3, 5, 4, 6, 0])"
      ]
     },
     "execution_count": 111,
     "metadata": {},
     "output_type": "execute_result"
    }
   ],
   "source": [
    "df_raw['EDUCATION'].unique()"
   ]
  },
  {
   "cell_type": "code",
   "execution_count": 112,
   "id": "7c3bf9ef",
   "metadata": {
    "ExecuteTime": {
     "end_time": "2023-04-12T20:47:45.537654Z",
     "start_time": "2023-04-12T20:47:45.531805Z"
    }
   },
   "outputs": [],
   "source": [
    "df_raw['EDUCATION'] = df_raw['EDUCATION'].apply(lambda x: 'graduate school' if x == 1 else 'university' if x==2 else\n",
    "                                               'high school' if x==3 else 'others')"
   ]
  },
  {
   "cell_type": "code",
   "execution_count": 113,
   "id": "596b1b76",
   "metadata": {
    "ExecuteTime": {
     "end_time": "2023-04-12T20:47:59.763579Z",
     "start_time": "2023-04-12T20:47:59.759981Z"
    }
   },
   "outputs": [
    {
     "data": {
      "text/plain": [
       "array(['university', 'graduate school', 'high school', 'others'],\n",
       "      dtype=object)"
      ]
     },
     "execution_count": 113,
     "metadata": {},
     "output_type": "execute_result"
    }
   ],
   "source": [
    "df_raw['EDUCATION'].unique()"
   ]
  },
  {
   "cell_type": "code",
   "execution_count": 114,
   "id": "7a211e14",
   "metadata": {
    "ExecuteTime": {
     "end_time": "2023-04-12T20:48:20.179719Z",
     "start_time": "2023-04-12T20:48:20.176441Z"
    }
   },
   "outputs": [
    {
     "data": {
      "text/plain": [
       "array([1, 2, 3, 0])"
      ]
     },
     "execution_count": 114,
     "metadata": {},
     "output_type": "execute_result"
    }
   ],
   "source": [
    "df_raw['MARRIAGE'].unique()"
   ]
  },
  {
   "cell_type": "code",
   "execution_count": 115,
   "id": "3efac35b",
   "metadata": {
    "ExecuteTime": {
     "end_time": "2023-04-12T20:50:57.704060Z",
     "start_time": "2023-04-12T20:50:57.697607Z"
    }
   },
   "outputs": [],
   "source": [
    "df_raw['MARRIAGE'] = df_raw['MARRIAGE'].apply(lambda x: 'married' if x==1 else 'single' if x==2 else 'others')"
   ]
  },
  {
   "cell_type": "code",
   "execution_count": 117,
   "id": "8804f70e",
   "metadata": {
    "ExecuteTime": {
     "end_time": "2023-04-12T20:51:11.116799Z",
     "start_time": "2023-04-12T20:51:11.104142Z"
    }
   },
   "outputs": [
    {
     "data": {
      "text/plain": [
       "array(['married', 'single', 'others'], dtype=object)"
      ]
     },
     "execution_count": 117,
     "metadata": {},
     "output_type": "execute_result"
    }
   ],
   "source": [
    "df_raw['MARRIAGE'].unique()"
   ]
  },
  {
   "cell_type": "markdown",
   "id": "84c37da8",
   "metadata": {},
   "source": [
    "## 0.2 Divisão do Conjunto de Dados"
   ]
  },
  {
   "cell_type": "code",
   "execution_count": 118,
   "id": "2b0044a9",
   "metadata": {
    "ExecuteTime": {
     "end_time": "2023-04-12T20:51:28.849591Z",
     "start_time": "2023-04-12T20:51:28.846427Z"
    }
   },
   "outputs": [
    {
     "data": {
      "text/plain": [
       "0    23364\n",
       "1     6636\n",
       "Name: default, dtype: int64"
      ]
     },
     "execution_count": 118,
     "metadata": {},
     "output_type": "execute_result"
    }
   ],
   "source": [
    "df_raw.default.value_counts()"
   ]
  },
  {
   "cell_type": "code",
   "execution_count": 119,
   "id": "ae2ce17a",
   "metadata": {
    "ExecuteTime": {
     "end_time": "2023-04-12T20:51:30.221769Z",
     "start_time": "2023-04-12T20:51:30.217652Z"
    }
   },
   "outputs": [
    {
     "name": "stdout",
     "output_type": "stream",
     "text": [
      "O dataset tem 22.12% de inadimplentes.\n"
     ]
    }
   ],
   "source": [
    "print(\"O dataset tem {:.2f}% de inadimplentes.\" .format(df_raw[df_raw['default'] == 1].shape[0]*100/df_raw.shape[0]))"
   ]
  },
  {
   "cell_type": "code",
   "execution_count": 120,
   "id": "3e5a24a2",
   "metadata": {
    "ExecuteTime": {
     "end_time": "2023-04-12T20:51:31.636638Z",
     "start_time": "2023-04-12T20:51:31.633657Z"
    }
   },
   "outputs": [],
   "source": [
    "# Out of Time(OOT)\n",
    "df_OOT = df_raw[df_raw['SAFRA'] > 200604].copy()"
   ]
  },
  {
   "cell_type": "code",
   "execution_count": 121,
   "id": "ce9fcca6",
   "metadata": {
    "ExecuteTime": {
     "end_time": "2023-04-12T20:51:32.926352Z",
     "start_time": "2023-04-12T20:51:32.916851Z"
    }
   },
   "outputs": [
    {
     "data": {
      "text/html": [
       "<div>\n",
       "<style scoped>\n",
       "    .dataframe tbody tr th:only-of-type {\n",
       "        vertical-align: middle;\n",
       "    }\n",
       "\n",
       "    .dataframe tbody tr th {\n",
       "        vertical-align: top;\n",
       "    }\n",
       "\n",
       "    .dataframe thead th {\n",
       "        text-align: right;\n",
       "    }\n",
       "</style>\n",
       "<table border=\"1\" class=\"dataframe\">\n",
       "  <thead>\n",
       "    <tr style=\"text-align: right;\">\n",
       "      <th></th>\n",
       "      <th>ID</th>\n",
       "      <th>SAFRA</th>\n",
       "      <th>LIMIT_BAL</th>\n",
       "      <th>SEX</th>\n",
       "      <th>EDUCATION</th>\n",
       "      <th>MARRIAGE</th>\n",
       "      <th>AGE</th>\n",
       "      <th>PAY_0</th>\n",
       "      <th>PAY_2</th>\n",
       "      <th>PAY_3</th>\n",
       "      <th>...</th>\n",
       "      <th>BILL_AMT4</th>\n",
       "      <th>BILL_AMT5</th>\n",
       "      <th>BILL_AMT6</th>\n",
       "      <th>PAY_AMT1</th>\n",
       "      <th>PAY_AMT2</th>\n",
       "      <th>PAY_AMT3</th>\n",
       "      <th>PAY_AMT4</th>\n",
       "      <th>PAY_AMT5</th>\n",
       "      <th>PAY_AMT6</th>\n",
       "      <th>default</th>\n",
       "    </tr>\n",
       "  </thead>\n",
       "  <tbody>\n",
       "    <tr>\n",
       "      <th>21000</th>\n",
       "      <td>21001</td>\n",
       "      <td>200605</td>\n",
       "      <td>30000</td>\n",
       "      <td>male</td>\n",
       "      <td>university</td>\n",
       "      <td>married</td>\n",
       "      <td>36</td>\n",
       "      <td>1</td>\n",
       "      <td>-1</td>\n",
       "      <td>-1</td>\n",
       "      <td>...</td>\n",
       "      <td>1170</td>\n",
       "      <td>780</td>\n",
       "      <td>0</td>\n",
       "      <td>780</td>\n",
       "      <td>0</td>\n",
       "      <td>1170</td>\n",
       "      <td>0</td>\n",
       "      <td>0</td>\n",
       "      <td>0</td>\n",
       "      <td>0</td>\n",
       "    </tr>\n",
       "    <tr>\n",
       "      <th>21001</th>\n",
       "      <td>21002</td>\n",
       "      <td>200605</td>\n",
       "      <td>280000</td>\n",
       "      <td>male</td>\n",
       "      <td>high school</td>\n",
       "      <td>married</td>\n",
       "      <td>40</td>\n",
       "      <td>2</td>\n",
       "      <td>0</td>\n",
       "      <td>0</td>\n",
       "      <td>...</td>\n",
       "      <td>191291</td>\n",
       "      <td>189029</td>\n",
       "      <td>192023</td>\n",
       "      <td>10000</td>\n",
       "      <td>9000</td>\n",
       "      <td>8000</td>\n",
       "      <td>6738</td>\n",
       "      <td>6974</td>\n",
       "      <td>7600</td>\n",
       "      <td>1</td>\n",
       "    </tr>\n",
       "    <tr>\n",
       "      <th>21002</th>\n",
       "      <td>21003</td>\n",
       "      <td>200605</td>\n",
       "      <td>260000</td>\n",
       "      <td>male</td>\n",
       "      <td>university</td>\n",
       "      <td>married</td>\n",
       "      <td>37</td>\n",
       "      <td>0</td>\n",
       "      <td>0</td>\n",
       "      <td>0</td>\n",
       "      <td>...</td>\n",
       "      <td>23186</td>\n",
       "      <td>14117</td>\n",
       "      <td>15797</td>\n",
       "      <td>3203</td>\n",
       "      <td>6015</td>\n",
       "      <td>5055</td>\n",
       "      <td>2011</td>\n",
       "      <td>4078</td>\n",
       "      <td>4522</td>\n",
       "      <td>0</td>\n",
       "    </tr>\n",
       "    <tr>\n",
       "      <th>21003</th>\n",
       "      <td>21004</td>\n",
       "      <td>200605</td>\n",
       "      <td>200000</td>\n",
       "      <td>male</td>\n",
       "      <td>university</td>\n",
       "      <td>single</td>\n",
       "      <td>32</td>\n",
       "      <td>2</td>\n",
       "      <td>0</td>\n",
       "      <td>0</td>\n",
       "      <td>...</td>\n",
       "      <td>0</td>\n",
       "      <td>0</td>\n",
       "      <td>0</td>\n",
       "      <td>7600</td>\n",
       "      <td>4000</td>\n",
       "      <td>0</td>\n",
       "      <td>0</td>\n",
       "      <td>0</td>\n",
       "      <td>0</td>\n",
       "      <td>1</td>\n",
       "    </tr>\n",
       "    <tr>\n",
       "      <th>21004</th>\n",
       "      <td>21005</td>\n",
       "      <td>200605</td>\n",
       "      <td>80000</td>\n",
       "      <td>male</td>\n",
       "      <td>university</td>\n",
       "      <td>single</td>\n",
       "      <td>32</td>\n",
       "      <td>2</td>\n",
       "      <td>0</td>\n",
       "      <td>0</td>\n",
       "      <td>...</td>\n",
       "      <td>67352</td>\n",
       "      <td>74448</td>\n",
       "      <td>72928</td>\n",
       "      <td>3000</td>\n",
       "      <td>4005</td>\n",
       "      <td>2500</td>\n",
       "      <td>10000</td>\n",
       "      <td>0</td>\n",
       "      <td>5000</td>\n",
       "      <td>1</td>\n",
       "    </tr>\n",
       "  </tbody>\n",
       "</table>\n",
       "<p>5 rows × 26 columns</p>\n",
       "</div>"
      ],
      "text/plain": [
       "          ID   SAFRA  LIMIT_BAL   SEX    EDUCATION MARRIAGE  AGE  PAY_0  \\\n",
       "21000  21001  200605      30000  male   university  married   36      1   \n",
       "21001  21002  200605     280000  male  high school  married   40      2   \n",
       "21002  21003  200605     260000  male   university  married   37      0   \n",
       "21003  21004  200605     200000  male   university   single   32      2   \n",
       "21004  21005  200605      80000  male   university   single   32      2   \n",
       "\n",
       "       PAY_2  PAY_3  ...  BILL_AMT4  BILL_AMT5  BILL_AMT6  PAY_AMT1  PAY_AMT2  \\\n",
       "21000     -1     -1  ...       1170        780          0       780         0   \n",
       "21001      0      0  ...     191291     189029     192023     10000      9000   \n",
       "21002      0      0  ...      23186      14117      15797      3203      6015   \n",
       "21003      0      0  ...          0          0          0      7600      4000   \n",
       "21004      0      0  ...      67352      74448      72928      3000      4005   \n",
       "\n",
       "       PAY_AMT3  PAY_AMT4  PAY_AMT5  PAY_AMT6  default  \n",
       "21000      1170         0         0         0        0  \n",
       "21001      8000      6738      6974      7600        1  \n",
       "21002      5055      2011      4078      4522        0  \n",
       "21003         0         0         0         0        1  \n",
       "21004      2500     10000         0      5000        1  \n",
       "\n",
       "[5 rows x 26 columns]"
      ]
     },
     "execution_count": 121,
     "metadata": {},
     "output_type": "execute_result"
    }
   ],
   "source": [
    "df_OOT.head()"
   ]
  },
  {
   "cell_type": "code",
   "execution_count": 122,
   "id": "6b821707",
   "metadata": {
    "ExecuteTime": {
     "end_time": "2023-04-12T20:51:33.759507Z",
     "start_time": "2023-04-12T20:51:33.755249Z"
    }
   },
   "outputs": [
    {
     "data": {
      "text/plain": [
       "SAFRA\n",
       "200605    3000\n",
       "200606    3000\n",
       "200607    3000\n",
       "Name: SAFRA, dtype: int64"
      ]
     },
     "execution_count": 122,
     "metadata": {},
     "output_type": "execute_result"
    }
   ],
   "source": [
    "df_OOT['SAFRA'].groupby(df_OOT['SAFRA']).count()"
   ]
  },
  {
   "cell_type": "code",
   "execution_count": 123,
   "id": "1be81b66",
   "metadata": {
    "ExecuteTime": {
     "end_time": "2023-04-12T20:51:34.589558Z",
     "start_time": "2023-04-12T20:51:34.577556Z"
    }
   },
   "outputs": [
    {
     "data": {
      "text/html": [
       "<div>\n",
       "<style scoped>\n",
       "    .dataframe tbody tr th:only-of-type {\n",
       "        vertical-align: middle;\n",
       "    }\n",
       "\n",
       "    .dataframe tbody tr th {\n",
       "        vertical-align: top;\n",
       "    }\n",
       "\n",
       "    .dataframe thead th {\n",
       "        text-align: right;\n",
       "    }\n",
       "</style>\n",
       "<table border=\"1\" class=\"dataframe\">\n",
       "  <thead>\n",
       "    <tr style=\"text-align: right;\">\n",
       "      <th></th>\n",
       "      <th>ID</th>\n",
       "      <th>SAFRA</th>\n",
       "      <th>LIMIT_BAL</th>\n",
       "      <th>SEX</th>\n",
       "      <th>EDUCATION</th>\n",
       "      <th>MARRIAGE</th>\n",
       "      <th>AGE</th>\n",
       "      <th>PAY_0</th>\n",
       "      <th>PAY_2</th>\n",
       "      <th>PAY_3</th>\n",
       "      <th>...</th>\n",
       "      <th>BILL_AMT4</th>\n",
       "      <th>BILL_AMT5</th>\n",
       "      <th>BILL_AMT6</th>\n",
       "      <th>PAY_AMT1</th>\n",
       "      <th>PAY_AMT2</th>\n",
       "      <th>PAY_AMT3</th>\n",
       "      <th>PAY_AMT4</th>\n",
       "      <th>PAY_AMT5</th>\n",
       "      <th>PAY_AMT6</th>\n",
       "      <th>default</th>\n",
       "    </tr>\n",
       "  </thead>\n",
       "  <tbody>\n",
       "    <tr>\n",
       "      <th>0</th>\n",
       "      <td>1</td>\n",
       "      <td>200510</td>\n",
       "      <td>20000</td>\n",
       "      <td>female</td>\n",
       "      <td>university</td>\n",
       "      <td>married</td>\n",
       "      <td>24</td>\n",
       "      <td>2</td>\n",
       "      <td>2</td>\n",
       "      <td>-1</td>\n",
       "      <td>...</td>\n",
       "      <td>0</td>\n",
       "      <td>0</td>\n",
       "      <td>0</td>\n",
       "      <td>0</td>\n",
       "      <td>689</td>\n",
       "      <td>0</td>\n",
       "      <td>0</td>\n",
       "      <td>0</td>\n",
       "      <td>0</td>\n",
       "      <td>1</td>\n",
       "    </tr>\n",
       "    <tr>\n",
       "      <th>1</th>\n",
       "      <td>2</td>\n",
       "      <td>200510</td>\n",
       "      <td>120000</td>\n",
       "      <td>female</td>\n",
       "      <td>university</td>\n",
       "      <td>single</td>\n",
       "      <td>26</td>\n",
       "      <td>-1</td>\n",
       "      <td>2</td>\n",
       "      <td>0</td>\n",
       "      <td>...</td>\n",
       "      <td>3272</td>\n",
       "      <td>3455</td>\n",
       "      <td>3261</td>\n",
       "      <td>0</td>\n",
       "      <td>1000</td>\n",
       "      <td>1000</td>\n",
       "      <td>1000</td>\n",
       "      <td>0</td>\n",
       "      <td>2000</td>\n",
       "      <td>1</td>\n",
       "    </tr>\n",
       "    <tr>\n",
       "      <th>2</th>\n",
       "      <td>3</td>\n",
       "      <td>200510</td>\n",
       "      <td>90000</td>\n",
       "      <td>female</td>\n",
       "      <td>university</td>\n",
       "      <td>single</td>\n",
       "      <td>34</td>\n",
       "      <td>0</td>\n",
       "      <td>0</td>\n",
       "      <td>0</td>\n",
       "      <td>...</td>\n",
       "      <td>14331</td>\n",
       "      <td>14948</td>\n",
       "      <td>15549</td>\n",
       "      <td>1518</td>\n",
       "      <td>1500</td>\n",
       "      <td>1000</td>\n",
       "      <td>1000</td>\n",
       "      <td>1000</td>\n",
       "      <td>5000</td>\n",
       "      <td>0</td>\n",
       "    </tr>\n",
       "    <tr>\n",
       "      <th>3</th>\n",
       "      <td>4</td>\n",
       "      <td>200510</td>\n",
       "      <td>50000</td>\n",
       "      <td>female</td>\n",
       "      <td>university</td>\n",
       "      <td>married</td>\n",
       "      <td>37</td>\n",
       "      <td>0</td>\n",
       "      <td>0</td>\n",
       "      <td>0</td>\n",
       "      <td>...</td>\n",
       "      <td>28314</td>\n",
       "      <td>28959</td>\n",
       "      <td>29547</td>\n",
       "      <td>2000</td>\n",
       "      <td>2019</td>\n",
       "      <td>1200</td>\n",
       "      <td>1100</td>\n",
       "      <td>1069</td>\n",
       "      <td>1000</td>\n",
       "      <td>0</td>\n",
       "    </tr>\n",
       "    <tr>\n",
       "      <th>4</th>\n",
       "      <td>5</td>\n",
       "      <td>200510</td>\n",
       "      <td>50000</td>\n",
       "      <td>male</td>\n",
       "      <td>university</td>\n",
       "      <td>married</td>\n",
       "      <td>57</td>\n",
       "      <td>-1</td>\n",
       "      <td>0</td>\n",
       "      <td>-1</td>\n",
       "      <td>...</td>\n",
       "      <td>20940</td>\n",
       "      <td>19146</td>\n",
       "      <td>19131</td>\n",
       "      <td>2000</td>\n",
       "      <td>36681</td>\n",
       "      <td>10000</td>\n",
       "      <td>9000</td>\n",
       "      <td>689</td>\n",
       "      <td>679</td>\n",
       "      <td>0</td>\n",
       "    </tr>\n",
       "  </tbody>\n",
       "</table>\n",
       "<p>5 rows × 26 columns</p>\n",
       "</div>"
      ],
      "text/plain": [
       "   ID   SAFRA  LIMIT_BAL     SEX   EDUCATION MARRIAGE  AGE  PAY_0  PAY_2  \\\n",
       "0   1  200510      20000  female  university  married   24      2      2   \n",
       "1   2  200510     120000  female  university   single   26     -1      2   \n",
       "2   3  200510      90000  female  university   single   34      0      0   \n",
       "3   4  200510      50000  female  university  married   37      0      0   \n",
       "4   5  200510      50000    male  university  married   57     -1      0   \n",
       "\n",
       "   PAY_3  ...  BILL_AMT4  BILL_AMT5  BILL_AMT6  PAY_AMT1  PAY_AMT2  PAY_AMT3  \\\n",
       "0     -1  ...          0          0          0         0       689         0   \n",
       "1      0  ...       3272       3455       3261         0      1000      1000   \n",
       "2      0  ...      14331      14948      15549      1518      1500      1000   \n",
       "3      0  ...      28314      28959      29547      2000      2019      1200   \n",
       "4     -1  ...      20940      19146      19131      2000     36681     10000   \n",
       "\n",
       "   PAY_AMT4  PAY_AMT5  PAY_AMT6  default  \n",
       "0         0         0         0        1  \n",
       "1      1000         0      2000        1  \n",
       "2      1000      1000      5000        0  \n",
       "3      1100      1069      1000        0  \n",
       "4      9000       689       679        0  \n",
       "\n",
       "[5 rows x 26 columns]"
      ]
     },
     "execution_count": 123,
     "metadata": {},
     "output_type": "execute_result"
    }
   ],
   "source": [
    "df0_dev = df_raw[df_raw['SAFRA'] <= 200604].copy()\n",
    "df0_dev.head()"
   ]
  },
  {
   "cell_type": "code",
   "execution_count": 124,
   "id": "b39eb64f",
   "metadata": {
    "ExecuteTime": {
     "end_time": "2023-04-12T20:51:35.155289Z",
     "start_time": "2023-04-12T20:51:35.147255Z"
    }
   },
   "outputs": [],
   "source": [
    "X_train , X_test , y_train , y_test = train_test_split(df0_dev.drop(columns=['default']), df0_dev['default'] ,test_size=0.3, random_state=123)"
   ]
  },
  {
   "cell_type": "code",
   "execution_count": 125,
   "id": "f85ed980",
   "metadata": {
    "ExecuteTime": {
     "end_time": "2023-04-12T20:51:38.078934Z",
     "start_time": "2023-04-12T20:51:38.074494Z"
    }
   },
   "outputs": [
    {
     "name": "stdout",
     "output_type": "stream",
     "text": [
      "O dataset de treino tem 22.84% de inadimplentes.\n",
      "O dataset de teste tem 20.44% de inadimplentes.\n"
     ]
    }
   ],
   "source": [
    "print(\"O dataset de treino tem {:.2f}% de inadimplentes.\" .format(df0_dev[df0_dev['default'] == 1].shape[0]*100/df0_dev.shape[0]))\n",
    "print(\"O dataset de teste tem {:.2f}% de inadimplentes.\" .format(df_OOT[df_OOT['default'] == 1].shape[0]*100/df_OOT.shape[0]))"
   ]
  },
  {
   "cell_type": "code",
   "execution_count": 126,
   "id": "26841fd4",
   "metadata": {
    "ExecuteTime": {
     "end_time": "2023-04-12T20:51:39.444888Z",
     "start_time": "2023-04-12T20:51:39.441203Z"
    }
   },
   "outputs": [
    {
     "data": {
      "text/plain": [
       "SAFRA\n",
       "200510    2103\n",
       "200511    2124\n",
       "200512    2110\n",
       "200601    2081\n",
       "200602    2075\n",
       "200603    2102\n",
       "200604    2105\n",
       "Name: SAFRA, dtype: int64"
      ]
     },
     "execution_count": 126,
     "metadata": {},
     "output_type": "execute_result"
    }
   ],
   "source": [
    "X_train['SAFRA'].groupby(X_train['SAFRA']).count()"
   ]
  },
  {
   "cell_type": "code",
   "execution_count": 127,
   "id": "8f9cd222",
   "metadata": {
    "ExecuteTime": {
     "end_time": "2023-04-12T20:51:39.902096Z",
     "start_time": "2023-04-12T20:51:39.898606Z"
    }
   },
   "outputs": [
    {
     "data": {
      "text/plain": [
       "SAFRA\n",
       "200510    897\n",
       "200511    876\n",
       "200512    890\n",
       "200601    919\n",
       "200602    925\n",
       "200603    898\n",
       "200604    895\n",
       "Name: SAFRA, dtype: int64"
      ]
     },
     "execution_count": 127,
     "metadata": {},
     "output_type": "execute_result"
    }
   ],
   "source": [
    "X_test['SAFRA'].groupby(X_test['SAFRA']).count()"
   ]
  },
  {
   "cell_type": "code",
   "execution_count": 128,
   "id": "c93fe2ce",
   "metadata": {
    "ExecuteTime": {
     "end_time": "2023-04-12T20:51:41.046718Z",
     "start_time": "2023-04-12T20:51:41.043425Z"
    }
   },
   "outputs": [],
   "source": [
    "df_train = pd.concat([X_train,y_train],axis=1)"
   ]
  },
  {
   "cell_type": "code",
   "execution_count": 129,
   "id": "004c7022",
   "metadata": {
    "ExecuteTime": {
     "end_time": "2023-04-12T20:51:41.478653Z",
     "start_time": "2023-04-12T20:51:41.476272Z"
    }
   },
   "outputs": [
    {
     "data": {
      "text/plain": [
       "(14700, 26)"
      ]
     },
     "execution_count": 129,
     "metadata": {},
     "output_type": "execute_result"
    }
   ],
   "source": [
    "df_train.shape"
   ]
  },
  {
   "cell_type": "markdown",
   "id": "cdad68cc",
   "metadata": {},
   "source": [
    "# PASSO 1 - Data Description"
   ]
  },
  {
   "cell_type": "code",
   "execution_count": 130,
   "id": "b767c747",
   "metadata": {
    "ExecuteTime": {
     "end_time": "2023-04-12T20:51:42.861648Z",
     "start_time": "2023-04-12T20:51:42.856448Z"
    }
   },
   "outputs": [],
   "source": [
    "df1 = df_train.copy()"
   ]
  },
  {
   "cell_type": "code",
   "execution_count": 131,
   "id": "6f8bad17",
   "metadata": {
    "ExecuteTime": {
     "end_time": "2023-04-12T20:51:43.379089Z",
     "start_time": "2023-04-12T20:51:43.376871Z"
    }
   },
   "outputs": [
    {
     "name": "stdout",
     "output_type": "stream",
     "text": [
      "Number of Rows: 14700\n",
      "Number of columns: 26\n"
     ]
    }
   ],
   "source": [
    "print('Number of Rows: {}' .format(df1.shape[0]))\n",
    "print('Number of columns: {}' .format(df1.shape[1]))"
   ]
  },
  {
   "cell_type": "code",
   "execution_count": 132,
   "id": "75da0dc6",
   "metadata": {
    "ExecuteTime": {
     "end_time": "2023-04-12T20:51:44.347547Z",
     "start_time": "2023-04-12T20:51:44.344303Z"
    }
   },
   "outputs": [
    {
     "data": {
      "text/plain": [
       "ID            int64\n",
       "SAFRA         int64\n",
       "LIMIT_BAL     int64\n",
       "SEX          object\n",
       "EDUCATION    object\n",
       "MARRIAGE     object\n",
       "AGE           int64\n",
       "PAY_0         int64\n",
       "PAY_2         int64\n",
       "PAY_3         int64\n",
       "PAY_4         int64\n",
       "PAY_5         int64\n",
       "PAY_6         int64\n",
       "BILL_AMT1     int64\n",
       "BILL_AMT2     int64\n",
       "BILL_AMT3     int64\n",
       "BILL_AMT4     int64\n",
       "BILL_AMT5     int64\n",
       "BILL_AMT6     int64\n",
       "PAY_AMT1      int64\n",
       "PAY_AMT2      int64\n",
       "PAY_AMT3      int64\n",
       "PAY_AMT4      int64\n",
       "PAY_AMT5      int64\n",
       "PAY_AMT6      int64\n",
       "default       int64\n",
       "dtype: object"
      ]
     },
     "execution_count": 132,
     "metadata": {},
     "output_type": "execute_result"
    }
   ],
   "source": [
    "df1.dtypes"
   ]
  },
  {
   "cell_type": "code",
   "execution_count": 133,
   "id": "69450a5c",
   "metadata": {
    "ExecuteTime": {
     "end_time": "2023-04-12T20:51:48.802409Z",
     "start_time": "2023-04-12T20:51:48.787630Z"
    }
   },
   "outputs": [
    {
     "data": {
      "text/plain": [
       "ID           0\n",
       "SAFRA        0\n",
       "LIMIT_BAL    0\n",
       "SEX          0\n",
       "EDUCATION    0\n",
       "MARRIAGE     0\n",
       "AGE          0\n",
       "PAY_0        0\n",
       "PAY_2        0\n",
       "PAY_3        0\n",
       "PAY_4        0\n",
       "PAY_5        0\n",
       "PAY_6        0\n",
       "BILL_AMT1    0\n",
       "BILL_AMT2    0\n",
       "BILL_AMT3    0\n",
       "BILL_AMT4    0\n",
       "BILL_AMT5    0\n",
       "BILL_AMT6    0\n",
       "PAY_AMT1     0\n",
       "PAY_AMT2     0\n",
       "PAY_AMT3     0\n",
       "PAY_AMT4     0\n",
       "PAY_AMT5     0\n",
       "PAY_AMT6     0\n",
       "default      0\n",
       "dtype: int64"
      ]
     },
     "execution_count": 133,
     "metadata": {},
     "output_type": "execute_result"
    }
   ],
   "source": [
    "df1.isna().sum()"
   ]
  },
  {
   "cell_type": "code",
   "execution_count": 135,
   "id": "788646a0",
   "metadata": {
    "ExecuteTime": {
     "end_time": "2023-04-12T20:52:25.573440Z",
     "start_time": "2023-04-12T20:52:25.569856Z"
    }
   },
   "outputs": [],
   "source": [
    "num_attributes = df1.select_dtypes(include=['int64' , 'float64'])\n",
    "cat_attributtes = df1.select_dtypes(exclude=['int64','float64'])"
   ]
  },
  {
   "cell_type": "code",
   "execution_count": 136,
   "id": "143c1ed6",
   "metadata": {
    "ExecuteTime": {
     "end_time": "2023-04-12T20:52:31.033690Z",
     "start_time": "2023-04-12T20:52:30.965277Z"
    }
   },
   "outputs": [
    {
     "data": {
      "text/html": [
       "<div>\n",
       "<style scoped>\n",
       "    .dataframe tbody tr th:only-of-type {\n",
       "        vertical-align: middle;\n",
       "    }\n",
       "\n",
       "    .dataframe tbody tr th {\n",
       "        vertical-align: top;\n",
       "    }\n",
       "\n",
       "    .dataframe thead th {\n",
       "        text-align: right;\n",
       "    }\n",
       "</style>\n",
       "<table border=\"1\" class=\"dataframe\">\n",
       "  <thead>\n",
       "    <tr style=\"text-align: right;\">\n",
       "      <th></th>\n",
       "      <th>attributes</th>\n",
       "      <th>min</th>\n",
       "      <th>max</th>\n",
       "      <th>range</th>\n",
       "      <th>mean</th>\n",
       "      <th>median</th>\n",
       "      <th>std</th>\n",
       "      <th>skew</th>\n",
       "      <th>kurtosis</th>\n",
       "    </tr>\n",
       "  </thead>\n",
       "  <tbody>\n",
       "    <tr>\n",
       "      <th>0</th>\n",
       "      <td>ID</td>\n",
       "      <td>1.0</td>\n",
       "      <td>20999.0</td>\n",
       "      <td>20998.0</td>\n",
       "      <td>10486.743265</td>\n",
       "      <td>10470.5</td>\n",
       "      <td>6071.227228</td>\n",
       "      <td>0.006844</td>\n",
       "      <td>-1.205114</td>\n",
       "    </tr>\n",
       "    <tr>\n",
       "      <th>1</th>\n",
       "      <td>SAFRA</td>\n",
       "      <td>200510.0</td>\n",
       "      <td>200604.0</td>\n",
       "      <td>94.0</td>\n",
       "      <td>200563.059252</td>\n",
       "      <td>200601.0</td>\n",
       "      <td>45.326799</td>\n",
       "      <td>-0.277704</td>\n",
       "      <td>-1.921162</td>\n",
       "    </tr>\n",
       "    <tr>\n",
       "      <th>2</th>\n",
       "      <td>LIMIT_BAL</td>\n",
       "      <td>10000.0</td>\n",
       "      <td>800000.0</td>\n",
       "      <td>790000.0</td>\n",
       "      <td>163042.427211</td>\n",
       "      <td>140000.0</td>\n",
       "      <td>128130.031752</td>\n",
       "      <td>1.011593</td>\n",
       "      <td>0.515652</td>\n",
       "    </tr>\n",
       "    <tr>\n",
       "      <th>3</th>\n",
       "      <td>AGE</td>\n",
       "      <td>21.0</td>\n",
       "      <td>79.0</td>\n",
       "      <td>58.0</td>\n",
       "      <td>35.351565</td>\n",
       "      <td>34.0</td>\n",
       "      <td>9.209641</td>\n",
       "      <td>0.755401</td>\n",
       "      <td>0.105934</td>\n",
       "    </tr>\n",
       "    <tr>\n",
       "      <th>4</th>\n",
       "      <td>PAY_0</td>\n",
       "      <td>-2.0</td>\n",
       "      <td>8.0</td>\n",
       "      <td>10.0</td>\n",
       "      <td>0.019116</td>\n",
       "      <td>0.0</td>\n",
       "      <td>1.126479</td>\n",
       "      <td>0.809450</td>\n",
       "      <td>2.997290</td>\n",
       "    </tr>\n",
       "    <tr>\n",
       "      <th>5</th>\n",
       "      <td>PAY_2</td>\n",
       "      <td>-2.0</td>\n",
       "      <td>8.0</td>\n",
       "      <td>10.0</td>\n",
       "      <td>-0.100204</td>\n",
       "      <td>0.0</td>\n",
       "      <td>1.205582</td>\n",
       "      <td>0.815935</td>\n",
       "      <td>1.584174</td>\n",
       "    </tr>\n",
       "    <tr>\n",
       "      <th>6</th>\n",
       "      <td>PAY_3</td>\n",
       "      <td>-2.0</td>\n",
       "      <td>8.0</td>\n",
       "      <td>10.0</td>\n",
       "      <td>-0.132313</td>\n",
       "      <td>0.0</td>\n",
       "      <td>1.214584</td>\n",
       "      <td>0.913145</td>\n",
       "      <td>2.370870</td>\n",
       "    </tr>\n",
       "    <tr>\n",
       "      <th>7</th>\n",
       "      <td>PAY_4</td>\n",
       "      <td>-2.0</td>\n",
       "      <td>8.0</td>\n",
       "      <td>10.0</td>\n",
       "      <td>-0.192789</td>\n",
       "      <td>0.0</td>\n",
       "      <td>1.172579</td>\n",
       "      <td>1.032905</td>\n",
       "      <td>3.617662</td>\n",
       "    </tr>\n",
       "    <tr>\n",
       "      <th>8</th>\n",
       "      <td>PAY_5</td>\n",
       "      <td>-2.0</td>\n",
       "      <td>8.0</td>\n",
       "      <td>10.0</td>\n",
       "      <td>-0.230068</td>\n",
       "      <td>0.0</td>\n",
       "      <td>1.143390</td>\n",
       "      <td>1.015291</td>\n",
       "      <td>3.857546</td>\n",
       "    </tr>\n",
       "    <tr>\n",
       "      <th>9</th>\n",
       "      <td>PAY_6</td>\n",
       "      <td>-2.0</td>\n",
       "      <td>8.0</td>\n",
       "      <td>10.0</td>\n",
       "      <td>-0.256667</td>\n",
       "      <td>0.0</td>\n",
       "      <td>1.168946</td>\n",
       "      <td>0.967905</td>\n",
       "      <td>3.218053</td>\n",
       "    </tr>\n",
       "    <tr>\n",
       "      <th>10</th>\n",
       "      <td>BILL_AMT1</td>\n",
       "      <td>-165580.0</td>\n",
       "      <td>630458.0</td>\n",
       "      <td>796038.0</td>\n",
       "      <td>49709.332653</td>\n",
       "      <td>22048.5</td>\n",
       "      <td>70653.445419</td>\n",
       "      <td>2.599994</td>\n",
       "      <td>9.002843</td>\n",
       "    </tr>\n",
       "    <tr>\n",
       "      <th>11</th>\n",
       "      <td>BILL_AMT2</td>\n",
       "      <td>-33350.0</td>\n",
       "      <td>646770.0</td>\n",
       "      <td>680120.0</td>\n",
       "      <td>47774.462109</td>\n",
       "      <td>21085.5</td>\n",
       "      <td>68404.150602</td>\n",
       "      <td>2.648281</td>\n",
       "      <td>9.398784</td>\n",
       "    </tr>\n",
       "    <tr>\n",
       "      <th>12</th>\n",
       "      <td>BILL_AMT3</td>\n",
       "      <td>-157264.0</td>\n",
       "      <td>1664089.0</td>\n",
       "      <td>1821353.0</td>\n",
       "      <td>45548.064558</td>\n",
       "      <td>19967.5</td>\n",
       "      <td>67019.085445</td>\n",
       "      <td>3.453046</td>\n",
       "      <td>31.641137</td>\n",
       "    </tr>\n",
       "    <tr>\n",
       "      <th>13</th>\n",
       "      <td>BILL_AMT4</td>\n",
       "      <td>-170000.0</td>\n",
       "      <td>628699.0</td>\n",
       "      <td>798699.0</td>\n",
       "      <td>41527.183197</td>\n",
       "      <td>18810.5</td>\n",
       "      <td>61523.464059</td>\n",
       "      <td>2.757897</td>\n",
       "      <td>10.252808</td>\n",
       "    </tr>\n",
       "    <tr>\n",
       "      <th>14</th>\n",
       "      <td>BILL_AMT5</td>\n",
       "      <td>-37594.0</td>\n",
       "      <td>823540.0</td>\n",
       "      <td>861134.0</td>\n",
       "      <td>39418.170204</td>\n",
       "      <td>18122.0</td>\n",
       "      <td>59093.136446</td>\n",
       "      <td>2.833965</td>\n",
       "      <td>11.642563</td>\n",
       "    </tr>\n",
       "    <tr>\n",
       "      <th>15</th>\n",
       "      <td>BILL_AMT6</td>\n",
       "      <td>-339603.0</td>\n",
       "      <td>699944.0</td>\n",
       "      <td>1039547.0</td>\n",
       "      <td>38124.329320</td>\n",
       "      <td>16871.5</td>\n",
       "      <td>58460.774746</td>\n",
       "      <td>2.783971</td>\n",
       "      <td>11.029888</td>\n",
       "    </tr>\n",
       "    <tr>\n",
       "      <th>16</th>\n",
       "      <td>PAY_AMT1</td>\n",
       "      <td>0.0</td>\n",
       "      <td>505000.0</td>\n",
       "      <td>505000.0</td>\n",
       "      <td>5484.653810</td>\n",
       "      <td>2074.5</td>\n",
       "      <td>15385.205523</td>\n",
       "      <td>11.579250</td>\n",
       "      <td>205.519076</td>\n",
       "    </tr>\n",
       "    <tr>\n",
       "      <th>17</th>\n",
       "      <td>PAY_AMT2</td>\n",
       "      <td>0.0</td>\n",
       "      <td>1684259.0</td>\n",
       "      <td>1684259.0</td>\n",
       "      <td>5849.027619</td>\n",
       "      <td>2000.0</td>\n",
       "      <td>23113.876270</td>\n",
       "      <td>32.218667</td>\n",
       "      <td>1976.332186</td>\n",
       "    </tr>\n",
       "    <tr>\n",
       "      <th>18</th>\n",
       "      <td>PAY_AMT3</td>\n",
       "      <td>0.0</td>\n",
       "      <td>417588.0</td>\n",
       "      <td>417588.0</td>\n",
       "      <td>4804.700408</td>\n",
       "      <td>1600.0</td>\n",
       "      <td>15428.591178</td>\n",
       "      <td>11.654811</td>\n",
       "      <td>193.437160</td>\n",
       "    </tr>\n",
       "    <tr>\n",
       "      <th>19</th>\n",
       "      <td>PAY_AMT4</td>\n",
       "      <td>0.0</td>\n",
       "      <td>497000.0</td>\n",
       "      <td>497000.0</td>\n",
       "      <td>4609.504354</td>\n",
       "      <td>1498.5</td>\n",
       "      <td>14619.609516</td>\n",
       "      <td>12.250925</td>\n",
       "      <td>240.592310</td>\n",
       "    </tr>\n",
       "    <tr>\n",
       "      <th>20</th>\n",
       "      <td>PAY_AMT5</td>\n",
       "      <td>0.0</td>\n",
       "      <td>417990.0</td>\n",
       "      <td>417990.0</td>\n",
       "      <td>4759.349320</td>\n",
       "      <td>1500.0</td>\n",
       "      <td>15609.469870</td>\n",
       "      <td>11.427109</td>\n",
       "      <td>187.720481</td>\n",
       "    </tr>\n",
       "    <tr>\n",
       "      <th>21</th>\n",
       "      <td>PAY_AMT6</td>\n",
       "      <td>0.0</td>\n",
       "      <td>528666.0</td>\n",
       "      <td>528666.0</td>\n",
       "      <td>5084.844014</td>\n",
       "      <td>1400.0</td>\n",
       "      <td>17658.361450</td>\n",
       "      <td>11.064905</td>\n",
       "      <td>188.532385</td>\n",
       "    </tr>\n",
       "    <tr>\n",
       "      <th>22</th>\n",
       "      <td>default</td>\n",
       "      <td>0.0</td>\n",
       "      <td>1.0</td>\n",
       "      <td>1.0</td>\n",
       "      <td>0.229796</td>\n",
       "      <td>0.0</td>\n",
       "      <td>0.420702</td>\n",
       "      <td>1.284672</td>\n",
       "      <td>-0.349666</td>\n",
       "    </tr>\n",
       "  </tbody>\n",
       "</table>\n",
       "</div>"
      ],
      "text/plain": [
       "   attributes       min        max      range           mean    median  \\\n",
       "0          ID       1.0    20999.0    20998.0   10486.743265   10470.5   \n",
       "1       SAFRA  200510.0   200604.0       94.0  200563.059252  200601.0   \n",
       "2   LIMIT_BAL   10000.0   800000.0   790000.0  163042.427211  140000.0   \n",
       "3         AGE      21.0       79.0       58.0      35.351565      34.0   \n",
       "4       PAY_0      -2.0        8.0       10.0       0.019116       0.0   \n",
       "5       PAY_2      -2.0        8.0       10.0      -0.100204       0.0   \n",
       "6       PAY_3      -2.0        8.0       10.0      -0.132313       0.0   \n",
       "7       PAY_4      -2.0        8.0       10.0      -0.192789       0.0   \n",
       "8       PAY_5      -2.0        8.0       10.0      -0.230068       0.0   \n",
       "9       PAY_6      -2.0        8.0       10.0      -0.256667       0.0   \n",
       "10  BILL_AMT1 -165580.0   630458.0   796038.0   49709.332653   22048.5   \n",
       "11  BILL_AMT2  -33350.0   646770.0   680120.0   47774.462109   21085.5   \n",
       "12  BILL_AMT3 -157264.0  1664089.0  1821353.0   45548.064558   19967.5   \n",
       "13  BILL_AMT4 -170000.0   628699.0   798699.0   41527.183197   18810.5   \n",
       "14  BILL_AMT5  -37594.0   823540.0   861134.0   39418.170204   18122.0   \n",
       "15  BILL_AMT6 -339603.0   699944.0  1039547.0   38124.329320   16871.5   \n",
       "16   PAY_AMT1       0.0   505000.0   505000.0    5484.653810    2074.5   \n",
       "17   PAY_AMT2       0.0  1684259.0  1684259.0    5849.027619    2000.0   \n",
       "18   PAY_AMT3       0.0   417588.0   417588.0    4804.700408    1600.0   \n",
       "19   PAY_AMT4       0.0   497000.0   497000.0    4609.504354    1498.5   \n",
       "20   PAY_AMT5       0.0   417990.0   417990.0    4759.349320    1500.0   \n",
       "21   PAY_AMT6       0.0   528666.0   528666.0    5084.844014    1400.0   \n",
       "22    default       0.0        1.0        1.0       0.229796       0.0   \n",
       "\n",
       "              std       skew     kurtosis  \n",
       "0     6071.227228   0.006844    -1.205114  \n",
       "1       45.326799  -0.277704    -1.921162  \n",
       "2   128130.031752   1.011593     0.515652  \n",
       "3        9.209641   0.755401     0.105934  \n",
       "4        1.126479   0.809450     2.997290  \n",
       "5        1.205582   0.815935     1.584174  \n",
       "6        1.214584   0.913145     2.370870  \n",
       "7        1.172579   1.032905     3.617662  \n",
       "8        1.143390   1.015291     3.857546  \n",
       "9        1.168946   0.967905     3.218053  \n",
       "10   70653.445419   2.599994     9.002843  \n",
       "11   68404.150602   2.648281     9.398784  \n",
       "12   67019.085445   3.453046    31.641137  \n",
       "13   61523.464059   2.757897    10.252808  \n",
       "14   59093.136446   2.833965    11.642563  \n",
       "15   58460.774746   2.783971    11.029888  \n",
       "16   15385.205523  11.579250   205.519076  \n",
       "17   23113.876270  32.218667  1976.332186  \n",
       "18   15428.591178  11.654811   193.437160  \n",
       "19   14619.609516  12.250925   240.592310  \n",
       "20   15609.469870  11.427109   187.720481  \n",
       "21   17658.361450  11.064905   188.532385  \n",
       "22       0.420702   1.284672    -0.349666  "
      ]
     },
     "execution_count": 136,
     "metadata": {},
     "output_type": "execute_result"
    }
   ],
   "source": [
    "#Central Tendency - mean , median\n",
    "ct1 = pd.DataFrame(num_attributes.apply(np.mean)).T\n",
    "ct2 = pd.DataFrame(num_attributes.apply(np.median)).T\n",
    "\n",
    "\n",
    "#Dispersion - std , min , max , range , skew , kurtosis\n",
    "d1 = pd.DataFrame( num_attributes.apply(np.std)).T\n",
    "d2 = pd.DataFrame( num_attributes.apply(min)).T\n",
    "d3 = pd.DataFrame( num_attributes.apply(max)).T\n",
    "d4 = pd.DataFrame( num_attributes.apply( lambda x: x.max() - x.min() ) ).T\n",
    "d5 = pd.DataFrame( num_attributes.apply( lambda x: x.skew())).T\n",
    "d6 = pd.DataFrame( num_attributes.apply( lambda x: x.kurtosis() ) ).T\n",
    "\n",
    "m = pd.concat([d2,d3,d4,ct1,ct2,d1,d5,d6]).T.reset_index()\n",
    "m.columns = ['attributes','min','max','range','mean','median','std','skew','kurtosis',]\n",
    "m"
   ]
  },
  {
   "cell_type": "code",
   "execution_count": 146,
   "id": "9b783477",
   "metadata": {
    "ExecuteTime": {
     "end_time": "2023-04-12T21:00:51.535445Z",
     "start_time": "2023-04-12T21:00:51.313967Z"
    }
   },
   "outputs": [
    {
     "data": {
      "image/png": "[encoded data removed]",
      "text/plain": [
       "<Figure size 360x360 with 1 Axes>"
      ]
     },
     "metadata": {
      "needs_background": "light"
     },
     "output_type": "display_data"
    }
   ],
   "source": [
    "sns.displot(df1['AGE']);"
   ]
  },
  {
   "cell_type": "code",
   "execution_count": 148,
   "id": "b7e782e3",
   "metadata": {
    "ExecuteTime": {
     "end_time": "2023-04-12T21:01:10.705316Z",
     "start_time": "2023-04-12T21:01:10.480399Z"
    }
   },
   "outputs": [
    {
     "data": {
      "image/png": "[encoded data removed]",
      "text/plain": [
       "<Figure size 360x360 with 1 Axes>"
      ]
     },
     "metadata": {
      "needs_background": "light"
     },
     "output_type": "display_data"
    }
   ],
   "source": [
    "sns.displot(df1['LIMIT_BAL'],ax=ax2);"
   ]
  },
  {
   "cell_type": "markdown",
   "id": "7ecf6779",
   "metadata": {},
   "source": [
    "## 1.2 Categorical Attributes"
   ]
  },
  {
   "cell_type": "code",
   "execution_count": 149,
   "id": "84dd3984",
   "metadata": {
    "ExecuteTime": {
     "end_time": "2023-04-12T21:01:58.664306Z",
     "start_time": "2023-04-12T21:01:58.659284Z"
    }
   },
   "outputs": [
    {
     "data": {
      "text/plain": [
       "SEX          2\n",
       "EDUCATION    4\n",
       "MARRIAGE     3\n",
       "dtype: int64"
      ]
     },
     "execution_count": 149,
     "metadata": {},
     "output_type": "execute_result"
    }
   ],
   "source": [
    "cat_attributtes.apply(lambda x: x.unique().shape[0])"
   ]
  },
  {
   "cell_type": "code",
   "execution_count": 161,
   "id": "96c62b79",
   "metadata": {
    "ExecuteTime": {
     "end_time": "2023-04-12T21:16:06.696939Z",
     "start_time": "2023-04-12T21:16:06.583920Z"
    }
   },
   "outputs": [
    {
     "data": {
      "image/png": "[encoded data removed]",
      "text/plain": [
       "<Figure size 432x288 with 1 Axes>"
      ]
     },
     "metadata": {
      "needs_background": "light"
     },
     "output_type": "display_data"
    }
   ],
   "source": [
    "aux = df1[df1['default']==1]\n",
    "aux1 = aux[['SEX','default']].groupby('SEX').sum().reset_index()\n",
    "sns.barplot(data=aux1 , x='SEX' , y='default');"
   ]
  },
  {
   "cell_type": "code",
   "execution_count": 162,
   "id": "937d6d70",
   "metadata": {
    "ExecuteTime": {
     "end_time": "2023-04-12T21:16:07.946498Z",
     "start_time": "2023-04-12T21:16:07.845414Z"
    }
   },
   "outputs": [
    {
     "data": {
      "image/png": "[encoded data removed]",
      "text/plain": [
       "<Figure size 432x288 with 1 Axes>"
      ]
     },
     "metadata": {
      "needs_background": "light"
     },
     "output_type": "display_data"
    }
   ],
   "source": [
    "aux2 = aux[['EDUCATION','default']].groupby('EDUCATION').sum().reset_index()\n",
    "sns.barplot(data=aux2 , x='EDUCATION' , y='default');"
   ]
  },
  {
   "cell_type": "code",
   "execution_count": 168,
   "id": "6d3e9ae5",
   "metadata": {
    "ExecuteTime": {
     "end_time": "2023-04-12T21:30:29.384550Z",
     "start_time": "2023-04-12T21:30:29.291212Z"
    }
   },
   "outputs": [
    {
     "data": {
      "image/png": "[encoded data removed]",
      "text/plain": [
       "<Figure size 432x288 with 1 Axes>"
      ]
     },
     "metadata": {
      "needs_background": "light"
     },
     "output_type": "display_data"
    }
   ],
   "source": [
    "aux3 = aux[['MARRIAGE','default']].groupby('MARRIAGE').sum().reset_index()\n",
    "sns.barplot(data=aux3 , x='MARRIAGE' , y='default');"
   ]
  },
  {
   "cell_type": "markdown",
   "id": "61acab45",
   "metadata": {},
   "source": [
    "# PASSO 2 - Feature Engeneering"
   ]
  },
  {
   "cell_type": "code",
   "execution_count": 164,
   "id": "57211793",
   "metadata": {
    "ExecuteTime": {
     "end_time": "2023-04-12T21:18:43.013893Z",
     "start_time": "2023-04-12T21:18:43.010613Z"
    }
   },
   "outputs": [],
   "source": [
    "df2 = df1.copy()"
   ]
  },
  {
   "cell_type": "code",
   "execution_count": 165,
   "id": "9a029bba",
   "metadata": {
    "ExecuteTime": {
     "end_time": "2023-04-12T21:19:41.022660Z",
     "start_time": "2023-04-12T21:19:41.012109Z"
    }
   },
   "outputs": [],
   "source": [
    "df2['SUM_BILL'] = df2['BILL_AMT1'] + df2['BILL_AMT2'] + df2['BILL_AMT3'] + df2['BILL_AMT4'] + df2['BILL_AMT5'] + df2['BILL_AMT6']   \n",
    "df2['AVG_BILL'] = df2['SUM_BILL'] / 6\n",
    "df2['max_BILL'] = df2[['BILL_AMT1', 'BILL_AMT2', 'BILL_AMT3', 'BILL_AMT4', 'BILL_AMT5', 'BILL_AMT6']].max(axis=1)\n",
    "\n",
    "df2['SUM_PAY'] = df2['PAY_AMT1'] + df2['PAY_AMT2'] + df2['PAY_AMT3'] + df2['PAY_AMT4'] + df2['PAY_AMT5'] + df2['PAY_AMT6']\n",
    "df2['AVG_PAY'] = df2['SUM_PAY'] / 6\n",
    "df2['max_PAY'] = df2[['PAY_AMT1', 'PAY_AMT2', 'PAY_AMT2', 'PAY_AMT3', 'PAY_AMT4', 'PAY_AMT5','PAY_AMT6']].max(axis=1)"
   ]
  },
  {
   "cell_type": "code",
   "execution_count": 166,
   "id": "5b4b1f13",
   "metadata": {
    "ExecuteTime": {
     "end_time": "2023-04-12T21:20:16.801165Z",
     "start_time": "2023-04-12T21:20:16.797997Z"
    }
   },
   "outputs": [
    {
     "data": {
      "text/plain": [
       "Index(['ID', 'SAFRA', 'LIMIT_BAL', 'SEX', 'EDUCATION', 'MARRIAGE', 'AGE',\n",
       "       'PAY_0', 'PAY_2', 'PAY_3', 'PAY_4', 'PAY_5', 'PAY_6', 'BILL_AMT1',\n",
       "       'BILL_AMT2', 'BILL_AMT3', 'BILL_AMT4', 'BILL_AMT5', 'BILL_AMT6',\n",
       "       'PAY_AMT1', 'PAY_AMT2', 'PAY_AMT3', 'PAY_AMT4', 'PAY_AMT5', 'PAY_AMT6',\n",
       "       'default', 'SUM_BILL', 'AVG_BILL', 'max_BILL', 'SUM_PAY', 'AVG_PAY',\n",
       "       'max_PAY'],\n",
       "      dtype='object')"
      ]
     },
     "execution_count": 166,
     "metadata": {},
     "output_type": "execute_result"
    }
   ],
   "source": [
    "df2.columns"
   ]
  },
  {
   "cell_type": "code",
   "execution_count": 167,
   "id": "aa0e7b68",
   "metadata": {
    "ExecuteTime": {
     "end_time": "2023-04-12T21:20:46.075192Z",
     "start_time": "2023-04-12T21:20:46.071865Z"
    }
   },
   "outputs": [
    {
     "data": {
      "text/plain": [
       "array([ 0,  3, -1, -2,  1,  2,  4,  6,  8,  5,  7])"
      ]
     },
     "execution_count": 167,
     "metadata": {},
     "output_type": "execute_result"
    }
   ],
   "source": [
    "df2['PAY_0'].unique()"
   ]
  },
  {
   "cell_type": "markdown",
   "id": "15899cbe",
   "metadata": {},
   "source": [
    "# PASSO 3 - Variable Filtering"
   ]
  },
  {
   "cell_type": "code",
   "execution_count": 27,
   "id": "8cb17da0",
   "metadata": {
    "ExecuteTime": {
     "end_time": "2023-04-12T18:07:35.573647Z",
     "start_time": "2023-04-12T18:07:35.570766Z"
    }
   },
   "outputs": [],
   "source": [
    "df3 = df2.copy()"
   ]
  },
  {
   "cell_type": "markdown",
   "id": "16c5ab3c",
   "metadata": {},
   "source": [
    "# PASSO 4 - EDA "
   ]
  },
  {
   "cell_type": "code",
   "execution_count": 28,
   "id": "ddcbe84e",
   "metadata": {
    "ExecuteTime": {
     "end_time": "2023-04-12T18:07:36.922335Z",
     "start_time": "2023-04-12T18:07:36.919520Z"
    }
   },
   "outputs": [],
   "source": [
    "df4 = df3.copy()"
   ]
  },
  {
   "cell_type": "markdown",
   "id": "8aea5d4e",
   "metadata": {},
   "source": [
    "## Análise Univariada"
   ]
  },
  {
   "cell_type": "code",
   "execution_count": 29,
   "id": "9d8d8c77",
   "metadata": {
    "ExecuteTime": {
     "end_time": "2023-04-12T18:07:37.669228Z",
     "start_time": "2023-04-12T18:07:37.659132Z"
    }
   },
   "outputs": [
    {
     "name": "stdout",
     "output_type": "stream",
     "text": [
      "0    11322\n",
      "1     3378\n",
      "Name: default, dtype: int64\n"
     ]
    }
   ],
   "source": [
    "print(y_train.value_counts())"
   ]
  },
  {
   "cell_type": "markdown",
   "id": "8488a670",
   "metadata": {},
   "source": [
    "## Análise Bivariada"
   ]
  },
  {
   "cell_type": "code",
   "execution_count": 101,
   "id": "9aed616d",
   "metadata": {
    "ExecuteTime": {
     "end_time": "2023-04-12T20:25:36.093829Z",
     "start_time": "2023-04-12T20:25:35.965347Z"
    }
   },
   "outputs": [
    {
     "data": {
      "image/png": "[encoded data removed]",
      "text/plain": [
       "<Figure size 432x288 with 1 Axes>"
      ]
     },
     "metadata": {
      "needs_background": "light"
     },
     "output_type": "display_data"
    }
   ],
   "source": [
    "df4_aux = df4[df4['default']==1]\n",
    "aux = df4_aux[['AGE','default']].groupby('AGE').sum().reset_index()\n",
    "plt.bar(aux['AGE'], aux['default'])\n",
    "plt.show()"
   ]
  },
  {
   "cell_type": "code",
   "execution_count": 88,
   "id": "eb6c6d38",
   "metadata": {
    "ExecuteTime": {
     "end_time": "2023-04-12T19:30:56.873280Z",
     "start_time": "2023-04-12T19:30:56.868687Z"
    }
   },
   "outputs": [
    {
     "data": {
      "text/html": [
       "<div>\n",
       "<style scoped>\n",
       "    .dataframe tbody tr th:only-of-type {\n",
       "        vertical-align: middle;\n",
       "    }\n",
       "\n",
       "    .dataframe tbody tr th {\n",
       "        vertical-align: top;\n",
       "    }\n",
       "\n",
       "    .dataframe thead th {\n",
       "        text-align: right;\n",
       "    }\n",
       "</style>\n",
       "<table border=\"1\" class=\"dataframe\">\n",
       "  <thead>\n",
       "    <tr style=\"text-align: right;\">\n",
       "      <th></th>\n",
       "      <th>AGE</th>\n",
       "      <th>default</th>\n",
       "    </tr>\n",
       "  </thead>\n",
       "  <tbody>\n",
       "    <tr>\n",
       "      <th>0</th>\n",
       "      <td>21</td>\n",
       "      <td>10</td>\n",
       "    </tr>\n",
       "    <tr>\n",
       "      <th>1</th>\n",
       "      <td>22</td>\n",
       "      <td>85</td>\n",
       "    </tr>\n",
       "    <tr>\n",
       "      <th>2</th>\n",
       "      <td>23</td>\n",
       "      <td>130</td>\n",
       "    </tr>\n",
       "    <tr>\n",
       "      <th>3</th>\n",
       "      <td>24</td>\n",
       "      <td>156</td>\n",
       "    </tr>\n",
       "    <tr>\n",
       "      <th>4</th>\n",
       "      <td>25</td>\n",
       "      <td>153</td>\n",
       "    </tr>\n",
       "  </tbody>\n",
       "</table>\n",
       "</div>"
      ],
      "text/plain": [
       "   AGE  default\n",
       "0   21       10\n",
       "1   22       85\n",
       "2   23      130\n",
       "3   24      156\n",
       "4   25      153"
      ]
     },
     "execution_count": 88,
     "metadata": {},
     "output_type": "execute_result"
    }
   ],
   "source": [
    "aux.head()"
   ]
  },
  {
   "cell_type": "markdown",
   "id": "da887781",
   "metadata": {
    "heading_collapsed": true
   },
   "source": [
    "## Análise Multivariada"
   ]
  },
  {
   "cell_type": "markdown",
   "id": "79f6141a",
   "metadata": {},
   "source": [
    "# PASSO 5 - Data Preparation "
   ]
  },
  {
   "cell_type": "code",
   "execution_count": 30,
   "id": "469d0a5d",
   "metadata": {
    "ExecuteTime": {
     "end_time": "2023-04-12T18:07:40.145958Z",
     "start_time": "2023-04-12T18:07:40.143105Z"
    }
   },
   "outputs": [],
   "source": [
    "df5 = df4.copy()"
   ]
  },
  {
   "cell_type": "markdown",
   "id": "12b40ce2",
   "metadata": {},
   "source": [
    "# PASSO 6 - Feature Selection "
   ]
  },
  {
   "cell_type": "code",
   "execution_count": 31,
   "id": "c65caba4",
   "metadata": {
    "ExecuteTime": {
     "end_time": "2023-04-12T18:07:41.151551Z",
     "start_time": "2023-04-12T18:07:41.146186Z"
    }
   },
   "outputs": [],
   "source": [
    "df6 = df5.copy()"
   ]
  },
  {
   "cell_type": "code",
   "execution_count": 32,
   "id": "a6230b23",
   "metadata": {
    "ExecuteTime": {
     "end_time": "2023-04-12T18:07:41.733265Z",
     "start_time": "2023-04-12T18:07:41.720410Z"
    }
   },
   "outputs": [],
   "source": [
    "X = df6.drop(['default','ID','SAFRA'], axis=1)\n",
    "y = df6['default']\n",
    "\n",
    "X_train, X_test, y_train , y_test = train_test_split(X, y , stratify=y, shuffle=True)"
   ]
  },
  {
   "cell_type": "code",
   "execution_count": 33,
   "id": "d018cf4f",
   "metadata": {
    "ExecuteTime": {
     "end_time": "2023-04-12T18:07:43.062982Z",
     "start_time": "2023-04-12T18:07:43.049069Z"
    }
   },
   "outputs": [
    {
     "ename": "AttributeError",
     "evalue": "module 'numpy' has no attribute 'int'.\n`np.int` was a deprecated alias for the builtin `int`. To avoid this error in existing code, use `int` by itself. Doing this will not modify any behavior and is safe. When replacing `np.int`, you may wish to use e.g. `np.int64` or `np.int32` to specify the precision. If you wish to review your current use, check the release note link for additional information.\nThe aliases was originally deprecated in NumPy 1.20; for more details and guidance see the original release note at:\n    https://numpy.org/devdocs/release/1.20.0-notes.html#deprecations",
     "output_type": "error",
     "traceback": [
      "\u001b[0;31m---------------------------------------------------------------------------\u001b[0m",
      "\u001b[0;31mAttributeError\u001b[0m                            Traceback (most recent call last)",
      "\u001b[0;32m/tmp/ipykernel_18146/2259492330.py\u001b[0m in \u001b[0;36m<module>\u001b[0;34m\u001b[0m\n\u001b[1;32m      2\u001b[0m \u001b[0mrf\u001b[0m \u001b[0;34m=\u001b[0m \u001b[0mRandomForestClassifier\u001b[0m\u001b[0;34m(\u001b[0m\u001b[0mn_jobs\u001b[0m\u001b[0;34m=\u001b[0m\u001b[0;34m-\u001b[0m\u001b[0;36m1\u001b[0m\u001b[0;34m)\u001b[0m\u001b[0;34m\u001b[0m\u001b[0;34m\u001b[0m\u001b[0m\n\u001b[1;32m      3\u001b[0m \u001b[0;31m#define boruta\u001b[0m\u001b[0;34m\u001b[0m\u001b[0;34m\u001b[0m\u001b[0m\n\u001b[0;32m----> 4\u001b[0;31m \u001b[0mboruta\u001b[0m \u001b[0;34m=\u001b[0m \u001b[0mBorutaPy\u001b[0m\u001b[0;34m(\u001b[0m\u001b[0mrf\u001b[0m\u001b[0;34m,\u001b[0m \u001b[0mn_estimators\u001b[0m\u001b[0;34m=\u001b[0m\u001b[0;34m'auto'\u001b[0m\u001b[0;34m,\u001b[0m \u001b[0mverbose\u001b[0m\u001b[0;34m=\u001b[0m\u001b[0;36m2\u001b[0m\u001b[0;34m)\u001b[0m\u001b[0;34m.\u001b[0m\u001b[0mfit\u001b[0m\u001b[0;34m(\u001b[0m\u001b[0mX_train\u001b[0m\u001b[0;34m.\u001b[0m\u001b[0mvalues\u001b[0m\u001b[0;34m,\u001b[0m \u001b[0my_train\u001b[0m\u001b[0;34m.\u001b[0m\u001b[0mvalues\u001b[0m\u001b[0;34m)\u001b[0m\u001b[0;34m\u001b[0m\u001b[0;34m\u001b[0m\u001b[0m\n\u001b[0m",
      "\u001b[0;32m~/.local/lib/python3.10/site-packages/boruta/boruta_py.py\u001b[0m in \u001b[0;36mfit\u001b[0;34m(self, X, y)\u001b[0m\n\u001b[1;32m    199\u001b[0m         \"\"\"\n\u001b[1;32m    200\u001b[0m \u001b[0;34m\u001b[0m\u001b[0m\n\u001b[0;32m--> 201\u001b[0;31m         \u001b[0;32mreturn\u001b[0m \u001b[0mself\u001b[0m\u001b[0;34m.\u001b[0m\u001b[0m_fit\u001b[0m\u001b[0;34m(\u001b[0m\u001b[0mX\u001b[0m\u001b[0;34m,\u001b[0m \u001b[0my\u001b[0m\u001b[0;34m)\u001b[0m\u001b[0;34m\u001b[0m\u001b[0;34m\u001b[0m\u001b[0m\n\u001b[0m\u001b[1;32m    202\u001b[0m \u001b[0;34m\u001b[0m\u001b[0m\n\u001b[1;32m    203\u001b[0m     \u001b[0;32mdef\u001b[0m \u001b[0mtransform\u001b[0m\u001b[0;34m(\u001b[0m\u001b[0mself\u001b[0m\u001b[0;34m,\u001b[0m \u001b[0mX\u001b[0m\u001b[0;34m,\u001b[0m \u001b[0mweak\u001b[0m\u001b[0;34m=\u001b[0m\u001b[0;32mFalse\u001b[0m\u001b[0;34m)\u001b[0m\u001b[0;34m:\u001b[0m\u001b[0;34m\u001b[0m\u001b[0;34m\u001b[0m\u001b[0m\n",
      "\u001b[0;32m~/.local/lib/python3.10/site-packages/boruta/boruta_py.py\u001b[0m in \u001b[0;36m_fit\u001b[0;34m(self, X, y)\u001b[0m\n\u001b[1;32m    258\u001b[0m         \u001b[0;31m# 1  - accepted in original code\u001b[0m\u001b[0;34m\u001b[0m\u001b[0;34m\u001b[0m\u001b[0m\n\u001b[1;32m    259\u001b[0m         \u001b[0;31m# -1 - rejected in original code\u001b[0m\u001b[0;34m\u001b[0m\u001b[0;34m\u001b[0m\u001b[0m\n\u001b[0;32m--> 260\u001b[0;31m         \u001b[0mdec_reg\u001b[0m \u001b[0;34m=\u001b[0m \u001b[0mnp\u001b[0m\u001b[0;34m.\u001b[0m\u001b[0mzeros\u001b[0m\u001b[0;34m(\u001b[0m\u001b[0mn_feat\u001b[0m\u001b[0;34m,\u001b[0m \u001b[0mdtype\u001b[0m\u001b[0;34m=\u001b[0m\u001b[0mnp\u001b[0m\u001b[0;34m.\u001b[0m\u001b[0mint\u001b[0m\u001b[0;34m)\u001b[0m\u001b[0;34m\u001b[0m\u001b[0;34m\u001b[0m\u001b[0m\n\u001b[0m\u001b[1;32m    261\u001b[0m         \u001b[0;31m# counts how many times a given feature was more important than\u001b[0m\u001b[0;34m\u001b[0m\u001b[0;34m\u001b[0m\u001b[0m\n\u001b[1;32m    262\u001b[0m         \u001b[0;31m# the best of the shadow features\u001b[0m\u001b[0;34m\u001b[0m\u001b[0;34m\u001b[0m\u001b[0m\n",
      "\u001b[0;32m~/.local/lib/python3.10/site-packages/numpy/__init__.py\u001b[0m in \u001b[0;36m__getattr__\u001b[0;34m(attr)\u001b[0m\n\u001b[1;32m    303\u001b[0m \u001b[0;34m\u001b[0m\u001b[0m\n\u001b[1;32m    304\u001b[0m         \u001b[0;32mif\u001b[0m \u001b[0mattr\u001b[0m \u001b[0;32min\u001b[0m \u001b[0m__former_attrs__\u001b[0m\u001b[0;34m:\u001b[0m\u001b[0;34m\u001b[0m\u001b[0;34m\u001b[0m\u001b[0m\n\u001b[0;32m--> 305\u001b[0;31m             \u001b[0;32mraise\u001b[0m \u001b[0mAttributeError\u001b[0m\u001b[0;34m(\u001b[0m\u001b[0m__former_attrs__\u001b[0m\u001b[0;34m[\u001b[0m\u001b[0mattr\u001b[0m\u001b[0;34m]\u001b[0m\u001b[0;34m)\u001b[0m\u001b[0;34m\u001b[0m\u001b[0;34m\u001b[0m\u001b[0m\n\u001b[0m\u001b[1;32m    306\u001b[0m \u001b[0;34m\u001b[0m\u001b[0m\n\u001b[1;32m    307\u001b[0m         \u001b[0;31m# Importing Tester requires importing all of UnitTest which is not a\u001b[0m\u001b[0;34m\u001b[0m\u001b[0;34m\u001b[0m\u001b[0m\n",
      "\u001b[0;31mAttributeError\u001b[0m: module 'numpy' has no attribute 'int'.\n`np.int` was a deprecated alias for the builtin `int`. To avoid this error in existing code, use `int` by itself. Doing this will not modify any behavior and is safe. When replacing `np.int`, you may wish to use e.g. `np.int64` or `np.int32` to specify the precision. If you wish to review your current use, check the release note link for additional information.\nThe aliases was originally deprecated in NumPy 1.20; for more details and guidance see the original release note at:\n    https://numpy.org/devdocs/release/1.20.0-notes.html#deprecations"
     ]
    }
   ],
   "source": [
    "#Define RandomForest Regressor\n",
    "rf = RandomForestClassifier(n_jobs=-1)\n",
    "#define boruta\n",
    "boruta = BorutaPy(rf, n_estimators='auto', verbose=2).fit(X_train.values, y_train.values)"
   ]
  },
  {
   "cell_type": "code",
   "execution_count": 93,
   "id": "67e621d9",
   "metadata": {
    "ExecuteTime": {
     "end_time": "2023-04-06T21:33:43.824223Z",
     "start_time": "2023-04-06T21:33:43.819448Z"
    }
   },
   "outputs": [
    {
     "data": {
      "text/plain": [
       "['PAY_0', 'BILL_AMT1']"
      ]
     },
     "execution_count": 93,
     "metadata": {},
     "output_type": "execute_result"
    }
   ],
   "source": [
    "cols_selected = boruta.support_.tolist()\n",
    "\n",
    "#best features\n",
    "X_train_fs = X_train.copy()\n",
    "cols_selected_boruta = X_train_fs.iloc[:, cols_selected].columns.to_list()\n",
    "\n",
    "#not selected boruta\n",
    "cols_not_selected_boruta = list(np.setdiff1d(X_train_fs.columns,cols_selected_boruta))\n",
    "cols_selected_boruta"
   ]
  },
  {
   "cell_type": "markdown",
   "id": "6a7cd341",
   "metadata": {},
   "source": [
    "# PASSO 7 - Machine Learning Modelling "
   ]
  },
  {
   "cell_type": "code",
   "execution_count": 34,
   "id": "1269d20f",
   "metadata": {
    "ExecuteTime": {
     "end_time": "2023-04-12T18:08:02.489618Z",
     "start_time": "2023-04-12T18:08:02.487227Z"
    }
   },
   "outputs": [],
   "source": [
    "df7 = df6.copy()"
   ]
  },
  {
   "cell_type": "code",
   "execution_count": 40,
   "id": "414b023d",
   "metadata": {
    "ExecuteTime": {
     "end_time": "2023-04-12T18:23:12.136340Z",
     "start_time": "2023-04-12T18:23:12.127289Z"
    }
   },
   "outputs": [],
   "source": [
    "X = df7.drop(['default','ID','SAFRA' ,'SEX', 'EDUCATION', 'MARRIAGE',\n",
    "       'PAY_0', 'PAY_2', 'PAY_3', 'PAY_4', 'PAY_5', 'PAY_6', 'BILL_AMT1',\n",
    "       'BILL_AMT2', 'BILL_AMT3', 'BILL_AMT4', 'BILL_AMT5', 'BILL_AMT6',\n",
    "       'PAY_AMT1', 'PAY_AMT2', 'PAY_AMT3', 'PAY_AMT4', 'PAY_AMT5'] , axis=1) \n",
    "y = df7['default']\n",
    "\n",
    "X_train, X_test, y_train , y_test = train_test_split(X, y , stratify=y, shuffle=True)"
   ]
  },
  {
   "cell_type": "code",
   "execution_count": 42,
   "id": "7dce775e",
   "metadata": {
    "ExecuteTime": {
     "end_time": "2023-04-12T18:24:05.980085Z",
     "start_time": "2023-04-12T18:24:05.977392Z"
    }
   },
   "outputs": [],
   "source": [
    "cols_selected = ['LIMIT_BAL', 'AGE', 'PAY_AMT6']"
   ]
  },
  {
   "cell_type": "code",
   "execution_count": 43,
   "id": "48f01e44",
   "metadata": {
    "ExecuteTime": {
     "end_time": "2023-04-12T18:24:08.784813Z",
     "start_time": "2023-04-12T18:24:08.615821Z"
    }
   },
   "outputs": [
    {
     "name": "stdout",
     "output_type": "stream",
     "text": [
      "Accuracy Value: 0.6736\n"
     ]
    }
   ],
   "source": [
    "#sem balanceamento\n",
    "from sklearn.tree import DecisionTreeClassifier\n",
    "from sklearn.model_selection import KFold, cross_val_score , cross_validate\n",
    "\n",
    "num_folds = 10\n",
    "seed = 7\n",
    "\n",
    "kfold = KFold(num_folds, shuffle=True , random_state=seed)\n",
    "\n",
    "model_tree = DecisionTreeClassifier()\n",
    "result_tree=cross_val_score(model_tree,X_train,y_train,cv=kfold,scoring='accuracy')\n",
    "print(\"Accuracy Value: {:.4f}\" .format(result_tree.mean()))"
   ]
  },
  {
   "cell_type": "code",
   "execution_count": 59,
   "id": "83e6c53d",
   "metadata": {
    "ExecuteTime": {
     "end_time": "2023-04-12T18:27:55.155383Z",
     "start_time": "2023-04-12T18:27:55.153121Z"
    }
   },
   "outputs": [],
   "source": [
    "X = np.array([[1000.0, 19.0 , 1000.0]])"
   ]
  },
  {
   "cell_type": "code",
   "execution_count": 61,
   "id": "b58aa463",
   "metadata": {
    "ExecuteTime": {
     "end_time": "2023-04-12T18:28:57.033049Z",
     "start_time": "2023-04-12T18:28:57.010175Z"
    }
   },
   "outputs": [
    {
     "data": {
      "text/html": [
       "<style>#sk-container-id-1 {color: black;background-color: white;}#sk-container-id-1 pre{padding: 0;}#sk-container-id-1 div.sk-toggleable {background-color: white;}#sk-container-id-1 label.sk-toggleable__label {cursor: pointer;display: block;width: 100%;margin-bottom: 0;padding: 0.3em;box-sizing: border-box;text-align: center;}#sk-container-id-1 label.sk-toggleable__label-arrow:before {content: \"▸\";float: left;margin-right: 0.25em;color: #696969;}#sk-container-id-1 label.sk-toggleable__label-arrow:hover:before {color: black;}#sk-container-id-1 div.sk-estimator:hover label.sk-toggleable__label-arrow:before {color: black;}#sk-container-id-1 div.sk-toggleable__content {max-height: 0;max-width: 0;overflow: hidden;text-align: left;background-color: #f0f8ff;}#sk-container-id-1 div.sk-toggleable__content pre {margin: 0.2em;color: black;border-radius: 0.25em;background-color: #f0f8ff;}#sk-container-id-1 input.sk-toggleable__control:checked~div.sk-toggleable__content {max-height: 200px;max-width: 100%;overflow: auto;}#sk-container-id-1 input.sk-toggleable__control:checked~label.sk-toggleable__label-arrow:before {content: \"▾\";}#sk-container-id-1 div.sk-estimator input.sk-toggleable__control:checked~label.sk-toggleable__label {background-color: #d4ebff;}#sk-container-id-1 div.sk-label input.sk-toggleable__control:checked~label.sk-toggleable__label {background-color: #d4ebff;}#sk-container-id-1 input.sk-hidden--visually {border: 0;clip: rect(1px 1px 1px 1px);clip: rect(1px, 1px, 1px, 1px);height: 1px;margin: -1px;overflow: hidden;padding: 0;position: absolute;width: 1px;}#sk-container-id-1 div.sk-estimator {font-family: monospace;background-color: #f0f8ff;border: 1px dotted black;border-radius: 0.25em;box-sizing: border-box;margin-bottom: 0.5em;}#sk-container-id-1 div.sk-estimator:hover {background-color: #d4ebff;}#sk-container-id-1 div.sk-parallel-item::after {content: \"\";width: 100%;border-bottom: 1px solid gray;flex-grow: 1;}#sk-container-id-1 div.sk-label:hover label.sk-toggleable__label {background-color: #d4ebff;}#sk-container-id-1 div.sk-serial::before {content: \"\";position: absolute;border-left: 1px solid gray;box-sizing: border-box;top: 0;bottom: 0;left: 50%;z-index: 0;}#sk-container-id-1 div.sk-serial {display: flex;flex-direction: column;align-items: center;background-color: white;padding-right: 0.2em;padding-left: 0.2em;position: relative;}#sk-container-id-1 div.sk-item {position: relative;z-index: 1;}#sk-container-id-1 div.sk-parallel {display: flex;align-items: stretch;justify-content: center;background-color: white;position: relative;}#sk-container-id-1 div.sk-item::before, #sk-container-id-1 div.sk-parallel-item::before {content: \"\";position: absolute;border-left: 1px solid gray;box-sizing: border-box;top: 0;bottom: 0;left: 50%;z-index: -1;}#sk-container-id-1 div.sk-parallel-item {display: flex;flex-direction: column;z-index: 1;position: relative;background-color: white;}#sk-container-id-1 div.sk-parallel-item:first-child::after {align-self: flex-end;width: 50%;}#sk-container-id-1 div.sk-parallel-item:last-child::after {align-self: flex-start;width: 50%;}#sk-container-id-1 div.sk-parallel-item:only-child::after {width: 0;}#sk-container-id-1 div.sk-dashed-wrapped {border: 1px dashed gray;margin: 0 0.4em 0.5em 0.4em;box-sizing: border-box;padding-bottom: 0.4em;background-color: white;}#sk-container-id-1 div.sk-label label {font-family: monospace;font-weight: bold;display: inline-block;line-height: 1.2em;}#sk-container-id-1 div.sk-label-container {text-align: center;}#sk-container-id-1 div.sk-container {/* jupyter's `normalize.less` sets `[hidden] { display: none; }` but bootstrap.min.css set `[hidden] { display: none !important; }` so we also need the `!important` here to be able to override the default hidden behavior on the sphinx rendered scikit-learn.org. See: https://github.com/scikit-learn/scikit-learn/issues/21755 */display: inline-block !important;position: relative;}#sk-container-id-1 div.sk-text-repr-fallback {display: none;}</style><div id=\"sk-container-id-1\" class=\"sk-top-container\"><div class=\"sk-text-repr-fallback\"><pre>DecisionTreeClassifier()</pre><b>In a Jupyter environment, please rerun this cell to show the HTML representation or trust the notebook. <br />On GitHub, the HTML representation is unable to render, please try loading this page with nbviewer.org.</b></div><div class=\"sk-container\" hidden><div class=\"sk-item\"><div class=\"sk-estimator sk-toggleable\"><input class=\"sk-toggleable__control sk-hidden--visually\" id=\"sk-estimator-id-1\" type=\"checkbox\" checked><label for=\"sk-estimator-id-1\" class=\"sk-toggleable__label sk-toggleable__label-arrow\">DecisionTreeClassifier</label><div class=\"sk-toggleable__content\"><pre>DecisionTreeClassifier()</pre></div></div></div></div></div>"
      ],
      "text/plain": [
       "DecisionTreeClassifier()"
      ]
     },
     "execution_count": 61,
     "metadata": {},
     "output_type": "execute_result"
    }
   ],
   "source": [
    "model_tree.fit(X_train,y_train)"
   ]
  },
  {
   "cell_type": "code",
   "execution_count": 63,
   "id": "9c9f2c40",
   "metadata": {
    "ExecuteTime": {
     "end_time": "2023-04-12T18:29:15.907229Z",
     "start_time": "2023-04-12T18:29:15.904296Z"
    }
   },
   "outputs": [
    {
     "data": {
      "text/plain": [
       "1"
      ]
     },
     "execution_count": 63,
     "metadata": {},
     "output_type": "execute_result"
    }
   ],
   "source": [
    "model_tree.predict(X)[0]"
   ]
  },
  {
   "cell_type": "markdown",
   "id": "0f94ee70",
   "metadata": {
    "heading_collapsed": true
   },
   "source": [
    "# PASSO 8 - Hyperparameter Fine Tuning"
   ]
  },
  {
   "cell_type": "markdown",
   "id": "ac0da6e0",
   "metadata": {
    "heading_collapsed": true
   },
   "source": [
    "# PASSO 9 - Tradução e Interpretação do Erro"
   ]
  },
  {
   "cell_type": "markdown",
   "id": "08393817",
   "metadata": {},
   "source": [
    "# PASSO 10 - Deploy Model To Production"
   ]
  },
  {
   "cell_type": "markdown",
   "id": "744eed1a",
   "metadata": {},
   "source": [
    "## 10.1 Credit Class"
   ]
  },
  {
   "cell_type": "markdown",
   "id": "79c3e85f",
   "metadata": {},
   "source": [
    "## 10.2 API Handler"
   ]
  },
  {
   "cell_type": "markdown",
   "id": "4998c9cb",
   "metadata": {},
   "source": [
    "## 10.3 API Tester"
   ]
  },
  {
   "cell_type": "code",
   "execution_count": 64,
   "id": "bc0afe7e",
   "metadata": {
    "ExecuteTime": {
     "end_time": "2023-04-12T18:29:31.939840Z",
     "start_time": "2023-04-12T18:29:31.929850Z"
    }
   },
   "outputs": [],
   "source": [
    "data = {\"model\": model_tree }\n",
    "with open('saved_steps.pkl' , 'wb') as file:\n",
    "    pickle.dump(data,file)"
   ]
  },
  {
   "cell_type": "code",
   "execution_count": 65,
   "id": "13238c91",
   "metadata": {
    "ExecuteTime": {
     "end_time": "2023-04-12T18:29:32.432933Z",
     "start_time": "2023-04-12T18:29:32.430552Z"
    }
   },
   "outputs": [],
   "source": [
    "with open('saved_steps.pkl' , 'rb') as file:\n",
    "    data =  pickle.load(file)"
   ]
  },
  {
   "cell_type": "code",
   "execution_count": 66,
   "id": "e4915bd1",
   "metadata": {
    "ExecuteTime": {
     "end_time": "2023-04-12T18:29:32.964412Z",
     "start_time": "2023-04-12T18:29:32.962558Z"
    }
   },
   "outputs": [],
   "source": [
    "classificator = data['model']"
   ]
  },
  {
   "cell_type": "code",
   "execution_count": 77,
   "id": "73f2306f",
   "metadata": {
    "ExecuteTime": {
     "end_time": "2023-04-12T18:31:11.578116Z",
     "start_time": "2023-04-12T18:31:11.575218Z"
    }
   },
   "outputs": [
    {
     "data": {
      "text/plain": [
       "1"
      ]
     },
     "execution_count": 77,
     "metadata": {},
     "output_type": "execute_result"
    }
   ],
   "source": [
    "classificator.predict(X)[0]"
   ]
  },
  {
   "cell_type": "code",
   "execution_count": 67,
   "id": "740be30a",
   "metadata": {
    "ExecuteTime": {
     "end_time": "2023-04-12T18:29:34.690607Z",
     "start_time": "2023-04-12T18:29:34.687730Z"
    }
   },
   "outputs": [
    {
     "data": {
      "text/plain": [
       "['LIMIT_BAL', 'AGE', 'PAY_AMT6']"
      ]
     },
     "execution_count": 67,
     "metadata": {},
     "output_type": "execute_result"
    }
   ],
   "source": [
    "cols_selected"
   ]
  },
  {
   "cell_type": "code",
   "execution_count": null,
   "id": "655fee5b",
   "metadata": {},
   "outputs": [],
   "source": []
  }
 ],
 "metadata": {
  "kernelspec": {
   "display_name": "Python 3 (ipykernel)",
   "language": "python",
   "name": "python3"
  },
  "language_info": {
   "codemirror_mode": {
    "name": "ipython",
    "version": 3
   },
   "file_extension": ".py",
   "mimetype": "text/x-python",
   "name": "python",
   "nbconvert_exporter": "python",
   "pygments_lexer": "ipython3",
   "version": "3.10.6"
  }
 },
 "nbformat": 4,
 "nbformat_minor": 5
}
