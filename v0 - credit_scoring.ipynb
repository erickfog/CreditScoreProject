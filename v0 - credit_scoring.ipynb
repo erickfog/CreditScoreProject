{
 "cells": [
  {
   "cell_type": "markdown",
   "id": "62d54c5d",
   "metadata": {
    "hide_input": false
   },
   "source": [
    "# Entendimento do Problema e Planejamento da Solução"
   ]
  },
  {
   "cell_type": "markdown",
   "id": "c586d4ac",
   "metadata": {},
   "source": [
    "    O que preciso entregar? \n",
    "            Web App com modelo em produção fazendo previsões de inadimplência e taxa de juros personalizada.\n",
    "    \n",
    "    O que precisa ser feito? \n",
    "             Construção do Modelo;\n",
    "             Deployment do Modelo;\n",
    "         \n",
    "    Quais ferramentas utilizar? \n",
    "           - Python\n",
    "               1. Biblioteca de manipulação de dados(Pandas,Numpy e Scipy)\n",
    "               2. Biblioteca de Machine Learning (Scikit-Learn)\n",
    "               3. Biblioteca de Balanceamento de Dados (Imbalanced Learn)\n",
    "               4. Biblioteca de Vizualização de Dados (Matplotlib e Seaborn)\n",
    "            - Flask (Escrever a Handler API)\n",
    "            - Render (Cloud para Deployment)\n",
    "            - Streamlit ou Hugging Face (Web APP)\n",
    "    \n",
    "    Como fazer? \n",
    "            1. Fazer todo o processo de construção do modelo;\n",
    "            2. Escrever Handler API para chamar o pipeline de tratamento de dados e fazer request no modelo; \n",
    "            3. Fazer deployment da aplicação no Render; \n",
    "            4. Construir o webapp utilizando o streamlit;"
   ]
  },
  {
   "cell_type": "markdown",
   "id": "7587f796",
   "metadata": {},
   "source": [
    "## Metadados"
   ]
  },
  {
   "cell_type": "markdown",
   "id": "7ef97e73",
   "metadata": {},
   "source": [
    "1: Inadimplente\n",
    "0: Não inadimplente\n",
    "\n",
    "\n",
    "X1: Amount of the given credit (NT dollar): it includes\n",
    "both the individual consumer credit and his/her family\n",
    "(supplementary) credit.\n",
    "\u0002 X2: Gender (1 = male; 2 = female).\n",
    "\u0002 X3: Education (1 = graduate school; 2 = university;\n",
    "3 = high school; 4 = others).\n",
    "\u0002 X4: Marital status (1 = married; 2 = single; 3 = others).\n",
    "\u0002 X5: Age (year).\n",
    "\u0002 X6–X11: History of past payment. We tracked the past\n",
    "monthly payment records (from April to September,\n",
    "2005) as follows: X6 = the repayment status in Septem-\n",
    "ber, 2005; X7 = the repayment status in August,\n",
    "2005; . . .; X11 = the repayment status in April, 2005.\n",
    "The measurement scale for the repayment status is:\n",
    "\u00031 = pay duly; 1 = payment delay for one month;\n",
    "2 = payment delay for two months; . . .; 8 = payment\n",
    "delay for eight months; 9 = payment delay for nine\n",
    "months and above.\n",
    "\u0002 X12–X17: Amount of bill statement (NT dollar).\n",
    "X12 = amount of bill statement in September, 2005;\n",
    "X13 = amount of bill statement in August,\n",
    "2005; . . .; X17 = amount of bill statement in April, 2005.\n",
    "\u0002 X18–X23: Amount of previous payment (NT dollar).\n",
    "X18 = amount paid in September, 2005; X19 = amount\n",
    "paid in August, 2005; . . .; X23 = amount paid in April,\n",
    "2005."
   ]
  },
  {
   "cell_type": "markdown",
   "id": "ac228856",
   "metadata": {},
   "source": [
    "# PASSO 0 - Imports"
   ]
  },
  {
   "cell_type": "code",
   "execution_count": 1,
   "id": "5a064165",
   "metadata": {
    "ExecuteTime": {
     "end_time": "2023-04-12T14:44:09.635957Z",
     "start_time": "2023-04-12T14:44:07.954214Z"
    }
   },
   "outputs": [],
   "source": [
    "import math\n",
    "import pandas as pd\n",
    "import numpy  as np\n",
    "import inflection\n",
    "import requests\n",
    "import random\n",
    "import pickle\n",
    "import warnings\n",
    "import xgboost as xgb\n",
    "import seaborn as sns\n",
    "\n",
    "\n",
    "from boruta               import BorutaPy\n",
    "from scipy                import stats      as ss\n",
    "from matplotlib           import pyplot     as plt\n",
    "from IPython.core.display import HTML\n",
    "from IPython.display      import Image\n",
    "\n",
    "from sklearn.metrics import roc_auc_score, roc_curve, accuracy_score\n",
    "from sklearn.model_selection import train_test_split\n",
    "from sklearn.preprocessing import StandardScaler, MinMaxScaler, RobustScaler\n",
    "from sklearn.ensemble import RandomForestClassifier\n",
    "\n",
    "\n",
    "warnings.filterwarnings('ignore')"
   ]
  },
  {
   "cell_type": "markdown",
   "id": "b6dd6c0a",
   "metadata": {},
   "source": [
    "## 0.1 Helper Functions"
   ]
  },
  {
   "cell_type": "code",
   "execution_count": 2,
   "id": "13abd7f2",
   "metadata": {
    "ExecuteTime": {
     "end_time": "2023-04-12T14:44:16.451880Z",
     "start_time": "2023-04-12T14:44:16.444787Z"
    }
   },
   "outputs": [],
   "source": [
    "def cramer_v( x, y ):\n",
    "    cm = pd.crosstab( x, y ).values\n",
    "    n = cm.sum()\n",
    "    r, k = cm.shape\n",
    "    chi2 = ss.chi2_contingency( cm )[0]\n",
    "    chi2corr = max( 0, chi2 - (k-1)*(r-1)/(n-1) )\n",
    "    kcorr = k - (k-1)**2/(n-1)\n",
    "    rcorr = r - (r-1)**2/(n-1)\n",
    "    return np.sqrt( (chi2corr/n) / ( min( kcorr-1, rcorr-1 ) ) )\n",
    "\n",
    "\n",
    "def jupyter_settings():\n",
    "    %matplotlib inline\n",
    "    %pylab inline\n",
    "    plt.style.use( 'bmh' )\n",
    "    plt.rcParams['figure.figsize'] = [25, 12]\n",
    "    plt.rcParams['font.size'] = 24\n",
    "    display( HTML( '<style>.container { width:100% !important; }</style>') )\n",
    "    pd.options.display.max_columns = None\n",
    "    pd.options.display.max_rows = None\n",
    "    pd.set_option( 'display.expand_frame_repr', False )\n",
    "    sns.set()"
   ]
  },
  {
   "cell_type": "markdown",
   "id": "cd45b6ef",
   "metadata": {},
   "source": [
    "## 0.1 Loading Data"
   ]
  },
  {
   "cell_type": "code",
   "execution_count": 4,
   "id": "4b882ae0",
   "metadata": {
    "ExecuteTime": {
     "end_time": "2023-04-12T14:44:26.091664Z",
     "start_time": "2023-04-12T14:44:26.029649Z"
    }
   },
   "outputs": [],
   "source": [
    "df_raw = pd.read_csv('data/dataset_trat.csv', sep=';')"
   ]
  },
  {
   "cell_type": "code",
   "execution_count": 5,
   "id": "17327941",
   "metadata": {
    "ExecuteTime": {
     "end_time": "2023-04-12T14:44:27.273116Z",
     "start_time": "2023-04-12T14:44:27.253870Z"
    }
   },
   "outputs": [
    {
     "data": {
      "text/html": [
       "<div>\n",
       "<style scoped>\n",
       "    .dataframe tbody tr th:only-of-type {\n",
       "        vertical-align: middle;\n",
       "    }\n",
       "\n",
       "    .dataframe tbody tr th {\n",
       "        vertical-align: top;\n",
       "    }\n",
       "\n",
       "    .dataframe thead th {\n",
       "        text-align: right;\n",
       "    }\n",
       "</style>\n",
       "<table border=\"1\" class=\"dataframe\">\n",
       "  <thead>\n",
       "    <tr style=\"text-align: right;\">\n",
       "      <th></th>\n",
       "      <th>ID</th>\n",
       "      <th>SAFRA</th>\n",
       "      <th>LIMIT_BAL</th>\n",
       "      <th>SEX</th>\n",
       "      <th>EDUCATION</th>\n",
       "      <th>MARRIAGE</th>\n",
       "      <th>AGE</th>\n",
       "      <th>PAY_0</th>\n",
       "      <th>PAY_2</th>\n",
       "      <th>PAY_3</th>\n",
       "      <th>...</th>\n",
       "      <th>BILL_AMT4</th>\n",
       "      <th>BILL_AMT5</th>\n",
       "      <th>BILL_AMT6</th>\n",
       "      <th>PAY_AMT1</th>\n",
       "      <th>PAY_AMT2</th>\n",
       "      <th>PAY_AMT3</th>\n",
       "      <th>PAY_AMT4</th>\n",
       "      <th>PAY_AMT5</th>\n",
       "      <th>PAY_AMT6</th>\n",
       "      <th>default</th>\n",
       "    </tr>\n",
       "  </thead>\n",
       "  <tbody>\n",
       "    <tr>\n",
       "      <th>0</th>\n",
       "      <td>1</td>\n",
       "      <td>200510</td>\n",
       "      <td>20000</td>\n",
       "      <td>2</td>\n",
       "      <td>2</td>\n",
       "      <td>1</td>\n",
       "      <td>24</td>\n",
       "      <td>2</td>\n",
       "      <td>2</td>\n",
       "      <td>-1</td>\n",
       "      <td>...</td>\n",
       "      <td>0</td>\n",
       "      <td>0</td>\n",
       "      <td>0</td>\n",
       "      <td>0</td>\n",
       "      <td>689</td>\n",
       "      <td>0</td>\n",
       "      <td>0</td>\n",
       "      <td>0</td>\n",
       "      <td>0</td>\n",
       "      <td>1</td>\n",
       "    </tr>\n",
       "    <tr>\n",
       "      <th>1</th>\n",
       "      <td>2</td>\n",
       "      <td>200510</td>\n",
       "      <td>120000</td>\n",
       "      <td>2</td>\n",
       "      <td>2</td>\n",
       "      <td>2</td>\n",
       "      <td>26</td>\n",
       "      <td>-1</td>\n",
       "      <td>2</td>\n",
       "      <td>0</td>\n",
       "      <td>...</td>\n",
       "      <td>3272</td>\n",
       "      <td>3455</td>\n",
       "      <td>3261</td>\n",
       "      <td>0</td>\n",
       "      <td>1000</td>\n",
       "      <td>1000</td>\n",
       "      <td>1000</td>\n",
       "      <td>0</td>\n",
       "      <td>2000</td>\n",
       "      <td>1</td>\n",
       "    </tr>\n",
       "    <tr>\n",
       "      <th>2</th>\n",
       "      <td>3</td>\n",
       "      <td>200510</td>\n",
       "      <td>90000</td>\n",
       "      <td>2</td>\n",
       "      <td>2</td>\n",
       "      <td>2</td>\n",
       "      <td>34</td>\n",
       "      <td>0</td>\n",
       "      <td>0</td>\n",
       "      <td>0</td>\n",
       "      <td>...</td>\n",
       "      <td>14331</td>\n",
       "      <td>14948</td>\n",
       "      <td>15549</td>\n",
       "      <td>1518</td>\n",
       "      <td>1500</td>\n",
       "      <td>1000</td>\n",
       "      <td>1000</td>\n",
       "      <td>1000</td>\n",
       "      <td>5000</td>\n",
       "      <td>0</td>\n",
       "    </tr>\n",
       "    <tr>\n",
       "      <th>3</th>\n",
       "      <td>4</td>\n",
       "      <td>200510</td>\n",
       "      <td>50000</td>\n",
       "      <td>2</td>\n",
       "      <td>2</td>\n",
       "      <td>1</td>\n",
       "      <td>37</td>\n",
       "      <td>0</td>\n",
       "      <td>0</td>\n",
       "      <td>0</td>\n",
       "      <td>...</td>\n",
       "      <td>28314</td>\n",
       "      <td>28959</td>\n",
       "      <td>29547</td>\n",
       "      <td>2000</td>\n",
       "      <td>2019</td>\n",
       "      <td>1200</td>\n",
       "      <td>1100</td>\n",
       "      <td>1069</td>\n",
       "      <td>1000</td>\n",
       "      <td>0</td>\n",
       "    </tr>\n",
       "    <tr>\n",
       "      <th>4</th>\n",
       "      <td>5</td>\n",
       "      <td>200510</td>\n",
       "      <td>50000</td>\n",
       "      <td>1</td>\n",
       "      <td>2</td>\n",
       "      <td>1</td>\n",
       "      <td>57</td>\n",
       "      <td>-1</td>\n",
       "      <td>0</td>\n",
       "      <td>-1</td>\n",
       "      <td>...</td>\n",
       "      <td>20940</td>\n",
       "      <td>19146</td>\n",
       "      <td>19131</td>\n",
       "      <td>2000</td>\n",
       "      <td>36681</td>\n",
       "      <td>10000</td>\n",
       "      <td>9000</td>\n",
       "      <td>689</td>\n",
       "      <td>679</td>\n",
       "      <td>0</td>\n",
       "    </tr>\n",
       "  </tbody>\n",
       "</table>\n",
       "<p>5 rows × 26 columns</p>\n",
       "</div>"
      ],
      "text/plain": [
       "   ID   SAFRA  LIMIT_BAL  SEX  EDUCATION  MARRIAGE  AGE  PAY_0  PAY_2  PAY_3  \\\n",
       "0   1  200510      20000    2          2         1   24      2      2     -1   \n",
       "1   2  200510     120000    2          2         2   26     -1      2      0   \n",
       "2   3  200510      90000    2          2         2   34      0      0      0   \n",
       "3   4  200510      50000    2          2         1   37      0      0      0   \n",
       "4   5  200510      50000    1          2         1   57     -1      0     -1   \n",
       "\n",
       "   ...  BILL_AMT4  BILL_AMT5  BILL_AMT6  PAY_AMT1  PAY_AMT2  PAY_AMT3  \\\n",
       "0  ...          0          0          0         0       689         0   \n",
       "1  ...       3272       3455       3261         0      1000      1000   \n",
       "2  ...      14331      14948      15549      1518      1500      1000   \n",
       "3  ...      28314      28959      29547      2000      2019      1200   \n",
       "4  ...      20940      19146      19131      2000     36681     10000   \n",
       "\n",
       "   PAY_AMT4  PAY_AMT5  PAY_AMT6  default  \n",
       "0         0         0         0        1  \n",
       "1      1000         0      2000        1  \n",
       "2      1000      1000      5000        0  \n",
       "3      1100      1069      1000        0  \n",
       "4      9000       689       679        0  \n",
       "\n",
       "[5 rows x 26 columns]"
      ]
     },
     "execution_count": 5,
     "metadata": {},
     "output_type": "execute_result"
    }
   ],
   "source": [
    "df_raw.head()"
   ]
  },
  {
   "cell_type": "code",
   "execution_count": 6,
   "id": "70b6be06",
   "metadata": {
    "ExecuteTime": {
     "end_time": "2023-04-12T14:44:27.687886Z",
     "start_time": "2023-04-12T14:44:27.684989Z"
    }
   },
   "outputs": [
    {
     "data": {
      "text/plain": [
       "(30000, 26)"
      ]
     },
     "execution_count": 6,
     "metadata": {},
     "output_type": "execute_result"
    }
   ],
   "source": [
    "df_raw.shape"
   ]
  },
  {
   "cell_type": "code",
   "execution_count": 7,
   "id": "dfc5a747",
   "metadata": {
    "ExecuteTime": {
     "end_time": "2023-04-12T14:44:28.265953Z",
     "start_time": "2023-04-12T14:44:28.262742Z"
    }
   },
   "outputs": [
    {
     "data": {
      "text/plain": [
       "Index(['ID', 'SAFRA', 'LIMIT_BAL', 'SEX', 'EDUCATION', 'MARRIAGE', 'AGE',\n",
       "       'PAY_0', 'PAY_2', 'PAY_3', 'PAY_4', 'PAY_5', 'PAY_6', 'BILL_AMT1',\n",
       "       'BILL_AMT2', 'BILL_AMT3', 'BILL_AMT4', 'BILL_AMT5', 'BILL_AMT6',\n",
       "       'PAY_AMT1', 'PAY_AMT2', 'PAY_AMT3', 'PAY_AMT4', 'PAY_AMT5', 'PAY_AMT6',\n",
       "       'default'],\n",
       "      dtype='object')"
      ]
     },
     "execution_count": 7,
     "metadata": {},
     "output_type": "execute_result"
    }
   ],
   "source": [
    "df_raw.columns"
   ]
  },
  {
   "cell_type": "markdown",
   "id": "84c37da8",
   "metadata": {},
   "source": [
    "## 0.2 Divisão do Conjunto de Dados"
   ]
  },
  {
   "cell_type": "code",
   "execution_count": 8,
   "id": "2b0044a9",
   "metadata": {
    "ExecuteTime": {
     "end_time": "2023-04-12T14:44:28.933237Z",
     "start_time": "2023-04-12T14:44:28.923052Z"
    }
   },
   "outputs": [
    {
     "data": {
      "text/plain": [
       "0    23364\n",
       "1     6636\n",
       "Name: default, dtype: int64"
      ]
     },
     "execution_count": 8,
     "metadata": {},
     "output_type": "execute_result"
    }
   ],
   "source": [
    "df_raw.default.value_counts()"
   ]
  },
  {
   "cell_type": "code",
   "execution_count": 9,
   "id": "ae2ce17a",
   "metadata": {
    "ExecuteTime": {
     "end_time": "2023-04-12T14:44:29.408523Z",
     "start_time": "2023-04-12T14:44:29.388180Z"
    }
   },
   "outputs": [
    {
     "name": "stdout",
     "output_type": "stream",
     "text": [
      "O dataset tem 22.12% de inadimplentes.\n"
     ]
    }
   ],
   "source": [
    "print(\"O dataset tem {:.2f}% de inadimplentes.\" .format(df_raw[df_raw['default'] == 1].shape[0]*100/df_raw.shape[0]))"
   ]
  },
  {
   "cell_type": "code",
   "execution_count": 10,
   "id": "3e5a24a2",
   "metadata": {
    "ExecuteTime": {
     "end_time": "2023-04-12T14:44:30.627221Z",
     "start_time": "2023-04-12T14:44:30.623318Z"
    }
   },
   "outputs": [],
   "source": [
    "# Out of Time(OOT)\n",
    "df_OOT = df_raw[df_raw['SAFRA'] > 200604].copy()"
   ]
  },
  {
   "cell_type": "code",
   "execution_count": 11,
   "id": "ce9fcca6",
   "metadata": {
    "ExecuteTime": {
     "end_time": "2023-04-12T14:44:31.086182Z",
     "start_time": "2023-04-12T14:44:31.076727Z"
    }
   },
   "outputs": [
    {
     "data": {
      "text/html": [
       "<div>\n",
       "<style scoped>\n",
       "    .dataframe tbody tr th:only-of-type {\n",
       "        vertical-align: middle;\n",
       "    }\n",
       "\n",
       "    .dataframe tbody tr th {\n",
       "        vertical-align: top;\n",
       "    }\n",
       "\n",
       "    .dataframe thead th {\n",
       "        text-align: right;\n",
       "    }\n",
       "</style>\n",
       "<table border=\"1\" class=\"dataframe\">\n",
       "  <thead>\n",
       "    <tr style=\"text-align: right;\">\n",
       "      <th></th>\n",
       "      <th>ID</th>\n",
       "      <th>SAFRA</th>\n",
       "      <th>LIMIT_BAL</th>\n",
       "      <th>SEX</th>\n",
       "      <th>EDUCATION</th>\n",
       "      <th>MARRIAGE</th>\n",
       "      <th>AGE</th>\n",
       "      <th>PAY_0</th>\n",
       "      <th>PAY_2</th>\n",
       "      <th>PAY_3</th>\n",
       "      <th>...</th>\n",
       "      <th>BILL_AMT4</th>\n",
       "      <th>BILL_AMT5</th>\n",
       "      <th>BILL_AMT6</th>\n",
       "      <th>PAY_AMT1</th>\n",
       "      <th>PAY_AMT2</th>\n",
       "      <th>PAY_AMT3</th>\n",
       "      <th>PAY_AMT4</th>\n",
       "      <th>PAY_AMT5</th>\n",
       "      <th>PAY_AMT6</th>\n",
       "      <th>default</th>\n",
       "    </tr>\n",
       "  </thead>\n",
       "  <tbody>\n",
       "    <tr>\n",
       "      <th>21000</th>\n",
       "      <td>21001</td>\n",
       "      <td>200605</td>\n",
       "      <td>30000</td>\n",
       "      <td>1</td>\n",
       "      <td>2</td>\n",
       "      <td>1</td>\n",
       "      <td>36</td>\n",
       "      <td>1</td>\n",
       "      <td>-1</td>\n",
       "      <td>-1</td>\n",
       "      <td>...</td>\n",
       "      <td>1170</td>\n",
       "      <td>780</td>\n",
       "      <td>0</td>\n",
       "      <td>780</td>\n",
       "      <td>0</td>\n",
       "      <td>1170</td>\n",
       "      <td>0</td>\n",
       "      <td>0</td>\n",
       "      <td>0</td>\n",
       "      <td>0</td>\n",
       "    </tr>\n",
       "    <tr>\n",
       "      <th>21001</th>\n",
       "      <td>21002</td>\n",
       "      <td>200605</td>\n",
       "      <td>280000</td>\n",
       "      <td>1</td>\n",
       "      <td>3</td>\n",
       "      <td>1</td>\n",
       "      <td>40</td>\n",
       "      <td>2</td>\n",
       "      <td>0</td>\n",
       "      <td>0</td>\n",
       "      <td>...</td>\n",
       "      <td>191291</td>\n",
       "      <td>189029</td>\n",
       "      <td>192023</td>\n",
       "      <td>10000</td>\n",
       "      <td>9000</td>\n",
       "      <td>8000</td>\n",
       "      <td>6738</td>\n",
       "      <td>6974</td>\n",
       "      <td>7600</td>\n",
       "      <td>1</td>\n",
       "    </tr>\n",
       "    <tr>\n",
       "      <th>21002</th>\n",
       "      <td>21003</td>\n",
       "      <td>200605</td>\n",
       "      <td>260000</td>\n",
       "      <td>1</td>\n",
       "      <td>2</td>\n",
       "      <td>1</td>\n",
       "      <td>37</td>\n",
       "      <td>0</td>\n",
       "      <td>0</td>\n",
       "      <td>0</td>\n",
       "      <td>...</td>\n",
       "      <td>23186</td>\n",
       "      <td>14117</td>\n",
       "      <td>15797</td>\n",
       "      <td>3203</td>\n",
       "      <td>6015</td>\n",
       "      <td>5055</td>\n",
       "      <td>2011</td>\n",
       "      <td>4078</td>\n",
       "      <td>4522</td>\n",
       "      <td>0</td>\n",
       "    </tr>\n",
       "    <tr>\n",
       "      <th>21003</th>\n",
       "      <td>21004</td>\n",
       "      <td>200605</td>\n",
       "      <td>200000</td>\n",
       "      <td>1</td>\n",
       "      <td>2</td>\n",
       "      <td>2</td>\n",
       "      <td>32</td>\n",
       "      <td>2</td>\n",
       "      <td>0</td>\n",
       "      <td>0</td>\n",
       "      <td>...</td>\n",
       "      <td>0</td>\n",
       "      <td>0</td>\n",
       "      <td>0</td>\n",
       "      <td>7600</td>\n",
       "      <td>4000</td>\n",
       "      <td>0</td>\n",
       "      <td>0</td>\n",
       "      <td>0</td>\n",
       "      <td>0</td>\n",
       "      <td>1</td>\n",
       "    </tr>\n",
       "    <tr>\n",
       "      <th>21004</th>\n",
       "      <td>21005</td>\n",
       "      <td>200605</td>\n",
       "      <td>80000</td>\n",
       "      <td>1</td>\n",
       "      <td>2</td>\n",
       "      <td>2</td>\n",
       "      <td>32</td>\n",
       "      <td>2</td>\n",
       "      <td>0</td>\n",
       "      <td>0</td>\n",
       "      <td>...</td>\n",
       "      <td>67352</td>\n",
       "      <td>74448</td>\n",
       "      <td>72928</td>\n",
       "      <td>3000</td>\n",
       "      <td>4005</td>\n",
       "      <td>2500</td>\n",
       "      <td>10000</td>\n",
       "      <td>0</td>\n",
       "      <td>5000</td>\n",
       "      <td>1</td>\n",
       "    </tr>\n",
       "  </tbody>\n",
       "</table>\n",
       "<p>5 rows × 26 columns</p>\n",
       "</div>"
      ],
      "text/plain": [
       "          ID   SAFRA  LIMIT_BAL  SEX  EDUCATION  MARRIAGE  AGE  PAY_0  PAY_2  \\\n",
       "21000  21001  200605      30000    1          2         1   36      1     -1   \n",
       "21001  21002  200605     280000    1          3         1   40      2      0   \n",
       "21002  21003  200605     260000    1          2         1   37      0      0   \n",
       "21003  21004  200605     200000    1          2         2   32      2      0   \n",
       "21004  21005  200605      80000    1          2         2   32      2      0   \n",
       "\n",
       "       PAY_3  ...  BILL_AMT4  BILL_AMT5  BILL_AMT6  PAY_AMT1  PAY_AMT2  \\\n",
       "21000     -1  ...       1170        780          0       780         0   \n",
       "21001      0  ...     191291     189029     192023     10000      9000   \n",
       "21002      0  ...      23186      14117      15797      3203      6015   \n",
       "21003      0  ...          0          0          0      7600      4000   \n",
       "21004      0  ...      67352      74448      72928      3000      4005   \n",
       "\n",
       "       PAY_AMT3  PAY_AMT4  PAY_AMT5  PAY_AMT6  default  \n",
       "21000      1170         0         0         0        0  \n",
       "21001      8000      6738      6974      7600        1  \n",
       "21002      5055      2011      4078      4522        0  \n",
       "21003         0         0         0         0        1  \n",
       "21004      2500     10000         0      5000        1  \n",
       "\n",
       "[5 rows x 26 columns]"
      ]
     },
     "execution_count": 11,
     "metadata": {},
     "output_type": "execute_result"
    }
   ],
   "source": [
    "df_OOT.head()"
   ]
  },
  {
   "cell_type": "code",
   "execution_count": 71,
   "id": "6b821707",
   "metadata": {
    "ExecuteTime": {
     "end_time": "2023-04-06T21:32:51.224675Z",
     "start_time": "2023-04-06T21:32:51.206160Z"
    }
   },
   "outputs": [
    {
     "data": {
      "text/plain": [
       "SAFRA\n",
       "200605    3000\n",
       "200606    3000\n",
       "200607    3000\n",
       "Name: SAFRA, dtype: int64"
      ]
     },
     "execution_count": 71,
     "metadata": {},
     "output_type": "execute_result"
    }
   ],
   "source": [
    "df_OOT['SAFRA'].groupby(df_OOT['SAFRA']).count()"
   ]
  },
  {
   "cell_type": "code",
   "execution_count": 72,
   "id": "1be81b66",
   "metadata": {
    "ExecuteTime": {
     "end_time": "2023-04-06T21:32:51.590516Z",
     "start_time": "2023-04-06T21:32:51.561143Z"
    }
   },
   "outputs": [
    {
     "data": {
      "text/html": [
       "<div>\n",
       "<style scoped>\n",
       "    .dataframe tbody tr th:only-of-type {\n",
       "        vertical-align: middle;\n",
       "    }\n",
       "\n",
       "    .dataframe tbody tr th {\n",
       "        vertical-align: top;\n",
       "    }\n",
       "\n",
       "    .dataframe thead th {\n",
       "        text-align: right;\n",
       "    }\n",
       "</style>\n",
       "<table border=\"1\" class=\"dataframe\">\n",
       "  <thead>\n",
       "    <tr style=\"text-align: right;\">\n",
       "      <th></th>\n",
       "      <th>ID</th>\n",
       "      <th>SAFRA</th>\n",
       "      <th>LIMIT_BAL</th>\n",
       "      <th>SEX</th>\n",
       "      <th>EDUCATION</th>\n",
       "      <th>MARRIAGE</th>\n",
       "      <th>AGE</th>\n",
       "      <th>PAY_0</th>\n",
       "      <th>PAY_2</th>\n",
       "      <th>PAY_3</th>\n",
       "      <th>...</th>\n",
       "      <th>BILL_AMT4</th>\n",
       "      <th>BILL_AMT5</th>\n",
       "      <th>BILL_AMT6</th>\n",
       "      <th>PAY_AMT1</th>\n",
       "      <th>PAY_AMT2</th>\n",
       "      <th>PAY_AMT3</th>\n",
       "      <th>PAY_AMT4</th>\n",
       "      <th>PAY_AMT5</th>\n",
       "      <th>PAY_AMT6</th>\n",
       "      <th>default</th>\n",
       "    </tr>\n",
       "  </thead>\n",
       "  <tbody>\n",
       "    <tr>\n",
       "      <th>0</th>\n",
       "      <td>1</td>\n",
       "      <td>200510</td>\n",
       "      <td>20000</td>\n",
       "      <td>2</td>\n",
       "      <td>2</td>\n",
       "      <td>1</td>\n",
       "      <td>24</td>\n",
       "      <td>2</td>\n",
       "      <td>2</td>\n",
       "      <td>-1</td>\n",
       "      <td>...</td>\n",
       "      <td>0</td>\n",
       "      <td>0</td>\n",
       "      <td>0</td>\n",
       "      <td>0</td>\n",
       "      <td>689</td>\n",
       "      <td>0</td>\n",
       "      <td>0</td>\n",
       "      <td>0</td>\n",
       "      <td>0</td>\n",
       "      <td>1</td>\n",
       "    </tr>\n",
       "    <tr>\n",
       "      <th>1</th>\n",
       "      <td>2</td>\n",
       "      <td>200510</td>\n",
       "      <td>120000</td>\n",
       "      <td>2</td>\n",
       "      <td>2</td>\n",
       "      <td>2</td>\n",
       "      <td>26</td>\n",
       "      <td>-1</td>\n",
       "      <td>2</td>\n",
       "      <td>0</td>\n",
       "      <td>...</td>\n",
       "      <td>3272</td>\n",
       "      <td>3455</td>\n",
       "      <td>3261</td>\n",
       "      <td>0</td>\n",
       "      <td>1000</td>\n",
       "      <td>1000</td>\n",
       "      <td>1000</td>\n",
       "      <td>0</td>\n",
       "      <td>2000</td>\n",
       "      <td>1</td>\n",
       "    </tr>\n",
       "    <tr>\n",
       "      <th>2</th>\n",
       "      <td>3</td>\n",
       "      <td>200510</td>\n",
       "      <td>90000</td>\n",
       "      <td>2</td>\n",
       "      <td>2</td>\n",
       "      <td>2</td>\n",
       "      <td>34</td>\n",
       "      <td>0</td>\n",
       "      <td>0</td>\n",
       "      <td>0</td>\n",
       "      <td>...</td>\n",
       "      <td>14331</td>\n",
       "      <td>14948</td>\n",
       "      <td>15549</td>\n",
       "      <td>1518</td>\n",
       "      <td>1500</td>\n",
       "      <td>1000</td>\n",
       "      <td>1000</td>\n",
       "      <td>1000</td>\n",
       "      <td>5000</td>\n",
       "      <td>0</td>\n",
       "    </tr>\n",
       "    <tr>\n",
       "      <th>3</th>\n",
       "      <td>4</td>\n",
       "      <td>200510</td>\n",
       "      <td>50000</td>\n",
       "      <td>2</td>\n",
       "      <td>2</td>\n",
       "      <td>1</td>\n",
       "      <td>37</td>\n",
       "      <td>0</td>\n",
       "      <td>0</td>\n",
       "      <td>0</td>\n",
       "      <td>...</td>\n",
       "      <td>28314</td>\n",
       "      <td>28959</td>\n",
       "      <td>29547</td>\n",
       "      <td>2000</td>\n",
       "      <td>2019</td>\n",
       "      <td>1200</td>\n",
       "      <td>1100</td>\n",
       "      <td>1069</td>\n",
       "      <td>1000</td>\n",
       "      <td>0</td>\n",
       "    </tr>\n",
       "    <tr>\n",
       "      <th>4</th>\n",
       "      <td>5</td>\n",
       "      <td>200510</td>\n",
       "      <td>50000</td>\n",
       "      <td>1</td>\n",
       "      <td>2</td>\n",
       "      <td>1</td>\n",
       "      <td>57</td>\n",
       "      <td>-1</td>\n",
       "      <td>0</td>\n",
       "      <td>-1</td>\n",
       "      <td>...</td>\n",
       "      <td>20940</td>\n",
       "      <td>19146</td>\n",
       "      <td>19131</td>\n",
       "      <td>2000</td>\n",
       "      <td>36681</td>\n",
       "      <td>10000</td>\n",
       "      <td>9000</td>\n",
       "      <td>689</td>\n",
       "      <td>679</td>\n",
       "      <td>0</td>\n",
       "    </tr>\n",
       "  </tbody>\n",
       "</table>\n",
       "<p>5 rows × 26 columns</p>\n",
       "</div>"
      ],
      "text/plain": [
       "   ID   SAFRA  LIMIT_BAL  SEX  EDUCATION  MARRIAGE  AGE  PAY_0  PAY_2  PAY_3  \\\n",
       "0   1  200510      20000    2          2         1   24      2      2     -1   \n",
       "1   2  200510     120000    2          2         2   26     -1      2      0   \n",
       "2   3  200510      90000    2          2         2   34      0      0      0   \n",
       "3   4  200510      50000    2          2         1   37      0      0      0   \n",
       "4   5  200510      50000    1          2         1   57     -1      0     -1   \n",
       "\n",
       "   ...  BILL_AMT4  BILL_AMT5  BILL_AMT6  PAY_AMT1  PAY_AMT2  PAY_AMT3  \\\n",
       "0  ...          0          0          0         0       689         0   \n",
       "1  ...       3272       3455       3261         0      1000      1000   \n",
       "2  ...      14331      14948      15549      1518      1500      1000   \n",
       "3  ...      28314      28959      29547      2000      2019      1200   \n",
       "4  ...      20940      19146      19131      2000     36681     10000   \n",
       "\n",
       "   PAY_AMT4  PAY_AMT5  PAY_AMT6  default  \n",
       "0         0         0         0        1  \n",
       "1      1000         0      2000        1  \n",
       "2      1000      1000      5000        0  \n",
       "3      1100      1069      1000        0  \n",
       "4      9000       689       679        0  \n",
       "\n",
       "[5 rows x 26 columns]"
      ]
     },
     "execution_count": 72,
     "metadata": {},
     "output_type": "execute_result"
    }
   ],
   "source": [
    "df0_dev = df_raw[df_raw['SAFRA'] <= 200604].copy()\n",
    "df0_dev.head()"
   ]
  },
  {
   "cell_type": "code",
   "execution_count": 73,
   "id": "b39eb64f",
   "metadata": {
    "ExecuteTime": {
     "end_time": "2023-04-06T21:32:51.894018Z",
     "start_time": "2023-04-06T21:32:51.874467Z"
    }
   },
   "outputs": [],
   "source": [
    "X_train , X_test , y_train , y_test = train_test_split(df0_dev.drop(columns=['default']), df0_dev['default'] ,test_size=0.3, random_state=123)"
   ]
  },
  {
   "cell_type": "code",
   "execution_count": 74,
   "id": "f85ed980",
   "metadata": {
    "ExecuteTime": {
     "end_time": "2023-04-06T21:32:52.196177Z",
     "start_time": "2023-04-06T21:32:52.187732Z"
    }
   },
   "outputs": [
    {
     "name": "stdout",
     "output_type": "stream",
     "text": [
      "O dataset de treino tem 22.84% de inadimplentes.\n",
      "O dataset de teste tem 20.44% de inadimplentes.\n"
     ]
    }
   ],
   "source": [
    "print(\"O dataset de treino tem {:.2f}% de inadimplentes.\" .format(df0_dev[df0_dev['default'] == 1].shape[0]*100/df0_dev.shape[0]))\n",
    "print(\"O dataset de teste tem {:.2f}% de inadimplentes.\" .format(df_OOT[df_OOT['default'] == 1].shape[0]*100/df_OOT.shape[0]))"
   ]
  },
  {
   "cell_type": "code",
   "execution_count": 75,
   "id": "26841fd4",
   "metadata": {
    "ExecuteTime": {
     "end_time": "2023-04-06T21:32:52.783234Z",
     "start_time": "2023-04-06T21:32:52.775668Z"
    }
   },
   "outputs": [
    {
     "data": {
      "text/plain": [
       "SAFRA\n",
       "200510    2103\n",
       "200511    2124\n",
       "200512    2110\n",
       "200601    2081\n",
       "200602    2075\n",
       "200603    2102\n",
       "200604    2105\n",
       "Name: SAFRA, dtype: int64"
      ]
     },
     "execution_count": 75,
     "metadata": {},
     "output_type": "execute_result"
    }
   ],
   "source": [
    "X_train['SAFRA'].groupby(X_train['SAFRA']).count()"
   ]
  },
  {
   "cell_type": "code",
   "execution_count": 76,
   "id": "8f9cd222",
   "metadata": {
    "ExecuteTime": {
     "end_time": "2023-04-06T21:32:53.125506Z",
     "start_time": "2023-04-06T21:32:53.118805Z"
    }
   },
   "outputs": [
    {
     "data": {
      "text/plain": [
       "SAFRA\n",
       "200510    897\n",
       "200511    876\n",
       "200512    890\n",
       "200601    919\n",
       "200602    925\n",
       "200603    898\n",
       "200604    895\n",
       "Name: SAFRA, dtype: int64"
      ]
     },
     "execution_count": 76,
     "metadata": {},
     "output_type": "execute_result"
    }
   ],
   "source": [
    "X_test['SAFRA'].groupby(X_test['SAFRA']).count()"
   ]
  },
  {
   "cell_type": "code",
   "execution_count": 77,
   "id": "c93fe2ce",
   "metadata": {
    "ExecuteTime": {
     "end_time": "2023-04-06T21:32:54.030890Z",
     "start_time": "2023-04-06T21:32:54.026407Z"
    }
   },
   "outputs": [],
   "source": [
    "df_train = pd.concat([X_train,y_train],axis=1)"
   ]
  },
  {
   "cell_type": "code",
   "execution_count": 78,
   "id": "004c7022",
   "metadata": {
    "ExecuteTime": {
     "end_time": "2023-04-06T21:32:54.696662Z",
     "start_time": "2023-04-06T21:32:54.693113Z"
    }
   },
   "outputs": [
    {
     "data": {
      "text/plain": [
       "(14700, 26)"
      ]
     },
     "execution_count": 78,
     "metadata": {},
     "output_type": "execute_result"
    }
   ],
   "source": [
    "df_train.shape"
   ]
  },
  {
   "cell_type": "markdown",
   "id": "cdad68cc",
   "metadata": {
    "heading_collapsed": true
   },
   "source": [
    "# PASSO 1 - Data Description"
   ]
  },
  {
   "cell_type": "code",
   "execution_count": 79,
   "id": "b767c747",
   "metadata": {
    "ExecuteTime": {
     "end_time": "2023-04-06T21:32:58.163836Z",
     "start_time": "2023-04-06T21:32:58.160364Z"
    },
    "hidden": true
   },
   "outputs": [],
   "source": [
    "df1 = df_train.copy()"
   ]
  },
  {
   "cell_type": "code",
   "execution_count": 80,
   "id": "6f8bad17",
   "metadata": {
    "ExecuteTime": {
     "end_time": "2023-04-06T21:32:58.956644Z",
     "start_time": "2023-04-06T21:32:58.953876Z"
    },
    "hidden": true
   },
   "outputs": [
    {
     "name": "stdout",
     "output_type": "stream",
     "text": [
      "Number of Rows: 14700\n",
      "Number of columns: 26\n"
     ]
    }
   ],
   "source": [
    "print('Number of Rows: {}' .format(df1.shape[0]))\n",
    "print('Number of columns: {}' .format(df1.shape[1]))"
   ]
  },
  {
   "cell_type": "code",
   "execution_count": 81,
   "id": "75da0dc6",
   "metadata": {
    "ExecuteTime": {
     "end_time": "2023-04-06T21:32:59.906680Z",
     "start_time": "2023-04-06T21:32:59.902908Z"
    },
    "hidden": true
   },
   "outputs": [
    {
     "data": {
      "text/plain": [
       "ID           int64\n",
       "SAFRA        int64\n",
       "LIMIT_BAL    int64\n",
       "SEX          int64\n",
       "EDUCATION    int64\n",
       "MARRIAGE     int64\n",
       "AGE          int64\n",
       "PAY_0        int64\n",
       "PAY_2        int64\n",
       "PAY_3        int64\n",
       "PAY_4        int64\n",
       "PAY_5        int64\n",
       "PAY_6        int64\n",
       "BILL_AMT1    int64\n",
       "BILL_AMT2    int64\n",
       "BILL_AMT3    int64\n",
       "BILL_AMT4    int64\n",
       "BILL_AMT5    int64\n",
       "BILL_AMT6    int64\n",
       "PAY_AMT1     int64\n",
       "PAY_AMT2     int64\n",
       "PAY_AMT3     int64\n",
       "PAY_AMT4     int64\n",
       "PAY_AMT5     int64\n",
       "PAY_AMT6     int64\n",
       "default      int64\n",
       "dtype: object"
      ]
     },
     "execution_count": 81,
     "metadata": {},
     "output_type": "execute_result"
    }
   ],
   "source": [
    "df1.dtypes"
   ]
  },
  {
   "cell_type": "code",
   "execution_count": 82,
   "id": "69450a5c",
   "metadata": {
    "ExecuteTime": {
     "end_time": "2023-04-06T21:33:00.504663Z",
     "start_time": "2023-04-06T21:33:00.489408Z"
    },
    "hidden": true
   },
   "outputs": [
    {
     "data": {
      "text/plain": [
       "ID           0\n",
       "SAFRA        0\n",
       "LIMIT_BAL    0\n",
       "SEX          0\n",
       "EDUCATION    0\n",
       "MARRIAGE     0\n",
       "AGE          0\n",
       "PAY_0        0\n",
       "PAY_2        0\n",
       "PAY_3        0\n",
       "PAY_4        0\n",
       "PAY_5        0\n",
       "PAY_6        0\n",
       "BILL_AMT1    0\n",
       "BILL_AMT2    0\n",
       "BILL_AMT3    0\n",
       "BILL_AMT4    0\n",
       "BILL_AMT5    0\n",
       "BILL_AMT6    0\n",
       "PAY_AMT1     0\n",
       "PAY_AMT2     0\n",
       "PAY_AMT3     0\n",
       "PAY_AMT4     0\n",
       "PAY_AMT5     0\n",
       "PAY_AMT6     0\n",
       "default      0\n",
       "dtype: int64"
      ]
     },
     "execution_count": 82,
     "metadata": {},
     "output_type": "execute_result"
    }
   ],
   "source": [
    "df1.isna().sum()"
   ]
  },
  {
   "cell_type": "code",
   "execution_count": 83,
   "id": "788646a0",
   "metadata": {
    "ExecuteTime": {
     "end_time": "2023-04-06T21:33:01.062259Z",
     "start_time": "2023-04-06T21:33:01.053826Z"
    },
    "hidden": true
   },
   "outputs": [],
   "source": [
    "num_attributes = df1.select_dtypes(include=['int64' , 'float64'])"
   ]
  },
  {
   "cell_type": "code",
   "execution_count": 84,
   "id": "143c1ed6",
   "metadata": {
    "ExecuteTime": {
     "end_time": "2023-04-06T21:33:02.236521Z",
     "start_time": "2023-04-06T21:33:02.137625Z"
    },
    "hidden": true
   },
   "outputs": [
    {
     "data": {
      "text/html": [
       "<div>\n",
       "<style scoped>\n",
       "    .dataframe tbody tr th:only-of-type {\n",
       "        vertical-align: middle;\n",
       "    }\n",
       "\n",
       "    .dataframe tbody tr th {\n",
       "        vertical-align: top;\n",
       "    }\n",
       "\n",
       "    .dataframe thead th {\n",
       "        text-align: right;\n",
       "    }\n",
       "</style>\n",
       "<table border=\"1\" class=\"dataframe\">\n",
       "  <thead>\n",
       "    <tr style=\"text-align: right;\">\n",
       "      <th></th>\n",
       "      <th>attributes</th>\n",
       "      <th>min</th>\n",
       "      <th>max</th>\n",
       "      <th>range</th>\n",
       "      <th>mean</th>\n",
       "      <th>median</th>\n",
       "      <th>std</th>\n",
       "      <th>skew</th>\n",
       "      <th>kurtosis</th>\n",
       "    </tr>\n",
       "  </thead>\n",
       "  <tbody>\n",
       "    <tr>\n",
       "      <th>0</th>\n",
       "      <td>ID</td>\n",
       "      <td>1.0</td>\n",
       "      <td>20999.0</td>\n",
       "      <td>20998.0</td>\n",
       "      <td>10486.743265</td>\n",
       "      <td>10470.5</td>\n",
       "      <td>6071.227228</td>\n",
       "      <td>0.006844</td>\n",
       "      <td>-1.205114</td>\n",
       "    </tr>\n",
       "    <tr>\n",
       "      <th>1</th>\n",
       "      <td>SAFRA</td>\n",
       "      <td>200510.0</td>\n",
       "      <td>200604.0</td>\n",
       "      <td>94.0</td>\n",
       "      <td>200563.059252</td>\n",
       "      <td>200601.0</td>\n",
       "      <td>45.326799</td>\n",
       "      <td>-0.277704</td>\n",
       "      <td>-1.921162</td>\n",
       "    </tr>\n",
       "    <tr>\n",
       "      <th>2</th>\n",
       "      <td>LIMIT_BAL</td>\n",
       "      <td>10000.0</td>\n",
       "      <td>800000.0</td>\n",
       "      <td>790000.0</td>\n",
       "      <td>163042.427211</td>\n",
       "      <td>140000.0</td>\n",
       "      <td>128130.031752</td>\n",
       "      <td>1.011593</td>\n",
       "      <td>0.515652</td>\n",
       "    </tr>\n",
       "    <tr>\n",
       "      <th>3</th>\n",
       "      <td>SEX</td>\n",
       "      <td>1.0</td>\n",
       "      <td>2.0</td>\n",
       "      <td>1.0</td>\n",
       "      <td>1.597551</td>\n",
       "      <td>2.0</td>\n",
       "      <td>0.490391</td>\n",
       "      <td>-0.397890</td>\n",
       "      <td>-1.841934</td>\n",
       "    </tr>\n",
       "    <tr>\n",
       "      <th>4</th>\n",
       "      <td>EDUCATION</td>\n",
       "      <td>0.0</td>\n",
       "      <td>6.0</td>\n",
       "      <td>6.0</td>\n",
       "      <td>1.839864</td>\n",
       "      <td>2.0</td>\n",
       "      <td>0.776134</td>\n",
       "      <td>0.916531</td>\n",
       "      <td>1.901251</td>\n",
       "    </tr>\n",
       "    <tr>\n",
       "      <th>5</th>\n",
       "      <td>MARRIAGE</td>\n",
       "      <td>0.0</td>\n",
       "      <td>3.0</td>\n",
       "      <td>3.0</td>\n",
       "      <td>1.558163</td>\n",
       "      <td>2.0</td>\n",
       "      <td>0.521071</td>\n",
       "      <td>-0.038748</td>\n",
       "      <td>-1.365534</td>\n",
       "    </tr>\n",
       "    <tr>\n",
       "      <th>6</th>\n",
       "      <td>AGE</td>\n",
       "      <td>21.0</td>\n",
       "      <td>79.0</td>\n",
       "      <td>58.0</td>\n",
       "      <td>35.351565</td>\n",
       "      <td>34.0</td>\n",
       "      <td>9.209641</td>\n",
       "      <td>0.755401</td>\n",
       "      <td>0.105934</td>\n",
       "    </tr>\n",
       "    <tr>\n",
       "      <th>7</th>\n",
       "      <td>PAY_0</td>\n",
       "      <td>-2.0</td>\n",
       "      <td>8.0</td>\n",
       "      <td>10.0</td>\n",
       "      <td>0.019116</td>\n",
       "      <td>0.0</td>\n",
       "      <td>1.126479</td>\n",
       "      <td>0.809450</td>\n",
       "      <td>2.997290</td>\n",
       "    </tr>\n",
       "    <tr>\n",
       "      <th>8</th>\n",
       "      <td>PAY_2</td>\n",
       "      <td>-2.0</td>\n",
       "      <td>8.0</td>\n",
       "      <td>10.0</td>\n",
       "      <td>-0.100204</td>\n",
       "      <td>0.0</td>\n",
       "      <td>1.205582</td>\n",
       "      <td>0.815935</td>\n",
       "      <td>1.584174</td>\n",
       "    </tr>\n",
       "    <tr>\n",
       "      <th>9</th>\n",
       "      <td>PAY_3</td>\n",
       "      <td>-2.0</td>\n",
       "      <td>8.0</td>\n",
       "      <td>10.0</td>\n",
       "      <td>-0.132313</td>\n",
       "      <td>0.0</td>\n",
       "      <td>1.214584</td>\n",
       "      <td>0.913145</td>\n",
       "      <td>2.370870</td>\n",
       "    </tr>\n",
       "    <tr>\n",
       "      <th>10</th>\n",
       "      <td>PAY_4</td>\n",
       "      <td>-2.0</td>\n",
       "      <td>8.0</td>\n",
       "      <td>10.0</td>\n",
       "      <td>-0.192789</td>\n",
       "      <td>0.0</td>\n",
       "      <td>1.172579</td>\n",
       "      <td>1.032905</td>\n",
       "      <td>3.617662</td>\n",
       "    </tr>\n",
       "    <tr>\n",
       "      <th>11</th>\n",
       "      <td>PAY_5</td>\n",
       "      <td>-2.0</td>\n",
       "      <td>8.0</td>\n",
       "      <td>10.0</td>\n",
       "      <td>-0.230068</td>\n",
       "      <td>0.0</td>\n",
       "      <td>1.143390</td>\n",
       "      <td>1.015291</td>\n",
       "      <td>3.857546</td>\n",
       "    </tr>\n",
       "    <tr>\n",
       "      <th>12</th>\n",
       "      <td>PAY_6</td>\n",
       "      <td>-2.0</td>\n",
       "      <td>8.0</td>\n",
       "      <td>10.0</td>\n",
       "      <td>-0.256667</td>\n",
       "      <td>0.0</td>\n",
       "      <td>1.168946</td>\n",
       "      <td>0.967905</td>\n",
       "      <td>3.218053</td>\n",
       "    </tr>\n",
       "    <tr>\n",
       "      <th>13</th>\n",
       "      <td>BILL_AMT1</td>\n",
       "      <td>-165580.0</td>\n",
       "      <td>630458.0</td>\n",
       "      <td>796038.0</td>\n",
       "      <td>49709.332653</td>\n",
       "      <td>22048.5</td>\n",
       "      <td>70653.445419</td>\n",
       "      <td>2.599994</td>\n",
       "      <td>9.002843</td>\n",
       "    </tr>\n",
       "    <tr>\n",
       "      <th>14</th>\n",
       "      <td>BILL_AMT2</td>\n",
       "      <td>-33350.0</td>\n",
       "      <td>646770.0</td>\n",
       "      <td>680120.0</td>\n",
       "      <td>47774.462109</td>\n",
       "      <td>21085.5</td>\n",
       "      <td>68404.150602</td>\n",
       "      <td>2.648281</td>\n",
       "      <td>9.398784</td>\n",
       "    </tr>\n",
       "    <tr>\n",
       "      <th>15</th>\n",
       "      <td>BILL_AMT3</td>\n",
       "      <td>-157264.0</td>\n",
       "      <td>1664089.0</td>\n",
       "      <td>1821353.0</td>\n",
       "      <td>45548.064558</td>\n",
       "      <td>19967.5</td>\n",
       "      <td>67019.085445</td>\n",
       "      <td>3.453046</td>\n",
       "      <td>31.641137</td>\n",
       "    </tr>\n",
       "    <tr>\n",
       "      <th>16</th>\n",
       "      <td>BILL_AMT4</td>\n",
       "      <td>-170000.0</td>\n",
       "      <td>628699.0</td>\n",
       "      <td>798699.0</td>\n",
       "      <td>41527.183197</td>\n",
       "      <td>18810.5</td>\n",
       "      <td>61523.464059</td>\n",
       "      <td>2.757897</td>\n",
       "      <td>10.252808</td>\n",
       "    </tr>\n",
       "    <tr>\n",
       "      <th>17</th>\n",
       "      <td>BILL_AMT5</td>\n",
       "      <td>-37594.0</td>\n",
       "      <td>823540.0</td>\n",
       "      <td>861134.0</td>\n",
       "      <td>39418.170204</td>\n",
       "      <td>18122.0</td>\n",
       "      <td>59093.136446</td>\n",
       "      <td>2.833965</td>\n",
       "      <td>11.642563</td>\n",
       "    </tr>\n",
       "    <tr>\n",
       "      <th>18</th>\n",
       "      <td>BILL_AMT6</td>\n",
       "      <td>-339603.0</td>\n",
       "      <td>699944.0</td>\n",
       "      <td>1039547.0</td>\n",
       "      <td>38124.329320</td>\n",
       "      <td>16871.5</td>\n",
       "      <td>58460.774746</td>\n",
       "      <td>2.783971</td>\n",
       "      <td>11.029888</td>\n",
       "    </tr>\n",
       "    <tr>\n",
       "      <th>19</th>\n",
       "      <td>PAY_AMT1</td>\n",
       "      <td>0.0</td>\n",
       "      <td>505000.0</td>\n",
       "      <td>505000.0</td>\n",
       "      <td>5484.653810</td>\n",
       "      <td>2074.5</td>\n",
       "      <td>15385.205523</td>\n",
       "      <td>11.579250</td>\n",
       "      <td>205.519076</td>\n",
       "    </tr>\n",
       "    <tr>\n",
       "      <th>20</th>\n",
       "      <td>PAY_AMT2</td>\n",
       "      <td>0.0</td>\n",
       "      <td>1684259.0</td>\n",
       "      <td>1684259.0</td>\n",
       "      <td>5849.027619</td>\n",
       "      <td>2000.0</td>\n",
       "      <td>23113.876270</td>\n",
       "      <td>32.218667</td>\n",
       "      <td>1976.332186</td>\n",
       "    </tr>\n",
       "    <tr>\n",
       "      <th>21</th>\n",
       "      <td>PAY_AMT3</td>\n",
       "      <td>0.0</td>\n",
       "      <td>417588.0</td>\n",
       "      <td>417588.0</td>\n",
       "      <td>4804.700408</td>\n",
       "      <td>1600.0</td>\n",
       "      <td>15428.591178</td>\n",
       "      <td>11.654811</td>\n",
       "      <td>193.437160</td>\n",
       "    </tr>\n",
       "    <tr>\n",
       "      <th>22</th>\n",
       "      <td>PAY_AMT4</td>\n",
       "      <td>0.0</td>\n",
       "      <td>497000.0</td>\n",
       "      <td>497000.0</td>\n",
       "      <td>4609.504354</td>\n",
       "      <td>1498.5</td>\n",
       "      <td>14619.609516</td>\n",
       "      <td>12.250925</td>\n",
       "      <td>240.592310</td>\n",
       "    </tr>\n",
       "    <tr>\n",
       "      <th>23</th>\n",
       "      <td>PAY_AMT5</td>\n",
       "      <td>0.0</td>\n",
       "      <td>417990.0</td>\n",
       "      <td>417990.0</td>\n",
       "      <td>4759.349320</td>\n",
       "      <td>1500.0</td>\n",
       "      <td>15609.469870</td>\n",
       "      <td>11.427109</td>\n",
       "      <td>187.720481</td>\n",
       "    </tr>\n",
       "    <tr>\n",
       "      <th>24</th>\n",
       "      <td>PAY_AMT6</td>\n",
       "      <td>0.0</td>\n",
       "      <td>528666.0</td>\n",
       "      <td>528666.0</td>\n",
       "      <td>5084.844014</td>\n",
       "      <td>1400.0</td>\n",
       "      <td>17658.361450</td>\n",
       "      <td>11.064905</td>\n",
       "      <td>188.532385</td>\n",
       "    </tr>\n",
       "    <tr>\n",
       "      <th>25</th>\n",
       "      <td>default</td>\n",
       "      <td>0.0</td>\n",
       "      <td>1.0</td>\n",
       "      <td>1.0</td>\n",
       "      <td>0.229796</td>\n",
       "      <td>0.0</td>\n",
       "      <td>0.420702</td>\n",
       "      <td>1.284672</td>\n",
       "      <td>-0.349666</td>\n",
       "    </tr>\n",
       "  </tbody>\n",
       "</table>\n",
       "</div>"
      ],
      "text/plain": [
       "   attributes       min        max      range           mean    median  \\\n",
       "0          ID       1.0    20999.0    20998.0   10486.743265   10470.5   \n",
       "1       SAFRA  200510.0   200604.0       94.0  200563.059252  200601.0   \n",
       "2   LIMIT_BAL   10000.0   800000.0   790000.0  163042.427211  140000.0   \n",
       "3         SEX       1.0        2.0        1.0       1.597551       2.0   \n",
       "4   EDUCATION       0.0        6.0        6.0       1.839864       2.0   \n",
       "5    MARRIAGE       0.0        3.0        3.0       1.558163       2.0   \n",
       "6         AGE      21.0       79.0       58.0      35.351565      34.0   \n",
       "7       PAY_0      -2.0        8.0       10.0       0.019116       0.0   \n",
       "8       PAY_2      -2.0        8.0       10.0      -0.100204       0.0   \n",
       "9       PAY_3      -2.0        8.0       10.0      -0.132313       0.0   \n",
       "10      PAY_4      -2.0        8.0       10.0      -0.192789       0.0   \n",
       "11      PAY_5      -2.0        8.0       10.0      -0.230068       0.0   \n",
       "12      PAY_6      -2.0        8.0       10.0      -0.256667       0.0   \n",
       "13  BILL_AMT1 -165580.0   630458.0   796038.0   49709.332653   22048.5   \n",
       "14  BILL_AMT2  -33350.0   646770.0   680120.0   47774.462109   21085.5   \n",
       "15  BILL_AMT3 -157264.0  1664089.0  1821353.0   45548.064558   19967.5   \n",
       "16  BILL_AMT4 -170000.0   628699.0   798699.0   41527.183197   18810.5   \n",
       "17  BILL_AMT5  -37594.0   823540.0   861134.0   39418.170204   18122.0   \n",
       "18  BILL_AMT6 -339603.0   699944.0  1039547.0   38124.329320   16871.5   \n",
       "19   PAY_AMT1       0.0   505000.0   505000.0    5484.653810    2074.5   \n",
       "20   PAY_AMT2       0.0  1684259.0  1684259.0    5849.027619    2000.0   \n",
       "21   PAY_AMT3       0.0   417588.0   417588.0    4804.700408    1600.0   \n",
       "22   PAY_AMT4       0.0   497000.0   497000.0    4609.504354    1498.5   \n",
       "23   PAY_AMT5       0.0   417990.0   417990.0    4759.349320    1500.0   \n",
       "24   PAY_AMT6       0.0   528666.0   528666.0    5084.844014    1400.0   \n",
       "25    default       0.0        1.0        1.0       0.229796       0.0   \n",
       "\n",
       "              std       skew     kurtosis  \n",
       "0     6071.227228   0.006844    -1.205114  \n",
       "1       45.326799  -0.277704    -1.921162  \n",
       "2   128130.031752   1.011593     0.515652  \n",
       "3        0.490391  -0.397890    -1.841934  \n",
       "4        0.776134   0.916531     1.901251  \n",
       "5        0.521071  -0.038748    -1.365534  \n",
       "6        9.209641   0.755401     0.105934  \n",
       "7        1.126479   0.809450     2.997290  \n",
       "8        1.205582   0.815935     1.584174  \n",
       "9        1.214584   0.913145     2.370870  \n",
       "10       1.172579   1.032905     3.617662  \n",
       "11       1.143390   1.015291     3.857546  \n",
       "12       1.168946   0.967905     3.218053  \n",
       "13   70653.445419   2.599994     9.002843  \n",
       "14   68404.150602   2.648281     9.398784  \n",
       "15   67019.085445   3.453046    31.641137  \n",
       "16   61523.464059   2.757897    10.252808  \n",
       "17   59093.136446   2.833965    11.642563  \n",
       "18   58460.774746   2.783971    11.029888  \n",
       "19   15385.205523  11.579250   205.519076  \n",
       "20   23113.876270  32.218667  1976.332186  \n",
       "21   15428.591178  11.654811   193.437160  \n",
       "22   14619.609516  12.250925   240.592310  \n",
       "23   15609.469870  11.427109   187.720481  \n",
       "24   17658.361450  11.064905   188.532385  \n",
       "25       0.420702   1.284672    -0.349666  "
      ]
     },
     "execution_count": 84,
     "metadata": {},
     "output_type": "execute_result"
    }
   ],
   "source": [
    "#Central Tendency - mean , median\n",
    "ct1 = pd.DataFrame(num_attributes.apply(np.mean)).T\n",
    "ct2 = pd.DataFrame(num_attributes.apply(np.median)).T\n",
    "\n",
    "\n",
    "#Dispersion - std , min , max , range , skew , kurtosis\n",
    "d1 = pd.DataFrame( num_attributes.apply(np.std)).T\n",
    "d2 = pd.DataFrame( num_attributes.apply(min)).T\n",
    "d3 = pd.DataFrame( num_attributes.apply(max)).T\n",
    "d4 = pd.DataFrame( num_attributes.apply( lambda x: x.max() - x.min() ) ).T\n",
    "d5 = pd.DataFrame( num_attributes.apply( lambda x: x.skew())).T\n",
    "d6 = pd.DataFrame( num_attributes.apply( lambda x: x.kurtosis() ) ).T\n",
    "\n",
    "m = pd.concat([d2,d3,d4,ct1,ct2,d1,d5,d6]).T.reset_index()\n",
    "m.columns = ['attributes','min','max','range','mean','median','std','skew','kurtosis',]\n",
    "m"
   ]
  },
  {
   "cell_type": "markdown",
   "id": "61acab45",
   "metadata": {
    "heading_collapsed": true
   },
   "source": [
    "# PASSO 2 - Feature Engeneering"
   ]
  },
  {
   "cell_type": "code",
   "execution_count": 85,
   "id": "57211793",
   "metadata": {
    "ExecuteTime": {
     "end_time": "2023-04-06T21:33:05.140021Z",
     "start_time": "2023-04-06T21:33:05.137645Z"
    },
    "hidden": true
   },
   "outputs": [],
   "source": [
    "df2 = df1.copy()"
   ]
  },
  {
   "cell_type": "code",
   "execution_count": null,
   "id": "9a029bba",
   "metadata": {
    "hidden": true
   },
   "outputs": [],
   "source": [
    "df['SUM_BILL'] = df['BILL_AMT1'] + df['BILL_AMT2'] + df['BILL_AMT3'] + df['BILL_AMT4'] + df['BILL_AMT5'] + df['BILL_AMT6']   \n",
    "df['AVG_BILL'] = df['SUM_BILL'] / 6\n",
    "df['max_BILL'] = df[['BILL_AMT1', 'BILL_AMT2', 'BILL_AMT3', 'BILL_AMT4', 'BILL_AMT5', 'BILL_AMT6']].max(axis=1)\n",
    "\n",
    "df['SUM_PAY'] = df['PAY_AMT1'] + df['PAY_AMT2'] + df['PAY_AMT3'] + df['PAY_AMT4'] + df['PAY_AMT5'] + df['PAY_AMT6']\n",
    "df['AVG_PAY'] = df['SUM_PAY'] / 6\n",
    "df['max_PAY'] = df[['PAY_AMT1', 'PAY_AMT2', 'PAY_AMT2', 'PAY_AMT3', 'PAY_AMT4', 'PAY_AMT5','PAY_AMT6']].max(axis=1)"
   ]
  },
  {
   "cell_type": "markdown",
   "id": "15899cbe",
   "metadata": {
    "heading_collapsed": true
   },
   "source": [
    "# PASSO 3 - Variable Filtering"
   ]
  },
  {
   "cell_type": "code",
   "execution_count": 86,
   "id": "8cb17da0",
   "metadata": {
    "ExecuteTime": {
     "end_time": "2023-04-06T21:33:22.144859Z",
     "start_time": "2023-04-06T21:33:22.141207Z"
    },
    "hidden": true
   },
   "outputs": [],
   "source": [
    "df3 = df2.copy()"
   ]
  },
  {
   "cell_type": "markdown",
   "id": "16c5ab3c",
   "metadata": {
    "heading_collapsed": true
   },
   "source": [
    "# PASSO 4 - EDA "
   ]
  },
  {
   "cell_type": "code",
   "execution_count": 87,
   "id": "ddcbe84e",
   "metadata": {
    "ExecuteTime": {
     "end_time": "2023-04-06T21:33:23.669591Z",
     "start_time": "2023-04-06T21:33:23.666918Z"
    },
    "hidden": true
   },
   "outputs": [],
   "source": [
    "df4 = df3.copy()"
   ]
  },
  {
   "cell_type": "markdown",
   "id": "8aea5d4e",
   "metadata": {
    "hidden": true
   },
   "source": [
    "## Análise Univariada"
   ]
  },
  {
   "cell_type": "code",
   "execution_count": 88,
   "id": "9d8d8c77",
   "metadata": {
    "ExecuteTime": {
     "end_time": "2023-04-06T21:33:26.260945Z",
     "start_time": "2023-04-06T21:33:26.257044Z"
    },
    "hidden": true
   },
   "outputs": [
    {
     "name": "stdout",
     "output_type": "stream",
     "text": [
      "0    11322\n",
      "1     3378\n",
      "Name: default, dtype: int64\n"
     ]
    }
   ],
   "source": [
    "print(y_train.value_counts())"
   ]
  },
  {
   "cell_type": "markdown",
   "id": "8488a670",
   "metadata": {
    "hidden": true
   },
   "source": [
    "## Análise Bivariada"
   ]
  },
  {
   "cell_type": "markdown",
   "id": "da887781",
   "metadata": {
    "hidden": true
   },
   "source": [
    "## Análise Multivariada"
   ]
  },
  {
   "cell_type": "markdown",
   "id": "79f6141a",
   "metadata": {
    "heading_collapsed": true
   },
   "source": [
    "# PASSO 5 - Data Preparation "
   ]
  },
  {
   "cell_type": "code",
   "execution_count": 89,
   "id": "469d0a5d",
   "metadata": {
    "ExecuteTime": {
     "end_time": "2023-04-06T21:33:29.095618Z",
     "start_time": "2023-04-06T21:33:29.087142Z"
    },
    "hidden": true
   },
   "outputs": [],
   "source": [
    "df5 = df4.copy()"
   ]
  },
  {
   "cell_type": "markdown",
   "id": "12b40ce2",
   "metadata": {
    "heading_collapsed": true
   },
   "source": [
    "# PASSO 6 - Feature Selection "
   ]
  },
  {
   "cell_type": "code",
   "execution_count": 90,
   "id": "c65caba4",
   "metadata": {
    "ExecuteTime": {
     "end_time": "2023-04-06T21:33:30.101464Z",
     "start_time": "2023-04-06T21:33:30.098605Z"
    },
    "hidden": true
   },
   "outputs": [],
   "source": [
    "df6 = df5.copy()"
   ]
  },
  {
   "cell_type": "code",
   "execution_count": 91,
   "id": "a6230b23",
   "metadata": {
    "ExecuteTime": {
     "end_time": "2023-04-06T21:33:30.651419Z",
     "start_time": "2023-04-06T21:33:30.617392Z"
    },
    "hidden": true
   },
   "outputs": [],
   "source": [
    "X = df6.drop(['default','ID','SAFRA'], axis=1)\n",
    "y = df6['default']\n",
    "\n",
    "X_train, X_test, y_train , y_test = train_test_split(X, y , stratify=y, shuffle=True)"
   ]
  },
  {
   "cell_type": "code",
   "execution_count": 92,
   "id": "d018cf4f",
   "metadata": {
    "ExecuteTime": {
     "end_time": "2023-04-06T21:33:43.818053Z",
     "start_time": "2023-04-06T21:33:35.097238Z"
    },
    "hidden": true
   },
   "outputs": [
    {
     "name": "stdout",
     "output_type": "stream",
     "text": [
      "Iteration: \t1 / 100\n",
      "Confirmed: \t0\n",
      "Tentative: \t23\n",
      "Rejected: \t0\n",
      "Iteration: \t2 / 100\n",
      "Confirmed: \t0\n",
      "Tentative: \t23\n",
      "Rejected: \t0\n",
      "Iteration: \t3 / 100\n",
      "Confirmed: \t0\n",
      "Tentative: \t23\n",
      "Rejected: \t0\n",
      "Iteration: \t4 / 100\n",
      "Confirmed: \t0\n",
      "Tentative: \t23\n",
      "Rejected: \t0\n",
      "Iteration: \t5 / 100\n",
      "Confirmed: \t0\n",
      "Tentative: \t23\n",
      "Rejected: \t0\n",
      "Iteration: \t6 / 100\n",
      "Confirmed: \t0\n",
      "Tentative: \t23\n",
      "Rejected: \t0\n",
      "Iteration: \t7 / 100\n",
      "Confirmed: \t0\n",
      "Tentative: \t23\n",
      "Rejected: \t0\n",
      "Iteration: \t8 / 100\n",
      "Confirmed: \t0\n",
      "Tentative: \t4\n",
      "Rejected: \t19\n",
      "Iteration: \t9 / 100\n",
      "Confirmed: \t1\n",
      "Tentative: \t3\n",
      "Rejected: \t19\n",
      "Iteration: \t10 / 100\n",
      "Confirmed: \t1\n",
      "Tentative: \t3\n",
      "Rejected: \t19\n",
      "Iteration: \t11 / 100\n",
      "Confirmed: \t1\n",
      "Tentative: \t3\n",
      "Rejected: \t19\n",
      "Iteration: \t12 / 100\n",
      "Confirmed: \t1\n",
      "Tentative: \t2\n",
      "Rejected: \t20\n",
      "Iteration: \t13 / 100\n",
      "Confirmed: \t1\n",
      "Tentative: \t2\n",
      "Rejected: \t20\n",
      "Iteration: \t14 / 100\n",
      "Confirmed: \t1\n",
      "Tentative: \t2\n",
      "Rejected: \t20\n",
      "Iteration: \t15 / 100\n",
      "Confirmed: \t1\n",
      "Tentative: \t2\n",
      "Rejected: \t20\n",
      "Iteration: \t16 / 100\n",
      "Confirmed: \t1\n",
      "Tentative: \t2\n",
      "Rejected: \t20\n",
      "Iteration: \t17 / 100\n",
      "Confirmed: \t1\n",
      "Tentative: \t2\n",
      "Rejected: \t20\n",
      "Iteration: \t18 / 100\n",
      "Confirmed: \t1\n",
      "Tentative: \t2\n",
      "Rejected: \t20\n",
      "Iteration: \t19 / 100\n",
      "Confirmed: \t1\n",
      "Tentative: \t2\n",
      "Rejected: \t20\n",
      "Iteration: \t20 / 100\n",
      "Confirmed: \t1\n",
      "Tentative: \t2\n",
      "Rejected: \t20\n",
      "Iteration: \t21 / 100\n",
      "Confirmed: \t1\n",
      "Tentative: \t2\n",
      "Rejected: \t20\n",
      "Iteration: \t22 / 100\n",
      "Confirmed: \t1\n",
      "Tentative: \t2\n",
      "Rejected: \t20\n",
      "Iteration: \t23 / 100\n",
      "Confirmed: \t1\n",
      "Tentative: \t2\n",
      "Rejected: \t20\n",
      "Iteration: \t24 / 100\n",
      "Confirmed: \t1\n",
      "Tentative: \t2\n",
      "Rejected: \t20\n",
      "Iteration: \t25 / 100\n",
      "Confirmed: \t1\n",
      "Tentative: \t2\n",
      "Rejected: \t20\n",
      "Iteration: \t26 / 100\n",
      "Confirmed: \t1\n",
      "Tentative: \t2\n",
      "Rejected: \t20\n",
      "Iteration: \t27 / 100\n",
      "Confirmed: \t1\n",
      "Tentative: \t2\n",
      "Rejected: \t20\n",
      "Iteration: \t28 / 100\n",
      "Confirmed: \t1\n",
      "Tentative: \t2\n",
      "Rejected: \t20\n",
      "Iteration: \t29 / 100\n",
      "Confirmed: \t1\n",
      "Tentative: \t2\n",
      "Rejected: \t20\n",
      "Iteration: \t30 / 100\n",
      "Confirmed: \t1\n",
      "Tentative: \t2\n",
      "Rejected: \t20\n",
      "Iteration: \t31 / 100\n",
      "Confirmed: \t1\n",
      "Tentative: \t2\n",
      "Rejected: \t20\n",
      "Iteration: \t32 / 100\n",
      "Confirmed: \t1\n",
      "Tentative: \t1\n",
      "Rejected: \t21\n",
      "Iteration: \t33 / 100\n",
      "Confirmed: \t1\n",
      "Tentative: \t1\n",
      "Rejected: \t21\n",
      "Iteration: \t34 / 100\n",
      "Confirmed: \t1\n",
      "Tentative: \t1\n",
      "Rejected: \t21\n",
      "Iteration: \t35 / 100\n",
      "Confirmed: \t1\n",
      "Tentative: \t1\n",
      "Rejected: \t21\n",
      "Iteration: \t36 / 100\n",
      "Confirmed: \t1\n",
      "Tentative: \t1\n",
      "Rejected: \t21\n",
      "Iteration: \t37 / 100\n",
      "Confirmed: \t1\n",
      "Tentative: \t1\n",
      "Rejected: \t21\n",
      "Iteration: \t38 / 100\n",
      "Confirmed: \t1\n",
      "Tentative: \t1\n",
      "Rejected: \t21\n",
      "Iteration: \t39 / 100\n",
      "Confirmed: \t1\n",
      "Tentative: \t1\n",
      "Rejected: \t21\n",
      "Iteration: \t40 / 100\n",
      "Confirmed: \t1\n",
      "Tentative: \t1\n",
      "Rejected: \t21\n",
      "Iteration: \t41 / 100\n",
      "Confirmed: \t1\n",
      "Tentative: \t1\n",
      "Rejected: \t21\n",
      "Iteration: \t42 / 100\n",
      "Confirmed: \t1\n",
      "Tentative: \t1\n",
      "Rejected: \t21\n",
      "Iteration: \t43 / 100\n",
      "Confirmed: \t1\n",
      "Tentative: \t1\n",
      "Rejected: \t21\n",
      "Iteration: \t44 / 100\n",
      "Confirmed: \t1\n",
      "Tentative: \t1\n",
      "Rejected: \t21\n",
      "Iteration: \t45 / 100\n",
      "Confirmed: \t1\n",
      "Tentative: \t1\n",
      "Rejected: \t21\n",
      "Iteration: \t46 / 100\n",
      "Confirmed: \t1\n",
      "Tentative: \t1\n",
      "Rejected: \t21\n",
      "Iteration: \t47 / 100\n",
      "Confirmed: \t1\n",
      "Tentative: \t1\n",
      "Rejected: \t21\n",
      "Iteration: \t48 / 100\n",
      "Confirmed: \t1\n",
      "Tentative: \t1\n",
      "Rejected: \t21\n",
      "Iteration: \t49 / 100\n",
      "Confirmed: \t1\n",
      "Tentative: \t1\n",
      "Rejected: \t21\n",
      "Iteration: \t50 / 100\n",
      "Confirmed: \t1\n",
      "Tentative: \t1\n",
      "Rejected: \t21\n",
      "Iteration: \t51 / 100\n",
      "Confirmed: \t1\n",
      "Tentative: \t1\n",
      "Rejected: \t21\n",
      "Iteration: \t52 / 100\n",
      "Confirmed: \t1\n",
      "Tentative: \t1\n",
      "Rejected: \t21\n",
      "Iteration: \t53 / 100\n",
      "Confirmed: \t1\n",
      "Tentative: \t1\n",
      "Rejected: \t21\n",
      "Iteration: \t54 / 100\n",
      "Confirmed: \t1\n",
      "Tentative: \t1\n",
      "Rejected: \t21\n",
      "Iteration: \t55 / 100\n",
      "Confirmed: \t1\n",
      "Tentative: \t1\n",
      "Rejected: \t21\n",
      "Iteration: \t56 / 100\n",
      "Confirmed: \t1\n",
      "Tentative: \t1\n",
      "Rejected: \t21\n",
      "Iteration: \t57 / 100\n",
      "Confirmed: \t2\n",
      "Tentative: \t0\n",
      "Rejected: \t21\n",
      "\n",
      "\n",
      "BorutaPy finished running.\n",
      "\n",
      "Iteration: \t58 / 100\n",
      "Confirmed: \t2\n",
      "Tentative: \t0\n",
      "Rejected: \t21\n"
     ]
    }
   ],
   "source": [
    "#Define RandomForest Regressor\n",
    "rf = RandomForestClassifier(n_jobs=-1)\n",
    "#define boruta\n",
    "boruta = BorutaPy(rf, n_estimators='auto', verbose=2).fit(X_train.values, y_train.values)"
   ]
  },
  {
   "cell_type": "code",
   "execution_count": 93,
   "id": "67e621d9",
   "metadata": {
    "ExecuteTime": {
     "end_time": "2023-04-06T21:33:43.824223Z",
     "start_time": "2023-04-06T21:33:43.819448Z"
    },
    "hidden": true
   },
   "outputs": [
    {
     "data": {
      "text/plain": [
       "['PAY_0', 'BILL_AMT1']"
      ]
     },
     "execution_count": 93,
     "metadata": {},
     "output_type": "execute_result"
    }
   ],
   "source": [
    "cols_selected = boruta.support_.tolist()\n",
    "\n",
    "#best features\n",
    "X_train_fs = X_train.copy()\n",
    "cols_selected_boruta = X_train_fs.iloc[:, cols_selected].columns.to_list()\n",
    "\n",
    "#not selected boruta\n",
    "cols_not_selected_boruta = list(np.setdiff1d(X_train_fs.columns,cols_selected_boruta))\n",
    "cols_selected_boruta"
   ]
  },
  {
   "cell_type": "markdown",
   "id": "6a7cd341",
   "metadata": {
    "heading_collapsed": true
   },
   "source": [
    "# PASSO 7 - Machine Learning Modelling "
   ]
  },
  {
   "cell_type": "code",
   "execution_count": 94,
   "id": "1269d20f",
   "metadata": {
    "ExecuteTime": {
     "end_time": "2023-04-06T21:34:09.705343Z",
     "start_time": "2023-04-06T21:34:09.702699Z"
    },
    "hidden": true
   },
   "outputs": [],
   "source": [
    "df7 = df6.copy()"
   ]
  },
  {
   "cell_type": "code",
   "execution_count": 95,
   "id": "414b023d",
   "metadata": {
    "ExecuteTime": {
     "end_time": "2023-04-06T21:34:10.430403Z",
     "start_time": "2023-04-06T21:34:10.419939Z"
    },
    "hidden": true
   },
   "outputs": [],
   "source": [
    "X = df7.drop(['default','ID','SAFRA'], axis=1)\n",
    "y = df7['default']\n",
    "\n",
    "X_train, X_test, y_train , y_test = train_test_split(X, y , stratify=y, shuffle=True)"
   ]
  },
  {
   "cell_type": "code",
   "execution_count": 96,
   "id": "48f01e44",
   "metadata": {
    "ExecuteTime": {
     "end_time": "2023-04-06T21:34:13.200310Z",
     "start_time": "2023-04-06T21:34:11.791461Z"
    },
    "hidden": true
   },
   "outputs": [
    {
     "name": "stdout",
     "output_type": "stream",
     "text": [
      "Accuracy Value: 0.7177\n"
     ]
    }
   ],
   "source": [
    "#sem balanceamento\n",
    "from sklearn.tree import DecisionTreeClassifier\n",
    "from sklearn.model_selection import KFold, cross_val_score , cross_validate\n",
    "\n",
    "num_folds = 10\n",
    "seed = 7\n",
    "\n",
    "kfold = KFold(num_folds, shuffle=True , random_state=seed)\n",
    "\n",
    "model_tree = DecisionTreeClassifier()\n",
    "result_tree=cross_val_score(model_tree,X_train,y_train,cv=kfold,scoring='accuracy')\n",
    "print(\"Accuracy Value: {:.4f}\" .format(result_tree.mean()))"
   ]
  },
  {
   "cell_type": "markdown",
   "id": "0f94ee70",
   "metadata": {
    "heading_collapsed": true
   },
   "source": [
    "# PASSO 8 - Hyperparameter Fine Tuning"
   ]
  },
  {
   "cell_type": "markdown",
   "id": "ac0da6e0",
   "metadata": {
    "heading_collapsed": true
   },
   "source": [
    "# PASSO 9 - Tradução e Interpretação do Erro"
   ]
  },
  {
   "cell_type": "markdown",
   "id": "08393817",
   "metadata": {
    "heading_collapsed": true
   },
   "source": [
    "# PASSO 10 - Deploy Model To Production"
   ]
  },
  {
   "cell_type": "markdown",
   "id": "744eed1a",
   "metadata": {
    "hidden": true
   },
   "source": [
    "## 10.1 Credit Class"
   ]
  },
  {
   "cell_type": "markdown",
   "id": "79c3e85f",
   "metadata": {
    "hidden": true
   },
   "source": [
    "## 10.2 API Handler"
   ]
  },
  {
   "cell_type": "markdown",
   "id": "4998c9cb",
   "metadata": {
    "hidden": true
   },
   "source": [
    "## 10.3 API Tester"
   ]
  },
  {
   "cell_type": "code",
   "execution_count": null,
   "id": "bc0afe7e",
   "metadata": {
    "hidden": true
   },
   "outputs": [],
   "source": []
  }
 ],
 "metadata": {
  "kernelspec": {
   "display_name": "Python 3 (ipykernel)",
   "language": "python",
   "name": "python3"
  },
  "language_info": {
   "codemirror_mode": {
    "name": "ipython",
    "version": 3
   },
   "file_extension": ".py",
   "mimetype": "text/x-python",
   "name": "python",
   "nbconvert_exporter": "python",
   "pygments_lexer": "ipython3",
   "version": "3.10.6"
  }
 },
 "nbformat": 4,
 "nbformat_minor": 5
}
