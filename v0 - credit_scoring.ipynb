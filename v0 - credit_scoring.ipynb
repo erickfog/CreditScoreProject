{
 "cells": [
  {
   "cell_type": "markdown",
   "id": "62d54c5d",
   "metadata": {
    "hide_input": false
   },
   "source": [
    "# Entendimento do Problema e Planejamento da Solução"
   ]
  },
  {
   "cell_type": "markdown",
   "id": "c586d4ac",
   "metadata": {},
   "source": [
    "    O que preciso entregar? \n",
    "            Web App com modelo em produção fazendo previsões de inadimplência.\n",
    "    \n",
    "    O que precisa ser feito? \n",
    "             Construção do Modelo;\n",
    "             Deployment do Modelo;\n",
    "         \n",
    "    Quais ferramentas utilizar? \n",
    "           - Python\n",
    "               1. Biblioteca de manipulação de dados(Pandas,Numpy e Scipy)\n",
    "               2. Biblioteca de Machine Learning (Scikit-Learn)\n",
    "               3. Biblioteca de Balanceamento de Dados (Imbalanced Learn)\n",
    "               4. Biblioteca de Vizualização de Dados (Matplotlib e Seaborn)\n",
    "            - Render (Cloud para Deployment)\n",
    "            - Streamlit (Web APP)\n",
    "    \n",
    "    Como fazer? \n",
    "                - Limpeza dos Dados.\n",
    "                - Descrição dos Dados.\n",
    "                - Engenharia de Atributos.\n",
    "                - Filtragem de Variáveis.\n",
    "                - Análise Exploratória de Dados.\n",
    "                - Preparação dos Dados.\n",
    "                - Seleção de Atributos.\n",
    "                - Ajuste Fino do Modelo.\n",
    "                - Calibrar Métricas de EAD e LGD apartir do modelo criado.\n",
    "                - Construção do WebAPP usando streamlit.\n",
    "                - Deployment do modelo usando Render(Nuvem que usaremos)"
   ]
  },
  {
   "cell_type": "markdown",
   "id": "7587f796",
   "metadata": {},
   "source": [
    "## Metadados"
   ]
  },
  {
   "cell_type": "markdown",
   "id": "7ef97e73",
   "metadata": {},
   "source": [
    "Essas são as colunas iniciais do dataset, porém, transformei desde o início o nome desses atributos para melhorar as análises.\n",
    "\n",
    "\n",
    "    X1: Amount of the given credit (NT dollar): it includes both the individual consumer credit and his/her family (supplementary) credit.\n",
    "    X2: Gender (1 = male; 2 = female).\n",
    "    X3: Education (1 = graduate school; 2 = university; 3 = high school; 4 = others).\n",
    "    X4: Marital status (1 = married; 2 = single; 3 = others).\n",
    "    X5: Age (year).\n",
    "    X6–X11: History of past payment. We tracked the past monthly payment records (from April to September,2005) as follows: X6 = the repayment status in September, 2005; X7 = the repayment status in August, 2005; . . .; X11 = the repayment status in April, 2005. The measurement scale for the repayment status is:\n",
    "    -1 = pay duly; \n",
    "    1 = payment delay for one month;\n",
    "    2 = payment delay for two months; . . .; 8 = payment delay for eight months; 9 = payment delay for nine months and above.\n",
    "    X12–X17: Amount of bill statement (NT dollar).\n",
    "    X12 = amount of bill statement in September, 2005;\n",
    "    X13 = amount of bill statement in August, 2005; . . .; X17 = amount of bill statement in April, 2005.\n",
    "    X18–X23: Amount of previous payment (NT dollar).\n",
    "    X18 = amount paid in September, 2005; X19 = amount paid in August, 2005; . . .; X23 = amount paid in April, 2005.\n",
    "    \n",
    "    \n",
    "     default: 1: Inadimplente 0: Não inadimplente\n",
    " _________________________________________________________________________________________________________________    \n",
    "     \n",
    "     \n",
    "     LIMIT_BAL : Valor do crédito concedido (NT dólar).\n",
    "     SEX       : Sexo (1 = masculino; 2 = feminino).\n",
    "     EDUCATION : Educação (1 = pós-graduação; 2 = universidade; 3 = ensino médio; 4 = outros).\n",
    "     MARRIAGE  : Estado civil (1 = casado; 2 = solteiro; 3 = outros).\n",
    "     AGE       : Idade (ano).\n",
    "     PAY_0 – PAY_5: Histórico de pagamentos anteriores. Rastreamos os últimos registros de pagamento mensal (de abril a setembro de 2005) da seguinte forma: X6 = o status do pagamento em setembro de 2005; X7 = situação de amortização em agosto de 2005; . . .; X11 = o status de reembolso em abril de 2005. A escala de medição para o status de reembolso é:\n",
    "    -1 = pagar em dia;\n",
    "     1 = atraso de pagamento por um mês;\n",
    "     2 = atraso de pagamento de dois meses; . . .; 8 = atraso de pagamento de oito meses; 9 = atraso de pagamento de nove meses ou mais.\n",
    "     BILL_AMT1 – BILL_AMT6: Valor do extrato da conta (NT dólar).\n",
    "     BILL_AMT1 = valor do extrato da conta em setembro de 2005;\n",
    "     BILL_AMT2 = valor do extrato da conta em agosto de 2005; . . .; X17 = valor do extrato da fatura em abril de 2005.\n",
    "     BILL_PAY1–BILL_PAY6: Valor do pagamento anterior (NT dólar).\n",
    "     BILL_PAY1 = valor pago em setembro de 2005; X19 = valor pago em agosto de 2005; . . .; X23 = valor pago em abril de 2005."
   ]
  },
  {
   "cell_type": "markdown",
   "id": "ac228856",
   "metadata": {
    "heading_collapsed": true
   },
   "source": [
    "# PASSO 0 - Imports"
   ]
  },
  {
   "cell_type": "markdown",
   "id": "27608469",
   "metadata": {
    "hidden": true
   },
   "source": [
    "Nesta seção vamos organizar as principais bibliotecas que serão utilizadas durante este projeto, bem como as funções auxiliares. "
   ]
  },
  {
   "cell_type": "code",
   "execution_count": 3,
   "id": "5a064165",
   "metadata": {
    "ExecuteTime": {
     "end_time": "2023-05-09T12:27:33.010906Z",
     "start_time": "2023-05-09T12:27:31.273930Z"
    },
    "hidden": true
   },
   "outputs": [],
   "source": [
    "import math\n",
    "import pandas as pd\n",
    "import numpy  as np\n",
    "import inflection\n",
    "import requests\n",
    "import random\n",
    "import pickle\n",
    "import warnings\n",
    "import xgboost as xgb\n",
    "import seaborn as sns\n",
    "\n",
    "\n",
    "from boruta               import BorutaPy\n",
    "from scipy                import stats      as ss\n",
    "from matplotlib           import pyplot     as plt\n",
    "from IPython.core.display import HTML\n",
    "from IPython.display      import Image\n",
    "\n",
    "from sklearn.metrics import roc_auc_score, roc_curve, accuracy_score\n",
    "from sklearn.model_selection import train_test_split\n",
    "from sklearn.preprocessing import StandardScaler, MinMaxScaler, RobustScaler , LabelEncoder , OrdinalEncoder\n",
    "from sklearn.ensemble import RandomForestClassifier\n",
    "\n",
    "\n",
    "warnings.filterwarnings('ignore')"
   ]
  },
  {
   "cell_type": "markdown",
   "id": "b6dd6c0a",
   "metadata": {
    "hidden": true
   },
   "source": [
    "## 0.1 Helper Functions"
   ]
  },
  {
   "cell_type": "code",
   "execution_count": 4,
   "id": "13abd7f2",
   "metadata": {
    "ExecuteTime": {
     "end_time": "2023-05-09T12:27:33.018913Z",
     "start_time": "2023-05-09T12:27:33.012311Z"
    },
    "hidden": true
   },
   "outputs": [],
   "source": [
    "#função para calcular o cramer_v, utilizada para calcular a correlação entre variáveis categóricas.\n",
    "def cramer_v( x, y ):\n",
    "    cm = pd.crosstab( x, y ).values\n",
    "    n = cm.sum()\n",
    "    r, k = cm.shape\n",
    "    chi2 = ss.chi2_contingency( cm )[0]\n",
    "    chi2corr = max( 0, chi2 - (k-1)*(r-1)/(n-1) )\n",
    "    kcorr = k - (k-1)**2/(n-1)\n",
    "    rcorr = r - (r-1)**2/(n-1)\n",
    "    return np.sqrt( (chi2corr/n) / ( min( kcorr-1, rcorr-1 ) ) )\n",
    "\n",
    "#condigura as funções padrão do jupyter notebook para visualização de dados.\n",
    "def jupyter_settings():\n",
    "    %matplotlib inline\n",
    "    %pylab inline\n",
    "    plt.style.use( 'bmh' )\n",
    "    plt.rcParams['figure.figsize'] = [25, 12]\n",
    "    plt.rcParams['font.size'] = 24\n",
    "    display( HTML( '<style>.container { width:100% !important; }</style>') )\n",
    "    pd.options.display.max_columns = None\n",
    "    pd.options.display.max_rows = None\n",
    "    pd.set_option( 'display.expand_frame_repr', False )\n",
    "    sns.set()"
   ]
  },
  {
   "cell_type": "markdown",
   "id": "cd45b6ef",
   "metadata": {
    "hidden": true
   },
   "source": [
    "## 0.1 Loading Data"
   ]
  },
  {
   "cell_type": "code",
   "execution_count": 5,
   "id": "4b882ae0",
   "metadata": {
    "ExecuteTime": {
     "end_time": "2023-05-09T12:27:33.562045Z",
     "start_time": "2023-05-09T12:27:33.507659Z"
    },
    "hidden": true
   },
   "outputs": [],
   "source": [
    "#carrega o dataset no dataframe\n",
    "df_raw = pd.read_csv('data/dataset_trat.csv', sep=';')"
   ]
  },
  {
   "cell_type": "code",
   "execution_count": 6,
   "id": "17327941",
   "metadata": {
    "ExecuteTime": {
     "end_time": "2023-05-09T12:27:33.798380Z",
     "start_time": "2023-05-09T12:27:33.766069Z"
    },
    "hidden": true
   },
   "outputs": [
    {
     "data": {
      "text/html": [
       "<div>\n",
       "<style scoped>\n",
       "    .dataframe tbody tr th:only-of-type {\n",
       "        vertical-align: middle;\n",
       "    }\n",
       "\n",
       "    .dataframe tbody tr th {\n",
       "        vertical-align: top;\n",
       "    }\n",
       "\n",
       "    .dataframe thead th {\n",
       "        text-align: right;\n",
       "    }\n",
       "</style>\n",
       "<table border=\"1\" class=\"dataframe\">\n",
       "  <thead>\n",
       "    <tr style=\"text-align: right;\">\n",
       "      <th></th>\n",
       "      <th>ID</th>\n",
       "      <th>SAFRA</th>\n",
       "      <th>LIMIT_BAL</th>\n",
       "      <th>SEX</th>\n",
       "      <th>EDUCATION</th>\n",
       "      <th>MARRIAGE</th>\n",
       "      <th>AGE</th>\n",
       "      <th>PAY_0</th>\n",
       "      <th>PAY_2</th>\n",
       "      <th>PAY_3</th>\n",
       "      <th>...</th>\n",
       "      <th>BILL_AMT4</th>\n",
       "      <th>BILL_AMT5</th>\n",
       "      <th>BILL_AMT6</th>\n",
       "      <th>PAY_AMT1</th>\n",
       "      <th>PAY_AMT2</th>\n",
       "      <th>PAY_AMT3</th>\n",
       "      <th>PAY_AMT4</th>\n",
       "      <th>PAY_AMT5</th>\n",
       "      <th>PAY_AMT6</th>\n",
       "      <th>default</th>\n",
       "    </tr>\n",
       "  </thead>\n",
       "  <tbody>\n",
       "    <tr>\n",
       "      <th>0</th>\n",
       "      <td>1</td>\n",
       "      <td>200510</td>\n",
       "      <td>20000</td>\n",
       "      <td>2</td>\n",
       "      <td>2</td>\n",
       "      <td>1</td>\n",
       "      <td>24</td>\n",
       "      <td>2</td>\n",
       "      <td>2</td>\n",
       "      <td>-1</td>\n",
       "      <td>...</td>\n",
       "      <td>0</td>\n",
       "      <td>0</td>\n",
       "      <td>0</td>\n",
       "      <td>0</td>\n",
       "      <td>689</td>\n",
       "      <td>0</td>\n",
       "      <td>0</td>\n",
       "      <td>0</td>\n",
       "      <td>0</td>\n",
       "      <td>1</td>\n",
       "    </tr>\n",
       "    <tr>\n",
       "      <th>1</th>\n",
       "      <td>2</td>\n",
       "      <td>200510</td>\n",
       "      <td>120000</td>\n",
       "      <td>2</td>\n",
       "      <td>2</td>\n",
       "      <td>2</td>\n",
       "      <td>26</td>\n",
       "      <td>-1</td>\n",
       "      <td>2</td>\n",
       "      <td>0</td>\n",
       "      <td>...</td>\n",
       "      <td>3272</td>\n",
       "      <td>3455</td>\n",
       "      <td>3261</td>\n",
       "      <td>0</td>\n",
       "      <td>1000</td>\n",
       "      <td>1000</td>\n",
       "      <td>1000</td>\n",
       "      <td>0</td>\n",
       "      <td>2000</td>\n",
       "      <td>1</td>\n",
       "    </tr>\n",
       "    <tr>\n",
       "      <th>2</th>\n",
       "      <td>3</td>\n",
       "      <td>200510</td>\n",
       "      <td>90000</td>\n",
       "      <td>2</td>\n",
       "      <td>2</td>\n",
       "      <td>2</td>\n",
       "      <td>34</td>\n",
       "      <td>0</td>\n",
       "      <td>0</td>\n",
       "      <td>0</td>\n",
       "      <td>...</td>\n",
       "      <td>14331</td>\n",
       "      <td>14948</td>\n",
       "      <td>15549</td>\n",
       "      <td>1518</td>\n",
       "      <td>1500</td>\n",
       "      <td>1000</td>\n",
       "      <td>1000</td>\n",
       "      <td>1000</td>\n",
       "      <td>5000</td>\n",
       "      <td>0</td>\n",
       "    </tr>\n",
       "    <tr>\n",
       "      <th>3</th>\n",
       "      <td>4</td>\n",
       "      <td>200510</td>\n",
       "      <td>50000</td>\n",
       "      <td>2</td>\n",
       "      <td>2</td>\n",
       "      <td>1</td>\n",
       "      <td>37</td>\n",
       "      <td>0</td>\n",
       "      <td>0</td>\n",
       "      <td>0</td>\n",
       "      <td>...</td>\n",
       "      <td>28314</td>\n",
       "      <td>28959</td>\n",
       "      <td>29547</td>\n",
       "      <td>2000</td>\n",
       "      <td>2019</td>\n",
       "      <td>1200</td>\n",
       "      <td>1100</td>\n",
       "      <td>1069</td>\n",
       "      <td>1000</td>\n",
       "      <td>0</td>\n",
       "    </tr>\n",
       "    <tr>\n",
       "      <th>4</th>\n",
       "      <td>5</td>\n",
       "      <td>200510</td>\n",
       "      <td>50000</td>\n",
       "      <td>1</td>\n",
       "      <td>2</td>\n",
       "      <td>1</td>\n",
       "      <td>57</td>\n",
       "      <td>-1</td>\n",
       "      <td>0</td>\n",
       "      <td>-1</td>\n",
       "      <td>...</td>\n",
       "      <td>20940</td>\n",
       "      <td>19146</td>\n",
       "      <td>19131</td>\n",
       "      <td>2000</td>\n",
       "      <td>36681</td>\n",
       "      <td>10000</td>\n",
       "      <td>9000</td>\n",
       "      <td>689</td>\n",
       "      <td>679</td>\n",
       "      <td>0</td>\n",
       "    </tr>\n",
       "  </tbody>\n",
       "</table>\n",
       "<p>5 rows × 26 columns</p>\n",
       "</div>"
      ],
      "text/plain": [
       "   ID   SAFRA  LIMIT_BAL  SEX  EDUCATION  MARRIAGE  AGE  PAY_0  PAY_2  PAY_3  \\\n",
       "0   1  200510      20000    2          2         1   24      2      2     -1   \n",
       "1   2  200510     120000    2          2         2   26     -1      2      0   \n",
       "2   3  200510      90000    2          2         2   34      0      0      0   \n",
       "3   4  200510      50000    2          2         1   37      0      0      0   \n",
       "4   5  200510      50000    1          2         1   57     -1      0     -1   \n",
       "\n",
       "   ...  BILL_AMT4  BILL_AMT5  BILL_AMT6  PAY_AMT1  PAY_AMT2  PAY_AMT3  \\\n",
       "0  ...          0          0          0         0       689         0   \n",
       "1  ...       3272       3455       3261         0      1000      1000   \n",
       "2  ...      14331      14948      15549      1518      1500      1000   \n",
       "3  ...      28314      28959      29547      2000      2019      1200   \n",
       "4  ...      20940      19146      19131      2000     36681     10000   \n",
       "\n",
       "   PAY_AMT4  PAY_AMT5  PAY_AMT6  default  \n",
       "0         0         0         0        1  \n",
       "1      1000         0      2000        1  \n",
       "2      1000      1000      5000        0  \n",
       "3      1100      1069      1000        0  \n",
       "4      9000       689       679        0  \n",
       "\n",
       "[5 rows x 26 columns]"
      ]
     },
     "execution_count": 6,
     "metadata": {},
     "output_type": "execute_result"
    }
   ],
   "source": [
    "df_raw.head()"
   ]
  },
  {
   "cell_type": "code",
   "execution_count": 7,
   "id": "70b6be06",
   "metadata": {
    "ExecuteTime": {
     "end_time": "2023-05-09T12:27:33.939423Z",
     "start_time": "2023-05-09T12:27:33.931451Z"
    },
    "hidden": true
   },
   "outputs": [
    {
     "data": {
      "text/plain": [
       "(30000, 26)"
      ]
     },
     "execution_count": 7,
     "metadata": {},
     "output_type": "execute_result"
    }
   ],
   "source": [
    "df_raw.shape"
   ]
  },
  {
   "cell_type": "code",
   "execution_count": 8,
   "id": "dfc5a747",
   "metadata": {
    "ExecuteTime": {
     "end_time": "2023-05-09T12:27:34.128479Z",
     "start_time": "2023-05-09T12:27:34.118454Z"
    },
    "hidden": true
   },
   "outputs": [
    {
     "data": {
      "text/plain": [
       "Index(['ID', 'SAFRA', 'LIMIT_BAL', 'SEX', 'EDUCATION', 'MARRIAGE', 'AGE',\n",
       "       'PAY_0', 'PAY_2', 'PAY_3', 'PAY_4', 'PAY_5', 'PAY_6', 'BILL_AMT1',\n",
       "       'BILL_AMT2', 'BILL_AMT3', 'BILL_AMT4', 'BILL_AMT5', 'BILL_AMT6',\n",
       "       'PAY_AMT1', 'PAY_AMT2', 'PAY_AMT3', 'PAY_AMT4', 'PAY_AMT5', 'PAY_AMT6',\n",
       "       'default'],\n",
       "      dtype='object')"
      ]
     },
     "execution_count": 8,
     "metadata": {},
     "output_type": "execute_result"
    }
   ],
   "source": [
    "df_raw.columns"
   ]
  },
  {
   "cell_type": "code",
   "execution_count": 9,
   "id": "5af7e633",
   "metadata": {
    "ExecuteTime": {
     "end_time": "2023-05-09T12:27:34.303286Z",
     "start_time": "2023-05-09T12:27:34.291966Z"
    },
    "hidden": true
   },
   "outputs": [
    {
     "data": {
      "text/plain": [
       "array([2, 1])"
      ]
     },
     "execution_count": 9,
     "metadata": {},
     "output_type": "execute_result"
    }
   ],
   "source": [
    "df_raw['SEX'].unique()"
   ]
  },
  {
   "cell_type": "code",
   "execution_count": 10,
   "id": "e01c12a0",
   "metadata": {
    "ExecuteTime": {
     "end_time": "2023-05-09T12:27:34.490286Z",
     "start_time": "2023-05-09T12:27:34.479132Z"
    },
    "hidden": true
   },
   "outputs": [],
   "source": [
    "#estou tornando essa variável numérica em categórica com finalidade de melhorar analisa-la posteriormente.\n",
    "df_raw['SEX'] = df_raw['SEX'].apply(lambda x: 'male' if x==1 else 'female')"
   ]
  },
  {
   "cell_type": "code",
   "execution_count": 11,
   "id": "46880870",
   "metadata": {
    "ExecuteTime": {
     "end_time": "2023-05-09T12:27:34.657131Z",
     "start_time": "2023-05-09T12:27:34.644389Z"
    },
    "hidden": true
   },
   "outputs": [
    {
     "data": {
      "text/plain": [
       "array(['female', 'male'], dtype=object)"
      ]
     },
     "execution_count": 11,
     "metadata": {},
     "output_type": "execute_result"
    }
   ],
   "source": [
    "df_raw['SEX'].unique()"
   ]
  },
  {
   "cell_type": "code",
   "execution_count": 12,
   "id": "0debf870",
   "metadata": {
    "ExecuteTime": {
     "end_time": "2023-05-09T12:27:34.819143Z",
     "start_time": "2023-05-09T12:27:34.808992Z"
    },
    "hidden": true
   },
   "outputs": [
    {
     "data": {
      "text/plain": [
       "array([2, 1, 3, 5, 4, 6, 0])"
      ]
     },
     "execution_count": 12,
     "metadata": {},
     "output_type": "execute_result"
    }
   ],
   "source": [
    "df_raw['EDUCATION'].unique()"
   ]
  },
  {
   "cell_type": "code",
   "execution_count": 13,
   "id": "7c3bf9ef",
   "metadata": {
    "ExecuteTime": {
     "end_time": "2023-05-09T12:27:34.991896Z",
     "start_time": "2023-05-09T12:27:34.972098Z"
    },
    "hidden": true
   },
   "outputs": [],
   "source": [
    "df_raw['EDUCATION'] = df_raw['EDUCATION'].apply(lambda x: 'graduate school' if x == 1 else 'university' if x==2 else\n",
    "                                               'high school' if x==3 else 'others')"
   ]
  },
  {
   "cell_type": "code",
   "execution_count": 14,
   "id": "596b1b76",
   "metadata": {
    "ExecuteTime": {
     "end_time": "2023-05-09T12:27:35.145262Z",
     "start_time": "2023-05-09T12:27:35.132840Z"
    },
    "hidden": true
   },
   "outputs": [
    {
     "data": {
      "text/plain": [
       "array(['university', 'graduate school', 'high school', 'others'],\n",
       "      dtype=object)"
      ]
     },
     "execution_count": 14,
     "metadata": {},
     "output_type": "execute_result"
    }
   ],
   "source": [
    "df_raw['EDUCATION'].unique()"
   ]
  },
  {
   "cell_type": "code",
   "execution_count": 15,
   "id": "7a211e14",
   "metadata": {
    "ExecuteTime": {
     "end_time": "2023-05-09T12:27:35.294794Z",
     "start_time": "2023-05-09T12:27:35.286422Z"
    },
    "hidden": true
   },
   "outputs": [
    {
     "data": {
      "text/plain": [
       "array([1, 2, 3, 0])"
      ]
     },
     "execution_count": 15,
     "metadata": {},
     "output_type": "execute_result"
    }
   ],
   "source": [
    "df_raw['MARRIAGE'].unique()"
   ]
  },
  {
   "cell_type": "code",
   "execution_count": 16,
   "id": "3efac35b",
   "metadata": {
    "ExecuteTime": {
     "end_time": "2023-05-09T12:27:35.471580Z",
     "start_time": "2023-05-09T12:27:35.460035Z"
    },
    "hidden": true
   },
   "outputs": [],
   "source": [
    "df_raw['MARRIAGE'] = df_raw['MARRIAGE'].apply(lambda x: 'married' if x==1 else 'single' if x==2 else 'others')"
   ]
  },
  {
   "cell_type": "code",
   "execution_count": 17,
   "id": "8804f70e",
   "metadata": {
    "ExecuteTime": {
     "end_time": "2023-05-09T12:27:35.630829Z",
     "start_time": "2023-05-09T12:27:35.618022Z"
    },
    "hidden": true
   },
   "outputs": [
    {
     "data": {
      "text/plain": [
       "array(['married', 'single', 'others'], dtype=object)"
      ]
     },
     "execution_count": 17,
     "metadata": {},
     "output_type": "execute_result"
    }
   ],
   "source": [
    "df_raw['MARRIAGE'].unique()"
   ]
  },
  {
   "cell_type": "markdown",
   "id": "84c37da8",
   "metadata": {
    "hidden": true
   },
   "source": [
    "## 0.2 Divisão do Conjunto de Dados"
   ]
  },
  {
   "cell_type": "markdown",
   "id": "438cd8bd",
   "metadata": {
    "hidden": true
   },
   "source": [
    "    Nesta seção irei dividir o conjunto de treino e o conjunto de teste, esse conjunto de teste ficará separado para evitar vazamento de dados(data leakage). O conjunto de dados que será usado para contruir o dataset será apenas o conjunto de treino."
   ]
  },
  {
   "cell_type": "code",
   "execution_count": 18,
   "id": "2b0044a9",
   "metadata": {
    "ExecuteTime": {
     "end_time": "2023-05-09T12:27:36.288291Z",
     "start_time": "2023-05-09T12:27:36.275283Z"
    },
    "hidden": true
   },
   "outputs": [
    {
     "data": {
      "text/plain": [
       "0    23364\n",
       "1     6636\n",
       "Name: default, dtype: int64"
      ]
     },
     "execution_count": 18,
     "metadata": {},
     "output_type": "execute_result"
    }
   ],
   "source": [
    "df_raw.default.value_counts()"
   ]
  },
  {
   "cell_type": "code",
   "execution_count": 19,
   "id": "ae2ce17a",
   "metadata": {
    "ExecuteTime": {
     "end_time": "2023-05-09T12:27:36.468956Z",
     "start_time": "2023-05-09T12:27:36.452446Z"
    },
    "hidden": true
   },
   "outputs": [
    {
     "name": "stdout",
     "output_type": "stream",
     "text": [
      "O dataset tem 22.12% de inadimplentes.\n"
     ]
    }
   ],
   "source": [
    "#Verificando o número de clientes inadimplentes do dataset.\n",
    "print(\"O dataset tem {:.2f}% de inadimplentes.\" .format(df_raw[df_raw['default'] == 1].shape[0]*100/df_raw.shape[0]))"
   ]
  },
  {
   "cell_type": "code",
   "execution_count": 20,
   "id": "3e5a24a2",
   "metadata": {
    "ExecuteTime": {
     "end_time": "2023-05-09T12:27:36.623656Z",
     "start_time": "2023-05-09T12:27:36.617198Z"
    },
    "hidden": true
   },
   "outputs": [],
   "source": [
    "# A variável safra foi criada para criar janelas de pedidos de crédito.\n",
    "# O dataset out of time será o dataset utilizado para testar o modelo ao final.\n",
    "# Out of Time(OOT)\n",
    "df_OOT = df_raw[df_raw['SAFRA'] > 200604].copy()"
   ]
  },
  {
   "cell_type": "code",
   "execution_count": 21,
   "id": "ce9fcca6",
   "metadata": {
    "ExecuteTime": {
     "end_time": "2023-05-09T12:27:36.816802Z",
     "start_time": "2023-05-09T12:27:36.790955Z"
    },
    "hidden": true
   },
   "outputs": [
    {
     "data": {
      "text/html": [
       "<div>\n",
       "<style scoped>\n",
       "    .dataframe tbody tr th:only-of-type {\n",
       "        vertical-align: middle;\n",
       "    }\n",
       "\n",
       "    .dataframe tbody tr th {\n",
       "        vertical-align: top;\n",
       "    }\n",
       "\n",
       "    .dataframe thead th {\n",
       "        text-align: right;\n",
       "    }\n",
       "</style>\n",
       "<table border=\"1\" class=\"dataframe\">\n",
       "  <thead>\n",
       "    <tr style=\"text-align: right;\">\n",
       "      <th></th>\n",
       "      <th>ID</th>\n",
       "      <th>SAFRA</th>\n",
       "      <th>LIMIT_BAL</th>\n",
       "      <th>SEX</th>\n",
       "      <th>EDUCATION</th>\n",
       "      <th>MARRIAGE</th>\n",
       "      <th>AGE</th>\n",
       "      <th>PAY_0</th>\n",
       "      <th>PAY_2</th>\n",
       "      <th>PAY_3</th>\n",
       "      <th>...</th>\n",
       "      <th>BILL_AMT4</th>\n",
       "      <th>BILL_AMT5</th>\n",
       "      <th>BILL_AMT6</th>\n",
       "      <th>PAY_AMT1</th>\n",
       "      <th>PAY_AMT2</th>\n",
       "      <th>PAY_AMT3</th>\n",
       "      <th>PAY_AMT4</th>\n",
       "      <th>PAY_AMT5</th>\n",
       "      <th>PAY_AMT6</th>\n",
       "      <th>default</th>\n",
       "    </tr>\n",
       "  </thead>\n",
       "  <tbody>\n",
       "    <tr>\n",
       "      <th>21000</th>\n",
       "      <td>21001</td>\n",
       "      <td>200605</td>\n",
       "      <td>30000</td>\n",
       "      <td>male</td>\n",
       "      <td>university</td>\n",
       "      <td>married</td>\n",
       "      <td>36</td>\n",
       "      <td>1</td>\n",
       "      <td>-1</td>\n",
       "      <td>-1</td>\n",
       "      <td>...</td>\n",
       "      <td>1170</td>\n",
       "      <td>780</td>\n",
       "      <td>0</td>\n",
       "      <td>780</td>\n",
       "      <td>0</td>\n",
       "      <td>1170</td>\n",
       "      <td>0</td>\n",
       "      <td>0</td>\n",
       "      <td>0</td>\n",
       "      <td>0</td>\n",
       "    </tr>\n",
       "    <tr>\n",
       "      <th>21001</th>\n",
       "      <td>21002</td>\n",
       "      <td>200605</td>\n",
       "      <td>280000</td>\n",
       "      <td>male</td>\n",
       "      <td>high school</td>\n",
       "      <td>married</td>\n",
       "      <td>40</td>\n",
       "      <td>2</td>\n",
       "      <td>0</td>\n",
       "      <td>0</td>\n",
       "      <td>...</td>\n",
       "      <td>191291</td>\n",
       "      <td>189029</td>\n",
       "      <td>192023</td>\n",
       "      <td>10000</td>\n",
       "      <td>9000</td>\n",
       "      <td>8000</td>\n",
       "      <td>6738</td>\n",
       "      <td>6974</td>\n",
       "      <td>7600</td>\n",
       "      <td>1</td>\n",
       "    </tr>\n",
       "    <tr>\n",
       "      <th>21002</th>\n",
       "      <td>21003</td>\n",
       "      <td>200605</td>\n",
       "      <td>260000</td>\n",
       "      <td>male</td>\n",
       "      <td>university</td>\n",
       "      <td>married</td>\n",
       "      <td>37</td>\n",
       "      <td>0</td>\n",
       "      <td>0</td>\n",
       "      <td>0</td>\n",
       "      <td>...</td>\n",
       "      <td>23186</td>\n",
       "      <td>14117</td>\n",
       "      <td>15797</td>\n",
       "      <td>3203</td>\n",
       "      <td>6015</td>\n",
       "      <td>5055</td>\n",
       "      <td>2011</td>\n",
       "      <td>4078</td>\n",
       "      <td>4522</td>\n",
       "      <td>0</td>\n",
       "    </tr>\n",
       "    <tr>\n",
       "      <th>21003</th>\n",
       "      <td>21004</td>\n",
       "      <td>200605</td>\n",
       "      <td>200000</td>\n",
       "      <td>male</td>\n",
       "      <td>university</td>\n",
       "      <td>single</td>\n",
       "      <td>32</td>\n",
       "      <td>2</td>\n",
       "      <td>0</td>\n",
       "      <td>0</td>\n",
       "      <td>...</td>\n",
       "      <td>0</td>\n",
       "      <td>0</td>\n",
       "      <td>0</td>\n",
       "      <td>7600</td>\n",
       "      <td>4000</td>\n",
       "      <td>0</td>\n",
       "      <td>0</td>\n",
       "      <td>0</td>\n",
       "      <td>0</td>\n",
       "      <td>1</td>\n",
       "    </tr>\n",
       "    <tr>\n",
       "      <th>21004</th>\n",
       "      <td>21005</td>\n",
       "      <td>200605</td>\n",
       "      <td>80000</td>\n",
       "      <td>male</td>\n",
       "      <td>university</td>\n",
       "      <td>single</td>\n",
       "      <td>32</td>\n",
       "      <td>2</td>\n",
       "      <td>0</td>\n",
       "      <td>0</td>\n",
       "      <td>...</td>\n",
       "      <td>67352</td>\n",
       "      <td>74448</td>\n",
       "      <td>72928</td>\n",
       "      <td>3000</td>\n",
       "      <td>4005</td>\n",
       "      <td>2500</td>\n",
       "      <td>10000</td>\n",
       "      <td>0</td>\n",
       "      <td>5000</td>\n",
       "      <td>1</td>\n",
       "    </tr>\n",
       "  </tbody>\n",
       "</table>\n",
       "<p>5 rows × 26 columns</p>\n",
       "</div>"
      ],
      "text/plain": [
       "          ID   SAFRA  LIMIT_BAL   SEX    EDUCATION MARRIAGE  AGE  PAY_0  \\\n",
       "21000  21001  200605      30000  male   university  married   36      1   \n",
       "21001  21002  200605     280000  male  high school  married   40      2   \n",
       "21002  21003  200605     260000  male   university  married   37      0   \n",
       "21003  21004  200605     200000  male   university   single   32      2   \n",
       "21004  21005  200605      80000  male   university   single   32      2   \n",
       "\n",
       "       PAY_2  PAY_3  ...  BILL_AMT4  BILL_AMT5  BILL_AMT6  PAY_AMT1  PAY_AMT2  \\\n",
       "21000     -1     -1  ...       1170        780          0       780         0   \n",
       "21001      0      0  ...     191291     189029     192023     10000      9000   \n",
       "21002      0      0  ...      23186      14117      15797      3203      6015   \n",
       "21003      0      0  ...          0          0          0      7600      4000   \n",
       "21004      0      0  ...      67352      74448      72928      3000      4005   \n",
       "\n",
       "       PAY_AMT3  PAY_AMT4  PAY_AMT5  PAY_AMT6  default  \n",
       "21000      1170         0         0         0        0  \n",
       "21001      8000      6738      6974      7600        1  \n",
       "21002      5055      2011      4078      4522        0  \n",
       "21003         0         0         0         0        1  \n",
       "21004      2500     10000         0      5000        1  \n",
       "\n",
       "[5 rows x 26 columns]"
      ]
     },
     "execution_count": 21,
     "metadata": {},
     "output_type": "execute_result"
    }
   ],
   "source": [
    "df_OOT.head()"
   ]
  },
  {
   "cell_type": "code",
   "execution_count": 22,
   "id": "6b821707",
   "metadata": {
    "ExecuteTime": {
     "end_time": "2023-05-09T12:27:36.941782Z",
     "start_time": "2023-05-09T12:27:36.935008Z"
    },
    "hidden": true
   },
   "outputs": [
    {
     "data": {
      "text/plain": [
       "SAFRA\n",
       "200605    3000\n",
       "200606    3000\n",
       "200607    3000\n",
       "Name: SAFRA, dtype: int64"
      ]
     },
     "execution_count": 22,
     "metadata": {},
     "output_type": "execute_result"
    }
   ],
   "source": [
    "df_OOT['SAFRA'].groupby(df_OOT['SAFRA']).count()"
   ]
  },
  {
   "cell_type": "code",
   "execution_count": 23,
   "id": "1be81b66",
   "metadata": {
    "ExecuteTime": {
     "end_time": "2023-05-09T12:27:37.156922Z",
     "start_time": "2023-05-09T12:27:37.126361Z"
    },
    "hidden": true
   },
   "outputs": [
    {
     "data": {
      "text/html": [
       "<div>\n",
       "<style scoped>\n",
       "    .dataframe tbody tr th:only-of-type {\n",
       "        vertical-align: middle;\n",
       "    }\n",
       "\n",
       "    .dataframe tbody tr th {\n",
       "        vertical-align: top;\n",
       "    }\n",
       "\n",
       "    .dataframe thead th {\n",
       "        text-align: right;\n",
       "    }\n",
       "</style>\n",
       "<table border=\"1\" class=\"dataframe\">\n",
       "  <thead>\n",
       "    <tr style=\"text-align: right;\">\n",
       "      <th></th>\n",
       "      <th>ID</th>\n",
       "      <th>SAFRA</th>\n",
       "      <th>LIMIT_BAL</th>\n",
       "      <th>SEX</th>\n",
       "      <th>EDUCATION</th>\n",
       "      <th>MARRIAGE</th>\n",
       "      <th>AGE</th>\n",
       "      <th>PAY_0</th>\n",
       "      <th>PAY_2</th>\n",
       "      <th>PAY_3</th>\n",
       "      <th>...</th>\n",
       "      <th>BILL_AMT4</th>\n",
       "      <th>BILL_AMT5</th>\n",
       "      <th>BILL_AMT6</th>\n",
       "      <th>PAY_AMT1</th>\n",
       "      <th>PAY_AMT2</th>\n",
       "      <th>PAY_AMT3</th>\n",
       "      <th>PAY_AMT4</th>\n",
       "      <th>PAY_AMT5</th>\n",
       "      <th>PAY_AMT6</th>\n",
       "      <th>default</th>\n",
       "    </tr>\n",
       "  </thead>\n",
       "  <tbody>\n",
       "    <tr>\n",
       "      <th>0</th>\n",
       "      <td>1</td>\n",
       "      <td>200510</td>\n",
       "      <td>20000</td>\n",
       "      <td>female</td>\n",
       "      <td>university</td>\n",
       "      <td>married</td>\n",
       "      <td>24</td>\n",
       "      <td>2</td>\n",
       "      <td>2</td>\n",
       "      <td>-1</td>\n",
       "      <td>...</td>\n",
       "      <td>0</td>\n",
       "      <td>0</td>\n",
       "      <td>0</td>\n",
       "      <td>0</td>\n",
       "      <td>689</td>\n",
       "      <td>0</td>\n",
       "      <td>0</td>\n",
       "      <td>0</td>\n",
       "      <td>0</td>\n",
       "      <td>1</td>\n",
       "    </tr>\n",
       "    <tr>\n",
       "      <th>1</th>\n",
       "      <td>2</td>\n",
       "      <td>200510</td>\n",
       "      <td>120000</td>\n",
       "      <td>female</td>\n",
       "      <td>university</td>\n",
       "      <td>single</td>\n",
       "      <td>26</td>\n",
       "      <td>-1</td>\n",
       "      <td>2</td>\n",
       "      <td>0</td>\n",
       "      <td>...</td>\n",
       "      <td>3272</td>\n",
       "      <td>3455</td>\n",
       "      <td>3261</td>\n",
       "      <td>0</td>\n",
       "      <td>1000</td>\n",
       "      <td>1000</td>\n",
       "      <td>1000</td>\n",
       "      <td>0</td>\n",
       "      <td>2000</td>\n",
       "      <td>1</td>\n",
       "    </tr>\n",
       "    <tr>\n",
       "      <th>2</th>\n",
       "      <td>3</td>\n",
       "      <td>200510</td>\n",
       "      <td>90000</td>\n",
       "      <td>female</td>\n",
       "      <td>university</td>\n",
       "      <td>single</td>\n",
       "      <td>34</td>\n",
       "      <td>0</td>\n",
       "      <td>0</td>\n",
       "      <td>0</td>\n",
       "      <td>...</td>\n",
       "      <td>14331</td>\n",
       "      <td>14948</td>\n",
       "      <td>15549</td>\n",
       "      <td>1518</td>\n",
       "      <td>1500</td>\n",
       "      <td>1000</td>\n",
       "      <td>1000</td>\n",
       "      <td>1000</td>\n",
       "      <td>5000</td>\n",
       "      <td>0</td>\n",
       "    </tr>\n",
       "    <tr>\n",
       "      <th>3</th>\n",
       "      <td>4</td>\n",
       "      <td>200510</td>\n",
       "      <td>50000</td>\n",
       "      <td>female</td>\n",
       "      <td>university</td>\n",
       "      <td>married</td>\n",
       "      <td>37</td>\n",
       "      <td>0</td>\n",
       "      <td>0</td>\n",
       "      <td>0</td>\n",
       "      <td>...</td>\n",
       "      <td>28314</td>\n",
       "      <td>28959</td>\n",
       "      <td>29547</td>\n",
       "      <td>2000</td>\n",
       "      <td>2019</td>\n",
       "      <td>1200</td>\n",
       "      <td>1100</td>\n",
       "      <td>1069</td>\n",
       "      <td>1000</td>\n",
       "      <td>0</td>\n",
       "    </tr>\n",
       "    <tr>\n",
       "      <th>4</th>\n",
       "      <td>5</td>\n",
       "      <td>200510</td>\n",
       "      <td>50000</td>\n",
       "      <td>male</td>\n",
       "      <td>university</td>\n",
       "      <td>married</td>\n",
       "      <td>57</td>\n",
       "      <td>-1</td>\n",
       "      <td>0</td>\n",
       "      <td>-1</td>\n",
       "      <td>...</td>\n",
       "      <td>20940</td>\n",
       "      <td>19146</td>\n",
       "      <td>19131</td>\n",
       "      <td>2000</td>\n",
       "      <td>36681</td>\n",
       "      <td>10000</td>\n",
       "      <td>9000</td>\n",
       "      <td>689</td>\n",
       "      <td>679</td>\n",
       "      <td>0</td>\n",
       "    </tr>\n",
       "  </tbody>\n",
       "</table>\n",
       "<p>5 rows × 26 columns</p>\n",
       "</div>"
      ],
      "text/plain": [
       "   ID   SAFRA  LIMIT_BAL     SEX   EDUCATION MARRIAGE  AGE  PAY_0  PAY_2  \\\n",
       "0   1  200510      20000  female  university  married   24      2      2   \n",
       "1   2  200510     120000  female  university   single   26     -1      2   \n",
       "2   3  200510      90000  female  university   single   34      0      0   \n",
       "3   4  200510      50000  female  university  married   37      0      0   \n",
       "4   5  200510      50000    male  university  married   57     -1      0   \n",
       "\n",
       "   PAY_3  ...  BILL_AMT4  BILL_AMT5  BILL_AMT6  PAY_AMT1  PAY_AMT2  PAY_AMT3  \\\n",
       "0     -1  ...          0          0          0         0       689         0   \n",
       "1      0  ...       3272       3455       3261         0      1000      1000   \n",
       "2      0  ...      14331      14948      15549      1518      1500      1000   \n",
       "3      0  ...      28314      28959      29547      2000      2019      1200   \n",
       "4     -1  ...      20940      19146      19131      2000     36681     10000   \n",
       "\n",
       "   PAY_AMT4  PAY_AMT5  PAY_AMT6  default  \n",
       "0         0         0         0        1  \n",
       "1      1000         0      2000        1  \n",
       "2      1000      1000      5000        0  \n",
       "3      1100      1069      1000        0  \n",
       "4      9000       689       679        0  \n",
       "\n",
       "[5 rows x 26 columns]"
      ]
     },
     "execution_count": 23,
     "metadata": {},
     "output_type": "execute_result"
    }
   ],
   "source": [
    "#Esse será o dataset utilizado para treinameto do modelo.\n",
    "df0_dev = df_raw[df_raw['SAFRA'] <= 200604].copy()\n",
    "df0_dev.head()"
   ]
  },
  {
   "cell_type": "markdown",
   "id": "ca620981",
   "metadata": {
    "hidden": true
   },
   "source": [
    "    É necessário que o balanceamento do dataset real seja igual ao balanceamento do dataset separado para treino, pois os dados de treinos precisam retratar a realidades dos dados coletados em ambiente real."
   ]
  },
  {
   "cell_type": "code",
   "execution_count": 24,
   "id": "f85ed980",
   "metadata": {
    "ExecuteTime": {
     "end_time": "2023-05-09T12:27:37.458167Z",
     "start_time": "2023-05-09T12:27:37.445373Z"
    },
    "hidden": true
   },
   "outputs": [
    {
     "name": "stdout",
     "output_type": "stream",
     "text": [
      "O dataset de treino tem 22.84% de inadimplentes.\n",
      "O dataset de teste tem 20.44% de inadimplentes.\n"
     ]
    }
   ],
   "source": [
    "#verificando balanceamento do dataset de treino e do dataset de teste.\n",
    "print(\"O dataset de treino tem {:.2f}% de inadimplentes.\" .format(df0_dev[df0_dev['default'] == 1].shape[0]*100/df0_dev.shape[0]))\n",
    "print(\"O dataset de teste tem {:.2f}% de inadimplentes.\" .format(df_OOT[df_OOT['default'] == 1].shape[0]*100/df_OOT.shape[0]))"
   ]
  },
  {
   "cell_type": "markdown",
   "id": "1d28f131",
   "metadata": {
    "ExecuteTime": {
     "end_time": "2023-05-04T19:15:23.084343Z",
     "start_time": "2023-05-04T19:15:23.078628Z"
    },
    "hidden": true
   },
   "source": [
    "    df0_dev é o dataset que será usado para construir o modelo.\n",
    "    df_OOT é o dataset que será usado para testar o modelo. OOT(Out of time)"
   ]
  },
  {
   "cell_type": "markdown",
   "id": "cdad68cc",
   "metadata": {
    "heading_collapsed": true
   },
   "source": [
    "# PASSO 1 - Data Description"
   ]
  },
  {
   "cell_type": "markdown",
   "id": "2edc7a73",
   "metadata": {
    "hidden": true
   },
   "source": [
    "    A patir deste ponto usararemos apenas o dataset de treino.\n",
    "    \n",
    "    O Objetivo desta seção é fazer uma análise descritiva do nosso dataset de treino, ou seja, verificar os tipos de dados que temos disponíveis, se são variáveis numéricas ou categoricas. Calcular medidas de tendência central e disperção.\n"
   ]
  },
  {
   "cell_type": "code",
   "execution_count": 25,
   "id": "b767c747",
   "metadata": {
    "ExecuteTime": {
     "end_time": "2023-05-09T12:27:39.119633Z",
     "start_time": "2023-05-09T12:27:39.116392Z"
    },
    "hidden": true
   },
   "outputs": [],
   "source": [
    "df1 = df0_dev.copy()"
   ]
  },
  {
   "cell_type": "code",
   "execution_count": 26,
   "id": "6f8bad17",
   "metadata": {
    "ExecuteTime": {
     "end_time": "2023-05-09T12:27:39.365462Z",
     "start_time": "2023-05-09T12:27:39.360584Z"
    },
    "hidden": true
   },
   "outputs": [
    {
     "name": "stdout",
     "output_type": "stream",
     "text": [
      "Number of Rows: 21000\n",
      "Number of columns: 26\n"
     ]
    }
   ],
   "source": [
    "#verificando o número de linhas e colunas do dataset.\n",
    "print('Number of Rows: {}' .format(df1.shape[0]))\n",
    "print('Number of columns: {}' .format(df1.shape[1]))"
   ]
  },
  {
   "cell_type": "code",
   "execution_count": 27,
   "id": "75da0dc6",
   "metadata": {
    "ExecuteTime": {
     "end_time": "2023-05-09T12:27:40.001506Z",
     "start_time": "2023-05-09T12:27:39.997091Z"
    },
    "hidden": true
   },
   "outputs": [
    {
     "data": {
      "text/plain": [
       "ID            int64\n",
       "SAFRA         int64\n",
       "LIMIT_BAL     int64\n",
       "SEX          object\n",
       "EDUCATION    object\n",
       "MARRIAGE     object\n",
       "AGE           int64\n",
       "PAY_0         int64\n",
       "PAY_2         int64\n",
       "PAY_3         int64\n",
       "PAY_4         int64\n",
       "PAY_5         int64\n",
       "PAY_6         int64\n",
       "BILL_AMT1     int64\n",
       "BILL_AMT2     int64\n",
       "BILL_AMT3     int64\n",
       "BILL_AMT4     int64\n",
       "BILL_AMT5     int64\n",
       "BILL_AMT6     int64\n",
       "PAY_AMT1      int64\n",
       "PAY_AMT2      int64\n",
       "PAY_AMT3      int64\n",
       "PAY_AMT4      int64\n",
       "PAY_AMT5      int64\n",
       "PAY_AMT6      int64\n",
       "default       int64\n",
       "dtype: object"
      ]
     },
     "execution_count": 27,
     "metadata": {},
     "output_type": "execute_result"
    }
   ],
   "source": [
    "#verificando tipos de dados\n",
    "df1.dtypes"
   ]
  },
  {
   "cell_type": "code",
   "execution_count": 28,
   "id": "69450a5c",
   "metadata": {
    "ExecuteTime": {
     "end_time": "2023-05-09T12:27:40.215642Z",
     "start_time": "2023-05-09T12:27:40.194537Z"
    },
    "hidden": true
   },
   "outputs": [
    {
     "data": {
      "text/plain": [
       "ID           0\n",
       "SAFRA        0\n",
       "LIMIT_BAL    0\n",
       "SEX          0\n",
       "EDUCATION    0\n",
       "MARRIAGE     0\n",
       "AGE          0\n",
       "PAY_0        0\n",
       "PAY_2        0\n",
       "PAY_3        0\n",
       "PAY_4        0\n",
       "PAY_5        0\n",
       "PAY_6        0\n",
       "BILL_AMT1    0\n",
       "BILL_AMT2    0\n",
       "BILL_AMT3    0\n",
       "BILL_AMT4    0\n",
       "BILL_AMT5    0\n",
       "BILL_AMT6    0\n",
       "PAY_AMT1     0\n",
       "PAY_AMT2     0\n",
       "PAY_AMT3     0\n",
       "PAY_AMT4     0\n",
       "PAY_AMT5     0\n",
       "PAY_AMT6     0\n",
       "default      0\n",
       "dtype: int64"
      ]
     },
     "execution_count": 28,
     "metadata": {},
     "output_type": "execute_result"
    }
   ],
   "source": [
    "#Verificando valores faltantes no dataset.\n",
    "df1.isna().sum()"
   ]
  },
  {
   "cell_type": "code",
   "execution_count": 29,
   "id": "788646a0",
   "metadata": {
    "ExecuteTime": {
     "end_time": "2023-05-09T12:27:40.396784Z",
     "start_time": "2023-05-09T12:27:40.383349Z"
    },
    "hidden": true
   },
   "outputs": [],
   "source": [
    "#separando os atributos categoricos dos atributos numéricos.\n",
    "num_attributes = df1.select_dtypes(include=['int64' , 'float64'])\n",
    "cat_attributtes = df1.select_dtypes(exclude=['int64','float64'])"
   ]
  },
  {
   "cell_type": "code",
   "execution_count": 30,
   "id": "143c1ed6",
   "metadata": {
    "ExecuteTime": {
     "end_time": "2023-05-09T12:27:40.705703Z",
     "start_time": "2023-05-09T12:27:40.597563Z"
    },
    "hidden": true
   },
   "outputs": [
    {
     "data": {
      "text/html": [
       "<div>\n",
       "<style scoped>\n",
       "    .dataframe tbody tr th:only-of-type {\n",
       "        vertical-align: middle;\n",
       "    }\n",
       "\n",
       "    .dataframe tbody tr th {\n",
       "        vertical-align: top;\n",
       "    }\n",
       "\n",
       "    .dataframe thead th {\n",
       "        text-align: right;\n",
       "    }\n",
       "</style>\n",
       "<table border=\"1\" class=\"dataframe\">\n",
       "  <thead>\n",
       "    <tr style=\"text-align: right;\">\n",
       "      <th></th>\n",
       "      <th>attributes</th>\n",
       "      <th>min</th>\n",
       "      <th>max</th>\n",
       "      <th>range</th>\n",
       "      <th>mean</th>\n",
       "      <th>median</th>\n",
       "      <th>std</th>\n",
       "      <th>skew</th>\n",
       "      <th>kurtosis</th>\n",
       "    </tr>\n",
       "  </thead>\n",
       "  <tbody>\n",
       "    <tr>\n",
       "      <th>0</th>\n",
       "      <td>ID</td>\n",
       "      <td>1.0</td>\n",
       "      <td>21000.0</td>\n",
       "      <td>20999.0</td>\n",
       "      <td>10500.500000</td>\n",
       "      <td>10500.5</td>\n",
       "      <td>6062.177820</td>\n",
       "      <td>0.000000</td>\n",
       "      <td>-1.200000</td>\n",
       "    </tr>\n",
       "    <tr>\n",
       "      <th>1</th>\n",
       "      <td>SAFRA</td>\n",
       "      <td>200510.0</td>\n",
       "      <td>200604.0</td>\n",
       "      <td>94.0</td>\n",
       "      <td>200563.285714</td>\n",
       "      <td>200601.0</td>\n",
       "      <td>45.291798</td>\n",
       "      <td>-0.288063</td>\n",
       "      <td>-1.915213</td>\n",
       "    </tr>\n",
       "    <tr>\n",
       "      <th>2</th>\n",
       "      <td>LIMIT_BAL</td>\n",
       "      <td>10000.0</td>\n",
       "      <td>1000000.0</td>\n",
       "      <td>990000.0</td>\n",
       "      <td>163276.365714</td>\n",
       "      <td>130000.0</td>\n",
       "      <td>128677.638299</td>\n",
       "      <td>1.028252</td>\n",
       "      <td>0.602996</td>\n",
       "    </tr>\n",
       "    <tr>\n",
       "      <th>3</th>\n",
       "      <td>AGE</td>\n",
       "      <td>21.0</td>\n",
       "      <td>79.0</td>\n",
       "      <td>58.0</td>\n",
       "      <td>35.415286</td>\n",
       "      <td>34.0</td>\n",
       "      <td>9.246949</td>\n",
       "      <td>0.734517</td>\n",
       "      <td>0.045975</td>\n",
       "    </tr>\n",
       "    <tr>\n",
       "      <th>4</th>\n",
       "      <td>PAY_0</td>\n",
       "      <td>-2.0</td>\n",
       "      <td>8.0</td>\n",
       "      <td>10.0</td>\n",
       "      <td>0.018476</td>\n",
       "      <td>0.0</td>\n",
       "      <td>1.123405</td>\n",
       "      <td>0.807518</td>\n",
       "      <td>3.099244</td>\n",
       "    </tr>\n",
       "    <tr>\n",
       "      <th>5</th>\n",
       "      <td>PAY_2</td>\n",
       "      <td>-2.0</td>\n",
       "      <td>8.0</td>\n",
       "      <td>10.0</td>\n",
       "      <td>-0.103238</td>\n",
       "      <td>0.0</td>\n",
       "      <td>1.203886</td>\n",
       "      <td>0.820207</td>\n",
       "      <td>1.673044</td>\n",
       "    </tr>\n",
       "    <tr>\n",
       "      <th>6</th>\n",
       "      <td>PAY_3</td>\n",
       "      <td>-2.0</td>\n",
       "      <td>8.0</td>\n",
       "      <td>10.0</td>\n",
       "      <td>-0.136238</td>\n",
       "      <td>0.0</td>\n",
       "      <td>1.209314</td>\n",
       "      <td>0.917693</td>\n",
       "      <td>2.444372</td>\n",
       "    </tr>\n",
       "    <tr>\n",
       "      <th>7</th>\n",
       "      <td>PAY_4</td>\n",
       "      <td>-2.0</td>\n",
       "      <td>8.0</td>\n",
       "      <td>10.0</td>\n",
       "      <td>-0.196381</td>\n",
       "      <td>0.0</td>\n",
       "      <td>1.169821</td>\n",
       "      <td>1.070557</td>\n",
       "      <td>3.897242</td>\n",
       "    </tr>\n",
       "    <tr>\n",
       "      <th>8</th>\n",
       "      <td>PAY_5</td>\n",
       "      <td>-2.0</td>\n",
       "      <td>8.0</td>\n",
       "      <td>10.0</td>\n",
       "      <td>-0.234857</td>\n",
       "      <td>0.0</td>\n",
       "      <td>1.144504</td>\n",
       "      <td>1.061523</td>\n",
       "      <td>4.143238</td>\n",
       "    </tr>\n",
       "    <tr>\n",
       "      <th>9</th>\n",
       "      <td>PAY_6</td>\n",
       "      <td>-2.0</td>\n",
       "      <td>8.0</td>\n",
       "      <td>10.0</td>\n",
       "      <td>-0.261762</td>\n",
       "      <td>0.0</td>\n",
       "      <td>1.167988</td>\n",
       "      <td>1.002820</td>\n",
       "      <td>3.507251</td>\n",
       "    </tr>\n",
       "    <tr>\n",
       "      <th>10</th>\n",
       "      <td>BILL_AMT1</td>\n",
       "      <td>-165580.0</td>\n",
       "      <td>964511.0</td>\n",
       "      <td>1130091.0</td>\n",
       "      <td>50147.675905</td>\n",
       "      <td>22645.5</td>\n",
       "      <td>71486.310869</td>\n",
       "      <td>2.688210</td>\n",
       "      <td>10.181330</td>\n",
       "    </tr>\n",
       "    <tr>\n",
       "      <th>11</th>\n",
       "      <td>BILL_AMT2</td>\n",
       "      <td>-33350.0</td>\n",
       "      <td>983931.0</td>\n",
       "      <td>1017281.0</td>\n",
       "      <td>48231.491905</td>\n",
       "      <td>21697.0</td>\n",
       "      <td>69345.953301</td>\n",
       "      <td>2.767604</td>\n",
       "      <td>11.166439</td>\n",
       "    </tr>\n",
       "    <tr>\n",
       "      <th>12</th>\n",
       "      <td>BILL_AMT3</td>\n",
       "      <td>-157264.0</td>\n",
       "      <td>1664089.0</td>\n",
       "      <td>1821353.0</td>\n",
       "      <td>45923.505952</td>\n",
       "      <td>20205.0</td>\n",
       "      <td>67178.888725</td>\n",
       "      <td>3.238424</td>\n",
       "      <td>25.040185</td>\n",
       "    </tr>\n",
       "    <tr>\n",
       "      <th>13</th>\n",
       "      <td>BILL_AMT4</td>\n",
       "      <td>-170000.0</td>\n",
       "      <td>891586.0</td>\n",
       "      <td>1061586.0</td>\n",
       "      <td>41736.894095</td>\n",
       "      <td>18964.5</td>\n",
       "      <td>61862.949754</td>\n",
       "      <td>2.849525</td>\n",
       "      <td>11.772851</td>\n",
       "    </tr>\n",
       "    <tr>\n",
       "      <th>14</th>\n",
       "      <td>BILL_AMT5</td>\n",
       "      <td>-37594.0</td>\n",
       "      <td>927171.0</td>\n",
       "      <td>964765.0</td>\n",
       "      <td>39699.641190</td>\n",
       "      <td>18177.0</td>\n",
       "      <td>59529.953697</td>\n",
       "      <td>2.919229</td>\n",
       "      <td>13.264254</td>\n",
       "    </tr>\n",
       "    <tr>\n",
       "      <th>15</th>\n",
       "      <td>BILL_AMT6</td>\n",
       "      <td>-339603.0</td>\n",
       "      <td>961664.0</td>\n",
       "      <td>1301267.0</td>\n",
       "      <td>38291.268476</td>\n",
       "      <td>17032.0</td>\n",
       "      <td>58719.245435</td>\n",
       "      <td>2.919354</td>\n",
       "      <td>13.523537</td>\n",
       "    </tr>\n",
       "    <tr>\n",
       "      <th>16</th>\n",
       "      <td>PAY_AMT1</td>\n",
       "      <td>0.0</td>\n",
       "      <td>505000.0</td>\n",
       "      <td>505000.0</td>\n",
       "      <td>5518.430476</td>\n",
       "      <td>2087.0</td>\n",
       "      <td>15176.767706</td>\n",
       "      <td>11.062896</td>\n",
       "      <td>191.380415</td>\n",
       "    </tr>\n",
       "    <tr>\n",
       "      <th>17</th>\n",
       "      <td>PAY_AMT2</td>\n",
       "      <td>0.0</td>\n",
       "      <td>1684259.0</td>\n",
       "      <td>1684259.0</td>\n",
       "      <td>5800.343762</td>\n",
       "      <td>2000.0</td>\n",
       "      <td>21457.722183</td>\n",
       "      <td>29.680070</td>\n",
       "      <td>1878.933301</td>\n",
       "    </tr>\n",
       "    <tr>\n",
       "      <th>18</th>\n",
       "      <td>PAY_AMT3</td>\n",
       "      <td>0.0</td>\n",
       "      <td>896040.0</td>\n",
       "      <td>896040.0</td>\n",
       "      <td>4813.960238</td>\n",
       "      <td>1600.0</td>\n",
       "      <td>16033.083663</td>\n",
       "      <td>16.981004</td>\n",
       "      <td>586.454101</td>\n",
       "    </tr>\n",
       "    <tr>\n",
       "      <th>19</th>\n",
       "      <td>PAY_AMT4</td>\n",
       "      <td>0.0</td>\n",
       "      <td>497000.0</td>\n",
       "      <td>497000.0</td>\n",
       "      <td>4710.233714</td>\n",
       "      <td>1494.5</td>\n",
       "      <td>15050.709938</td>\n",
       "      <td>11.651420</td>\n",
       "      <td>212.324654</td>\n",
       "    </tr>\n",
       "    <tr>\n",
       "      <th>20</th>\n",
       "      <td>PAY_AMT5</td>\n",
       "      <td>0.0</td>\n",
       "      <td>417990.0</td>\n",
       "      <td>417990.0</td>\n",
       "      <td>4719.997714</td>\n",
       "      <td>1500.0</td>\n",
       "      <td>15235.300499</td>\n",
       "      <td>11.183711</td>\n",
       "      <td>180.151061</td>\n",
       "    </tr>\n",
       "    <tr>\n",
       "      <th>21</th>\n",
       "      <td>PAY_AMT6</td>\n",
       "      <td>0.0</td>\n",
       "      <td>528666.0</td>\n",
       "      <td>528666.0</td>\n",
       "      <td>5100.154810</td>\n",
       "      <td>1419.5</td>\n",
       "      <td>17406.606668</td>\n",
       "      <td>10.576272</td>\n",
       "      <td>170.894412</td>\n",
       "    </tr>\n",
       "    <tr>\n",
       "      <th>22</th>\n",
       "      <td>default</td>\n",
       "      <td>0.0</td>\n",
       "      <td>1.0</td>\n",
       "      <td>1.0</td>\n",
       "      <td>0.228381</td>\n",
       "      <td>0.0</td>\n",
       "      <td>0.419789</td>\n",
       "      <td>1.294166</td>\n",
       "      <td>-0.325167</td>\n",
       "    </tr>\n",
       "  </tbody>\n",
       "</table>\n",
       "</div>"
      ],
      "text/plain": [
       "   attributes       min        max      range           mean    median  \\\n",
       "0          ID       1.0    21000.0    20999.0   10500.500000   10500.5   \n",
       "1       SAFRA  200510.0   200604.0       94.0  200563.285714  200601.0   \n",
       "2   LIMIT_BAL   10000.0  1000000.0   990000.0  163276.365714  130000.0   \n",
       "3         AGE      21.0       79.0       58.0      35.415286      34.0   \n",
       "4       PAY_0      -2.0        8.0       10.0       0.018476       0.0   \n",
       "5       PAY_2      -2.0        8.0       10.0      -0.103238       0.0   \n",
       "6       PAY_3      -2.0        8.0       10.0      -0.136238       0.0   \n",
       "7       PAY_4      -2.0        8.0       10.0      -0.196381       0.0   \n",
       "8       PAY_5      -2.0        8.0       10.0      -0.234857       0.0   \n",
       "9       PAY_6      -2.0        8.0       10.0      -0.261762       0.0   \n",
       "10  BILL_AMT1 -165580.0   964511.0  1130091.0   50147.675905   22645.5   \n",
       "11  BILL_AMT2  -33350.0   983931.0  1017281.0   48231.491905   21697.0   \n",
       "12  BILL_AMT3 -157264.0  1664089.0  1821353.0   45923.505952   20205.0   \n",
       "13  BILL_AMT4 -170000.0   891586.0  1061586.0   41736.894095   18964.5   \n",
       "14  BILL_AMT5  -37594.0   927171.0   964765.0   39699.641190   18177.0   \n",
       "15  BILL_AMT6 -339603.0   961664.0  1301267.0   38291.268476   17032.0   \n",
       "16   PAY_AMT1       0.0   505000.0   505000.0    5518.430476    2087.0   \n",
       "17   PAY_AMT2       0.0  1684259.0  1684259.0    5800.343762    2000.0   \n",
       "18   PAY_AMT3       0.0   896040.0   896040.0    4813.960238    1600.0   \n",
       "19   PAY_AMT4       0.0   497000.0   497000.0    4710.233714    1494.5   \n",
       "20   PAY_AMT5       0.0   417990.0   417990.0    4719.997714    1500.0   \n",
       "21   PAY_AMT6       0.0   528666.0   528666.0    5100.154810    1419.5   \n",
       "22    default       0.0        1.0        1.0       0.228381       0.0   \n",
       "\n",
       "              std       skew     kurtosis  \n",
       "0     6062.177820   0.000000    -1.200000  \n",
       "1       45.291798  -0.288063    -1.915213  \n",
       "2   128677.638299   1.028252     0.602996  \n",
       "3        9.246949   0.734517     0.045975  \n",
       "4        1.123405   0.807518     3.099244  \n",
       "5        1.203886   0.820207     1.673044  \n",
       "6        1.209314   0.917693     2.444372  \n",
       "7        1.169821   1.070557     3.897242  \n",
       "8        1.144504   1.061523     4.143238  \n",
       "9        1.167988   1.002820     3.507251  \n",
       "10   71486.310869   2.688210    10.181330  \n",
       "11   69345.953301   2.767604    11.166439  \n",
       "12   67178.888725   3.238424    25.040185  \n",
       "13   61862.949754   2.849525    11.772851  \n",
       "14   59529.953697   2.919229    13.264254  \n",
       "15   58719.245435   2.919354    13.523537  \n",
       "16   15176.767706  11.062896   191.380415  \n",
       "17   21457.722183  29.680070  1878.933301  \n",
       "18   16033.083663  16.981004   586.454101  \n",
       "19   15050.709938  11.651420   212.324654  \n",
       "20   15235.300499  11.183711   180.151061  \n",
       "21   17406.606668  10.576272   170.894412  \n",
       "22       0.419789   1.294166    -0.325167  "
      ]
     },
     "execution_count": 30,
     "metadata": {},
     "output_type": "execute_result"
    }
   ],
   "source": [
    "#Calculando algumas medidas descritivas.\n",
    "#Central Tendency - mean , median\n",
    "ct1 = pd.DataFrame(num_attributes.apply(np.mean)).T\n",
    "ct2 = pd.DataFrame(num_attributes.apply(np.median)).T\n",
    "\n",
    "#Dispersion - std , min , max , range , skew , kurtosis\n",
    "d1 = pd.DataFrame( num_attributes.apply(np.std)).T\n",
    "d2 = pd.DataFrame( num_attributes.apply(min)).T\n",
    "d3 = pd.DataFrame( num_attributes.apply(max)).T\n",
    "d4 = pd.DataFrame( num_attributes.apply( lambda x: x.max() - x.min() ) ).T\n",
    "d5 = pd.DataFrame( num_attributes.apply( lambda x: x.skew())).T\n",
    "d6 = pd.DataFrame( num_attributes.apply( lambda x: x.kurtosis() ) ).T\n",
    "\n",
    "m = pd.concat([d2,d3,d4,ct1,ct2,d1,d5,d6]).T.reset_index()\n",
    "m.columns = ['attributes','min','max','range','mean','median','std','skew','kurtosis',]\n",
    "m"
   ]
  },
  {
   "cell_type": "markdown",
   "id": "9fe25ae7",
   "metadata": {
    "ExecuteTime": {
     "end_time": "2023-05-05T18:51:47.731894Z",
     "start_time": "2023-05-05T18:51:47.728079Z"
    },
    "hidden": true
   },
   "source": [
    "    Note que temos uma assimetria positiva(Moda < Mediana < Média) para a idade, o que significa que a média da idade está mais a direita da distribuição."
   ]
  },
  {
   "cell_type": "code",
   "execution_count": 31,
   "id": "9b783477",
   "metadata": {
    "ExecuteTime": {
     "end_time": "2023-05-09T12:27:41.411955Z",
     "start_time": "2023-05-09T12:27:41.153376Z"
    },
    "hidden": true
   },
   "outputs": [
    {
     "data": {
      "image/png": "[encoded data removed]",
      "text/plain": [
       "<Figure size 360x360 with 1 Axes>"
      ]
     },
     "metadata": {
      "needs_background": "light"
     },
     "output_type": "display_data"
    }
   ],
   "source": [
    "#Verificando como está a distribuição de das idades no dataset.\n",
    "sns.displot(df1['AGE'],);"
   ]
  },
  {
   "cell_type": "code",
   "execution_count": 32,
   "id": "b7e782e3",
   "metadata": {
    "ExecuteTime": {
     "end_time": "2023-05-09T12:27:41.793772Z",
     "start_time": "2023-05-09T12:27:41.539999Z"
    },
    "hidden": true
   },
   "outputs": [
    {
     "data": {
      "image/png": "[encoded data removed]",
      "text/plain": [
       "<Figure size 360x360 with 1 Axes>"
      ]
     },
     "metadata": {
      "needs_background": "light"
     },
     "output_type": "display_data"
    }
   ],
   "source": [
    "sns.displot(df1['LIMIT_BAL']);"
   ]
  },
  {
   "cell_type": "markdown",
   "id": "7ecf6779",
   "metadata": {
    "hidden": true
   },
   "source": [
    "## 1.2 Categorical Attributes"
   ]
  },
  {
   "cell_type": "code",
   "execution_count": 33,
   "id": "84dd3984",
   "metadata": {
    "ExecuteTime": {
     "end_time": "2023-05-09T12:27:42.263338Z",
     "start_time": "2023-05-09T12:27:42.255446Z"
    },
    "hidden": true
   },
   "outputs": [
    {
     "data": {
      "text/plain": [
       "SEX          2\n",
       "EDUCATION    4\n",
       "MARRIAGE     3\n",
       "dtype: int64"
      ]
     },
     "execution_count": 33,
     "metadata": {},
     "output_type": "execute_result"
    }
   ],
   "source": [
    "#verificando o número de atributos dentro de cada categoria.\n",
    "cat_attributtes.apply(lambda x: x.unique().shape[0])"
   ]
  },
  {
   "cell_type": "code",
   "execution_count": 34,
   "id": "96c62b79",
   "metadata": {
    "ExecuteTime": {
     "end_time": "2023-05-09T12:27:42.583910Z",
     "start_time": "2023-05-09T12:27:42.491044Z"
    },
    "hidden": true
   },
   "outputs": [
    {
     "data": {
      "image/png": "[encoded data removed]",
      "text/plain": [
       "<Figure size 432x288 with 1 Axes>"
      ]
     },
     "metadata": {
      "needs_background": "light"
     },
     "output_type": "display_data"
    }
   ],
   "source": [
    "#Verificando o número de inadimplentes por sexo.\n",
    "aux = df1.loc[df1['default']==1]\n",
    "aux1 = aux[['SEX','default']].groupby('SEX').sum().reset_index()\n",
    "sns.barplot(data=aux1 , x='SEX' , y='default');\n",
    "plt.xlabel('SEXO')\n",
    "plt.ylabel('Total de Inadimplentes')\n",
    "plt.show();"
   ]
  },
  {
   "cell_type": "code",
   "execution_count": 35,
   "id": "937d6d70",
   "metadata": {
    "ExecuteTime": {
     "end_time": "2023-05-09T12:27:42.931379Z",
     "start_time": "2023-05-09T12:27:42.815317Z"
    },
    "hidden": true
   },
   "outputs": [
    {
     "data": {
      "text/plain": [
       "Text(0, 0.5, 'Total de Inadimplentes')"
      ]
     },
     "execution_count": 35,
     "metadata": {},
     "output_type": "execute_result"
    },
    {
     "data": {
      "image/png": "[encoded data removed]",
      "text/plain": [
       "<Figure size 432x288 with 1 Axes>"
      ]
     },
     "metadata": {
      "needs_background": "light"
     },
     "output_type": "display_data"
    }
   ],
   "source": [
    "#Verificando o número de inadimplentes por educação.\n",
    "aux = df1.loc[df1['default']== 1]\n",
    "aux2 = aux[['EDUCATION','default']].groupby('EDUCATION').sum().reset_index()\n",
    "sns.barplot(data=aux2 , x='EDUCATION' , y='default');\n",
    "plt.xlabel('EDUCAÇÃO')\n",
    "plt.ylabel('Total de Inadimplentes')"
   ]
  },
  {
   "cell_type": "code",
   "execution_count": 36,
   "id": "6d3e9ae5",
   "metadata": {
    "ExecuteTime": {
     "end_time": "2023-05-09T12:27:43.080913Z",
     "start_time": "2023-05-09T12:27:42.981790Z"
    },
    "hidden": true
   },
   "outputs": [
    {
     "data": {
      "text/plain": [
       "Text(0, 0.5, 'Total de Inadimplentes')"
      ]
     },
     "execution_count": 36,
     "metadata": {},
     "output_type": "execute_result"
    },
    {
     "data": {
      "image/png": "[encoded data removed]",
      "text/plain": [
       "<Figure size 432x288 with 1 Axes>"
      ]
     },
     "metadata": {
      "needs_background": "light"
     },
     "output_type": "display_data"
    }
   ],
   "source": [
    "# Verificando o número de inadimplentes por estado civil.\n",
    "aux = df1.loc[df1['default']== 1]\n",
    "aux3 = aux[['MARRIAGE','default']].groupby('MARRIAGE').sum().reset_index()\n",
    "sns.barplot(data=aux3 , x='MARRIAGE' , y='default');\n",
    "plt.xlabel(\"Estado Civil\")\n",
    "plt.ylabel('Total de Inadimplentes')"
   ]
  },
  {
   "cell_type": "markdown",
   "id": "61acab45",
   "metadata": {
    "heading_collapsed": true
   },
   "source": [
    "# PASSO 2 - Feature Engeneering"
   ]
  },
  {
   "cell_type": "markdown",
   "id": "a8a00308",
   "metadata": {
    "hidden": true
   },
   "source": [
    "Nesta seção vamos derivar atributos apartir dos atributos já conhecidos. "
   ]
  },
  {
   "cell_type": "code",
   "execution_count": 37,
   "id": "57211793",
   "metadata": {
    "ExecuteTime": {
     "end_time": "2023-05-09T12:27:43.718105Z",
     "start_time": "2023-05-09T12:27:43.706883Z"
    },
    "hidden": true
   },
   "outputs": [],
   "source": [
    "df2 = df1.copy()"
   ]
  },
  {
   "cell_type": "code",
   "execution_count": 38,
   "id": "5b4b1f13",
   "metadata": {
    "ExecuteTime": {
     "end_time": "2023-05-09T12:27:44.417826Z",
     "start_time": "2023-05-09T12:27:44.414374Z"
    },
    "hidden": true
   },
   "outputs": [
    {
     "data": {
      "text/plain": [
       "Index(['ID', 'SAFRA', 'LIMIT_BAL', 'SEX', 'EDUCATION', 'MARRIAGE', 'AGE',\n",
       "       'PAY_0', 'PAY_2', 'PAY_3', 'PAY_4', 'PAY_5', 'PAY_6', 'BILL_AMT1',\n",
       "       'BILL_AMT2', 'BILL_AMT3', 'BILL_AMT4', 'BILL_AMT5', 'BILL_AMT6',\n",
       "       'PAY_AMT1', 'PAY_AMT2', 'PAY_AMT3', 'PAY_AMT4', 'PAY_AMT5', 'PAY_AMT6',\n",
       "       'default'],\n",
       "      dtype='object')"
      ]
     },
     "execution_count": 38,
     "metadata": {},
     "output_type": "execute_result"
    }
   ],
   "source": [
    "df2.columns"
   ]
  },
  {
   "cell_type": "markdown",
   "id": "8801fb95",
   "metadata": {
    "hidden": true
   },
   "source": [
    "    Aqui vamos construir alguns atributos:\n",
    "        1. SUM_BILL = Soma do valor de todas as faturas. \n",
    "        2. AVG_BILL = Média do valor de todas as faturas. \n",
    "        3. max_BILL = O valor mais alto de todas as faturas dos últimos meses.\n",
    "        4. SUM_PAY = Valor total pago das faturas nos últimos meses.\n",
    "        5. AVG_PAY = Média do valor total pago. \n",
    "        6. max_PAY = Valor mais alto pago. \n",
    "    "
   ]
  },
  {
   "cell_type": "code",
   "execution_count": 39,
   "id": "9a029bba",
   "metadata": {
    "ExecuteTime": {
     "end_time": "2023-05-09T12:27:46.138278Z",
     "start_time": "2023-05-09T12:27:46.118788Z"
    },
    "hidden": true
   },
   "outputs": [],
   "source": [
    "df2['SUM_BILL'] = df2['BILL_AMT1'] + df2['BILL_AMT2'] + df2['BILL_AMT3'] + df2['BILL_AMT4'] + df2['BILL_AMT5'] + df2['BILL_AMT6']   \n",
    "df2['AVG_BILL'] = df2['SUM_BILL'] / 6\n",
    "df2['max_BILL'] = df2[['BILL_AMT1', 'BILL_AMT2', 'BILL_AMT3', 'BILL_AMT4', 'BILL_AMT5', 'BILL_AMT6']].max(axis=1)\n",
    "\n",
    "df2['SUM_PAY'] = df2['PAY_AMT1'] + df2['PAY_AMT2'] + df2['PAY_AMT3'] + df2['PAY_AMT4'] + df2['PAY_AMT5'] + df2['PAY_AMT6']\n",
    "df2['AVG_PAY'] = df2['SUM_PAY'] / 6\n",
    "df2['max_PAY'] = df2[['PAY_AMT1', 'PAY_AMT2', 'PAY_AMT2', 'PAY_AMT3', 'PAY_AMT4', 'PAY_AMT5','PAY_AMT6']].max(axis=1)"
   ]
  },
  {
   "cell_type": "code",
   "execution_count": 40,
   "id": "a5cea661",
   "metadata": {
    "ExecuteTime": {
     "end_time": "2023-05-09T12:27:46.802282Z",
     "start_time": "2023-05-09T12:27:46.742255Z"
    },
    "hidden": true
   },
   "outputs": [
    {
     "data": {
      "text/html": [
       "<div>\n",
       "<style scoped>\n",
       "    .dataframe tbody tr th:only-of-type {\n",
       "        vertical-align: middle;\n",
       "    }\n",
       "\n",
       "    .dataframe tbody tr th {\n",
       "        vertical-align: top;\n",
       "    }\n",
       "\n",
       "    .dataframe thead th {\n",
       "        text-align: right;\n",
       "    }\n",
       "</style>\n",
       "<table border=\"1\" class=\"dataframe\">\n",
       "  <thead>\n",
       "    <tr style=\"text-align: right;\">\n",
       "      <th></th>\n",
       "      <th>count</th>\n",
       "      <th>mean</th>\n",
       "      <th>std</th>\n",
       "      <th>min</th>\n",
       "      <th>25%</th>\n",
       "      <th>50%</th>\n",
       "      <th>75%</th>\n",
       "      <th>max</th>\n",
       "    </tr>\n",
       "  </thead>\n",
       "  <tbody>\n",
       "    <tr>\n",
       "      <th>ID</th>\n",
       "      <td>21000.0</td>\n",
       "      <td>10500.500000</td>\n",
       "      <td>6062.322162</td>\n",
       "      <td>1.000000</td>\n",
       "      <td>5250.750000</td>\n",
       "      <td>10500.500000</td>\n",
       "      <td>15750.250000</td>\n",
       "      <td>2.100000e+04</td>\n",
       "    </tr>\n",
       "    <tr>\n",
       "      <th>SAFRA</th>\n",
       "      <td>21000.0</td>\n",
       "      <td>200563.285714</td>\n",
       "      <td>45.292876</td>\n",
       "      <td>200510.000000</td>\n",
       "      <td>200511.000000</td>\n",
       "      <td>200601.000000</td>\n",
       "      <td>200603.000000</td>\n",
       "      <td>2.006040e+05</td>\n",
       "    </tr>\n",
       "    <tr>\n",
       "      <th>LIMIT_BAL</th>\n",
       "      <td>21000.0</td>\n",
       "      <td>163276.365714</td>\n",
       "      <td>128680.702162</td>\n",
       "      <td>10000.000000</td>\n",
       "      <td>50000.000000</td>\n",
       "      <td>130000.000000</td>\n",
       "      <td>230000.000000</td>\n",
       "      <td>1.000000e+06</td>\n",
       "    </tr>\n",
       "    <tr>\n",
       "      <th>AGE</th>\n",
       "      <td>21000.0</td>\n",
       "      <td>35.415286</td>\n",
       "      <td>9.247169</td>\n",
       "      <td>21.000000</td>\n",
       "      <td>28.000000</td>\n",
       "      <td>34.000000</td>\n",
       "      <td>41.000000</td>\n",
       "      <td>7.900000e+01</td>\n",
       "    </tr>\n",
       "    <tr>\n",
       "      <th>PAY_0</th>\n",
       "      <td>21000.0</td>\n",
       "      <td>0.018476</td>\n",
       "      <td>1.123432</td>\n",
       "      <td>-2.000000</td>\n",
       "      <td>-1.000000</td>\n",
       "      <td>0.000000</td>\n",
       "      <td>0.000000</td>\n",
       "      <td>8.000000e+00</td>\n",
       "    </tr>\n",
       "    <tr>\n",
       "      <th>PAY_2</th>\n",
       "      <td>21000.0</td>\n",
       "      <td>-0.103238</td>\n",
       "      <td>1.203915</td>\n",
       "      <td>-2.000000</td>\n",
       "      <td>-1.000000</td>\n",
       "      <td>0.000000</td>\n",
       "      <td>0.000000</td>\n",
       "      <td>8.000000e+00</td>\n",
       "    </tr>\n",
       "    <tr>\n",
       "      <th>PAY_3</th>\n",
       "      <td>21000.0</td>\n",
       "      <td>-0.136238</td>\n",
       "      <td>1.209342</td>\n",
       "      <td>-2.000000</td>\n",
       "      <td>-1.000000</td>\n",
       "      <td>0.000000</td>\n",
       "      <td>0.000000</td>\n",
       "      <td>8.000000e+00</td>\n",
       "    </tr>\n",
       "    <tr>\n",
       "      <th>PAY_4</th>\n",
       "      <td>21000.0</td>\n",
       "      <td>-0.196381</td>\n",
       "      <td>1.169849</td>\n",
       "      <td>-2.000000</td>\n",
       "      <td>-1.000000</td>\n",
       "      <td>0.000000</td>\n",
       "      <td>0.000000</td>\n",
       "      <td>8.000000e+00</td>\n",
       "    </tr>\n",
       "    <tr>\n",
       "      <th>PAY_5</th>\n",
       "      <td>21000.0</td>\n",
       "      <td>-0.234857</td>\n",
       "      <td>1.144531</td>\n",
       "      <td>-2.000000</td>\n",
       "      <td>-1.000000</td>\n",
       "      <td>0.000000</td>\n",
       "      <td>0.000000</td>\n",
       "      <td>8.000000e+00</td>\n",
       "    </tr>\n",
       "    <tr>\n",
       "      <th>PAY_6</th>\n",
       "      <td>21000.0</td>\n",
       "      <td>-0.261762</td>\n",
       "      <td>1.168015</td>\n",
       "      <td>-2.000000</td>\n",
       "      <td>-1.000000</td>\n",
       "      <td>0.000000</td>\n",
       "      <td>0.000000</td>\n",
       "      <td>8.000000e+00</td>\n",
       "    </tr>\n",
       "    <tr>\n",
       "      <th>BILL_AMT1</th>\n",
       "      <td>21000.0</td>\n",
       "      <td>50147.675905</td>\n",
       "      <td>71488.012985</td>\n",
       "      <td>-165580.000000</td>\n",
       "      <td>3739.750000</td>\n",
       "      <td>22645.500000</td>\n",
       "      <td>65224.250000</td>\n",
       "      <td>9.645110e+05</td>\n",
       "    </tr>\n",
       "    <tr>\n",
       "      <th>BILL_AMT2</th>\n",
       "      <td>21000.0</td>\n",
       "      <td>48231.491905</td>\n",
       "      <td>69347.604454</td>\n",
       "      <td>-33350.000000</td>\n",
       "      <td>3188.000000</td>\n",
       "      <td>21697.000000</td>\n",
       "      <td>62472.500000</td>\n",
       "      <td>9.839310e+05</td>\n",
       "    </tr>\n",
       "    <tr>\n",
       "      <th>BILL_AMT3</th>\n",
       "      <td>21000.0</td>\n",
       "      <td>45923.505952</td>\n",
       "      <td>67180.488280</td>\n",
       "      <td>-157264.000000</td>\n",
       "      <td>2802.250000</td>\n",
       "      <td>20205.000000</td>\n",
       "      <td>58882.250000</td>\n",
       "      <td>1.664089e+06</td>\n",
       "    </tr>\n",
       "    <tr>\n",
       "      <th>BILL_AMT4</th>\n",
       "      <td>21000.0</td>\n",
       "      <td>41736.894095</td>\n",
       "      <td>61864.422734</td>\n",
       "      <td>-170000.000000</td>\n",
       "      <td>2340.750000</td>\n",
       "      <td>18964.500000</td>\n",
       "      <td>51462.500000</td>\n",
       "      <td>8.915860e+05</td>\n",
       "    </tr>\n",
       "    <tr>\n",
       "      <th>BILL_AMT5</th>\n",
       "      <td>21000.0</td>\n",
       "      <td>39699.641190</td>\n",
       "      <td>59531.371127</td>\n",
       "      <td>-37594.000000</td>\n",
       "      <td>1751.750000</td>\n",
       "      <td>18177.000000</td>\n",
       "      <td>49646.500000</td>\n",
       "      <td>9.271710e+05</td>\n",
       "    </tr>\n",
       "    <tr>\n",
       "      <th>BILL_AMT6</th>\n",
       "      <td>21000.0</td>\n",
       "      <td>38291.268476</td>\n",
       "      <td>58720.643562</td>\n",
       "      <td>-339603.000000</td>\n",
       "      <td>1206.000000</td>\n",
       "      <td>17032.000000</td>\n",
       "      <td>48767.250000</td>\n",
       "      <td>9.616640e+05</td>\n",
       "    </tr>\n",
       "    <tr>\n",
       "      <th>PAY_AMT1</th>\n",
       "      <td>21000.0</td>\n",
       "      <td>5518.430476</td>\n",
       "      <td>15177.129070</td>\n",
       "      <td>0.000000</td>\n",
       "      <td>990.000000</td>\n",
       "      <td>2087.000000</td>\n",
       "      <td>5000.000000</td>\n",
       "      <td>5.050000e+05</td>\n",
       "    </tr>\n",
       "    <tr>\n",
       "      <th>PAY_AMT2</th>\n",
       "      <td>21000.0</td>\n",
       "      <td>5800.343762</td>\n",
       "      <td>21458.233099</td>\n",
       "      <td>0.000000</td>\n",
       "      <td>779.000000</td>\n",
       "      <td>2000.000000</td>\n",
       "      <td>5000.000000</td>\n",
       "      <td>1.684259e+06</td>\n",
       "    </tr>\n",
       "    <tr>\n",
       "      <th>PAY_AMT3</th>\n",
       "      <td>21000.0</td>\n",
       "      <td>4813.960238</td>\n",
       "      <td>16033.465417</td>\n",
       "      <td>0.000000</td>\n",
       "      <td>326.000000</td>\n",
       "      <td>1600.000000</td>\n",
       "      <td>4100.000000</td>\n",
       "      <td>8.960400e+05</td>\n",
       "    </tr>\n",
       "    <tr>\n",
       "      <th>PAY_AMT4</th>\n",
       "      <td>21000.0</td>\n",
       "      <td>4710.233714</td>\n",
       "      <td>15051.068301</td>\n",
       "      <td>0.000000</td>\n",
       "      <td>246.000000</td>\n",
       "      <td>1494.500000</td>\n",
       "      <td>4000.000000</td>\n",
       "      <td>4.970000e+05</td>\n",
       "    </tr>\n",
       "    <tr>\n",
       "      <th>PAY_AMT5</th>\n",
       "      <td>21000.0</td>\n",
       "      <td>4719.997714</td>\n",
       "      <td>15235.663258</td>\n",
       "      <td>0.000000</td>\n",
       "      <td>219.750000</td>\n",
       "      <td>1500.000000</td>\n",
       "      <td>4000.000000</td>\n",
       "      <td>4.179900e+05</td>\n",
       "    </tr>\n",
       "    <tr>\n",
       "      <th>PAY_AMT6</th>\n",
       "      <td>21000.0</td>\n",
       "      <td>5100.154810</td>\n",
       "      <td>17407.021126</td>\n",
       "      <td>0.000000</td>\n",
       "      <td>12.000000</td>\n",
       "      <td>1419.500000</td>\n",
       "      <td>4000.000000</td>\n",
       "      <td>5.286660e+05</td>\n",
       "    </tr>\n",
       "    <tr>\n",
       "      <th>default</th>\n",
       "      <td>21000.0</td>\n",
       "      <td>0.228381</td>\n",
       "      <td>0.419799</td>\n",
       "      <td>0.000000</td>\n",
       "      <td>0.000000</td>\n",
       "      <td>0.000000</td>\n",
       "      <td>0.000000</td>\n",
       "      <td>1.000000e+00</td>\n",
       "    </tr>\n",
       "    <tr>\n",
       "      <th>SUM_BILL</th>\n",
       "      <td>21000.0</td>\n",
       "      <td>264030.477524</td>\n",
       "      <td>369441.558687</td>\n",
       "      <td>-336259.000000</td>\n",
       "      <td>29974.750000</td>\n",
       "      <td>126694.500000</td>\n",
       "      <td>334234.500000</td>\n",
       "      <td>5.263883e+06</td>\n",
       "    </tr>\n",
       "    <tr>\n",
       "      <th>AVG_BILL</th>\n",
       "      <td>21000.0</td>\n",
       "      <td>44005.079587</td>\n",
       "      <td>61573.593114</td>\n",
       "      <td>-56043.166667</td>\n",
       "      <td>4995.791667</td>\n",
       "      <td>21115.750000</td>\n",
       "      <td>55705.750000</td>\n",
       "      <td>8.773138e+05</td>\n",
       "    </tr>\n",
       "    <tr>\n",
       "      <th>max_BILL</th>\n",
       "      <td>21000.0</td>\n",
       "      <td>59349.329524</td>\n",
       "      <td>76361.304795</td>\n",
       "      <td>-4300.000000</td>\n",
       "      <td>10197.750000</td>\n",
       "      <td>31134.500000</td>\n",
       "      <td>78467.750000</td>\n",
       "      <td>1.664089e+06</td>\n",
       "    </tr>\n",
       "    <tr>\n",
       "      <th>SUM_PAY</th>\n",
       "      <td>21000.0</td>\n",
       "      <td>30663.120714</td>\n",
       "      <td>55297.249008</td>\n",
       "      <td>0.000000</td>\n",
       "      <td>6434.500000</td>\n",
       "      <td>13712.000000</td>\n",
       "      <td>32401.000000</td>\n",
       "      <td>2.314152e+06</td>\n",
       "    </tr>\n",
       "    <tr>\n",
       "      <th>AVG_PAY</th>\n",
       "      <td>21000.0</td>\n",
       "      <td>5110.520119</td>\n",
       "      <td>9216.208168</td>\n",
       "      <td>0.000000</td>\n",
       "      <td>1072.416667</td>\n",
       "      <td>2285.333333</td>\n",
       "      <td>5400.166667</td>\n",
       "      <td>3.856920e+05</td>\n",
       "    </tr>\n",
       "    <tr>\n",
       "      <th>max_PAY</th>\n",
       "      <td>21000.0</td>\n",
       "      <td>15460.186571</td>\n",
       "      <td>36387.766336</td>\n",
       "      <td>0.000000</td>\n",
       "      <td>2100.000000</td>\n",
       "      <td>5000.000000</td>\n",
       "      <td>11900.250000</td>\n",
       "      <td>1.684259e+06</td>\n",
       "    </tr>\n",
       "  </tbody>\n",
       "</table>\n",
       "</div>"
      ],
      "text/plain": [
       "             count           mean            std            min  \\\n",
       "ID         21000.0   10500.500000    6062.322162       1.000000   \n",
       "SAFRA      21000.0  200563.285714      45.292876  200510.000000   \n",
       "LIMIT_BAL  21000.0  163276.365714  128680.702162   10000.000000   \n",
       "AGE        21000.0      35.415286       9.247169      21.000000   \n",
       "PAY_0      21000.0       0.018476       1.123432      -2.000000   \n",
       "PAY_2      21000.0      -0.103238       1.203915      -2.000000   \n",
       "PAY_3      21000.0      -0.136238       1.209342      -2.000000   \n",
       "PAY_4      21000.0      -0.196381       1.169849      -2.000000   \n",
       "PAY_5      21000.0      -0.234857       1.144531      -2.000000   \n",
       "PAY_6      21000.0      -0.261762       1.168015      -2.000000   \n",
       "BILL_AMT1  21000.0   50147.675905   71488.012985 -165580.000000   \n",
       "BILL_AMT2  21000.0   48231.491905   69347.604454  -33350.000000   \n",
       "BILL_AMT3  21000.0   45923.505952   67180.488280 -157264.000000   \n",
       "BILL_AMT4  21000.0   41736.894095   61864.422734 -170000.000000   \n",
       "BILL_AMT5  21000.0   39699.641190   59531.371127  -37594.000000   \n",
       "BILL_AMT6  21000.0   38291.268476   58720.643562 -339603.000000   \n",
       "PAY_AMT1   21000.0    5518.430476   15177.129070       0.000000   \n",
       "PAY_AMT2   21000.0    5800.343762   21458.233099       0.000000   \n",
       "PAY_AMT3   21000.0    4813.960238   16033.465417       0.000000   \n",
       "PAY_AMT4   21000.0    4710.233714   15051.068301       0.000000   \n",
       "PAY_AMT5   21000.0    4719.997714   15235.663258       0.000000   \n",
       "PAY_AMT6   21000.0    5100.154810   17407.021126       0.000000   \n",
       "default    21000.0       0.228381       0.419799       0.000000   \n",
       "SUM_BILL   21000.0  264030.477524  369441.558687 -336259.000000   \n",
       "AVG_BILL   21000.0   44005.079587   61573.593114  -56043.166667   \n",
       "max_BILL   21000.0   59349.329524   76361.304795   -4300.000000   \n",
       "SUM_PAY    21000.0   30663.120714   55297.249008       0.000000   \n",
       "AVG_PAY    21000.0    5110.520119    9216.208168       0.000000   \n",
       "max_PAY    21000.0   15460.186571   36387.766336       0.000000   \n",
       "\n",
       "                     25%            50%            75%           max  \n",
       "ID           5250.750000   10500.500000   15750.250000  2.100000e+04  \n",
       "SAFRA      200511.000000  200601.000000  200603.000000  2.006040e+05  \n",
       "LIMIT_BAL   50000.000000  130000.000000  230000.000000  1.000000e+06  \n",
       "AGE            28.000000      34.000000      41.000000  7.900000e+01  \n",
       "PAY_0          -1.000000       0.000000       0.000000  8.000000e+00  \n",
       "PAY_2          -1.000000       0.000000       0.000000  8.000000e+00  \n",
       "PAY_3          -1.000000       0.000000       0.000000  8.000000e+00  \n",
       "PAY_4          -1.000000       0.000000       0.000000  8.000000e+00  \n",
       "PAY_5          -1.000000       0.000000       0.000000  8.000000e+00  \n",
       "PAY_6          -1.000000       0.000000       0.000000  8.000000e+00  \n",
       "BILL_AMT1    3739.750000   22645.500000   65224.250000  9.645110e+05  \n",
       "BILL_AMT2    3188.000000   21697.000000   62472.500000  9.839310e+05  \n",
       "BILL_AMT3    2802.250000   20205.000000   58882.250000  1.664089e+06  \n",
       "BILL_AMT4    2340.750000   18964.500000   51462.500000  8.915860e+05  \n",
       "BILL_AMT5    1751.750000   18177.000000   49646.500000  9.271710e+05  \n",
       "BILL_AMT6    1206.000000   17032.000000   48767.250000  9.616640e+05  \n",
       "PAY_AMT1      990.000000    2087.000000    5000.000000  5.050000e+05  \n",
       "PAY_AMT2      779.000000    2000.000000    5000.000000  1.684259e+06  \n",
       "PAY_AMT3      326.000000    1600.000000    4100.000000  8.960400e+05  \n",
       "PAY_AMT4      246.000000    1494.500000    4000.000000  4.970000e+05  \n",
       "PAY_AMT5      219.750000    1500.000000    4000.000000  4.179900e+05  \n",
       "PAY_AMT6       12.000000    1419.500000    4000.000000  5.286660e+05  \n",
       "default         0.000000       0.000000       0.000000  1.000000e+00  \n",
       "SUM_BILL    29974.750000  126694.500000  334234.500000  5.263883e+06  \n",
       "AVG_BILL     4995.791667   21115.750000   55705.750000  8.773138e+05  \n",
       "max_BILL    10197.750000   31134.500000   78467.750000  1.664089e+06  \n",
       "SUM_PAY      6434.500000   13712.000000   32401.000000  2.314152e+06  \n",
       "AVG_PAY      1072.416667    2285.333333    5400.166667  3.856920e+05  \n",
       "max_PAY      2100.000000    5000.000000   11900.250000  1.684259e+06  "
      ]
     },
     "execution_count": 40,
     "metadata": {},
     "output_type": "execute_result"
    }
   ],
   "source": [
    "df2.describe().T"
   ]
  },
  {
   "cell_type": "code",
   "execution_count": 41,
   "id": "1430db08",
   "metadata": {
    "ExecuteTime": {
     "end_time": "2023-05-09T12:27:47.208932Z",
     "start_time": "2023-05-09T12:27:47.178953Z"
    },
    "hidden": true
   },
   "outputs": [],
   "source": [
    "#Construindo as mesmas fetures no dataset de teste\n",
    "df_OOT['SUM_BILL'] = df_OOT['BILL_AMT1'] + df_OOT['BILL_AMT2'] + df_OOT['BILL_AMT3'] + df_OOT['BILL_AMT4'] + df_OOT['BILL_AMT5'] + df_OOT['BILL_AMT6']   \n",
    "df_OOT['AVG_BILL'] = df_OOT['SUM_BILL'] / 6\n",
    "df_OOT['max_BILL'] = df_OOT[['BILL_AMT1', 'BILL_AMT2', 'BILL_AMT3', 'BILL_AMT4', 'BILL_AMT5', 'BILL_AMT6']].max(axis=1)\n",
    "\n",
    "df_OOT['SUM_PAY'] = df_OOT['PAY_AMT1'] + df_OOT['PAY_AMT2'] + df_OOT['PAY_AMT3'] + df_OOT['PAY_AMT4'] + df_OOT['PAY_AMT5'] + df_OOT['PAY_AMT6']\n",
    "df_OOT['AVG_PAY'] = df_OOT['SUM_PAY'] / 6\n",
    "df_OOT['max_PAY'] = df_OOT[['PAY_AMT1', 'PAY_AMT2', 'PAY_AMT2', 'PAY_AMT3', 'PAY_AMT4', 'PAY_AMT5','PAY_AMT6']].max(axis=1)"
   ]
  },
  {
   "cell_type": "markdown",
   "id": "3e5c791d",
   "metadata": {
    "hidden": true
   },
   "source": [
    "Metadados sobre a variável (PAY_)\n",
    "-1 = pay duly;\n",
    "1 = payment delay for one month;\n",
    "2 = payment delay for two months; . . .;\n",
    "8 = payment delay for eight months; \n",
    "9 = payment delay for nine months and above."
   ]
  },
  {
   "cell_type": "markdown",
   "id": "15899cbe",
   "metadata": {
    "heading_collapsed": true
   },
   "source": [
    "# PASSO 3 - Variable Filtering"
   ]
  },
  {
   "cell_type": "code",
   "execution_count": 42,
   "id": "8cb17da0",
   "metadata": {
    "ExecuteTime": {
     "end_time": "2023-05-09T12:27:49.056189Z",
     "start_time": "2023-05-09T12:27:49.052809Z"
    },
    "hidden": true
   },
   "outputs": [],
   "source": [
    "df3 = df2.copy()"
   ]
  },
  {
   "cell_type": "code",
   "execution_count": 43,
   "id": "b8e6688a",
   "metadata": {
    "ExecuteTime": {
     "end_time": "2023-05-09T12:27:49.515923Z",
     "start_time": "2023-05-09T12:27:49.512906Z"
    },
    "hidden": true
   },
   "outputs": [
    {
     "data": {
      "text/plain": [
       "Index(['ID', 'SAFRA', 'LIMIT_BAL', 'SEX', 'EDUCATION', 'MARRIAGE', 'AGE',\n",
       "       'PAY_0', 'PAY_2', 'PAY_3', 'PAY_4', 'PAY_5', 'PAY_6', 'BILL_AMT1',\n",
       "       'BILL_AMT2', 'BILL_AMT3', 'BILL_AMT4', 'BILL_AMT5', 'BILL_AMT6',\n",
       "       'PAY_AMT1', 'PAY_AMT2', 'PAY_AMT3', 'PAY_AMT4', 'PAY_AMT5', 'PAY_AMT6',\n",
       "       'default', 'SUM_BILL', 'AVG_BILL', 'max_BILL', 'SUM_PAY', 'AVG_PAY',\n",
       "       'max_PAY'],\n",
       "      dtype='object')"
      ]
     },
     "execution_count": 43,
     "metadata": {},
     "output_type": "execute_result"
    }
   ],
   "source": [
    "df3.columns"
   ]
  },
  {
   "cell_type": "markdown",
   "id": "820da396",
   "metadata": {
    "hidden": true
   },
   "source": [
    "Filtrando variáveis que foram derivadas na feature engeneering."
   ]
  },
  {
   "cell_type": "code",
   "execution_count": 44,
   "id": "7fcd68f8",
   "metadata": {
    "ExecuteTime": {
     "end_time": "2023-05-09T12:27:51.084406Z",
     "start_time": "2023-05-09T12:27:51.081136Z"
    },
    "hidden": true
   },
   "outputs": [],
   "source": [
    "cols_filtering = ['BILL_AMT1','BILL_AMT2', 'BILL_AMT3', 'BILL_AMT4', 'BILL_AMT5', 'BILL_AMT6', 'PAY_AMT1', 'PAY_AMT2', 'PAY_AMT3', 'PAY_AMT4', 'PAY_AMT5', 'PAY_AMT6']\n",
    "df3 = df3.drop(cols_filtering,axis=1)"
   ]
  },
  {
   "cell_type": "code",
   "execution_count": 45,
   "id": "efed664b",
   "metadata": {
    "ExecuteTime": {
     "end_time": "2023-05-09T12:27:58.621333Z",
     "start_time": "2023-05-09T12:27:58.618476Z"
    },
    "hidden": true
   },
   "outputs": [
    {
     "data": {
      "text/plain": [
       "Index(['ID', 'SAFRA', 'LIMIT_BAL', 'SEX', 'EDUCATION', 'MARRIAGE', 'AGE',\n",
       "       'PAY_0', 'PAY_2', 'PAY_3', 'PAY_4', 'PAY_5', 'PAY_6', 'default',\n",
       "       'SUM_BILL', 'AVG_BILL', 'max_BILL', 'SUM_PAY', 'AVG_PAY', 'max_PAY'],\n",
       "      dtype='object')"
      ]
     },
     "execution_count": 45,
     "metadata": {},
     "output_type": "execute_result"
    }
   ],
   "source": [
    "df3.columns"
   ]
  },
  {
   "cell_type": "code",
   "execution_count": 46,
   "id": "72ba289d",
   "metadata": {
    "ExecuteTime": {
     "end_time": "2023-05-09T12:27:59.262174Z",
     "start_time": "2023-05-09T12:27:59.259032Z"
    },
    "hidden": true
   },
   "outputs": [
    {
     "data": {
      "text/plain": [
       "array([ 2, -1,  0, -2,  1,  3,  4,  8,  7,  5,  6])"
      ]
     },
     "execution_count": 46,
     "metadata": {},
     "output_type": "execute_result"
    }
   ],
   "source": [
    "df3['PAY_0'].unique()"
   ]
  },
  {
   "cell_type": "code",
   "execution_count": 47,
   "id": "047f5271",
   "metadata": {
    "ExecuteTime": {
     "end_time": "2023-05-09T12:28:35.732752Z",
     "start_time": "2023-05-09T12:28:35.728896Z"
    },
    "hidden": true
   },
   "outputs": [],
   "source": [
    "df_OOT = df_OOT.drop(cols_filtering,axis=1)"
   ]
  },
  {
   "cell_type": "markdown",
   "id": "16c5ab3c",
   "metadata": {
    "heading_collapsed": true
   },
   "source": [
    "# PASSO 4 - EDA "
   ]
  },
  {
   "cell_type": "code",
   "execution_count": 48,
   "id": "ddcbe84e",
   "metadata": {
    "ExecuteTime": {
     "end_time": "2023-05-09T12:28:37.216415Z",
     "start_time": "2023-05-09T12:28:37.208791Z"
    },
    "hidden": true
   },
   "outputs": [],
   "source": [
    "df4 = df3.copy()"
   ]
  },
  {
   "cell_type": "markdown",
   "id": "8aea5d4e",
   "metadata": {
    "hidden": true
   },
   "source": [
    "## Análise Univariada"
   ]
  },
  {
   "cell_type": "code",
   "execution_count": 49,
   "id": "331b5b72",
   "metadata": {
    "ExecuteTime": {
     "end_time": "2023-05-09T12:28:38.050837Z",
     "start_time": "2023-05-09T12:28:38.045207Z"
    },
    "hidden": true
   },
   "outputs": [
    {
     "data": {
      "text/plain": [
       "Index(['ID', 'SAFRA', 'LIMIT_BAL', 'SEX', 'EDUCATION', 'MARRIAGE', 'AGE',\n",
       "       'PAY_0', 'PAY_2', 'PAY_3', 'PAY_4', 'PAY_5', 'PAY_6', 'default',\n",
       "       'SUM_BILL', 'AVG_BILL', 'max_BILL', 'SUM_PAY', 'AVG_PAY', 'max_PAY'],\n",
       "      dtype='object')"
      ]
     },
     "execution_count": 49,
     "metadata": {},
     "output_type": "execute_result"
    }
   ],
   "source": [
    "df4.columns"
   ]
  },
  {
   "cell_type": "code",
   "execution_count": 50,
   "id": "29077eb1",
   "metadata": {
    "ExecuteTime": {
     "end_time": "2023-05-09T12:28:39.235980Z",
     "start_time": "2023-05-09T12:28:38.229540Z"
    },
    "hidden": true
   },
   "outputs": [
    {
     "data": {
      "image/png": "[encoded data removed]",
      "text/plain": [
       "<Figure size 403.375x360 with 1 Axes>"
      ]
     },
     "metadata": {
      "needs_background": "light"
     },
     "output_type": "display_data"
    }
   ],
   "source": [
    "sns.catplot(data=df4,x='PAY_0',y='LIMIT_BAL',hue='default');"
   ]
  },
  {
   "cell_type": "code",
   "execution_count": 51,
   "id": "4b1acee9",
   "metadata": {
    "ExecuteTime": {
     "end_time": "2023-05-09T12:28:40.206523Z",
     "start_time": "2023-05-09T12:28:39.238407Z"
    },
    "hidden": true
   },
   "outputs": [
    {
     "data": {
      "image/png": "[encoded data removed]",
      "text/plain": [
       "<Figure size 403.375x360 with 1 Axes>"
      ]
     },
     "metadata": {
      "needs_background": "light"
     },
     "output_type": "display_data"
    }
   ],
   "source": [
    "sns.catplot(data=df4,x='PAY_0',y='SUM_BILL',hue='default');"
   ]
  },
  {
   "cell_type": "code",
   "execution_count": 52,
   "id": "e3bf5afc",
   "metadata": {
    "ExecuteTime": {
     "end_time": "2023-05-09T12:28:41.119575Z",
     "start_time": "2023-05-09T12:28:40.208167Z"
    },
    "hidden": true
   },
   "outputs": [
    {
     "data": {
      "image/png": "[encoded data removed]",
      "text/plain": [
       "<Figure size 403.375x360 with 1 Axes>"
      ]
     },
     "metadata": {
      "needs_background": "light"
     },
     "output_type": "display_data"
    }
   ],
   "source": [
    "sns.catplot(data=df4,x='PAY_2',y='SUM_BILL',hue='default');"
   ]
  },
  {
   "cell_type": "code",
   "execution_count": 53,
   "id": "3f693040",
   "metadata": {
    "ExecuteTime": {
     "end_time": "2023-05-09T12:28:41.677508Z",
     "start_time": "2023-05-09T12:28:41.121645Z"
    },
    "hidden": true
   },
   "outputs": [
    {
     "data": {
      "image/png": "[encoded data removed]",
      "text/plain": [
       "<Figure size 403.375x360 with 1 Axes>"
      ]
     },
     "metadata": {
      "needs_background": "light"
     },
     "output_type": "display_data"
    }
   ],
   "source": [
    "sns.catplot(data=df4,x='PAY_3',y='SUM_BILL',hue='default');"
   ]
  },
  {
   "cell_type": "code",
   "execution_count": 54,
   "id": "058824fa",
   "metadata": {
    "ExecuteTime": {
     "end_time": "2023-05-09T12:28:42.266621Z",
     "start_time": "2023-05-09T12:28:41.679012Z"
    },
    "hidden": true
   },
   "outputs": [
    {
     "data": {
      "image/png": "[encoded data removed]",
      "text/plain": [
       "<Figure size 403.375x360 with 1 Axes>"
      ]
     },
     "metadata": {
      "needs_background": "light"
     },
     "output_type": "display_data"
    }
   ],
   "source": [
    "sns.catplot(data=df4,x='PAY_4',y='SUM_BILL',hue='default');"
   ]
  },
  {
   "cell_type": "code",
   "execution_count": 55,
   "id": "625c9a9d",
   "metadata": {
    "ExecuteTime": {
     "end_time": "2023-05-09T12:28:42.859700Z",
     "start_time": "2023-05-09T12:28:42.268019Z"
    },
    "hidden": true
   },
   "outputs": [
    {
     "data": {
      "image/png": "[encoded data removed]",
      "text/plain": [
       "<Figure size 403.375x360 with 1 Axes>"
      ]
     },
     "metadata": {
      "needs_background": "light"
     },
     "output_type": "display_data"
    }
   ],
   "source": [
    "sns.catplot(data=df4,x='PAY_5',y='SUM_BILL',hue='default');"
   ]
  },
  {
   "cell_type": "markdown",
   "id": "8488a670",
   "metadata": {
    "hidden": true
   },
   "source": [
    "## Análise Bivariada"
   ]
  },
  {
   "cell_type": "code",
   "execution_count": 56,
   "id": "9aed616d",
   "metadata": {
    "ExecuteTime": {
     "end_time": "2023-05-09T12:28:43.072018Z",
     "start_time": "2023-05-09T12:28:42.861134Z"
    },
    "hidden": true
   },
   "outputs": [
    {
     "data": {
      "image/png": "[encoded data removed]",
      "text/plain": [
       "<Figure size 432x288 with 1 Axes>"
      ]
     },
     "metadata": {
      "needs_background": "light"
     },
     "output_type": "display_data"
    }
   ],
   "source": [
    "df4_aux = df4[df4['default']==1].copy()\n",
    "aux = df4_aux[['AGE','default']].groupby('AGE').count().reset_index()\n",
    "plt.bar(aux['AGE'], aux['default'])\n",
    "plt.xlabel('IDADE')\n",
    "plt.ylabel('Total de Inadimplentes')\n",
    "plt.title('Total de Inadimplentes por Idade')\n",
    "plt.show()"
   ]
  },
  {
   "cell_type": "code",
   "execution_count": 57,
   "id": "f6cf7cd1",
   "metadata": {
    "ExecuteTime": {
     "end_time": "2023-05-09T12:28:43.404836Z",
     "start_time": "2023-05-09T12:28:43.073645Z"
    },
    "hidden": true
   },
   "outputs": [
    {
     "data": {
      "image/png": "[encoded data removed]",
      "text/plain": [
       "<Figure size 720x432 with 1 Axes>"
      ]
     },
     "metadata": {
      "needs_background": "light"
     },
     "output_type": "display_data"
    }
   ],
   "source": [
    "# Filtrando os dados para inadimplentes e não inadimplentes\n",
    "df4_aux1 = df4[df4['default']==1].copy()\n",
    "df4_aux0 = df4[df4['default']==0].copy()\n",
    "\n",
    "# Plotando o gráfico de densidade\n",
    "fig, ax = plt.subplots(figsize=(10,6))\n",
    "\n",
    "sns.kdeplot(df4_aux1['AGE'], shade=True, color='red', label='Inadimplentes', ax=ax)\n",
    "sns.kdeplot(df4_aux0['AGE'], shade=True, color='blue', label='Não inadimplentes', ax=ax)\n",
    "\n",
    "ax.set_xlabel('Idade')\n",
    "ax.set_ylabel('Densidade')\n",
    "ax.set_title('Distribuição de idade para inadimplentes e não inadimplentes')\n",
    "ax.legend()\n",
    "\n",
    "plt.show()"
   ]
  },
  {
   "cell_type": "code",
   "execution_count": 58,
   "id": "0e76ed1d",
   "metadata": {
    "ExecuteTime": {
     "end_time": "2023-05-09T12:28:43.825757Z",
     "start_time": "2023-05-09T12:28:43.406380Z"
    },
    "hidden": true
   },
   "outputs": [
    {
     "data": {
      "image/png": "[encoded data removed]",
      "text/plain": [
       "<Figure size 720x432 with 1 Axes>"
      ]
     },
     "metadata": {
      "needs_background": "light"
     },
     "output_type": "display_data"
    }
   ],
   "source": [
    "# Filtrando os dados para inadimplentes e não inadimplentes\n",
    "df4_aux1 = df4[df4['default']==1].copy()\n",
    "df4_aux0 = df4[df4['default']==0].copy()\n",
    "\n",
    "# Plotando o gráfico de densidade\n",
    "fig, ax = plt.subplots(figsize=(10,6))\n",
    "\n",
    "sns.kdeplot(df4_aux1['LIMIT_BAL'], shade=True, color='red', label='Inadimplentes', ax=ax)\n",
    "sns.kdeplot(df4_aux0['LIMIT_BAL'], shade=True, color='blue', label='Não inadimplentes', ax=ax)\n",
    "\n",
    "ax.set_xlabel('Limite de Crédito Disponível')\n",
    "ax.set_ylabel('Densidade')\n",
    "ax.set_title('Distribuição de crédito para inadimplentes e não inadimplentes')\n",
    "ax.legend()\n",
    "\n",
    "plt.show()"
   ]
  },
  {
   "cell_type": "code",
   "execution_count": 59,
   "id": "edded0da",
   "metadata": {
    "ExecuteTime": {
     "end_time": "2023-05-09T12:28:44.175005Z",
     "start_time": "2023-05-09T12:28:43.828250Z"
    },
    "hidden": true
   },
   "outputs": [
    {
     "data": {
      "image/png": "[encoded data removed]",
      "text/plain": [
       "<Figure size 720x432 with 1 Axes>"
      ]
     },
     "metadata": {
      "needs_background": "light"
     },
     "output_type": "display_data"
    }
   ],
   "source": [
    "# Filtrando os dados para inadimplentes e não inadimplentes\n",
    "df4_aux1 = df4[df4['default']==1].copy()\n",
    "df4_aux0 = df4[df4['default']==0].copy()\n",
    "\n",
    "# Plotando o gráfico de densidade\n",
    "fig, ax = plt.subplots(figsize=(10,6))\n",
    "\n",
    "sns.kdeplot(df4_aux1['SUM_BILL'], shade=True, color='red', label='Inadimplentes', ax=ax)\n",
    "sns.kdeplot(df4_aux0['SUM_BILL'], shade=True, color='blue', label='Não inadimplentes', ax=ax)\n",
    "\n",
    "ax.set_xlabel('Soma do valor de todas as faturas')\n",
    "ax.set_ylabel('Densidade')\n",
    "ax.set_title('Distribuição da soma das faturas para inadimplentes e não inadimplentes')\n",
    "ax.legend()\n",
    "\n",
    "plt.show()"
   ]
  },
  {
   "cell_type": "code",
   "execution_count": 60,
   "id": "cce57fb0",
   "metadata": {
    "ExecuteTime": {
     "end_time": "2023-05-09T12:28:44.409015Z",
     "start_time": "2023-05-09T12:28:44.176585Z"
    },
    "hidden": true
   },
   "outputs": [
    {
     "ename": "KeyError",
     "evalue": "'PAY_AMT1'",
     "output_type": "error",
     "traceback": [
      "\u001b[0;31m---------------------------------------------------------------------------\u001b[0m",
      "\u001b[0;31mKeyError\u001b[0m                                  Traceback (most recent call last)",
      "\u001b[0;32m~/.local/lib/python3.10/site-packages/pandas/core/indexes/base.py\u001b[0m in \u001b[0;36mget_loc\u001b[0;34m(self, key, method, tolerance)\u001b[0m\n\u001b[1;32m   3802\u001b[0m             \u001b[0;32mtry\u001b[0m\u001b[0;34m:\u001b[0m\u001b[0;34m\u001b[0m\u001b[0;34m\u001b[0m\u001b[0m\n\u001b[0;32m-> 3803\u001b[0;31m                 \u001b[0;32mreturn\u001b[0m \u001b[0mself\u001b[0m\u001b[0;34m.\u001b[0m\u001b[0m_engine\u001b[0m\u001b[0;34m.\u001b[0m\u001b[0mget_loc\u001b[0m\u001b[0;34m(\u001b[0m\u001b[0mcasted_key\u001b[0m\u001b[0;34m)\u001b[0m\u001b[0;34m\u001b[0m\u001b[0;34m\u001b[0m\u001b[0m\n\u001b[0m\u001b[1;32m   3804\u001b[0m             \u001b[0;32mexcept\u001b[0m \u001b[0mKeyError\u001b[0m \u001b[0;32mas\u001b[0m \u001b[0merr\u001b[0m\u001b[0;34m:\u001b[0m\u001b[0;34m\u001b[0m\u001b[0;34m\u001b[0m\u001b[0m\n",
      "\u001b[0;32m~/.local/lib/python3.10/site-packages/pandas/_libs/index.pyx\u001b[0m in \u001b[0;36mpandas._libs.index.IndexEngine.get_loc\u001b[0;34m()\u001b[0m\n",
      "\u001b[0;32m~/.local/lib/python3.10/site-packages/pandas/_libs/index.pyx\u001b[0m in \u001b[0;36mpandas._libs.index.IndexEngine.get_loc\u001b[0;34m()\u001b[0m\n",
      "\u001b[0;32mpandas/_libs/hashtable_class_helper.pxi\u001b[0m in \u001b[0;36mpandas._libs.hashtable.PyObjectHashTable.get_item\u001b[0;34m()\u001b[0m\n",
      "\u001b[0;32mpandas/_libs/hashtable_class_helper.pxi\u001b[0m in \u001b[0;36mpandas._libs.hashtable.PyObjectHashTable.get_item\u001b[0;34m()\u001b[0m\n",
      "\u001b[0;31mKeyError\u001b[0m: 'PAY_AMT1'",
      "\nThe above exception was the direct cause of the following exception:\n",
      "\u001b[0;31mKeyError\u001b[0m                                  Traceback (most recent call last)",
      "\u001b[0;32m/tmp/ipykernel_6544/352741001.py\u001b[0m in \u001b[0;36m<module>\u001b[0;34m\u001b[0m\n\u001b[1;32m      6\u001b[0m \u001b[0mfig\u001b[0m\u001b[0;34m,\u001b[0m \u001b[0max\u001b[0m \u001b[0;34m=\u001b[0m \u001b[0mplt\u001b[0m\u001b[0;34m.\u001b[0m\u001b[0msubplots\u001b[0m\u001b[0;34m(\u001b[0m\u001b[0mfigsize\u001b[0m\u001b[0;34m=\u001b[0m\u001b[0;34m(\u001b[0m\u001b[0;36m10\u001b[0m\u001b[0;34m,\u001b[0m\u001b[0;36m6\u001b[0m\u001b[0;34m)\u001b[0m\u001b[0;34m)\u001b[0m\u001b[0;34m\u001b[0m\u001b[0;34m\u001b[0m\u001b[0m\n\u001b[1;32m      7\u001b[0m \u001b[0;34m\u001b[0m\u001b[0m\n\u001b[0;32m----> 8\u001b[0;31m \u001b[0msns\u001b[0m\u001b[0;34m.\u001b[0m\u001b[0mkdeplot\u001b[0m\u001b[0;34m(\u001b[0m\u001b[0mdf4_aux1\u001b[0m\u001b[0;34m[\u001b[0m\u001b[0;34m'PAY_AMT1'\u001b[0m\u001b[0;34m]\u001b[0m\u001b[0;34m,\u001b[0m \u001b[0mshade\u001b[0m\u001b[0;34m=\u001b[0m\u001b[0;32mTrue\u001b[0m\u001b[0;34m,\u001b[0m \u001b[0mcolor\u001b[0m\u001b[0;34m=\u001b[0m\u001b[0;34m'red'\u001b[0m\u001b[0;34m,\u001b[0m \u001b[0mlabel\u001b[0m\u001b[0;34m=\u001b[0m\u001b[0;34m'Inadimplentes'\u001b[0m\u001b[0;34m,\u001b[0m \u001b[0max\u001b[0m\u001b[0;34m=\u001b[0m\u001b[0max\u001b[0m\u001b[0;34m)\u001b[0m\u001b[0;34m\u001b[0m\u001b[0;34m\u001b[0m\u001b[0m\n\u001b[0m\u001b[1;32m      9\u001b[0m \u001b[0msns\u001b[0m\u001b[0;34m.\u001b[0m\u001b[0mkdeplot\u001b[0m\u001b[0;34m(\u001b[0m\u001b[0mdf4_aux0\u001b[0m\u001b[0;34m[\u001b[0m\u001b[0;34m'PAY_AMT1'\u001b[0m\u001b[0;34m]\u001b[0m\u001b[0;34m,\u001b[0m \u001b[0mshade\u001b[0m\u001b[0;34m=\u001b[0m\u001b[0;32mTrue\u001b[0m\u001b[0;34m,\u001b[0m \u001b[0mcolor\u001b[0m\u001b[0;34m=\u001b[0m\u001b[0;34m'blue'\u001b[0m\u001b[0;34m,\u001b[0m \u001b[0mlabel\u001b[0m\u001b[0;34m=\u001b[0m\u001b[0;34m'Não inadimplentes'\u001b[0m\u001b[0;34m,\u001b[0m \u001b[0max\u001b[0m\u001b[0;34m=\u001b[0m\u001b[0max\u001b[0m\u001b[0;34m)\u001b[0m\u001b[0;34m\u001b[0m\u001b[0;34m\u001b[0m\u001b[0m\n\u001b[1;32m     10\u001b[0m \u001b[0;34m\u001b[0m\u001b[0m\n",
      "\u001b[0;32m~/.local/lib/python3.10/site-packages/pandas/core/frame.py\u001b[0m in \u001b[0;36m__getitem__\u001b[0;34m(self, key)\u001b[0m\n\u001b[1;32m   3803\u001b[0m             \u001b[0;32mif\u001b[0m \u001b[0mself\u001b[0m\u001b[0;34m.\u001b[0m\u001b[0mcolumns\u001b[0m\u001b[0;34m.\u001b[0m\u001b[0mnlevels\u001b[0m \u001b[0;34m>\u001b[0m \u001b[0;36m1\u001b[0m\u001b[0;34m:\u001b[0m\u001b[0;34m\u001b[0m\u001b[0;34m\u001b[0m\u001b[0m\n\u001b[1;32m   3804\u001b[0m                 \u001b[0;32mreturn\u001b[0m \u001b[0mself\u001b[0m\u001b[0;34m.\u001b[0m\u001b[0m_getitem_multilevel\u001b[0m\u001b[0;34m(\u001b[0m\u001b[0mkey\u001b[0m\u001b[0;34m)\u001b[0m\u001b[0;34m\u001b[0m\u001b[0;34m\u001b[0m\u001b[0m\n\u001b[0;32m-> 3805\u001b[0;31m             \u001b[0mindexer\u001b[0m \u001b[0;34m=\u001b[0m \u001b[0mself\u001b[0m\u001b[0;34m.\u001b[0m\u001b[0mcolumns\u001b[0m\u001b[0;34m.\u001b[0m\u001b[0mget_loc\u001b[0m\u001b[0;34m(\u001b[0m\u001b[0mkey\u001b[0m\u001b[0;34m)\u001b[0m\u001b[0;34m\u001b[0m\u001b[0;34m\u001b[0m\u001b[0m\n\u001b[0m\u001b[1;32m   3806\u001b[0m             \u001b[0;32mif\u001b[0m \u001b[0mis_integer\u001b[0m\u001b[0;34m(\u001b[0m\u001b[0mindexer\u001b[0m\u001b[0;34m)\u001b[0m\u001b[0;34m:\u001b[0m\u001b[0;34m\u001b[0m\u001b[0;34m\u001b[0m\u001b[0m\n\u001b[1;32m   3807\u001b[0m                 \u001b[0mindexer\u001b[0m \u001b[0;34m=\u001b[0m \u001b[0;34m[\u001b[0m\u001b[0mindexer\u001b[0m\u001b[0;34m]\u001b[0m\u001b[0;34m\u001b[0m\u001b[0;34m\u001b[0m\u001b[0m\n",
      "\u001b[0;32m~/.local/lib/python3.10/site-packages/pandas/core/indexes/base.py\u001b[0m in \u001b[0;36mget_loc\u001b[0;34m(self, key, method, tolerance)\u001b[0m\n\u001b[1;32m   3803\u001b[0m                 \u001b[0;32mreturn\u001b[0m \u001b[0mself\u001b[0m\u001b[0;34m.\u001b[0m\u001b[0m_engine\u001b[0m\u001b[0;34m.\u001b[0m\u001b[0mget_loc\u001b[0m\u001b[0;34m(\u001b[0m\u001b[0mcasted_key\u001b[0m\u001b[0;34m)\u001b[0m\u001b[0;34m\u001b[0m\u001b[0;34m\u001b[0m\u001b[0m\n\u001b[1;32m   3804\u001b[0m             \u001b[0;32mexcept\u001b[0m \u001b[0mKeyError\u001b[0m \u001b[0;32mas\u001b[0m \u001b[0merr\u001b[0m\u001b[0;34m:\u001b[0m\u001b[0;34m\u001b[0m\u001b[0;34m\u001b[0m\u001b[0m\n\u001b[0;32m-> 3805\u001b[0;31m                 \u001b[0;32mraise\u001b[0m \u001b[0mKeyError\u001b[0m\u001b[0;34m(\u001b[0m\u001b[0mkey\u001b[0m\u001b[0;34m)\u001b[0m \u001b[0;32mfrom\u001b[0m \u001b[0merr\u001b[0m\u001b[0;34m\u001b[0m\u001b[0;34m\u001b[0m\u001b[0m\n\u001b[0m\u001b[1;32m   3806\u001b[0m             \u001b[0;32mexcept\u001b[0m \u001b[0mTypeError\u001b[0m\u001b[0;34m:\u001b[0m\u001b[0;34m\u001b[0m\u001b[0;34m\u001b[0m\u001b[0m\n\u001b[1;32m   3807\u001b[0m                 \u001b[0;31m# If we have a listlike key, _check_indexing_error will raise\u001b[0m\u001b[0;34m\u001b[0m\u001b[0;34m\u001b[0m\u001b[0m\n",
      "\u001b[0;31mKeyError\u001b[0m: 'PAY_AMT1'"
     ]
    },
    {
     "data": {
      "image/png": "[encoded data removed]",
      "text/plain": [
       "<Figure size 720x432 with 1 Axes>"
      ]
     },
     "metadata": {
      "needs_background": "light"
     },
     "output_type": "display_data"
    }
   ],
   "source": [
    "# Filtrando os dados para inadimplentes e não inadimplentes\n",
    "df4_aux1 = df4[df4['default']==1].copy()\n",
    "df4_aux0 = df4[df4['default']==0].copy()\n",
    "\n",
    "# Plotando o gráfico de densidade\n",
    "fig, ax = plt.subplots(figsize=(10,6))\n",
    "\n",
    "sns.kdeplot(df4_aux1['PAY_AMT1'], shade=True, color='red', label='Inadimplentes', ax=ax)\n",
    "sns.kdeplot(df4_aux0['PAY_AMT1'], shade=True, color='blue', label='Não inadimplentes', ax=ax)\n",
    "\n",
    "ax.set_xlabel('Limite de Crédito Disponível')\n",
    "ax.set_ylabel('Densidade')\n",
    "ax.set_title('Distribuição de crédito para inadimplentes e não inadimplentes')\n",
    "ax.legend()\n",
    "\n",
    "plt.show()"
   ]
  },
  {
   "cell_type": "code",
   "execution_count": null,
   "id": "0b2aba37",
   "metadata": {
    "ExecuteTime": {
     "end_time": "2023-05-09T12:28:44.410223Z",
     "start_time": "2023-05-09T12:28:44.410214Z"
    },
    "hidden": true
   },
   "outputs": [],
   "source": [
    "df4.columns"
   ]
  },
  {
   "cell_type": "code",
   "execution_count": null,
   "id": "eaa92265",
   "metadata": {
    "ExecuteTime": {
     "end_time": "2023-05-09T12:28:44.410907Z",
     "start_time": "2023-05-09T12:28:44.410899Z"
    },
    "hidden": true
   },
   "outputs": [],
   "source": [
    "plt.pie(df4['default'].value_counts(), labels=['Não inadimplente', 'Inadimplente'], autopct='%1.1f%%')\n",
    "plt.title('Proporção de Inadimplentes e Não Inadimplentes')\n",
    "plt.show()"
   ]
  },
  {
   "cell_type": "code",
   "execution_count": null,
   "id": "9478fd2b",
   "metadata": {
    "ExecuteTime": {
     "end_time": "2023-05-09T12:28:44.411642Z",
     "start_time": "2023-05-09T12:28:44.411613Z"
    },
    "hidden": true
   },
   "outputs": [],
   "source": [
    "fig, axs = plt.subplots(2, 3, figsize=(15, 10))\n",
    "\n",
    "sns.scatterplot(x='PAY_AMT1', y='BILL_AMT1', data=df4, hue='default', ax=axs[0, 0])\n",
    "sns.scatterplot(x='PAY_AMT2', y='BILL_AMT2', data=df4, hue='default', ax=axs[0, 1])\n",
    "sns.scatterplot(x='PAY_AMT3', y='BILL_AMT3', data=df4, hue='default', ax=axs[0, 2])\n",
    "sns.scatterplot(x='PAY_AMT4', y='BILL_AMT4', data=df4, hue='default', ax=axs[1, 0])\n",
    "sns.scatterplot(x='PAY_AMT5', y='BILL_AMT5', data=df4, hue='default', ax=axs[1, 1])\n",
    "sns.scatterplot(x='PAY_AMT6', y='BILL_AMT6', data=df4, hue='default', ax=axs[1, 2])\n",
    "\n",
    "fig.subplots_adjust(wspace=0.4)\n",
    "plt.suptitle('Relação entre valores pagos e valores das faturas')\n",
    "plt.show()"
   ]
  },
  {
   "cell_type": "markdown",
   "id": "da887781",
   "metadata": {
    "hidden": true
   },
   "source": [
    "## Análise Multivariada"
   ]
  },
  {
   "cell_type": "code",
   "execution_count": null,
   "id": "6873e5d4",
   "metadata": {
    "ExecuteTime": {
     "end_time": "2023-05-09T12:28:44.412360Z",
     "start_time": "2023-05-09T12:28:44.412351Z"
    },
    "hidden": true
   },
   "outputs": [],
   "source": [
    "num_attributes = df4.select_dtypes(include = ['int64','float64'])\n",
    "cat_attributtes = df4.select_dtypes(exclude = ['int64','float64'])"
   ]
  },
  {
   "cell_type": "code",
   "execution_count": null,
   "id": "8a05df75",
   "metadata": {
    "ExecuteTime": {
     "end_time": "2023-05-09T12:28:44.413145Z",
     "start_time": "2023-05-09T12:28:44.413136Z"
    },
    "hidden": true
   },
   "outputs": [],
   "source": [
    "corr = num_attributes.corr(method='pearson')"
   ]
  },
  {
   "cell_type": "code",
   "execution_count": null,
   "id": "e835b3ec",
   "metadata": {
    "ExecuteTime": {
     "end_time": "2023-05-09T12:28:44.413736Z",
     "start_time": "2023-05-09T12:28:44.413727Z"
    },
    "hidden": true
   },
   "outputs": [],
   "source": [
    "sns.set(rc = {'figure.figsize':(30,20)})\n",
    "sns.heatmap(corr,annot=True);"
   ]
  },
  {
   "cell_type": "code",
   "execution_count": null,
   "id": "b758c951",
   "metadata": {
    "ExecuteTime": {
     "end_time": "2023-05-09T12:28:44.414371Z",
     "start_time": "2023-05-09T12:28:44.414363Z"
    },
    "hidden": true
   },
   "outputs": [],
   "source": [
    "cor_dict = dict(corr['default'])\n",
    "cor_dict"
   ]
  },
  {
   "cell_type": "code",
   "execution_count": null,
   "id": "b58750b0",
   "metadata": {
    "ExecuteTime": {
     "end_time": "2023-05-09T12:28:44.414959Z",
     "start_time": "2023-05-09T12:28:44.414950Z"
    },
    "hidden": true
   },
   "outputs": [],
   "source": [
    "select_person = []\n",
    "for chave, valor in cor_dict.items():\n",
    "    if (valor < -0.1 or valor > 0.1) and chave != 'default':\n",
    "        select_person.append(chave)\n",
    "select_person"
   ]
  },
  {
   "cell_type": "code",
   "execution_count": null,
   "id": "05e34647",
   "metadata": {
    "ExecuteTime": {
     "end_time": "2023-05-09T12:28:44.415476Z",
     "start_time": "2023-05-09T12:28:44.415467Z"
    },
    "hidden": true
   },
   "outputs": [],
   "source": [
    "sns.heatmap(corr[select_person],annot=True);"
   ]
  },
  {
   "cell_type": "code",
   "execution_count": null,
   "id": "151a4f29",
   "metadata": {
    "ExecuteTime": {
     "end_time": "2023-05-09T12:28:44.416058Z",
     "start_time": "2023-05-09T12:28:44.416049Z"
    },
    "hidden": true
   },
   "outputs": [],
   "source": [
    "sns.set(rc = {'figure.figsize':(15,10)})\n",
    "# only categorical data\n",
    "a = df4[['SEX','EDUCATION','MARRIAGE','default']]\n",
    "\n",
    "# Calculate cramer V\n",
    "a1 = cramer_v( a['SEX'], a['SEX'] )\n",
    "a2 = cramer_v( a['SEX'], a['EDUCATION'] )\n",
    "a3 = cramer_v( a['SEX'], a['MARRIAGE'] )\n",
    "a4 = cramer_v( a['SEX'], a['default'] )\n",
    "\n",
    "\n",
    "a5 = cramer_v( a['EDUCATION'], a['SEX'] )\n",
    "a6 = cramer_v( a['EDUCATION'], a['EDUCATION'] )\n",
    "a7 = cramer_v( a['EDUCATION'], a['MARRIAGE'] )\n",
    "a8 = cramer_v( a['EDUCATION'], a['default'] )\n",
    "\n",
    "\n",
    "a9 = cramer_v( a['MARRIAGE'], a['SEX'] )\n",
    "a10 = cramer_v( a['MARRIAGE'], a['EDUCATION'] )\n",
    "a11 = cramer_v( a['MARRIAGE'], a['MARRIAGE'] )\n",
    "a12 = cramer_v( a['MARRIAGE'], a['default'] )\n",
    "\n",
    "a13 = cramer_v( a['default'], a['SEX'] )\n",
    "a14 = cramer_v( a['default'], a['EDUCATION'] )\n",
    "a15 = cramer_v( a['default'], a['MARRIAGE'] )\n",
    "a16 = cramer_v( a['default'], a['default'] )\n",
    "\n",
    "\n",
    "# Final dataset\n",
    "d = pd.DataFrame( {'SEX': [a1, a2, a3,a4], 'EDUCATION': [a5, a6, a7,a8], 'MARRIAGE': [a9, a10, a11,a12] , 'default' : [a13,a14,a15,a16] })\n",
    "\n",
    "d = d.set_index( d.columns )\n",
    "sns.heatmap( d, annot=True )"
   ]
  },
  {
   "cell_type": "markdown",
   "id": "79f6141a",
   "metadata": {
    "heading_collapsed": true
   },
   "source": [
    "# PASSO 5 - Data Preparation (Unbalanced DataSet)"
   ]
  },
  {
   "cell_type": "code",
   "execution_count": 61,
   "id": "469d0a5d",
   "metadata": {
    "ExecuteTime": {
     "end_time": "2023-05-09T12:28:46.876773Z",
     "start_time": "2023-05-09T12:28:46.873667Z"
    },
    "hidden": true
   },
   "outputs": [],
   "source": [
    "df5 = df4.copy()"
   ]
  },
  {
   "cell_type": "markdown",
   "id": "c0417945",
   "metadata": {
    "hidden": true
   },
   "source": [
    "## 5.1 Normalization"
   ]
  },
  {
   "cell_type": "markdown",
   "id": "5be39e3a",
   "metadata": {
    "hidden": true
   },
   "source": [
    "## 5.2 Rescaling"
   ]
  },
  {
   "cell_type": "code",
   "execution_count": 62,
   "id": "a9fee2ad",
   "metadata": {
    "ExecuteTime": {
     "end_time": "2023-05-09T12:28:49.062741Z",
     "start_time": "2023-05-09T12:28:49.059064Z"
    },
    "hidden": true
   },
   "outputs": [
    {
     "data": {
      "text/plain": [
       "Index(['ID', 'SAFRA', 'LIMIT_BAL', 'SEX', 'EDUCATION', 'MARRIAGE', 'AGE',\n",
       "       'PAY_0', 'PAY_2', 'PAY_3', 'PAY_4', 'PAY_5', 'PAY_6', 'default',\n",
       "       'SUM_BILL', 'AVG_BILL', 'max_BILL', 'SUM_PAY', 'AVG_PAY', 'max_PAY'],\n",
       "      dtype='object')"
      ]
     },
     "execution_count": 62,
     "metadata": {},
     "output_type": "execute_result"
    }
   ],
   "source": [
    "df5.columns"
   ]
  },
  {
   "cell_type": "code",
   "execution_count": 63,
   "id": "c2ce698d",
   "metadata": {
    "ExecuteTime": {
     "end_time": "2023-05-09T12:29:25.631430Z",
     "start_time": "2023-05-09T12:29:25.613044Z"
    },
    "hidden": true
   },
   "outputs": [],
   "source": [
    "cols_rescaling= ['LIMIT_BAL','SUM_BILL', 'AVG_BILL', 'max_BILL', 'SUM_PAY', 'AVG_PAY', 'max_PAY']\n",
    "\n",
    "rs = RobustScaler()\n",
    "df5[cols_rescaling] = rs.fit_transform(df5[cols_rescaling].values)\n",
    "df_OOT[cols_rescaling] = rs.transform(df_OOT[cols_rescaling].values)"
   ]
  },
  {
   "cell_type": "code",
   "execution_count": 64,
   "id": "e7fdeb2d",
   "metadata": {
    "ExecuteTime": {
     "end_time": "2023-05-09T12:29:28.118463Z",
     "start_time": "2023-05-09T12:29:28.010932Z"
    },
    "hidden": true
   },
   "outputs": [
    {
     "data": {
      "text/html": [
       "<div>\n",
       "<style scoped>\n",
       "    .dataframe tbody tr th:only-of-type {\n",
       "        vertical-align: middle;\n",
       "    }\n",
       "\n",
       "    .dataframe tbody tr th {\n",
       "        vertical-align: top;\n",
       "    }\n",
       "\n",
       "    .dataframe thead th {\n",
       "        text-align: right;\n",
       "    }\n",
       "</style>\n",
       "<table border=\"1\" class=\"dataframe\">\n",
       "  <thead>\n",
       "    <tr style=\"text-align: right;\">\n",
       "      <th></th>\n",
       "      <th>attributes</th>\n",
       "      <th>min</th>\n",
       "      <th>max</th>\n",
       "      <th>range</th>\n",
       "      <th>mean</th>\n",
       "      <th>median</th>\n",
       "      <th>std</th>\n",
       "      <th>skew</th>\n",
       "      <th>kurtosis</th>\n",
       "    </tr>\n",
       "  </thead>\n",
       "  <tbody>\n",
       "    <tr>\n",
       "      <th>0</th>\n",
       "      <td>ID</td>\n",
       "      <td>1.000000</td>\n",
       "      <td>21000.000000</td>\n",
       "      <td>20999.000000</td>\n",
       "      <td>10500.500000</td>\n",
       "      <td>1.050050e+04</td>\n",
       "      <td>6062.177820</td>\n",
       "      <td>0.000000</td>\n",
       "      <td>-1.200000</td>\n",
       "    </tr>\n",
       "    <tr>\n",
       "      <th>1</th>\n",
       "      <td>SAFRA</td>\n",
       "      <td>200510.000000</td>\n",
       "      <td>200604.000000</td>\n",
       "      <td>94.000000</td>\n",
       "      <td>200563.285714</td>\n",
       "      <td>2.006010e+05</td>\n",
       "      <td>45.291798</td>\n",
       "      <td>-0.288063</td>\n",
       "      <td>-1.915213</td>\n",
       "    </tr>\n",
       "    <tr>\n",
       "      <th>2</th>\n",
       "      <td>LIMIT_BAL</td>\n",
       "      <td>-0.666667</td>\n",
       "      <td>4.833333</td>\n",
       "      <td>5.500000</td>\n",
       "      <td>0.184869</td>\n",
       "      <td>0.000000e+00</td>\n",
       "      <td>0.714876</td>\n",
       "      <td>1.028252</td>\n",
       "      <td>0.602996</td>\n",
       "    </tr>\n",
       "    <tr>\n",
       "      <th>3</th>\n",
       "      <td>AGE</td>\n",
       "      <td>21.000000</td>\n",
       "      <td>79.000000</td>\n",
       "      <td>58.000000</td>\n",
       "      <td>35.415286</td>\n",
       "      <td>3.400000e+01</td>\n",
       "      <td>9.246949</td>\n",
       "      <td>0.734517</td>\n",
       "      <td>0.045975</td>\n",
       "    </tr>\n",
       "    <tr>\n",
       "      <th>4</th>\n",
       "      <td>PAY_0</td>\n",
       "      <td>-2.000000</td>\n",
       "      <td>8.000000</td>\n",
       "      <td>10.000000</td>\n",
       "      <td>0.018476</td>\n",
       "      <td>0.000000e+00</td>\n",
       "      <td>1.123405</td>\n",
       "      <td>0.807518</td>\n",
       "      <td>3.099244</td>\n",
       "    </tr>\n",
       "    <tr>\n",
       "      <th>5</th>\n",
       "      <td>PAY_2</td>\n",
       "      <td>-2.000000</td>\n",
       "      <td>8.000000</td>\n",
       "      <td>10.000000</td>\n",
       "      <td>-0.103238</td>\n",
       "      <td>0.000000e+00</td>\n",
       "      <td>1.203886</td>\n",
       "      <td>0.820207</td>\n",
       "      <td>1.673044</td>\n",
       "    </tr>\n",
       "    <tr>\n",
       "      <th>6</th>\n",
       "      <td>PAY_3</td>\n",
       "      <td>-2.000000</td>\n",
       "      <td>8.000000</td>\n",
       "      <td>10.000000</td>\n",
       "      <td>-0.136238</td>\n",
       "      <td>0.000000e+00</td>\n",
       "      <td>1.209314</td>\n",
       "      <td>0.917693</td>\n",
       "      <td>2.444372</td>\n",
       "    </tr>\n",
       "    <tr>\n",
       "      <th>7</th>\n",
       "      <td>PAY_4</td>\n",
       "      <td>-2.000000</td>\n",
       "      <td>8.000000</td>\n",
       "      <td>10.000000</td>\n",
       "      <td>-0.196381</td>\n",
       "      <td>0.000000e+00</td>\n",
       "      <td>1.169821</td>\n",
       "      <td>1.070557</td>\n",
       "      <td>3.897242</td>\n",
       "    </tr>\n",
       "    <tr>\n",
       "      <th>8</th>\n",
       "      <td>PAY_5</td>\n",
       "      <td>-2.000000</td>\n",
       "      <td>8.000000</td>\n",
       "      <td>10.000000</td>\n",
       "      <td>-0.234857</td>\n",
       "      <td>0.000000e+00</td>\n",
       "      <td>1.144504</td>\n",
       "      <td>1.061523</td>\n",
       "      <td>4.143238</td>\n",
       "    </tr>\n",
       "    <tr>\n",
       "      <th>9</th>\n",
       "      <td>PAY_6</td>\n",
       "      <td>-2.000000</td>\n",
       "      <td>8.000000</td>\n",
       "      <td>10.000000</td>\n",
       "      <td>-0.261762</td>\n",
       "      <td>0.000000e+00</td>\n",
       "      <td>1.167988</td>\n",
       "      <td>1.002820</td>\n",
       "      <td>3.507251</td>\n",
       "    </tr>\n",
       "    <tr>\n",
       "      <th>10</th>\n",
       "      <td>default</td>\n",
       "      <td>0.000000</td>\n",
       "      <td>1.000000</td>\n",
       "      <td>1.000000</td>\n",
       "      <td>0.228381</td>\n",
       "      <td>0.000000e+00</td>\n",
       "      <td>0.419789</td>\n",
       "      <td>1.294166</td>\n",
       "      <td>-0.325167</td>\n",
       "    </tr>\n",
       "    <tr>\n",
       "      <th>11</th>\n",
       "      <td>SUM_BILL</td>\n",
       "      <td>-1.521573</td>\n",
       "      <td>16.884220</td>\n",
       "      <td>18.405793</td>\n",
       "      <td>0.451377</td>\n",
       "      <td>0.000000e+00</td>\n",
       "      <td>1.214202</td>\n",
       "      <td>2.787225</td>\n",
       "      <td>11.243333</td>\n",
       "    </tr>\n",
       "    <tr>\n",
       "      <th>12</th>\n",
       "      <td>AVG_BILL</td>\n",
       "      <td>-1.521573</td>\n",
       "      <td>16.884220</td>\n",
       "      <td>18.405793</td>\n",
       "      <td>0.451377</td>\n",
       "      <td>0.000000e+00</td>\n",
       "      <td>1.214202</td>\n",
       "      <td>2.787225</td>\n",
       "      <td>11.243333</td>\n",
       "    </tr>\n",
       "    <tr>\n",
       "      <th>13</th>\n",
       "      <td>max_BILL</td>\n",
       "      <td>-0.519035</td>\n",
       "      <td>23.919064</td>\n",
       "      <td>24.438099</td>\n",
       "      <td>0.413283</td>\n",
       "      <td>0.000000e+00</td>\n",
       "      <td>1.118493</td>\n",
       "      <td>2.949664</td>\n",
       "      <td>18.510707</td>\n",
       "    </tr>\n",
       "    <tr>\n",
       "      <th>14</th>\n",
       "      <td>SUM_PAY</td>\n",
       "      <td>-0.528065</td>\n",
       "      <td>88.592610</td>\n",
       "      <td>89.120675</td>\n",
       "      <td>0.652807</td>\n",
       "      <td>0.000000e+00</td>\n",
       "      <td>2.129510</td>\n",
       "      <td>8.288596</td>\n",
       "      <td>183.430235</td>\n",
       "    </tr>\n",
       "    <tr>\n",
       "      <th>15</th>\n",
       "      <td>AVG_PAY</td>\n",
       "      <td>-0.528065</td>\n",
       "      <td>88.592610</td>\n",
       "      <td>89.120675</td>\n",
       "      <td>0.652807</td>\n",
       "      <td>5.254315e-17</td>\n",
       "      <td>2.129510</td>\n",
       "      <td>8.288596</td>\n",
       "      <td>183.430235</td>\n",
       "    </tr>\n",
       "    <tr>\n",
       "      <th>16</th>\n",
       "      <td>max_PAY</td>\n",
       "      <td>-0.510191</td>\n",
       "      <td>171.348588</td>\n",
       "      <td>171.858779</td>\n",
       "      <td>1.067339</td>\n",
       "      <td>0.000000e+00</td>\n",
       "      <td>3.712854</td>\n",
       "      <td>9.760817</td>\n",
       "      <td>259.410976</td>\n",
       "    </tr>\n",
       "  </tbody>\n",
       "</table>\n",
       "</div>"
      ],
      "text/plain": [
       "   attributes            min            max         range           mean  \\\n",
       "0          ID       1.000000   21000.000000  20999.000000   10500.500000   \n",
       "1       SAFRA  200510.000000  200604.000000     94.000000  200563.285714   \n",
       "2   LIMIT_BAL      -0.666667       4.833333      5.500000       0.184869   \n",
       "3         AGE      21.000000      79.000000     58.000000      35.415286   \n",
       "4       PAY_0      -2.000000       8.000000     10.000000       0.018476   \n",
       "5       PAY_2      -2.000000       8.000000     10.000000      -0.103238   \n",
       "6       PAY_3      -2.000000       8.000000     10.000000      -0.136238   \n",
       "7       PAY_4      -2.000000       8.000000     10.000000      -0.196381   \n",
       "8       PAY_5      -2.000000       8.000000     10.000000      -0.234857   \n",
       "9       PAY_6      -2.000000       8.000000     10.000000      -0.261762   \n",
       "10    default       0.000000       1.000000      1.000000       0.228381   \n",
       "11   SUM_BILL      -1.521573      16.884220     18.405793       0.451377   \n",
       "12   AVG_BILL      -1.521573      16.884220     18.405793       0.451377   \n",
       "13   max_BILL      -0.519035      23.919064     24.438099       0.413283   \n",
       "14    SUM_PAY      -0.528065      88.592610     89.120675       0.652807   \n",
       "15    AVG_PAY      -0.528065      88.592610     89.120675       0.652807   \n",
       "16    max_PAY      -0.510191     171.348588    171.858779       1.067339   \n",
       "\n",
       "          median          std      skew    kurtosis  \n",
       "0   1.050050e+04  6062.177820  0.000000   -1.200000  \n",
       "1   2.006010e+05    45.291798 -0.288063   -1.915213  \n",
       "2   0.000000e+00     0.714876  1.028252    0.602996  \n",
       "3   3.400000e+01     9.246949  0.734517    0.045975  \n",
       "4   0.000000e+00     1.123405  0.807518    3.099244  \n",
       "5   0.000000e+00     1.203886  0.820207    1.673044  \n",
       "6   0.000000e+00     1.209314  0.917693    2.444372  \n",
       "7   0.000000e+00     1.169821  1.070557    3.897242  \n",
       "8   0.000000e+00     1.144504  1.061523    4.143238  \n",
       "9   0.000000e+00     1.167988  1.002820    3.507251  \n",
       "10  0.000000e+00     0.419789  1.294166   -0.325167  \n",
       "11  0.000000e+00     1.214202  2.787225   11.243333  \n",
       "12  0.000000e+00     1.214202  2.787225   11.243333  \n",
       "13  0.000000e+00     1.118493  2.949664   18.510707  \n",
       "14  0.000000e+00     2.129510  8.288596  183.430235  \n",
       "15  5.254315e-17     2.129510  8.288596  183.430235  \n",
       "16  0.000000e+00     3.712854  9.760817  259.410976  "
      ]
     },
     "execution_count": 64,
     "metadata": {},
     "output_type": "execute_result"
    }
   ],
   "source": [
    "num_attributes = df5.select_dtypes(include=['int64' , 'float64'])\n",
    "\n",
    "#Central Tendency - mean , median\n",
    "ct1 = pd.DataFrame(num_attributes.apply(np.mean)).T\n",
    "ct2 = pd.DataFrame(num_attributes.apply(np.median)).T\n",
    "\n",
    "\n",
    "#Dispersion - std , min , max , range , skew , kurtosis\n",
    "d1 = pd.DataFrame( num_attributes.apply(np.std)).T\n",
    "d2 = pd.DataFrame( num_attributes.apply(min)).T\n",
    "d3 = pd.DataFrame( num_attributes.apply(max)).T\n",
    "d4 = pd.DataFrame( num_attributes.apply( lambda x: x.max() - x.min() ) ).T\n",
    "d5 = pd.DataFrame( num_attributes.apply( lambda x: x.skew())).T\n",
    "d6 = pd.DataFrame( num_attributes.apply( lambda x: x.kurtosis() ) ).T\n",
    "\n",
    "m = pd.concat([d2,d3,d4,ct1,ct2,d1,d5,d6]).T.reset_index()\n",
    "m.columns = ['attributes','min','max','range','mean','median','std','skew','kurtosis',]\n",
    "m"
   ]
  },
  {
   "cell_type": "markdown",
   "id": "db298087",
   "metadata": {
    "hidden": true
   },
   "source": [
    "## 5.1 Transformation"
   ]
  },
  {
   "cell_type": "markdown",
   "id": "e6a80382",
   "metadata": {
    "hidden": true
   },
   "source": [
    "### 5.1.1 Encoding"
   ]
  },
  {
   "cell_type": "code",
   "execution_count": 65,
   "id": "6df056c6",
   "metadata": {
    "ExecuteTime": {
     "end_time": "2023-05-09T12:29:29.893115Z",
     "start_time": "2023-05-09T12:29:29.886593Z"
    },
    "hidden": true
   },
   "outputs": [
    {
     "data": {
      "text/plain": [
       "array(['female', 'male'], dtype=object)"
      ]
     },
     "execution_count": 65,
     "metadata": {},
     "output_type": "execute_result"
    }
   ],
   "source": [
    "df5['SEX'].unique()"
   ]
  },
  {
   "cell_type": "code",
   "execution_count": 66,
   "id": "2bc1eb37",
   "metadata": {
    "ExecuteTime": {
     "end_time": "2023-05-09T12:29:30.360367Z",
     "start_time": "2023-05-09T12:29:30.356041Z"
    },
    "hidden": true
   },
   "outputs": [
    {
     "data": {
      "text/plain": [
       "array(['married', 'single', 'others'], dtype=object)"
      ]
     },
     "execution_count": 66,
     "metadata": {},
     "output_type": "execute_result"
    }
   ],
   "source": [
    "df5['MARRIAGE'].unique()"
   ]
  },
  {
   "cell_type": "code",
   "execution_count": 67,
   "id": "cb536508",
   "metadata": {
    "ExecuteTime": {
     "end_time": "2023-05-09T12:29:30.870746Z",
     "start_time": "2023-05-09T12:29:30.831934Z"
    },
    "hidden": true
   },
   "outputs": [],
   "source": [
    "#Ordinal Encoding\n",
    "df5['SEX'] = df5['SEX'].apply(lambda x: 1 if x=='male' else 2)\n",
    "df_OOT['SEX'] = df_OOT['SEX'].apply(lambda x: 1 if x=='male' else 2)\n",
    "\n",
    "df5['MARRIAGE'] = df5['MARRIAGE'].apply(lambda x: 1 if x=='married' else 2 if x=='single' else 3)\n",
    "df_OOT['MARRIAGE'] = df_OOT['MARRIAGE'].apply(lambda x: 1 if x=='married' else 2 if x=='single' else 3)\n",
    "\n",
    "df5['EDUCATION'] = df5['EDUCATION'].apply(lambda x: 1 if x=='others' else 2 if x=='high school' else 3 if x=='graduate school'\n",
    "                                         else 4)\n",
    "df_OOT['EDUCATION'] = df_OOT['EDUCATION'].apply(lambda x: 1 if x=='others' else 2 if x=='high school' else 3 if x=='graduate school'\n",
    "                                         else 4)"
   ]
  },
  {
   "cell_type": "markdown",
   "id": "aecefcfc",
   "metadata": {
    "hidden": true
   },
   "source": [
    "### 5.1.1 Nature Transformation"
   ]
  },
  {
   "cell_type": "markdown",
   "id": "6674e4a4",
   "metadata": {
    "heading_collapsed": true
   },
   "source": [
    "# PASSO 5 - Data Preparation (Balanced DataSet)"
   ]
  },
  {
   "cell_type": "code",
   "execution_count": 68,
   "id": "5a91f9fb",
   "metadata": {
    "ExecuteTime": {
     "end_time": "2023-05-09T12:29:57.829940Z",
     "start_time": "2023-05-09T12:29:57.826289Z"
    },
    "hidden": true
   },
   "outputs": [],
   "source": [
    "df_balanced = df4.copy()"
   ]
  },
  {
   "cell_type": "code",
   "execution_count": 69,
   "id": "cfeb7532",
   "metadata": {
    "ExecuteTime": {
     "end_time": "2023-05-09T12:29:58.320698Z",
     "start_time": "2023-05-09T12:29:58.314889Z"
    },
    "hidden": true
   },
   "outputs": [
    {
     "data": {
      "text/plain": [
       "Index(['ID', 'SAFRA', 'LIMIT_BAL', 'SEX', 'EDUCATION', 'MARRIAGE', 'AGE',\n",
       "       'PAY_0', 'PAY_2', 'PAY_3', 'PAY_4', 'PAY_5', 'PAY_6', 'default',\n",
       "       'SUM_BILL', 'AVG_BILL', 'max_BILL', 'SUM_PAY', 'AVG_PAY', 'max_PAY'],\n",
       "      dtype='object')"
      ]
     },
     "execution_count": 69,
     "metadata": {},
     "output_type": "execute_result"
    }
   ],
   "source": [
    "df_balanced.columns"
   ]
  },
  {
   "cell_type": "markdown",
   "id": "5069ce68",
   "metadata": {
    "hidden": true
   },
   "source": [
    "## Enconding"
   ]
  },
  {
   "cell_type": "code",
   "execution_count": 70,
   "id": "6a4a4b27",
   "metadata": {
    "ExecuteTime": {
     "end_time": "2023-05-09T12:30:09.382943Z",
     "start_time": "2023-05-09T12:30:09.356904Z"
    },
    "hidden": true
   },
   "outputs": [],
   "source": [
    "#oe = OrdinalEncoder()\n",
    "\n",
    "df_balanced['SEX'] = df_balanced['SEX'].apply(lambda x: 1 if x=='male' else 2)\n",
    "\n",
    "df_balanced['MARRIAGE'] = df_balanced['MARRIAGE'].apply(lambda x: 1 if x=='married' else 2 if x=='single' else 3)\n",
    "\n",
    "#Ordinal Encoding\n",
    "df_balanced['EDUCATION'] = df_balanced['EDUCATION'].apply(lambda x: 1 if x=='others' else 2 if x=='high school' else 3 if x=='graduate school'\n",
    "                                         else 4)"
   ]
  },
  {
   "cell_type": "code",
   "execution_count": 71,
   "id": "4df4b13e",
   "metadata": {
    "ExecuteTime": {
     "end_time": "2023-05-09T12:30:17.280557Z",
     "start_time": "2023-05-09T12:30:17.068868Z"
    },
    "hidden": true
   },
   "outputs": [],
   "source": [
    "#Balancinng using OverSampling(SMOTE e ADASYN)\n",
    "from imblearn.over_sampling import SMOTE, ADASYN\n",
    "smo = SMOTE()\n",
    "ada = ADASYN()\n",
    "\n",
    "X_train = df_balanced.drop(['ID', 'SAFRA','default'],axis=1)\n",
    "y_train = df_balanced['default']\n",
    "\n",
    "X_smo, y_smo = smo.fit_resample(X_train, y_train)\n",
    "X_ada, y_ada = ada.fit_resample(X_train, y_train)"
   ]
  },
  {
   "cell_type": "markdown",
   "id": "589627b9",
   "metadata": {
    "hidden": true
   },
   "source": [
    "## Rescaling"
   ]
  },
  {
   "cell_type": "code",
   "execution_count": 73,
   "id": "93bdb004",
   "metadata": {
    "ExecuteTime": {
     "end_time": "2023-05-09T12:30:49.691785Z",
     "start_time": "2023-05-09T12:30:49.664979Z"
    },
    "hidden": true
   },
   "outputs": [],
   "source": [
    "rs = RobustScaler()\n",
    "\n",
    "\n",
    "X_smo[cols_rescaling] = rs.fit_transform(X_smo[cols_rescaling].values)\n",
    "X_ada[cols_rescaling] = rs.fit_transform(X_ada[cols_rescaling].values)\n",
    "\n",
    "pickle.dump(rs,open('parameter/cols_scaler.pkl','wb'))"
   ]
  },
  {
   "cell_type": "markdown",
   "id": "12b40ce2",
   "metadata": {
    "heading_collapsed": true
   },
   "source": [
    "# PASSO 6 - Feature Selection "
   ]
  },
  {
   "cell_type": "code",
   "execution_count": 74,
   "id": "c65caba4",
   "metadata": {
    "ExecuteTime": {
     "end_time": "2023-05-09T12:31:22.943119Z",
     "start_time": "2023-05-09T12:31:22.939136Z"
    },
    "hidden": true
   },
   "outputs": [],
   "source": [
    "#df6 é o dataset desbalanceado\n",
    "df6 = df5.copy()"
   ]
  },
  {
   "cell_type": "code",
   "execution_count": 75,
   "id": "c745514d",
   "metadata": {
    "ExecuteTime": {
     "end_time": "2023-05-09T12:31:23.705689Z",
     "start_time": "2023-05-09T12:31:23.701012Z"
    },
    "hidden": true
   },
   "outputs": [
    {
     "data": {
      "text/plain": [
       "ID             int64\n",
       "SAFRA          int64\n",
       "LIMIT_BAL    float64\n",
       "SEX            int64\n",
       "EDUCATION      int64\n",
       "MARRIAGE       int64\n",
       "AGE            int64\n",
       "PAY_0          int64\n",
       "PAY_2          int64\n",
       "PAY_3          int64\n",
       "PAY_4          int64\n",
       "PAY_5          int64\n",
       "PAY_6          int64\n",
       "default        int64\n",
       "SUM_BILL     float64\n",
       "AVG_BILL     float64\n",
       "max_BILL     float64\n",
       "SUM_PAY      float64\n",
       "AVG_PAY      float64\n",
       "max_PAY      float64\n",
       "dtype: object"
      ]
     },
     "execution_count": 75,
     "metadata": {},
     "output_type": "execute_result"
    }
   ],
   "source": [
    "df6.dtypes"
   ]
  },
  {
   "cell_type": "code",
   "execution_count": 76,
   "id": "a6230b23",
   "metadata": {
    "ExecuteTime": {
     "end_time": "2023-05-09T12:31:24.283021Z",
     "start_time": "2023-05-09T12:31:24.278948Z"
    },
    "hidden": true
   },
   "outputs": [],
   "source": [
    "X = df6.drop(['default','ID','SAFRA'], axis=1)\n",
    "y = df6['default']"
   ]
  },
  {
   "cell_type": "code",
   "execution_count": 77,
   "id": "afeed3db",
   "metadata": {
    "ExecuteTime": {
     "end_time": "2023-05-09T12:31:26.728414Z",
     "start_time": "2023-05-09T12:31:24.942596Z"
    },
    "hidden": true
   },
   "outputs": [
    {
     "data": {
      "image/png": "[encoded data removed]",
      "text/plain": [
       "<Figure size 432x288 with 1 Axes>"
      ]
     },
     "metadata": {
      "needs_background": "light"
     },
     "output_type": "display_data"
    }
   ],
   "source": [
    "import pandas as pd\n",
    "import matplotlib.pyplot as plt\n",
    "from sklearn.feature_selection import mutual_info_classif\n",
    "\n",
    "# Assuming that X and y have already been defined\n",
    "importances = mutual_info_classif(X, y)\n",
    "feat_importances = pd.Series(importances, X.columns[0:len(X.columns)])\n",
    "feat_importances = feat_importances.iloc[:28]\n",
    "feat_importances.plot(kind='barh', color='blue')\n",
    "plt.show()"
   ]
  },
  {
   "cell_type": "code",
   "execution_count": 78,
   "id": "700a971d",
   "metadata": {
    "ExecuteTime": {
     "end_time": "2023-05-09T12:31:36.964448Z",
     "start_time": "2023-05-09T12:31:29.827946Z"
    },
    "hidden": true
   },
   "outputs": [
    {
     "name": "stdout",
     "output_type": "stream",
     "text": [
      "Iteration: \t1 / 100\n",
      "Confirmed: \t0\n",
      "Tentative: \t17\n",
      "Rejected: \t0\n",
      "Iteration: \t2 / 100\n",
      "Confirmed: \t0\n",
      "Tentative: \t17\n",
      "Rejected: \t0\n",
      "Iteration: \t3 / 100\n",
      "Confirmed: \t0\n",
      "Tentative: \t17\n",
      "Rejected: \t0\n",
      "Iteration: \t4 / 100\n",
      "Confirmed: \t0\n",
      "Tentative: \t17\n",
      "Rejected: \t0\n",
      "Iteration: \t5 / 100\n",
      "Confirmed: \t0\n",
      "Tentative: \t17\n",
      "Rejected: \t0\n",
      "Iteration: \t6 / 100\n",
      "Confirmed: \t0\n",
      "Tentative: \t17\n",
      "Rejected: \t0\n",
      "Iteration: \t7 / 100\n",
      "Confirmed: \t0\n",
      "Tentative: \t17\n",
      "Rejected: \t0\n",
      "Iteration: \t8 / 100\n",
      "Confirmed: \t0\n",
      "Tentative: \t4\n",
      "Rejected: \t13\n",
      "Iteration: \t9 / 100\n",
      "Confirmed: \t1\n",
      "Tentative: \t3\n",
      "Rejected: \t13\n",
      "Iteration: \t10 / 100\n",
      "Confirmed: \t1\n",
      "Tentative: \t3\n",
      "Rejected: \t13\n",
      "Iteration: \t11 / 100\n",
      "Confirmed: \t1\n",
      "Tentative: \t3\n",
      "Rejected: \t13\n",
      "Iteration: \t12 / 100\n",
      "Confirmed: \t1\n",
      "Tentative: \t2\n",
      "Rejected: \t14\n",
      "Iteration: \t13 / 100\n",
      "Confirmed: \t1\n",
      "Tentative: \t2\n",
      "Rejected: \t14\n",
      "Iteration: \t14 / 100\n",
      "Confirmed: \t1\n",
      "Tentative: \t2\n",
      "Rejected: \t14\n",
      "Iteration: \t15 / 100\n",
      "Confirmed: \t1\n",
      "Tentative: \t2\n",
      "Rejected: \t14\n",
      "Iteration: \t16 / 100\n",
      "Confirmed: \t1\n",
      "Tentative: \t1\n",
      "Rejected: \t15\n",
      "Iteration: \t17 / 100\n",
      "Confirmed: \t1\n",
      "Tentative: \t1\n",
      "Rejected: \t15\n",
      "Iteration: \t18 / 100\n",
      "Confirmed: \t1\n",
      "Tentative: \t1\n",
      "Rejected: \t15\n",
      "Iteration: \t19 / 100\n",
      "Confirmed: \t1\n",
      "Tentative: \t1\n",
      "Rejected: \t15\n",
      "Iteration: \t20 / 100\n",
      "Confirmed: \t1\n",
      "Tentative: \t1\n",
      "Rejected: \t15\n",
      "Iteration: \t21 / 100\n",
      "Confirmed: \t1\n",
      "Tentative: \t1\n",
      "Rejected: \t15\n",
      "Iteration: \t22 / 100\n",
      "Confirmed: \t1\n",
      "Tentative: \t1\n",
      "Rejected: \t15\n",
      "Iteration: \t23 / 100\n",
      "Confirmed: \t1\n",
      "Tentative: \t1\n",
      "Rejected: \t15\n",
      "Iteration: \t24 / 100\n",
      "Confirmed: \t1\n",
      "Tentative: \t1\n",
      "Rejected: \t15\n",
      "Iteration: \t25 / 100\n",
      "Confirmed: \t1\n",
      "Tentative: \t1\n",
      "Rejected: \t15\n",
      "Iteration: \t26 / 100\n",
      "Confirmed: \t1\n",
      "Tentative: \t1\n",
      "Rejected: \t15\n",
      "Iteration: \t27 / 100\n",
      "Confirmed: \t1\n",
      "Tentative: \t1\n",
      "Rejected: \t15\n",
      "Iteration: \t28 / 100\n",
      "Confirmed: \t1\n",
      "Tentative: \t1\n",
      "Rejected: \t15\n",
      "Iteration: \t29 / 100\n",
      "Confirmed: \t1\n",
      "Tentative: \t1\n",
      "Rejected: \t15\n",
      "Iteration: \t30 / 100\n",
      "Confirmed: \t1\n",
      "Tentative: \t1\n",
      "Rejected: \t15\n",
      "Iteration: \t31 / 100\n",
      "Confirmed: \t1\n",
      "Tentative: \t1\n",
      "Rejected: \t15\n",
      "Iteration: \t32 / 100\n",
      "Confirmed: \t1\n",
      "Tentative: \t1\n",
      "Rejected: \t15\n",
      "Iteration: \t33 / 100\n",
      "Confirmed: \t1\n",
      "Tentative: \t1\n",
      "Rejected: \t15\n",
      "Iteration: \t34 / 100\n",
      "Confirmed: \t1\n",
      "Tentative: \t1\n",
      "Rejected: \t15\n",
      "Iteration: \t35 / 100\n",
      "Confirmed: \t1\n",
      "Tentative: \t1\n",
      "Rejected: \t15\n",
      "Iteration: \t36 / 100\n",
      "Confirmed: \t1\n",
      "Tentative: \t1\n",
      "Rejected: \t15\n",
      "Iteration: \t37 / 100\n",
      "Confirmed: \t2\n",
      "Tentative: \t0\n",
      "Rejected: \t15\n",
      "\n",
      "\n",
      "BorutaPy finished running.\n",
      "\n",
      "Iteration: \t38 / 100\n",
      "Confirmed: \t2\n",
      "Tentative: \t0\n",
      "Rejected: \t15\n"
     ]
    }
   ],
   "source": [
    "rf = RandomForestClassifier( n_jobs=-1 )\n",
    "# define boruta\n",
    "boruta =BorutaPy( rf, n_estimators='auto', verbose=2, random_state=42 ).fit(X.values, y.values)"
   ]
  },
  {
   "cell_type": "code",
   "execution_count": 79,
   "id": "4eb44fb5",
   "metadata": {
    "ExecuteTime": {
     "end_time": "2023-05-09T12:31:36.968401Z",
     "start_time": "2023-05-09T12:31:36.965446Z"
    },
    "hidden": true
   },
   "outputs": [
    {
     "data": {
      "text/plain": [
       "['PAY_0', 'SUM_PAY']"
      ]
     },
     "execution_count": 79,
     "metadata": {},
     "output_type": "execute_result"
    }
   ],
   "source": [
    "cols_selected = boruta.support_.tolist()\n",
    "# best features\n",
    "cols_selected_boruta = X.iloc[:, cols_selected].columns.to_list()\n",
    "cols_selected_boruta"
   ]
  },
  {
   "cell_type": "code",
   "execution_count": 80,
   "id": "59ce2a2d",
   "metadata": {
    "ExecuteTime": {
     "end_time": "2023-05-09T12:31:42.628976Z",
     "start_time": "2023-05-09T12:31:42.625185Z"
    },
    "hidden": true
   },
   "outputs": [
    {
     "data": {
      "text/plain": [
       "Index(['ID', 'SAFRA', 'LIMIT_BAL', 'SEX', 'EDUCATION', 'MARRIAGE', 'AGE',\n",
       "       'PAY_0', 'PAY_2', 'PAY_3', 'PAY_4', 'PAY_5', 'PAY_6', 'default',\n",
       "       'SUM_BILL', 'AVG_BILL', 'max_BILL', 'SUM_PAY', 'AVG_PAY', 'max_PAY'],\n",
       "      dtype='object')"
      ]
     },
     "execution_count": 80,
     "metadata": {},
     "output_type": "execute_result"
    }
   ],
   "source": [
    "df6.columns"
   ]
  },
  {
   "cell_type": "code",
   "execution_count": 81,
   "id": "5e05c94d",
   "metadata": {
    "ExecuteTime": {
     "end_time": "2023-05-09T12:32:06.335470Z",
     "start_time": "2023-05-09T12:32:06.330448Z"
    },
    "hidden": true
   },
   "outputs": [],
   "source": [
    "cols_selected_final = ['LIMIT_BAL', 'AGE', 'PAY_0', 'PAY_2', 'PAY_3', 'PAY_4', 'PAY_5', 'PAY_6', 'SUM_BILL', 'AVG_BILL', 'max_BILL', 'SUM_PAY', 'AVG_PAY', 'max_PAY','default']"
   ]
  },
  {
   "cell_type": "code",
   "execution_count": 99,
   "id": "5fa64982",
   "metadata": {
    "ExecuteTime": {
     "end_time": "2023-05-09T12:35:53.374538Z",
     "start_time": "2023-05-09T12:35:53.358878Z"
    },
    "hidden": true
   },
   "outputs": [],
   "source": [
    "df6 = df6[cols_selected_final].copy()\n",
    "df_OOT = df_OOT[cols_selected_final].copy()\n",
    "X_smo = X_smo[['LIMIT_BAL', 'AGE', 'PAY_0', 'PAY_2', 'PAY_3', 'PAY_4', 'PAY_5', 'PAY_6', 'SUM_BILL', 'AVG_BILL', 'max_BILL', 'SUM_PAY', 'AVG_PAY', 'max_PAY']].copy()\n",
    "X_ada = X_ada[['LIMIT_BAL', 'AGE', 'PAY_0', 'PAY_2', 'PAY_3', 'PAY_4', 'PAY_5', 'PAY_6', 'SUM_BILL', 'AVG_BILL', 'max_BILL', 'SUM_PAY', 'AVG_PAY', 'max_PAY']].copy()"
   ]
  },
  {
   "cell_type": "markdown",
   "id": "eab3f465",
   "metadata": {
    "heading_collapsed": true
   },
   "source": [
    "# PASSO 6 - Feature Selection (Balanaced Dataset)"
   ]
  },
  {
   "cell_type": "code",
   "execution_count": 83,
   "id": "0437a85d",
   "metadata": {
    "ExecuteTime": {
     "end_time": "2023-05-09T12:32:25.444730Z",
     "start_time": "2023-05-09T12:32:25.440480Z"
    },
    "hidden": true
   },
   "outputs": [],
   "source": [
    "X = df_balanced.drop(['default','ID','SAFRA'], axis=1)\n",
    "y = df_balanced['default']"
   ]
  },
  {
   "cell_type": "code",
   "execution_count": 84,
   "id": "6e60ff1e",
   "metadata": {
    "ExecuteTime": {
     "end_time": "2023-05-09T12:32:29.311729Z",
     "start_time": "2023-05-09T12:32:27.547590Z"
    },
    "hidden": true
   },
   "outputs": [
    {
     "data": {
      "image/png": "[encoded data removed]",
      "text/plain": [
       "<Figure size 432x288 with 1 Axes>"
      ]
     },
     "metadata": {
      "needs_background": "light"
     },
     "output_type": "display_data"
    }
   ],
   "source": [
    "import pandas as pd\n",
    "import matplotlib.pyplot as plt\n",
    "from sklearn.feature_selection import mutual_info_classif\n",
    "\n",
    "# Assuming that X and y have already been defined\n",
    "importances = mutual_info_classif(X, y)\n",
    "feat_importances = pd.Series(importances, X.columns[0:len(X.columns)])\n",
    "feat_importances = feat_importances.iloc[:28]\n",
    "feat_importances.plot(kind='barh', color='blue')\n",
    "plt.show()"
   ]
  },
  {
   "cell_type": "code",
   "execution_count": 85,
   "id": "636733a3",
   "metadata": {
    "ExecuteTime": {
     "end_time": "2023-05-09T12:32:37.875170Z",
     "start_time": "2023-05-09T12:32:30.752149Z"
    },
    "hidden": true
   },
   "outputs": [
    {
     "name": "stdout",
     "output_type": "stream",
     "text": [
      "Iteration: \t1 / 100\n",
      "Confirmed: \t0\n",
      "Tentative: \t17\n",
      "Rejected: \t0\n",
      "Iteration: \t2 / 100\n",
      "Confirmed: \t0\n",
      "Tentative: \t17\n",
      "Rejected: \t0\n",
      "Iteration: \t3 / 100\n",
      "Confirmed: \t0\n",
      "Tentative: \t17\n",
      "Rejected: \t0\n",
      "Iteration: \t4 / 100\n",
      "Confirmed: \t0\n",
      "Tentative: \t17\n",
      "Rejected: \t0\n",
      "Iteration: \t5 / 100\n",
      "Confirmed: \t0\n",
      "Tentative: \t17\n",
      "Rejected: \t0\n",
      "Iteration: \t6 / 100\n",
      "Confirmed: \t0\n",
      "Tentative: \t17\n",
      "Rejected: \t0\n",
      "Iteration: \t7 / 100\n",
      "Confirmed: \t0\n",
      "Tentative: \t17\n",
      "Rejected: \t0\n",
      "Iteration: \t8 / 100\n",
      "Confirmed: \t0\n",
      "Tentative: \t4\n",
      "Rejected: \t13\n",
      "Iteration: \t9 / 100\n",
      "Confirmed: \t1\n",
      "Tentative: \t3\n",
      "Rejected: \t13\n",
      "Iteration: \t10 / 100\n",
      "Confirmed: \t1\n",
      "Tentative: \t3\n",
      "Rejected: \t13\n",
      "Iteration: \t11 / 100\n",
      "Confirmed: \t1\n",
      "Tentative: \t3\n",
      "Rejected: \t13\n",
      "Iteration: \t12 / 100\n",
      "Confirmed: \t1\n",
      "Tentative: \t2\n",
      "Rejected: \t14\n",
      "Iteration: \t13 / 100\n",
      "Confirmed: \t1\n",
      "Tentative: \t2\n",
      "Rejected: \t14\n",
      "Iteration: \t14 / 100\n",
      "Confirmed: \t1\n",
      "Tentative: \t2\n",
      "Rejected: \t14\n",
      "Iteration: \t15 / 100\n",
      "Confirmed: \t1\n",
      "Tentative: \t2\n",
      "Rejected: \t14\n",
      "Iteration: \t16 / 100\n",
      "Confirmed: \t1\n",
      "Tentative: \t1\n",
      "Rejected: \t15\n",
      "Iteration: \t17 / 100\n",
      "Confirmed: \t1\n",
      "Tentative: \t1\n",
      "Rejected: \t15\n",
      "Iteration: \t18 / 100\n",
      "Confirmed: \t1\n",
      "Tentative: \t1\n",
      "Rejected: \t15\n",
      "Iteration: \t19 / 100\n",
      "Confirmed: \t1\n",
      "Tentative: \t1\n",
      "Rejected: \t15\n",
      "Iteration: \t20 / 100\n",
      "Confirmed: \t1\n",
      "Tentative: \t1\n",
      "Rejected: \t15\n",
      "Iteration: \t21 / 100\n",
      "Confirmed: \t1\n",
      "Tentative: \t1\n",
      "Rejected: \t15\n",
      "Iteration: \t22 / 100\n",
      "Confirmed: \t1\n",
      "Tentative: \t1\n",
      "Rejected: \t15\n",
      "Iteration: \t23 / 100\n",
      "Confirmed: \t1\n",
      "Tentative: \t1\n",
      "Rejected: \t15\n",
      "Iteration: \t24 / 100\n",
      "Confirmed: \t1\n",
      "Tentative: \t1\n",
      "Rejected: \t15\n",
      "Iteration: \t25 / 100\n",
      "Confirmed: \t1\n",
      "Tentative: \t1\n",
      "Rejected: \t15\n",
      "Iteration: \t26 / 100\n",
      "Confirmed: \t1\n",
      "Tentative: \t1\n",
      "Rejected: \t15\n",
      "Iteration: \t27 / 100\n",
      "Confirmed: \t1\n",
      "Tentative: \t1\n",
      "Rejected: \t15\n",
      "Iteration: \t28 / 100\n",
      "Confirmed: \t1\n",
      "Tentative: \t1\n",
      "Rejected: \t15\n",
      "Iteration: \t29 / 100\n",
      "Confirmed: \t1\n",
      "Tentative: \t1\n",
      "Rejected: \t15\n",
      "Iteration: \t30 / 100\n",
      "Confirmed: \t1\n",
      "Tentative: \t1\n",
      "Rejected: \t15\n",
      "Iteration: \t31 / 100\n",
      "Confirmed: \t1\n",
      "Tentative: \t1\n",
      "Rejected: \t15\n",
      "Iteration: \t32 / 100\n",
      "Confirmed: \t1\n",
      "Tentative: \t1\n",
      "Rejected: \t15\n",
      "Iteration: \t33 / 100\n",
      "Confirmed: \t1\n",
      "Tentative: \t1\n",
      "Rejected: \t15\n",
      "Iteration: \t34 / 100\n",
      "Confirmed: \t1\n",
      "Tentative: \t1\n",
      "Rejected: \t15\n",
      "Iteration: \t35 / 100\n",
      "Confirmed: \t1\n",
      "Tentative: \t1\n",
      "Rejected: \t15\n",
      "Iteration: \t36 / 100\n",
      "Confirmed: \t1\n",
      "Tentative: \t1\n",
      "Rejected: \t15\n",
      "Iteration: \t37 / 100\n",
      "Confirmed: \t2\n",
      "Tentative: \t0\n",
      "Rejected: \t15\n",
      "\n",
      "\n",
      "BorutaPy finished running.\n",
      "\n",
      "Iteration: \t38 / 100\n",
      "Confirmed: \t2\n",
      "Tentative: \t0\n",
      "Rejected: \t15\n"
     ]
    }
   ],
   "source": [
    "rf = RandomForestClassifier( n_jobs=-1 )\n",
    "# define boruta\n",
    "boruta =BorutaPy( rf, n_estimators='auto', verbose=2, random_state=42 ).fit(X.values, y.values)"
   ]
  },
  {
   "cell_type": "code",
   "execution_count": 86,
   "id": "b454370f",
   "metadata": {
    "ExecuteTime": {
     "end_time": "2023-05-09T12:32:41.573534Z",
     "start_time": "2023-05-09T12:32:41.568490Z"
    },
    "hidden": true
   },
   "outputs": [
    {
     "data": {
      "text/plain": [
       "['PAY_0', 'SUM_PAY']"
      ]
     },
     "execution_count": 86,
     "metadata": {},
     "output_type": "execute_result"
    }
   ],
   "source": [
    "cols_selected = boruta.support_.tolist()\n",
    "# best features\n",
    "cols_selected_boruta = X.iloc[:, cols_selected].columns.to_list()\n",
    "cols_selected_boruta"
   ]
  },
  {
   "cell_type": "code",
   "execution_count": 87,
   "id": "8997c119",
   "metadata": {
    "ExecuteTime": {
     "end_time": "2023-05-09T12:32:43.780201Z",
     "start_time": "2023-05-09T12:32:43.775759Z"
    },
    "hidden": true
   },
   "outputs": [
    {
     "data": {
      "text/plain": [
       "['LIMIT_BAL',\n",
       " 'AGE',\n",
       " 'PAY_0',\n",
       " 'PAY_2',\n",
       " 'PAY_3',\n",
       " 'PAY_4',\n",
       " 'PAY_5',\n",
       " 'PAY_6',\n",
       " 'SUM_BILL',\n",
       " 'AVG_BILL',\n",
       " 'max_BILL',\n",
       " 'SUM_PAY',\n",
       " 'AVG_PAY',\n",
       " 'max_PAY',\n",
       " 'default']"
      ]
     },
     "execution_count": 87,
     "metadata": {},
     "output_type": "execute_result"
    }
   ],
   "source": [
    "cols_selected_final"
   ]
  },
  {
   "cell_type": "code",
   "execution_count": 88,
   "id": "10500b7d",
   "metadata": {
    "ExecuteTime": {
     "end_time": "2023-05-09T12:32:46.511408Z",
     "start_time": "2023-05-09T12:32:46.508069Z"
    },
    "hidden": true
   },
   "outputs": [],
   "source": [
    "cols_selected_balanced = ['LIMIT_BAL', 'AGE', 'PAY_0', 'PAY_2', 'PAY_3', 'PAY_4', 'PAY_5', 'PAY_6', 'SUM_BILL', 'AVG_BILL','max_BILL','SUM_PAY','AVG_PAY','max_PAY']"
   ]
  },
  {
   "cell_type": "markdown",
   "id": "6a7cd341",
   "metadata": {
    "heading_collapsed": true
   },
   "source": [
    "# PASSO 7 - Machine Learning Modelling "
   ]
  },
  {
   "cell_type": "code",
   "execution_count": 89,
   "id": "82f37cb0",
   "metadata": {
    "ExecuteTime": {
     "end_time": "2023-05-09T12:33:04.851205Z",
     "start_time": "2023-05-09T12:33:04.838121Z"
    },
    "hidden": true
   },
   "outputs": [],
   "source": [
    "#Models which be used \n",
    "from sklearn.linear_model import LogisticRegression\n",
    "from sklearn.tree import DecisionTreeClassifier\n",
    "from sklearn.ensemble import RandomForestClassifier, GradientBoostingClassifier, AdaBoostClassifier, ExtraTreesClassifier\n",
    "from sklearn.neighbors import KNeighborsClassifier\n",
    "from sklearn.svm import SVC, LinearSVC\n",
    "from sklearn.naive_bayes import GaussianNB\n",
    "from sklearn.discriminant_analysis import LinearDiscriminantAnalysis, QuadraticDiscriminantAnalysis\n",
    "import xgboost as xgb\n",
    "\n",
    "\n",
    "models = {'Logistic Regression': LogisticRegression(),\n",
    "          'KNN': KNeighborsClassifier(),\n",
    "          'Decision Tree': DecisionTreeClassifier(),\n",
    "          'Random Forest': RandomForestClassifier(),\n",
    "          'Gradient Boosting' : GradientBoostingClassifier(),\n",
    "          'AdaBoostClassifier' : AdaBoostClassifier(),\n",
    "          'GaussianNB' : GaussianNB(),\n",
    "          'Extra Trees' : ExtraTreesClassifier(),\n",
    "          'XGBoosting' : xgb.XGBClassifier()\n",
    "         }"
   ]
  },
  {
   "cell_type": "code",
   "execution_count": 90,
   "id": "0ad91fe2",
   "metadata": {
    "ExecuteTime": {
     "end_time": "2023-05-09T12:33:06.970779Z",
     "start_time": "2023-05-09T12:33:06.967452Z"
    },
    "hidden": true
   },
   "outputs": [],
   "source": [
    "#function for calculate metrics for each models\n",
    "from sklearn.metrics import make_scorer, average_precision_score\n",
    "\n",
    "auprc_scorer = make_scorer(average_precision_score, greater_is_better=True, needs_proba=True)\n",
    "\n",
    "def model_tester(X,y,models):\n",
    "    results = []\n",
    "    for model_name, model in models.items():\n",
    "        num_folds = 10\n",
    "        seed = 7\n",
    "        \n",
    "        kfold = KFold(num_folds, shuffle=True,random_state=seed)\n",
    "        scores = cross_val_score(model, X, y , cv=kfold, scoring=auprc_scorer )\n",
    "        results.append({'Model': model_name , 'AP': np.mean(scores)})\n",
    "\n",
    "    return pd.DataFrame( results )"
   ]
  },
  {
   "cell_type": "code",
   "execution_count": 91,
   "id": "8b26d239",
   "metadata": {
    "ExecuteTime": {
     "end_time": "2023-05-09T12:33:07.964608Z",
     "start_time": "2023-05-09T12:33:07.960847Z"
    },
    "code_folding": [],
    "hidden": true
   },
   "outputs": [],
   "source": [
    "#fuction for plot the auprc curve\n",
    "import matplotlib.pyplot as plt\n",
    "from sklearn.metrics import precision_recall_curve\n",
    "\n",
    "def plot_aurpc(X,y,models):\n",
    "\n",
    "    results = []\n",
    "\n",
    "    # Plot das curvas de Precision-Recall\n",
    "    for model_name, model in models.items():\n",
    "        m = model.fit(X,y)\n",
    "        y_pred = m.predict_proba(df_OOT.drop(['default'],axis=1))[:,1]\n",
    "        precision, recall, threshold = precision_recall_curve(df_OOT['default'], y_pred)\n",
    "        plt.plot(recall, precision, label=model_name)\n",
    "        ap = average_precision_score(df_OOT['default'], y_pred)\n",
    "        results.append({'Model': model_name , 'AP': ap})\n",
    "\n",
    "    df_aurpc= pd.DataFrame(results)\n",
    "    \n",
    "    # Configurações do plot\n",
    "    plt.xlabel('Recall')\n",
    "    plt.ylabel('Precision')\n",
    "    plt.title('Curva de Precision-Recall')\n",
    "    plt.legend(loc='best')\n",
    "    plt.ylim([0.0, 1.05])\n",
    "    plt.xlim([0.0, 1.0])\n",
    "    plt.show()"
   ]
  },
  {
   "cell_type": "markdown",
   "id": "4b98f74d",
   "metadata": {
    "heading_collapsed": true,
    "hidden": true
   },
   "source": [
    "## 7.1 Machine Learning Modelling With Unbalanced Dataset"
   ]
  },
  {
   "cell_type": "code",
   "execution_count": 92,
   "id": "1269d20f",
   "metadata": {
    "ExecuteTime": {
     "end_time": "2023-05-09T12:33:14.403589Z",
     "start_time": "2023-05-09T12:33:14.401146Z"
    },
    "hidden": true
   },
   "outputs": [],
   "source": [
    "df7 = df6.copy()"
   ]
  },
  {
   "cell_type": "code",
   "execution_count": 93,
   "id": "414b023d",
   "metadata": {
    "ExecuteTime": {
     "end_time": "2023-05-09T12:33:14.965936Z",
     "start_time": "2023-05-09T12:33:14.962214Z"
    },
    "hidden": true
   },
   "outputs": [],
   "source": [
    "X = df7.drop(['default'] , axis=1) \n",
    "y = df7['default']"
   ]
  },
  {
   "cell_type": "code",
   "execution_count": 100,
   "id": "48f01e44",
   "metadata": {
    "ExecuteTime": {
     "end_time": "2023-05-09T12:36:11.714593Z",
     "start_time": "2023-05-09T12:36:08.680521Z"
    },
    "hidden": true
   },
   "outputs": [
    {
     "name": "stdout",
     "output_type": "stream",
     "text": [
      "Accuracy Value: 0.7235\n"
     ]
    }
   ],
   "source": [
    "#sem balanceamento\n",
    "from sklearn.tree import DecisionTreeClassifier\n",
    "from sklearn.ensemble import RandomForestClassifier\n",
    "from sklearn import svm\n",
    "from sklearn.model_selection import KFold, cross_val_score , cross_validate\n",
    "from sklearn.metrics import average_precision_score\n",
    "\n",
    "num_folds = 10\n",
    "seed = 7\n",
    "\n",
    "kfold = KFold(num_folds, shuffle=True , random_state=seed)\n",
    "\n",
    "model_tree = DecisionTreeClassifier()\n",
    "result_tree=cross_val_score(model_tree,X,y,cv=kfold,scoring='accuracy')\n",
    "print(\"Accuracy Value: {:.4f}\" .format(result_tree.mean()))"
   ]
  },
  {
   "cell_type": "code",
   "execution_count": 101,
   "id": "dd176ca9",
   "metadata": {
    "ExecuteTime": {
     "end_time": "2023-05-09T12:38:36.324569Z",
     "start_time": "2023-05-09T12:36:14.520625Z"
    },
    "hidden": true
   },
   "outputs": [
    {
     "data": {
      "text/html": [
       "<div>\n",
       "<style scoped>\n",
       "    .dataframe tbody tr th:only-of-type {\n",
       "        vertical-align: middle;\n",
       "    }\n",
       "\n",
       "    .dataframe tbody tr th {\n",
       "        vertical-align: top;\n",
       "    }\n",
       "\n",
       "    .dataframe thead th {\n",
       "        text-align: right;\n",
       "    }\n",
       "</style>\n",
       "<table border=\"1\" class=\"dataframe\">\n",
       "  <thead>\n",
       "    <tr style=\"text-align: right;\">\n",
       "      <th></th>\n",
       "      <th>Model</th>\n",
       "      <th>AP</th>\n",
       "    </tr>\n",
       "  </thead>\n",
       "  <tbody>\n",
       "    <tr>\n",
       "      <th>0</th>\n",
       "      <td>Logistic Regression</td>\n",
       "      <td>0.508131</td>\n",
       "    </tr>\n",
       "    <tr>\n",
       "      <th>1</th>\n",
       "      <td>KNN</td>\n",
       "      <td>0.414737</td>\n",
       "    </tr>\n",
       "    <tr>\n",
       "      <th>2</th>\n",
       "      <td>Decision Tree</td>\n",
       "      <td>0.301304</td>\n",
       "    </tr>\n",
       "    <tr>\n",
       "      <th>3</th>\n",
       "      <td>Random Forest</td>\n",
       "      <td>0.521746</td>\n",
       "    </tr>\n",
       "    <tr>\n",
       "      <th>4</th>\n",
       "      <td>Gradient Boosting</td>\n",
       "      <td>0.554680</td>\n",
       "    </tr>\n",
       "    <tr>\n",
       "      <th>5</th>\n",
       "      <td>AdaBoostClassifier</td>\n",
       "      <td>0.539974</td>\n",
       "    </tr>\n",
       "    <tr>\n",
       "      <th>6</th>\n",
       "      <td>GaussianNB</td>\n",
       "      <td>0.496126</td>\n",
       "    </tr>\n",
       "    <tr>\n",
       "      <th>7</th>\n",
       "      <td>Extra Trees</td>\n",
       "      <td>0.509068</td>\n",
       "    </tr>\n",
       "    <tr>\n",
       "      <th>8</th>\n",
       "      <td>XGBoosting</td>\n",
       "      <td>0.530535</td>\n",
       "    </tr>\n",
       "  </tbody>\n",
       "</table>\n",
       "</div>"
      ],
      "text/plain": [
       "                 Model        AP\n",
       "0  Logistic Regression  0.508131\n",
       "1                  KNN  0.414737\n",
       "2        Decision Tree  0.301304\n",
       "3        Random Forest  0.521746\n",
       "4    Gradient Boosting  0.554680\n",
       "5   AdaBoostClassifier  0.539974\n",
       "6           GaussianNB  0.496126\n",
       "7          Extra Trees  0.509068\n",
       "8           XGBoosting  0.530535"
      ]
     },
     "execution_count": 101,
     "metadata": {},
     "output_type": "execute_result"
    }
   ],
   "source": [
    "model_tester(X,y,models)"
   ]
  },
  {
   "cell_type": "code",
   "execution_count": 102,
   "id": "b55d5957",
   "metadata": {
    "ExecuteTime": {
     "end_time": "2023-05-09T12:41:05.667142Z",
     "start_time": "2023-05-09T12:40:49.100301Z"
    },
    "hidden": true
   },
   "outputs": [
    {
     "data": {
      "image/png": "[encoded data removed]",
      "text/plain": [
       "<Figure size 432x288 with 1 Axes>"
      ]
     },
     "metadata": {
      "needs_background": "light"
     },
     "output_type": "display_data"
    }
   ],
   "source": [
    "plot_aurpc(X,y,models)"
   ]
  },
  {
   "cell_type": "markdown",
   "id": "c921bf52",
   "metadata": {
    "hidden": true
   },
   "source": [
    "## 7.2 Machine Learning Modeling - Balanced With SMOTE"
   ]
  },
  {
   "cell_type": "code",
   "execution_count": 103,
   "id": "bddc4a4d",
   "metadata": {
    "ExecuteTime": {
     "end_time": "2023-05-09T12:43:07.306080Z",
     "start_time": "2023-05-09T12:41:59.671434Z"
    },
    "hidden": true
   },
   "outputs": [
    {
     "name": "stdout",
     "output_type": "stream",
     "text": [
      "Accuracy Value (Decision Tree): 0.7628\n",
      "Accuracy Value (Random Forest): 0.8378\n"
     ]
    }
   ],
   "source": [
    "#Com balanceamento\n",
    "from sklearn.tree import DecisionTreeClassifier\n",
    "from sklearn.ensemble import RandomForestClassifier\n",
    "from sklearn import svm\n",
    "from sklearn.model_selection import KFold, cross_val_score , cross_validate\n",
    "from sklearn.metrics import average_precision_score\n",
    "\n",
    "num_folds = 10\n",
    "seed = 7\n",
    "\n",
    "kfold = KFold(num_folds, shuffle=True , random_state=seed)\n",
    "\n",
    "model_tree = DecisionTreeClassifier()\n",
    "model_rf = RandomForestClassifier()\n",
    "result_tree=cross_val_score(model_tree,X_smo,y_smo,cv=kfold,scoring='accuracy')\n",
    "result_rf = cross_val_score(model_rf,X_smo,y_smo,cv=kfold,scoring='accuracy')\n",
    "print(\"Accuracy Value (Decision Tree): {:.4f}\" .format(result_tree.mean()))\n",
    "print(\"Accuracy Value (Random Forest): {:.4f}\" .format(result_rf.mean()))"
   ]
  },
  {
   "cell_type": "code",
   "execution_count": 104,
   "id": "ed2fca42",
   "metadata": {
    "ExecuteTime": {
     "end_time": "2023-05-09T12:46:41.548340Z",
     "start_time": "2023-05-09T12:43:07.308007Z"
    },
    "hidden": true
   },
   "outputs": [
    {
     "data": {
      "text/html": [
       "<div>\n",
       "<style scoped>\n",
       "    .dataframe tbody tr th:only-of-type {\n",
       "        vertical-align: middle;\n",
       "    }\n",
       "\n",
       "    .dataframe tbody tr th {\n",
       "        vertical-align: top;\n",
       "    }\n",
       "\n",
       "    .dataframe thead th {\n",
       "        text-align: right;\n",
       "    }\n",
       "</style>\n",
       "<table border=\"1\" class=\"dataframe\">\n",
       "  <thead>\n",
       "    <tr style=\"text-align: right;\">\n",
       "      <th></th>\n",
       "      <th>Model</th>\n",
       "      <th>AP</th>\n",
       "    </tr>\n",
       "  </thead>\n",
       "  <tbody>\n",
       "    <tr>\n",
       "      <th>0</th>\n",
       "      <td>Logistic Regression</td>\n",
       "      <td>0.722913</td>\n",
       "    </tr>\n",
       "    <tr>\n",
       "      <th>1</th>\n",
       "      <td>KNN</td>\n",
       "      <td>0.744800</td>\n",
       "    </tr>\n",
       "    <tr>\n",
       "      <th>2</th>\n",
       "      <td>Decision Tree</td>\n",
       "      <td>0.699038</td>\n",
       "    </tr>\n",
       "    <tr>\n",
       "      <th>3</th>\n",
       "      <td>Random Forest</td>\n",
       "      <td>0.919042</td>\n",
       "    </tr>\n",
       "    <tr>\n",
       "      <th>4</th>\n",
       "      <td>Gradient Boosting</td>\n",
       "      <td>0.848321</td>\n",
       "    </tr>\n",
       "    <tr>\n",
       "      <th>5</th>\n",
       "      <td>AdaBoostClassifier</td>\n",
       "      <td>0.811769</td>\n",
       "    </tr>\n",
       "    <tr>\n",
       "      <th>6</th>\n",
       "      <td>GaussianNB</td>\n",
       "      <td>0.703378</td>\n",
       "    </tr>\n",
       "    <tr>\n",
       "      <th>7</th>\n",
       "      <td>Extra Trees</td>\n",
       "      <td>0.927824</td>\n",
       "    </tr>\n",
       "    <tr>\n",
       "      <th>8</th>\n",
       "      <td>XGBoosting</td>\n",
       "      <td>0.896304</td>\n",
       "    </tr>\n",
       "  </tbody>\n",
       "</table>\n",
       "</div>"
      ],
      "text/plain": [
       "                 Model        AP\n",
       "0  Logistic Regression  0.722913\n",
       "1                  KNN  0.744800\n",
       "2        Decision Tree  0.699038\n",
       "3        Random Forest  0.919042\n",
       "4    Gradient Boosting  0.848321\n",
       "5   AdaBoostClassifier  0.811769\n",
       "6           GaussianNB  0.703378\n",
       "7          Extra Trees  0.927824\n",
       "8           XGBoosting  0.896304"
      ]
     },
     "execution_count": 104,
     "metadata": {},
     "output_type": "execute_result"
    }
   ],
   "source": [
    "model_tester(X_smo,y_smo,models)"
   ]
  },
  {
   "cell_type": "code",
   "execution_count": 105,
   "id": "e24ce3d7",
   "metadata": {
    "ExecuteTime": {
     "end_time": "2023-05-09T12:47:31.648792Z",
     "start_time": "2023-05-09T12:47:07.089889Z"
    },
    "hidden": true
   },
   "outputs": [
    {
     "data": {
      "image/png": "[encoded data removed]",
      "text/plain": [
       "<Figure size 432x288 with 1 Axes>"
      ]
     },
     "metadata": {
      "needs_background": "light"
     },
     "output_type": "display_data"
    }
   ],
   "source": [
    "plot_aurpc(X_smo,y_smo,models)"
   ]
  },
  {
   "cell_type": "markdown",
   "id": "35896df7",
   "metadata": {
    "hidden": true
   },
   "source": [
    "## 7.3 Machine Learning Modelling - Balanced DataSet with ADASYN"
   ]
  },
  {
   "cell_type": "code",
   "execution_count": 106,
   "id": "0190e79d",
   "metadata": {
    "ExecuteTime": {
     "end_time": "2023-05-09T12:53:02.086617Z",
     "start_time": "2023-05-09T12:51:50.577182Z"
    },
    "hidden": true
   },
   "outputs": [
    {
     "name": "stdout",
     "output_type": "stream",
     "text": [
      "Accuracy Value (Decision Tree): 0.7601\n",
      "Accuracy Value (Random Forest): 0.8378\n"
     ]
    }
   ],
   "source": [
    "#Com balanceamento\n",
    "from sklearn.tree import DecisionTreeClassifier\n",
    "from sklearn.ensemble import RandomForestClassifier\n",
    "from sklearn import svm\n",
    "from sklearn.model_selection import KFold, cross_val_score , cross_validate\n",
    "from sklearn.metrics import average_precision_score\n",
    "\n",
    "num_folds = 10\n",
    "seed = 7\n",
    "\n",
    "kfold = KFold(num_folds, shuffle=True , random_state=seed)\n",
    "\n",
    "model_tree = DecisionTreeClassifier()\n",
    "model_rf = RandomForestClassifier()\n",
    "result_tree=cross_val_score(model_tree,X_ada,y_ada,cv=kfold,scoring='accuracy')\n",
    "result_rf = cross_val_score(model_rf,X_ada,y_ada,cv=kfold,scoring='accuracy')\n",
    "print(\"Accuracy Value (Decision Tree): {:.4f}\" .format(result_tree.mean()))\n",
    "print(\"Accuracy Value (Random Forest): {:.4f}\" .format(result_rf.mean()))"
   ]
  },
  {
   "cell_type": "code",
   "execution_count": 107,
   "id": "7662ab02",
   "metadata": {
    "ExecuteTime": {
     "end_time": "2023-05-09T12:56:28.674482Z",
     "start_time": "2023-05-09T12:53:02.089095Z"
    },
    "hidden": true
   },
   "outputs": [
    {
     "data": {
      "text/html": [
       "<div>\n",
       "<style scoped>\n",
       "    .dataframe tbody tr th:only-of-type {\n",
       "        vertical-align: middle;\n",
       "    }\n",
       "\n",
       "    .dataframe tbody tr th {\n",
       "        vertical-align: top;\n",
       "    }\n",
       "\n",
       "    .dataframe thead th {\n",
       "        text-align: right;\n",
       "    }\n",
       "</style>\n",
       "<table border=\"1\" class=\"dataframe\">\n",
       "  <thead>\n",
       "    <tr style=\"text-align: right;\">\n",
       "      <th></th>\n",
       "      <th>Model</th>\n",
       "      <th>AP</th>\n",
       "    </tr>\n",
       "  </thead>\n",
       "  <tbody>\n",
       "    <tr>\n",
       "      <th>0</th>\n",
       "      <td>Logistic Regression</td>\n",
       "      <td>0.703459</td>\n",
       "    </tr>\n",
       "    <tr>\n",
       "      <th>1</th>\n",
       "      <td>KNN</td>\n",
       "      <td>0.732704</td>\n",
       "    </tr>\n",
       "    <tr>\n",
       "      <th>2</th>\n",
       "      <td>Decision Tree</td>\n",
       "      <td>0.691625</td>\n",
       "    </tr>\n",
       "    <tr>\n",
       "      <th>3</th>\n",
       "      <td>Random Forest</td>\n",
       "      <td>0.913831</td>\n",
       "    </tr>\n",
       "    <tr>\n",
       "      <th>4</th>\n",
       "      <td>Gradient Boosting</td>\n",
       "      <td>0.838238</td>\n",
       "    </tr>\n",
       "    <tr>\n",
       "      <th>5</th>\n",
       "      <td>AdaBoostClassifier</td>\n",
       "      <td>0.798553</td>\n",
       "    </tr>\n",
       "    <tr>\n",
       "      <th>6</th>\n",
       "      <td>GaussianNB</td>\n",
       "      <td>0.683018</td>\n",
       "    </tr>\n",
       "    <tr>\n",
       "      <th>7</th>\n",
       "      <td>Extra Trees</td>\n",
       "      <td>0.923480</td>\n",
       "    </tr>\n",
       "    <tr>\n",
       "      <th>8</th>\n",
       "      <td>XGBoosting</td>\n",
       "      <td>0.891426</td>\n",
       "    </tr>\n",
       "  </tbody>\n",
       "</table>\n",
       "</div>"
      ],
      "text/plain": [
       "                 Model        AP\n",
       "0  Logistic Regression  0.703459\n",
       "1                  KNN  0.732704\n",
       "2        Decision Tree  0.691625\n",
       "3        Random Forest  0.913831\n",
       "4    Gradient Boosting  0.838238\n",
       "5   AdaBoostClassifier  0.798553\n",
       "6           GaussianNB  0.683018\n",
       "7          Extra Trees  0.923480\n",
       "8           XGBoosting  0.891426"
      ]
     },
     "execution_count": 107,
     "metadata": {},
     "output_type": "execute_result"
    }
   ],
   "source": [
    "model_tester(X_ada,y_ada,models)"
   ]
  },
  {
   "cell_type": "code",
   "execution_count": 108,
   "id": "f16925fa",
   "metadata": {
    "ExecuteTime": {
     "end_time": "2023-05-09T12:56:53.324510Z",
     "start_time": "2023-05-09T12:56:28.675715Z"
    },
    "hidden": true
   },
   "outputs": [
    {
     "data": {
      "image/png": "[encoded data removed]",
      "text/plain": [
       "<Figure size 432x288 with 1 Axes>"
      ]
     },
     "metadata": {
      "needs_background": "light"
     },
     "output_type": "display_data"
    }
   ],
   "source": [
    "plot_aurpc(X_ada,y_ada,models)"
   ]
  },
  {
   "cell_type": "markdown",
   "id": "0f94ee70",
   "metadata": {
    "heading_collapsed": true
   },
   "source": [
    "# PASSO 8 - Hyperparameter Fine Tuning"
   ]
  },
  {
   "cell_type": "code",
   "execution_count": 142,
   "id": "6e805cf5",
   "metadata": {
    "ExecuteTime": {
     "end_time": "2023-05-04T19:03:42.668191Z",
     "start_time": "2023-05-04T18:58:35.268225Z"
    },
    "hidden": true
   },
   "outputs": [
    {
     "name": "stdout",
     "output_type": "stream",
     "text": [
      "Best hyperparameters:  OrderedDict([('colsample_bytree', 1.0), ('gamma', 1e-06), ('learning_rate', 0.05311078800069953), ('max_depth', 10), ('min_child_weight', 10), ('n_estimators', 325), ('objective', 'binary:logistic'), ('reg_alpha', 4.065131679512596e-08), ('reg_lambda', 1.0), ('scale_pos_weight', 40.33716590681101), ('subsample', 0.5738804041433168)])\n",
      "Best AUPRC: 0.9028\n"
     ]
    }
   ],
   "source": [
    "from sklearn.model_selection import train_test_split\n",
    "from xgboost import XGBClassifier\n",
    "from skopt import BayesSearchCV\n",
    "from skopt.space import Real, Categorical, Integer\n",
    "\n",
    "\n",
    "# Define the hyperparameter search space\n",
    "param_space = {\n",
    "    \"learning_rate\": Real(0.01, 1.0, prior=\"log-uniform\"),\n",
    "    \"max_depth\": Integer(1, 10),\n",
    "    \"n_estimators\": Integer(50, 500),\n",
    "    \"min_child_weight\": Integer(1, 10),\n",
    "    \"subsample\": Real(0.5, 1.0, prior=\"uniform\"),\n",
    "    \"colsample_bytree\": Real(0.5, 1.0, prior=\"uniform\"),\n",
    "    \"gamma\": Real(1e-6, 1.0, prior=\"log-uniform\"),\n",
    "    \"reg_alpha\": Real(1e-9, 1.0, prior=\"log-uniform\"),\n",
    "    \"reg_lambda\": Real(1e-9, 1.0, prior=\"log-uniform\"),\n",
    "    \"scale_pos_weight\": Real(1e-6, 500, prior=\"log-uniform\"),\n",
    "    \"objective\": Categorical([\"binary:logistic\"]),\n",
    "}\n",
    "\n",
    "# Define the XGBoost classifier\n",
    "clf = XGBClassifier(\n",
    "    random_state=42,\n",
    "    n_jobs=-1,\n",
    ")\n",
    "\n",
    "# Define the BayesSearchCV object\n",
    "bayes_cv = BayesSearchCV(\n",
    "    estimator=clf,\n",
    "    search_spaces=param_space,\n",
    "    scoring=\"average_precision\",\n",
    "    cv=5,\n",
    "    n_jobs=-1,\n",
    "    n_iter=20,\n",
    "    verbose=0,\n",
    "    random_state=42,\n",
    ")\n",
    "\n",
    "# Fit the BayesSearchCV object to the data\n",
    "bayes_cv.fit(X_smo, y_smo)\n",
    "\n",
    "# Print the best hyperparameters and best average precision score\n",
    "print(\"Best hyperparameters: \", bayes_cv.best_params_)\n",
    "print(\"Best AUPRC: {:.4f}\".format(bayes_cv.best_score_))"
   ]
  },
  {
   "cell_type": "markdown",
   "id": "79523e0c",
   "metadata": {},
   "source": [
    "# PASSO 9 -  Utilizando DataSet de Teste para Calibrar PD e Calcular PD, LGD e EAD. "
   ]
  },
  {
   "cell_type": "code",
   "execution_count": 225,
   "id": "321e5267",
   "metadata": {
    "ExecuteTime": {
     "end_time": "2023-05-09T15:39:46.884622Z",
     "start_time": "2023-05-09T15:39:46.880939Z"
    }
   },
   "outputs": [],
   "source": [
    "test_df = df_OOT.drop(['default','PAY_2', 'PAY_3', 'PAY_4', 'PAY_5','PAY_6'],axis=1)"
   ]
  },
  {
   "cell_type": "code",
   "execution_count": 226,
   "id": "99153b4c",
   "metadata": {
    "ExecuteTime": {
     "end_time": "2023-05-09T15:39:47.844013Z",
     "start_time": "2023-05-09T15:39:47.839981Z"
    }
   },
   "outputs": [],
   "source": [
    "X_smo = X_smo.drop([ 'PAY_2', 'PAY_3', 'PAY_4', 'PAY_5','PAY_6'],axis=1).copy()"
   ]
  },
  {
   "cell_type": "code",
   "execution_count": 227,
   "id": "94a75aad",
   "metadata": {
    "ExecuteTime": {
     "end_time": "2023-05-09T15:39:51.956838Z",
     "start_time": "2023-05-09T15:39:50.994923Z"
    }
   },
   "outputs": [],
   "source": [
    "import xgboost as xgb\n",
    "\n",
    "xgb_model = xgb.XGBClassifier().fit(X_smo,y_smo)\n"
   ]
  },
  {
   "cell_type": "code",
   "execution_count": 228,
   "id": "0639568c",
   "metadata": {
    "ExecuteTime": {
     "end_time": "2023-05-09T15:39:53.971585Z",
     "start_time": "2023-05-09T15:39:53.951822Z"
    }
   },
   "outputs": [],
   "source": [
    "#Salvando modelo\n",
    "data = {\"model\": xgb_model }\n",
    "with open('model/creditscore.pkl' , 'wb') as file:\n",
    "    pickle.dump(data,file)\n",
    "#pickle.dump( xgb_model,open('model/creditscore.pkl','wb'))"
   ]
  },
  {
   "cell_type": "code",
   "execution_count": 229,
   "id": "78ec5903",
   "metadata": {
    "ExecuteTime": {
     "end_time": "2023-05-09T15:39:54.596592Z",
     "start_time": "2023-05-09T15:39:54.588692Z"
    }
   },
   "outputs": [],
   "source": [
    "with open('model/creditscore.pkl' , 'rb') as file:\n",
    "    data =  pickle.load(file)"
   ]
  },
  {
   "cell_type": "code",
   "execution_count": 230,
   "id": "c8b103f9",
   "metadata": {
    "ExecuteTime": {
     "end_time": "2023-05-09T15:39:55.496544Z",
     "start_time": "2023-05-09T15:39:55.453074Z"
    }
   },
   "outputs": [],
   "source": [
    "test_df['y_score'] = xgb_model.predict_proba(test_df)[:,1]"
   ]
  },
  {
   "cell_type": "code",
   "execution_count": 231,
   "id": "7d4896c9",
   "metadata": {
    "ExecuteTime": {
     "end_time": "2023-05-09T15:39:56.206824Z",
     "start_time": "2023-05-09T15:39:56.200099Z"
    }
   },
   "outputs": [
    {
     "data": {
      "text/html": [
       "<div>\n",
       "<style scoped>\n",
       "    .dataframe tbody tr th:only-of-type {\n",
       "        vertical-align: middle;\n",
       "    }\n",
       "\n",
       "    .dataframe tbody tr th {\n",
       "        vertical-align: top;\n",
       "    }\n",
       "\n",
       "    .dataframe thead th {\n",
       "        text-align: right;\n",
       "    }\n",
       "</style>\n",
       "<table border=\"1\" class=\"dataframe\">\n",
       "  <thead>\n",
       "    <tr style=\"text-align: right;\">\n",
       "      <th></th>\n",
       "      <th>LIMIT_BAL</th>\n",
       "      <th>AGE</th>\n",
       "      <th>PAY_0</th>\n",
       "      <th>SUM_BILL</th>\n",
       "      <th>AVG_BILL</th>\n",
       "      <th>max_BILL</th>\n",
       "      <th>SUM_PAY</th>\n",
       "      <th>AVG_PAY</th>\n",
       "      <th>max_PAY</th>\n",
       "      <th>y_score</th>\n",
       "    </tr>\n",
       "  </thead>\n",
       "  <tbody>\n",
       "    <tr>\n",
       "      <th>21000</th>\n",
       "      <td>-0.555556</td>\n",
       "      <td>36</td>\n",
       "      <td>1</td>\n",
       "      <td>-0.407430</td>\n",
       "      <td>-0.407430</td>\n",
       "      <td>-0.438912</td>\n",
       "      <td>-0.452968</td>\n",
       "      <td>-0.452968</td>\n",
       "      <td>-0.390806</td>\n",
       "      <td>0.850414</td>\n",
       "    </tr>\n",
       "    <tr>\n",
       "      <th>21001</th>\n",
       "      <td>0.833333</td>\n",
       "      <td>40</td>\n",
       "      <td>2</td>\n",
       "      <td>3.277224</td>\n",
       "      <td>3.277224</td>\n",
       "      <td>2.356650</td>\n",
       "      <td>1.332486</td>\n",
       "      <td>1.332486</td>\n",
       "      <td>0.510191</td>\n",
       "      <td>0.805133</td>\n",
       "    </tr>\n",
       "    <tr>\n",
       "      <th>21002</th>\n",
       "      <td>0.722222</td>\n",
       "      <td>37</td>\n",
       "      <td>0</td>\n",
       "      <td>0.639827</td>\n",
       "      <td>0.639827</td>\n",
       "      <td>1.427677</td>\n",
       "      <td>0.430247</td>\n",
       "      <td>0.430247</td>\n",
       "      <td>0.103569</td>\n",
       "      <td>0.350095</td>\n",
       "    </tr>\n",
       "    <tr>\n",
       "      <th>21003</th>\n",
       "      <td>0.388889</td>\n",
       "      <td>32</td>\n",
       "      <td>2</td>\n",
       "      <td>0.913839</td>\n",
       "      <td>0.913839</td>\n",
       "      <td>1.927765</td>\n",
       "      <td>-0.081336</td>\n",
       "      <td>-0.081336</td>\n",
       "      <td>0.265299</td>\n",
       "      <td>0.961238</td>\n",
       "    </tr>\n",
       "    <tr>\n",
       "      <th>21004</th>\n",
       "      <td>-0.277778</td>\n",
       "      <td>32</td>\n",
       "      <td>2</td>\n",
       "      <td>0.985423</td>\n",
       "      <td>0.985423</td>\n",
       "      <td>0.704592</td>\n",
       "      <td>0.415651</td>\n",
       "      <td>0.415651</td>\n",
       "      <td>0.510191</td>\n",
       "      <td>0.942479</td>\n",
       "    </tr>\n",
       "  </tbody>\n",
       "</table>\n",
       "</div>"
      ],
      "text/plain": [
       "       LIMIT_BAL  AGE  PAY_0  SUM_BILL  AVG_BILL  max_BILL   SUM_PAY  \\\n",
       "21000  -0.555556   36      1 -0.407430 -0.407430 -0.438912 -0.452968   \n",
       "21001   0.833333   40      2  3.277224  3.277224  2.356650  1.332486   \n",
       "21002   0.722222   37      0  0.639827  0.639827  1.427677  0.430247   \n",
       "21003   0.388889   32      2  0.913839  0.913839  1.927765 -0.081336   \n",
       "21004  -0.277778   32      2  0.985423  0.985423  0.704592  0.415651   \n",
       "\n",
       "        AVG_PAY   max_PAY   y_score  \n",
       "21000 -0.452968 -0.390806  0.850414  \n",
       "21001  1.332486  0.510191  0.805133  \n",
       "21002  0.430247  0.103569  0.350095  \n",
       "21003 -0.081336  0.265299  0.961238  \n",
       "21004  0.415651  0.510191  0.942479  "
      ]
     },
     "execution_count": 231,
     "metadata": {},
     "output_type": "execute_result"
    }
   ],
   "source": [
    "test_df.head()"
   ]
  },
  {
   "cell_type": "code",
   "execution_count": 232,
   "id": "64022d73",
   "metadata": {
    "ExecuteTime": {
     "end_time": "2023-05-09T15:39:56.797748Z",
     "start_time": "2023-05-09T15:39:56.789314Z"
    }
   },
   "outputs": [
    {
     "data": {
      "text/html": [
       "<div>\n",
       "<style scoped>\n",
       "    .dataframe tbody tr th:only-of-type {\n",
       "        vertical-align: middle;\n",
       "    }\n",
       "\n",
       "    .dataframe tbody tr th {\n",
       "        vertical-align: top;\n",
       "    }\n",
       "\n",
       "    .dataframe thead th {\n",
       "        text-align: right;\n",
       "    }\n",
       "</style>\n",
       "<table border=\"1\" class=\"dataframe\">\n",
       "  <thead>\n",
       "    <tr style=\"text-align: right;\">\n",
       "      <th></th>\n",
       "      <th>LIMIT_BAL</th>\n",
       "      <th>AGE</th>\n",
       "      <th>PAY_0</th>\n",
       "      <th>SUM_BILL</th>\n",
       "      <th>AVG_BILL</th>\n",
       "      <th>max_BILL</th>\n",
       "      <th>SUM_PAY</th>\n",
       "      <th>AVG_PAY</th>\n",
       "      <th>max_PAY</th>\n",
       "      <th>y_score</th>\n",
       "      <th>default</th>\n",
       "    </tr>\n",
       "  </thead>\n",
       "  <tbody>\n",
       "    <tr>\n",
       "      <th>21000</th>\n",
       "      <td>-0.555556</td>\n",
       "      <td>36</td>\n",
       "      <td>1</td>\n",
       "      <td>-0.407430</td>\n",
       "      <td>-0.407430</td>\n",
       "      <td>-0.438912</td>\n",
       "      <td>-0.452968</td>\n",
       "      <td>-0.452968</td>\n",
       "      <td>-0.390806</td>\n",
       "      <td>0.850414</td>\n",
       "      <td>0</td>\n",
       "    </tr>\n",
       "    <tr>\n",
       "      <th>21001</th>\n",
       "      <td>0.833333</td>\n",
       "      <td>40</td>\n",
       "      <td>2</td>\n",
       "      <td>3.277224</td>\n",
       "      <td>3.277224</td>\n",
       "      <td>2.356650</td>\n",
       "      <td>1.332486</td>\n",
       "      <td>1.332486</td>\n",
       "      <td>0.510191</td>\n",
       "      <td>0.805133</td>\n",
       "      <td>1</td>\n",
       "    </tr>\n",
       "    <tr>\n",
       "      <th>21002</th>\n",
       "      <td>0.722222</td>\n",
       "      <td>37</td>\n",
       "      <td>0</td>\n",
       "      <td>0.639827</td>\n",
       "      <td>0.639827</td>\n",
       "      <td>1.427677</td>\n",
       "      <td>0.430247</td>\n",
       "      <td>0.430247</td>\n",
       "      <td>0.103569</td>\n",
       "      <td>0.350095</td>\n",
       "      <td>0</td>\n",
       "    </tr>\n",
       "    <tr>\n",
       "      <th>21003</th>\n",
       "      <td>0.388889</td>\n",
       "      <td>32</td>\n",
       "      <td>2</td>\n",
       "      <td>0.913839</td>\n",
       "      <td>0.913839</td>\n",
       "      <td>1.927765</td>\n",
       "      <td>-0.081336</td>\n",
       "      <td>-0.081336</td>\n",
       "      <td>0.265299</td>\n",
       "      <td>0.961238</td>\n",
       "      <td>1</td>\n",
       "    </tr>\n",
       "    <tr>\n",
       "      <th>21004</th>\n",
       "      <td>-0.277778</td>\n",
       "      <td>32</td>\n",
       "      <td>2</td>\n",
       "      <td>0.985423</td>\n",
       "      <td>0.985423</td>\n",
       "      <td>0.704592</td>\n",
       "      <td>0.415651</td>\n",
       "      <td>0.415651</td>\n",
       "      <td>0.510191</td>\n",
       "      <td>0.942479</td>\n",
       "      <td>1</td>\n",
       "    </tr>\n",
       "  </tbody>\n",
       "</table>\n",
       "</div>"
      ],
      "text/plain": [
       "       LIMIT_BAL  AGE  PAY_0  SUM_BILL  AVG_BILL  max_BILL   SUM_PAY  \\\n",
       "21000  -0.555556   36      1 -0.407430 -0.407430 -0.438912 -0.452968   \n",
       "21001   0.833333   40      2  3.277224  3.277224  2.356650  1.332486   \n",
       "21002   0.722222   37      0  0.639827  0.639827  1.427677  0.430247   \n",
       "21003   0.388889   32      2  0.913839  0.913839  1.927765 -0.081336   \n",
       "21004  -0.277778   32      2  0.985423  0.985423  0.704592  0.415651   \n",
       "\n",
       "        AVG_PAY   max_PAY   y_score  default  \n",
       "21000 -0.452968 -0.390806  0.850414        0  \n",
       "21001  1.332486  0.510191  0.805133        1  \n",
       "21002  0.430247  0.103569  0.350095        0  \n",
       "21003 -0.081336  0.265299  0.961238        1  \n",
       "21004  0.415651  0.510191  0.942479        1  "
      ]
     },
     "execution_count": 232,
     "metadata": {},
     "output_type": "execute_result"
    }
   ],
   "source": [
    "test_df = pd.concat([test_df,df_OOT['default']],axis=1)\n",
    "test_df.head()"
   ]
  },
  {
   "cell_type": "code",
   "execution_count": 233,
   "id": "6b40d92f",
   "metadata": {
    "ExecuteTime": {
     "end_time": "2023-05-09T15:39:57.389858Z",
     "start_time": "2023-05-09T15:39:57.365912Z"
    }
   },
   "outputs": [
    {
     "data": {
      "text/html": [
       "<div>\n",
       "<style scoped>\n",
       "    .dataframe tbody tr th:only-of-type {\n",
       "        vertical-align: middle;\n",
       "    }\n",
       "\n",
       "    .dataframe tbody tr th {\n",
       "        vertical-align: top;\n",
       "    }\n",
       "\n",
       "    .dataframe thead th {\n",
       "        text-align: right;\n",
       "    }\n",
       "</style>\n",
       "<table border=\"1\" class=\"dataframe\">\n",
       "  <thead>\n",
       "    <tr style=\"text-align: right;\">\n",
       "      <th></th>\n",
       "      <th>SUM_BILL</th>\n",
       "      <th>SUM_PAY</th>\n",
       "      <th>ead</th>\n",
       "      <th>ead_ratio</th>\n",
       "      <th>lgd_ratio</th>\n",
       "      <th>losses</th>\n",
       "    </tr>\n",
       "  </thead>\n",
       "  <tbody>\n",
       "    <tr>\n",
       "      <th>21001</th>\n",
       "      <td>3.277224</td>\n",
       "      <td>1.332486</td>\n",
       "      <td>1.944738</td>\n",
       "      <td>0.593410</td>\n",
       "      <td>0.314825</td>\n",
       "      <td>1.944738</td>\n",
       "    </tr>\n",
       "    <tr>\n",
       "      <th>21003</th>\n",
       "      <td>0.913839</td>\n",
       "      <td>-0.081336</td>\n",
       "      <td>0.995175</td>\n",
       "      <td>1.089004</td>\n",
       "      <td>1.081730</td>\n",
       "      <td>0.995175</td>\n",
       "    </tr>\n",
       "    <tr>\n",
       "      <th>21004</th>\n",
       "      <td>0.985423</td>\n",
       "      <td>0.415651</td>\n",
       "      <td>0.569772</td>\n",
       "      <td>0.578200</td>\n",
       "      <td>0.270496</td>\n",
       "      <td>0.569772</td>\n",
       "    </tr>\n",
       "    <tr>\n",
       "      <th>21007</th>\n",
       "      <td>2.687547</td>\n",
       "      <td>11.536903</td>\n",
       "      <td>-8.849356</td>\n",
       "      <td>-3.292726</td>\n",
       "      <td>2.303700</td>\n",
       "      <td>-8.849356</td>\n",
       "    </tr>\n",
       "    <tr>\n",
       "      <th>21012</th>\n",
       "      <td>-0.367102</td>\n",
       "      <td>-0.528065</td>\n",
       "      <td>0.160963</td>\n",
       "      <td>-0.438468</td>\n",
       "      <td>4.280670</td>\n",
       "      <td>0.160963</td>\n",
       "    </tr>\n",
       "    <tr>\n",
       "      <th>...</th>\n",
       "      <td>...</td>\n",
       "      <td>...</td>\n",
       "      <td>...</td>\n",
       "      <td>...</td>\n",
       "      <td>...</td>\n",
       "      <td>...</td>\n",
       "    </tr>\n",
       "    <tr>\n",
       "      <th>29991</th>\n",
       "      <td>-0.367102</td>\n",
       "      <td>-0.528065</td>\n",
       "      <td>0.160963</td>\n",
       "      <td>-0.438468</td>\n",
       "      <td>4.280670</td>\n",
       "      <td>0.160963</td>\n",
       "    </tr>\n",
       "    <tr>\n",
       "      <th>29994</th>\n",
       "      <td>1.131397</td>\n",
       "      <td>0.299925</td>\n",
       "      <td>0.831472</td>\n",
       "      <td>0.734907</td>\n",
       "      <td>0.639284</td>\n",
       "      <td>0.831472</td>\n",
       "    </tr>\n",
       "    <tr>\n",
       "      <th>29997</th>\n",
       "      <td>-0.184706</td>\n",
       "      <td>0.677334</td>\n",
       "      <td>-0.862040</td>\n",
       "      <td>4.667101</td>\n",
       "      <td>1.785734</td>\n",
       "      <td>-0.862040</td>\n",
       "    </tr>\n",
       "    <tr>\n",
       "      <th>29998</th>\n",
       "      <td>0.459859</td>\n",
       "      <td>5.140046</td>\n",
       "      <td>-4.680187</td>\n",
       "      <td>-10.177446</td>\n",
       "      <td>2.098256</td>\n",
       "      <td>-4.680187</td>\n",
       "    </tr>\n",
       "    <tr>\n",
       "      <th>29999</th>\n",
       "      <td>0.342403</td>\n",
       "      <td>-0.208114</td>\n",
       "      <td>0.550517</td>\n",
       "      <td>1.607805</td>\n",
       "      <td>1.378034</td>\n",
       "      <td>0.550517</td>\n",
       "    </tr>\n",
       "  </tbody>\n",
       "</table>\n",
       "<p>1840 rows × 6 columns</p>\n",
       "</div>"
      ],
      "text/plain": [
       "       SUM_BILL    SUM_PAY       ead  ead_ratio  lgd_ratio    losses\n",
       "21001  3.277224   1.332486  1.944738   0.593410   0.314825  1.944738\n",
       "21003  0.913839  -0.081336  0.995175   1.089004   1.081730  0.995175\n",
       "21004  0.985423   0.415651  0.569772   0.578200   0.270496  0.569772\n",
       "21007  2.687547  11.536903 -8.849356  -3.292726   2.303700 -8.849356\n",
       "21012 -0.367102  -0.528065  0.160963  -0.438468   4.280670  0.160963\n",
       "...         ...        ...       ...        ...        ...       ...\n",
       "29991 -0.367102  -0.528065  0.160963  -0.438468   4.280670  0.160963\n",
       "29994  1.131397   0.299925  0.831472   0.734907   0.639284  0.831472\n",
       "29997 -0.184706   0.677334 -0.862040   4.667101   1.785734 -0.862040\n",
       "29998  0.459859   5.140046 -4.680187 -10.177446   2.098256 -4.680187\n",
       "29999  0.342403  -0.208114  0.550517   1.607805   1.378034  0.550517\n",
       "\n",
       "[1840 rows x 6 columns]"
      ]
     },
     "execution_count": 233,
     "metadata": {},
     "output_type": "execute_result"
    }
   ],
   "source": [
    "# Exposure at default ratio, percentual do montante total devido em relação ao principal\n",
    "test_df['ead'] = test_df['SUM_BILL'] - test_df['SUM_PAY']\n",
    "test_df['ead_ratio'] = test_df['ead']/test_df['SUM_BILL']\n",
    "\n",
    "# Loss given default ratio, percentual de recuperação em relação total devido\n",
    "test_df['lgd_ratio'] = 1 - test_df['SUM_PAY']/test_df['ead']\n",
    "\n",
    "#perdas\n",
    "test_df['losses'] = test_df['SUM_BILL'] - test_df['SUM_PAY']\n",
    "\n",
    "test_df[test_df.default == 1][['SUM_BILL','SUM_PAY','ead','ead_ratio','lgd_ratio','losses']]"
   ]
  },
  {
   "cell_type": "code",
   "execution_count": 234,
   "id": "0b9ae4e8",
   "metadata": {
    "ExecuteTime": {
     "end_time": "2023-05-09T15:39:57.829928Z",
     "start_time": "2023-05-09T15:39:57.816890Z"
    }
   },
   "outputs": [
    {
     "data": {
      "text/html": [
       "<div>\n",
       "<style scoped>\n",
       "    .dataframe tbody tr th:only-of-type {\n",
       "        vertical-align: middle;\n",
       "    }\n",
       "\n",
       "    .dataframe tbody tr th {\n",
       "        vertical-align: top;\n",
       "    }\n",
       "\n",
       "    .dataframe thead th {\n",
       "        text-align: right;\n",
       "    }\n",
       "</style>\n",
       "<table border=\"1\" class=\"dataframe\">\n",
       "  <thead>\n",
       "    <tr style=\"text-align: right;\">\n",
       "      <th></th>\n",
       "      <th>SUM_BILL</th>\n",
       "      <th>SUM_PAY</th>\n",
       "      <th>ead</th>\n",
       "      <th>ead_ratio</th>\n",
       "      <th>lgd_ratio</th>\n",
       "      <th>losses</th>\n",
       "    </tr>\n",
       "  </thead>\n",
       "  <tbody>\n",
       "    <tr>\n",
       "      <th>21000</th>\n",
       "      <td>-0.407430</td>\n",
       "      <td>-0.452968</td>\n",
       "      <td>0.045538</td>\n",
       "      <td>-0.111770</td>\n",
       "      <td>10.946949</td>\n",
       "      <td>0.045538</td>\n",
       "    </tr>\n",
       "    <tr>\n",
       "      <th>21002</th>\n",
       "      <td>0.639827</td>\n",
       "      <td>0.430247</td>\n",
       "      <td>0.209580</td>\n",
       "      <td>0.327557</td>\n",
       "      <td>-1.052899</td>\n",
       "      <td>0.209580</td>\n",
       "    </tr>\n",
       "    <tr>\n",
       "      <th>21005</th>\n",
       "      <td>-0.176315</td>\n",
       "      <td>0.027227</td>\n",
       "      <td>-0.203542</td>\n",
       "      <td>1.154425</td>\n",
       "      <td>1.133768</td>\n",
       "      <td>-0.203542</td>\n",
       "    </tr>\n",
       "    <tr>\n",
       "      <th>21006</th>\n",
       "      <td>-0.351727</td>\n",
       "      <td>-0.474149</td>\n",
       "      <td>0.122422</td>\n",
       "      <td>-0.348059</td>\n",
       "      <td>4.873075</td>\n",
       "      <td>0.122422</td>\n",
       "    </tr>\n",
       "    <tr>\n",
       "      <th>21008</th>\n",
       "      <td>-0.195982</td>\n",
       "      <td>3.311343</td>\n",
       "      <td>-3.507326</td>\n",
       "      <td>17.896143</td>\n",
       "      <td>1.944122</td>\n",
       "      <td>-3.507326</td>\n",
       "    </tr>\n",
       "    <tr>\n",
       "      <th>...</th>\n",
       "      <td>...</td>\n",
       "      <td>...</td>\n",
       "      <td>...</td>\n",
       "      <td>...</td>\n",
       "      <td>...</td>\n",
       "      <td>...</td>\n",
       "    </tr>\n",
       "    <tr>\n",
       "      <th>29990</th>\n",
       "      <td>1.715444</td>\n",
       "      <td>0.347409</td>\n",
       "      <td>1.368035</td>\n",
       "      <td>0.797481</td>\n",
       "      <td>0.746052</td>\n",
       "      <td>1.368035</td>\n",
       "    </tr>\n",
       "    <tr>\n",
       "      <th>29992</th>\n",
       "      <td>-0.353292</td>\n",
       "      <td>-0.451043</td>\n",
       "      <td>0.097751</td>\n",
       "      <td>-0.276686</td>\n",
       "      <td>5.614209</td>\n",
       "      <td>0.097751</td>\n",
       "    </tr>\n",
       "    <tr>\n",
       "      <th>29993</th>\n",
       "      <td>0.578037</td>\n",
       "      <td>4.277511</td>\n",
       "      <td>-3.699474</td>\n",
       "      <td>-6.400061</td>\n",
       "      <td>2.156249</td>\n",
       "      <td>-3.699474</td>\n",
       "    </tr>\n",
       "    <tr>\n",
       "      <th>29995</th>\n",
       "      <td>1.967577</td>\n",
       "      <td>1.110585</td>\n",
       "      <td>0.856992</td>\n",
       "      <td>0.435557</td>\n",
       "      <td>-0.295910</td>\n",
       "      <td>0.856992</td>\n",
       "    </tr>\n",
       "    <tr>\n",
       "      <th>29996</th>\n",
       "      <td>-0.346784</td>\n",
       "      <td>0.029962</td>\n",
       "      <td>-0.376746</td>\n",
       "      <td>1.086399</td>\n",
       "      <td>1.079528</td>\n",
       "      <td>-0.376746</td>\n",
       "    </tr>\n",
       "  </tbody>\n",
       "</table>\n",
       "<p>7160 rows × 6 columns</p>\n",
       "</div>"
      ],
      "text/plain": [
       "       SUM_BILL   SUM_PAY       ead  ead_ratio  lgd_ratio    losses\n",
       "21000 -0.407430 -0.452968  0.045538  -0.111770  10.946949  0.045538\n",
       "21002  0.639827  0.430247  0.209580   0.327557  -1.052899  0.209580\n",
       "21005 -0.176315  0.027227 -0.203542   1.154425   1.133768 -0.203542\n",
       "21006 -0.351727 -0.474149  0.122422  -0.348059   4.873075  0.122422\n",
       "21008 -0.195982  3.311343 -3.507326  17.896143   1.944122 -3.507326\n",
       "...         ...       ...       ...        ...        ...       ...\n",
       "29990  1.715444  0.347409  1.368035   0.797481   0.746052  1.368035\n",
       "29992 -0.353292 -0.451043  0.097751  -0.276686   5.614209  0.097751\n",
       "29993  0.578037  4.277511 -3.699474  -6.400061   2.156249 -3.699474\n",
       "29995  1.967577  1.110585  0.856992   0.435557  -0.295910  0.856992\n",
       "29996 -0.346784  0.029962 -0.376746   1.086399   1.079528 -0.376746\n",
       "\n",
       "[7160 rows x 6 columns]"
      ]
     },
     "execution_count": 234,
     "metadata": {},
     "output_type": "execute_result"
    }
   ],
   "source": [
    "test_df[test_df.default == 0][['SUM_BILL','SUM_PAY','ead','ead_ratio','lgd_ratio','losses']]"
   ]
  },
  {
   "cell_type": "markdown",
   "id": "ba615041",
   "metadata": {
    "heading_collapsed": true
   },
   "source": [
    "## Criando Categorias de Risco"
   ]
  },
  {
   "cell_type": "code",
   "execution_count": 235,
   "id": "73a66971",
   "metadata": {
    "ExecuteTime": {
     "end_time": "2023-05-09T15:39:59.180584Z",
     "start_time": "2023-05-09T15:39:59.169553Z"
    },
    "hidden": true
   },
   "outputs": [
    {
     "data": {
      "text/plain": [
       "21000    G\n",
       "21001    G\n",
       "21002    C\n",
       "21003    H\n",
       "21004    H\n",
       "        ..\n",
       "29995    F\n",
       "29996    F\n",
       "29997    D\n",
       "29998    B\n",
       "29999    C\n",
       "Name: risk_category, Length: 9000, dtype: category\n",
       "Categories (8, object): ['A' < 'B' < 'C' < 'D' < 'E' < 'F' < 'G' < 'H']"
      ]
     },
     "execution_count": 235,
     "metadata": {},
     "output_type": "execute_result"
    }
   ],
   "source": [
    "test_df['risk_category'], bins = pd.qcut(test_df.y_score, 8 , labels=['A','B','C','D','E','F','G','H'], retbins=True)\n",
    "test_df['risk_category']"
   ]
  },
  {
   "cell_type": "code",
   "execution_count": 277,
   "id": "4ade00dc",
   "metadata": {
    "ExecuteTime": {
     "end_time": "2023-05-09T16:41:56.024151Z",
     "start_time": "2023-05-09T16:41:56.007140Z"
    },
    "hidden": true
   },
   "outputs": [
    {
     "data": {
      "text/html": [
       "<div>\n",
       "<style scoped>\n",
       "    .dataframe tbody tr th:only-of-type {\n",
       "        vertical-align: middle;\n",
       "    }\n",
       "\n",
       "    .dataframe tbody tr th {\n",
       "        vertical-align: top;\n",
       "    }\n",
       "\n",
       "    .dataframe thead th {\n",
       "        text-align: right;\n",
       "    }\n",
       "</style>\n",
       "<table border=\"1\" class=\"dataframe\">\n",
       "  <thead>\n",
       "    <tr style=\"text-align: right;\">\n",
       "      <th></th>\n",
       "      <th>LIMIT_BAL</th>\n",
       "      <th>AGE</th>\n",
       "      <th>PAY_0</th>\n",
       "      <th>SUM_BILL</th>\n",
       "      <th>AVG_BILL</th>\n",
       "      <th>max_BILL</th>\n",
       "      <th>SUM_PAY</th>\n",
       "      <th>AVG_PAY</th>\n",
       "      <th>max_PAY</th>\n",
       "      <th>y_score</th>\n",
       "      <th>default</th>\n",
       "      <th>ead</th>\n",
       "      <th>ead_ratio</th>\n",
       "      <th>lgd_ratio</th>\n",
       "      <th>losses</th>\n",
       "      <th>risk_category</th>\n",
       "    </tr>\n",
       "  </thead>\n",
       "  <tbody>\n",
       "    <tr>\n",
       "      <th>21000</th>\n",
       "      <td>-0.555556</td>\n",
       "      <td>36</td>\n",
       "      <td>1</td>\n",
       "      <td>-0.407430</td>\n",
       "      <td>-0.407430</td>\n",
       "      <td>-0.438912</td>\n",
       "      <td>-0.452968</td>\n",
       "      <td>-0.452968</td>\n",
       "      <td>-0.390806</td>\n",
       "      <td>0.850414</td>\n",
       "      <td>0</td>\n",
       "      <td>0.045538</td>\n",
       "      <td>-0.111770</td>\n",
       "      <td>10.946949</td>\n",
       "      <td>0.045538</td>\n",
       "      <td>G</td>\n",
       "    </tr>\n",
       "    <tr>\n",
       "      <th>21001</th>\n",
       "      <td>0.833333</td>\n",
       "      <td>40</td>\n",
       "      <td>2</td>\n",
       "      <td>3.277224</td>\n",
       "      <td>3.277224</td>\n",
       "      <td>2.356650</td>\n",
       "      <td>1.332486</td>\n",
       "      <td>1.332486</td>\n",
       "      <td>0.510191</td>\n",
       "      <td>0.805133</td>\n",
       "      <td>1</td>\n",
       "      <td>1.944738</td>\n",
       "      <td>0.593410</td>\n",
       "      <td>0.314825</td>\n",
       "      <td>1.944738</td>\n",
       "      <td>G</td>\n",
       "    </tr>\n",
       "    <tr>\n",
       "      <th>21002</th>\n",
       "      <td>0.722222</td>\n",
       "      <td>37</td>\n",
       "      <td>0</td>\n",
       "      <td>0.639827</td>\n",
       "      <td>0.639827</td>\n",
       "      <td>1.427677</td>\n",
       "      <td>0.430247</td>\n",
       "      <td>0.430247</td>\n",
       "      <td>0.103569</td>\n",
       "      <td>0.350095</td>\n",
       "      <td>0</td>\n",
       "      <td>0.209580</td>\n",
       "      <td>0.327557</td>\n",
       "      <td>-1.052899</td>\n",
       "      <td>0.209580</td>\n",
       "      <td>C</td>\n",
       "    </tr>\n",
       "    <tr>\n",
       "      <th>21003</th>\n",
       "      <td>0.388889</td>\n",
       "      <td>32</td>\n",
       "      <td>2</td>\n",
       "      <td>0.913839</td>\n",
       "      <td>0.913839</td>\n",
       "      <td>1.927765</td>\n",
       "      <td>-0.081336</td>\n",
       "      <td>-0.081336</td>\n",
       "      <td>0.265299</td>\n",
       "      <td>0.961238</td>\n",
       "      <td>1</td>\n",
       "      <td>0.995175</td>\n",
       "      <td>1.089004</td>\n",
       "      <td>1.081730</td>\n",
       "      <td>0.995175</td>\n",
       "      <td>H</td>\n",
       "    </tr>\n",
       "    <tr>\n",
       "      <th>21004</th>\n",
       "      <td>-0.277778</td>\n",
       "      <td>32</td>\n",
       "      <td>2</td>\n",
       "      <td>0.985423</td>\n",
       "      <td>0.985423</td>\n",
       "      <td>0.704592</td>\n",
       "      <td>0.415651</td>\n",
       "      <td>0.415651</td>\n",
       "      <td>0.510191</td>\n",
       "      <td>0.942479</td>\n",
       "      <td>1</td>\n",
       "      <td>0.569772</td>\n",
       "      <td>0.578200</td>\n",
       "      <td>0.270496</td>\n",
       "      <td>0.569772</td>\n",
       "      <td>H</td>\n",
       "    </tr>\n",
       "    <tr>\n",
       "      <th>21005</th>\n",
       "      <td>0.388889</td>\n",
       "      <td>45</td>\n",
       "      <td>0</td>\n",
       "      <td>-0.176315</td>\n",
       "      <td>-0.176315</td>\n",
       "      <td>-0.208430</td>\n",
       "      <td>0.027227</td>\n",
       "      <td>0.027227</td>\n",
       "      <td>0.000612</td>\n",
       "      <td>0.561807</td>\n",
       "      <td>0</td>\n",
       "      <td>-0.203542</td>\n",
       "      <td>1.154425</td>\n",
       "      <td>1.133768</td>\n",
       "      <td>-0.203542</td>\n",
       "      <td>E</td>\n",
       "    </tr>\n",
       "    <tr>\n",
       "      <th>21006</th>\n",
       "      <td>-0.611111</td>\n",
       "      <td>28</td>\n",
       "      <td>0</td>\n",
       "      <td>-0.351727</td>\n",
       "      <td>-0.351727</td>\n",
       "      <td>-0.303713</td>\n",
       "      <td>-0.474149</td>\n",
       "      <td>-0.474149</td>\n",
       "      <td>-0.367338</td>\n",
       "      <td>0.630871</td>\n",
       "      <td>0</td>\n",
       "      <td>0.122422</td>\n",
       "      <td>-0.348059</td>\n",
       "      <td>4.873075</td>\n",
       "      <td>0.122422</td>\n",
       "      <td>E</td>\n",
       "    </tr>\n",
       "    <tr>\n",
       "      <th>21007</th>\n",
       "      <td>0.388889</td>\n",
       "      <td>47</td>\n",
       "      <td>-1</td>\n",
       "      <td>2.687547</td>\n",
       "      <td>2.687547</td>\n",
       "      <td>2.870082</td>\n",
       "      <td>11.536903</td>\n",
       "      <td>11.536903</td>\n",
       "      <td>23.543073</td>\n",
       "      <td>0.230063</td>\n",
       "      <td>1</td>\n",
       "      <td>-8.849356</td>\n",
       "      <td>-3.292726</td>\n",
       "      <td>2.303700</td>\n",
       "      <td>-8.849356</td>\n",
       "      <td>B</td>\n",
       "    </tr>\n",
       "    <tr>\n",
       "      <th>21008</th>\n",
       "      <td>-0.388889</td>\n",
       "      <td>41</td>\n",
       "      <td>-1</td>\n",
       "      <td>-0.195982</td>\n",
       "      <td>-0.195982</td>\n",
       "      <td>-0.029464</td>\n",
       "      <td>3.311343</td>\n",
       "      <td>3.311343</td>\n",
       "      <td>2.550955</td>\n",
       "      <td>0.392860</td>\n",
       "      <td>0</td>\n",
       "      <td>-3.507326</td>\n",
       "      <td>17.896143</td>\n",
       "      <td>1.944122</td>\n",
       "      <td>-3.507326</td>\n",
       "      <td>C</td>\n",
       "    </tr>\n",
       "    <tr>\n",
       "      <th>21009</th>\n",
       "      <td>-0.444444</td>\n",
       "      <td>38</td>\n",
       "      <td>0</td>\n",
       "      <td>0.373199</td>\n",
       "      <td>0.373199</td>\n",
       "      <td>0.241724</td>\n",
       "      <td>-0.179077</td>\n",
       "      <td>-0.179077</td>\n",
       "      <td>-0.306115</td>\n",
       "      <td>0.516989</td>\n",
       "      <td>0</td>\n",
       "      <td>0.552276</td>\n",
       "      <td>1.479843</td>\n",
       "      <td>1.324252</td>\n",
       "      <td>0.552276</td>\n",
       "      <td>D</td>\n",
       "    </tr>\n",
       "    <tr>\n",
       "      <th>21010</th>\n",
       "      <td>-0.444444</td>\n",
       "      <td>42</td>\n",
       "      <td>0</td>\n",
       "      <td>-0.222805</td>\n",
       "      <td>-0.222805</td>\n",
       "      <td>-0.175311</td>\n",
       "      <td>0.314675</td>\n",
       "      <td>0.314675</td>\n",
       "      <td>1.397924</td>\n",
       "      <td>0.751123</td>\n",
       "      <td>0</td>\n",
       "      <td>-0.537479</td>\n",
       "      <td>2.412334</td>\n",
       "      <td>1.585464</td>\n",
       "      <td>-0.537479</td>\n",
       "      <td>G</td>\n",
       "    </tr>\n",
       "    <tr>\n",
       "      <th>21011</th>\n",
       "      <td>-0.444444</td>\n",
       "      <td>41</td>\n",
       "      <td>0</td>\n",
       "      <td>0.156154</td>\n",
       "      <td>0.156154</td>\n",
       "      <td>0.283895</td>\n",
       "      <td>-0.194135</td>\n",
       "      <td>-0.194135</td>\n",
       "      <td>-0.232545</td>\n",
       "      <td>0.789046</td>\n",
       "      <td>0</td>\n",
       "      <td>0.350289</td>\n",
       "      <td>2.243223</td>\n",
       "      <td>1.554213</td>\n",
       "      <td>0.350289</td>\n",
       "      <td>G</td>\n",
       "    </tr>\n",
       "    <tr>\n",
       "      <th>21012</th>\n",
       "      <td>0.388889</td>\n",
       "      <td>43</td>\n",
       "      <td>3</td>\n",
       "      <td>-0.367102</td>\n",
       "      <td>-0.367102</td>\n",
       "      <td>-0.419430</td>\n",
       "      <td>-0.528065</td>\n",
       "      <td>-0.528065</td>\n",
       "      <td>-0.510191</td>\n",
       "      <td>0.935651</td>\n",
       "      <td>1</td>\n",
       "      <td>0.160963</td>\n",
       "      <td>-0.438468</td>\n",
       "      <td>4.280670</td>\n",
       "      <td>0.160963</td>\n",
       "      <td>H</td>\n",
       "    </tr>\n",
       "    <tr>\n",
       "      <th>21013</th>\n",
       "      <td>0.000000</td>\n",
       "      <td>38</td>\n",
       "      <td>2</td>\n",
       "      <td>1.612012</td>\n",
       "      <td>1.612012</td>\n",
       "      <td>1.224425</td>\n",
       "      <td>0.140797</td>\n",
       "      <td>0.140797</td>\n",
       "      <td>-0.046529</td>\n",
       "      <td>0.817174</td>\n",
       "      <td>1</td>\n",
       "      <td>1.471216</td>\n",
       "      <td>0.912658</td>\n",
       "      <td>0.904299</td>\n",
       "      <td>1.471216</td>\n",
       "      <td>G</td>\n",
       "    </tr>\n",
       "    <tr>\n",
       "      <th>21014</th>\n",
       "      <td>0.000000</td>\n",
       "      <td>41</td>\n",
       "      <td>0</td>\n",
       "      <td>0.882438</td>\n",
       "      <td>0.882438</td>\n",
       "      <td>1.473964</td>\n",
       "      <td>-0.159975</td>\n",
       "      <td>-0.159975</td>\n",
       "      <td>-0.156527</td>\n",
       "      <td>0.110030</td>\n",
       "      <td>1</td>\n",
       "      <td>1.042414</td>\n",
       "      <td>1.181288</td>\n",
       "      <td>1.153466</td>\n",
       "      <td>1.042414</td>\n",
       "      <td>A</td>\n",
       "    </tr>\n",
       "    <tr>\n",
       "      <th>21015</th>\n",
       "      <td>-0.444444</td>\n",
       "      <td>32</td>\n",
       "      <td>-1</td>\n",
       "      <td>-0.409993</td>\n",
       "      <td>-0.409993</td>\n",
       "      <td>-0.444624</td>\n",
       "      <td>-0.498026</td>\n",
       "      <td>-0.498026</td>\n",
       "      <td>-0.430601</td>\n",
       "      <td>0.783511</td>\n",
       "      <td>1</td>\n",
       "      <td>0.088033</td>\n",
       "      <td>-0.214718</td>\n",
       "      <td>6.657277</td>\n",
       "      <td>0.088033</td>\n",
       "      <td>G</td>\n",
       "    </tr>\n",
       "    <tr>\n",
       "      <th>21016</th>\n",
       "      <td>0.166667</td>\n",
       "      <td>33</td>\n",
       "      <td>2</td>\n",
       "      <td>2.355157</td>\n",
       "      <td>2.355157</td>\n",
       "      <td>1.859257</td>\n",
       "      <td>0.973870</td>\n",
       "      <td>0.973870</td>\n",
       "      <td>1.020382</td>\n",
       "      <td>0.947891</td>\n",
       "      <td>1</td>\n",
       "      <td>1.381287</td>\n",
       "      <td>0.586495</td>\n",
       "      <td>0.294954</td>\n",
       "      <td>1.381287</td>\n",
       "      <td>H</td>\n",
       "    </tr>\n",
       "    <tr>\n",
       "      <th>21017</th>\n",
       "      <td>-0.444444</td>\n",
       "      <td>32</td>\n",
       "      <td>1</td>\n",
       "      <td>0.537986</td>\n",
       "      <td>0.537986</td>\n",
       "      <td>0.279178</td>\n",
       "      <td>-0.131400</td>\n",
       "      <td>-0.131400</td>\n",
       "      <td>-0.255096</td>\n",
       "      <td>0.859737</td>\n",
       "      <td>1</td>\n",
       "      <td>0.669386</td>\n",
       "      <td>1.244244</td>\n",
       "      <td>1.196299</td>\n",
       "      <td>0.669386</td>\n",
       "      <td>H</td>\n",
       "    </tr>\n",
       "    <tr>\n",
       "      <th>21018</th>\n",
       "      <td>-0.666667</td>\n",
       "      <td>46</td>\n",
       "      <td>0</td>\n",
       "      <td>-0.233933</td>\n",
       "      <td>-0.233933</td>\n",
       "      <td>-0.189432</td>\n",
       "      <td>-0.384303</td>\n",
       "      <td>-0.384303</td>\n",
       "      <td>-0.385909</td>\n",
       "      <td>0.546279</td>\n",
       "      <td>0</td>\n",
       "      <td>0.150370</td>\n",
       "      <td>-0.642788</td>\n",
       "      <td>3.555723</td>\n",
       "      <td>0.150370</td>\n",
       "      <td>E</td>\n",
       "    </tr>\n",
       "    <tr>\n",
       "      <th>21019</th>\n",
       "      <td>0.388889</td>\n",
       "      <td>35</td>\n",
       "      <td>0</td>\n",
       "      <td>1.414928</td>\n",
       "      <td>1.414928</td>\n",
       "      <td>0.992698</td>\n",
       "      <td>0.319180</td>\n",
       "      <td>0.319180</td>\n",
       "      <td>0.000000</td>\n",
       "      <td>0.379926</td>\n",
       "      <td>0</td>\n",
       "      <td>1.095747</td>\n",
       "      <td>0.774419</td>\n",
       "      <td>0.708710</td>\n",
       "      <td>1.095747</td>\n",
       "      <td>C</td>\n",
       "    </tr>\n",
       "  </tbody>\n",
       "</table>\n",
       "</div>"
      ],
      "text/plain": [
       "       LIMIT_BAL  AGE  PAY_0  SUM_BILL  AVG_BILL  max_BILL    SUM_PAY  \\\n",
       "21000  -0.555556   36      1 -0.407430 -0.407430 -0.438912  -0.452968   \n",
       "21001   0.833333   40      2  3.277224  3.277224  2.356650   1.332486   \n",
       "21002   0.722222   37      0  0.639827  0.639827  1.427677   0.430247   \n",
       "21003   0.388889   32      2  0.913839  0.913839  1.927765  -0.081336   \n",
       "21004  -0.277778   32      2  0.985423  0.985423  0.704592   0.415651   \n",
       "21005   0.388889   45      0 -0.176315 -0.176315 -0.208430   0.027227   \n",
       "21006  -0.611111   28      0 -0.351727 -0.351727 -0.303713  -0.474149   \n",
       "21007   0.388889   47     -1  2.687547  2.687547  2.870082  11.536903   \n",
       "21008  -0.388889   41     -1 -0.195982 -0.195982 -0.029464   3.311343   \n",
       "21009  -0.444444   38      0  0.373199  0.373199  0.241724  -0.179077   \n",
       "21010  -0.444444   42      0 -0.222805 -0.222805 -0.175311   0.314675   \n",
       "21011  -0.444444   41      0  0.156154  0.156154  0.283895  -0.194135   \n",
       "21012   0.388889   43      3 -0.367102 -0.367102 -0.419430  -0.528065   \n",
       "21013   0.000000   38      2  1.612012  1.612012  1.224425   0.140797   \n",
       "21014   0.000000   41      0  0.882438  0.882438  1.473964  -0.159975   \n",
       "21015  -0.444444   32     -1 -0.409993 -0.409993 -0.444624  -0.498026   \n",
       "21016   0.166667   33      2  2.355157  2.355157  1.859257   0.973870   \n",
       "21017  -0.444444   32      1  0.537986  0.537986  0.279178  -0.131400   \n",
       "21018  -0.666667   46      0 -0.233933 -0.233933 -0.189432  -0.384303   \n",
       "21019   0.388889   35      0  1.414928  1.414928  0.992698   0.319180   \n",
       "\n",
       "         AVG_PAY    max_PAY   y_score  default       ead  ead_ratio  \\\n",
       "21000  -0.452968  -0.390806  0.850414        0  0.045538  -0.111770   \n",
       "21001   1.332486   0.510191  0.805133        1  1.944738   0.593410   \n",
       "21002   0.430247   0.103569  0.350095        0  0.209580   0.327557   \n",
       "21003  -0.081336   0.265299  0.961238        1  0.995175   1.089004   \n",
       "21004   0.415651   0.510191  0.942479        1  0.569772   0.578200   \n",
       "21005   0.027227   0.000612  0.561807        0 -0.203542   1.154425   \n",
       "21006  -0.474149  -0.367338  0.630871        0  0.122422  -0.348059   \n",
       "21007  11.536903  23.543073  0.230063        1 -8.849356  -3.292726   \n",
       "21008   3.311343   2.550955  0.392860        0 -3.507326  17.896143   \n",
       "21009  -0.179077  -0.306115  0.516989        0  0.552276   1.479843   \n",
       "21010   0.314675   1.397924  0.751123        0 -0.537479   2.412334   \n",
       "21011  -0.194135  -0.232545  0.789046        0  0.350289   2.243223   \n",
       "21012  -0.528065  -0.510191  0.935651        1  0.160963  -0.438468   \n",
       "21013   0.140797  -0.046529  0.817174        1  1.471216   0.912658   \n",
       "21014  -0.159975  -0.156527  0.110030        1  1.042414   1.181288   \n",
       "21015  -0.498026  -0.430601  0.783511        1  0.088033  -0.214718   \n",
       "21016   0.973870   1.020382  0.947891        1  1.381287   0.586495   \n",
       "21017  -0.131400  -0.255096  0.859737        1  0.669386   1.244244   \n",
       "21018  -0.384303  -0.385909  0.546279        0  0.150370  -0.642788   \n",
       "21019   0.319180   0.000000  0.379926        0  1.095747   0.774419   \n",
       "\n",
       "       lgd_ratio    losses risk_category  \n",
       "21000  10.946949  0.045538             G  \n",
       "21001   0.314825  1.944738             G  \n",
       "21002  -1.052899  0.209580             C  \n",
       "21003   1.081730  0.995175             H  \n",
       "21004   0.270496  0.569772             H  \n",
       "21005   1.133768 -0.203542             E  \n",
       "21006   4.873075  0.122422             E  \n",
       "21007   2.303700 -8.849356             B  \n",
       "21008   1.944122 -3.507326             C  \n",
       "21009   1.324252  0.552276             D  \n",
       "21010   1.585464 -0.537479             G  \n",
       "21011   1.554213  0.350289             G  \n",
       "21012   4.280670  0.160963             H  \n",
       "21013   0.904299  1.471216             G  \n",
       "21014   1.153466  1.042414             A  \n",
       "21015   6.657277  0.088033             G  \n",
       "21016   0.294954  1.381287             H  \n",
       "21017   1.196299  0.669386             H  \n",
       "21018   3.555723  0.150370             E  \n",
       "21019   0.708710  1.095747             C  "
      ]
     },
     "execution_count": 277,
     "metadata": {},
     "output_type": "execute_result"
    }
   ],
   "source": [
    "test_df.head(20)"
   ]
  },
  {
   "cell_type": "code",
   "execution_count": 237,
   "id": "fc428f0d",
   "metadata": {
    "ExecuteTime": {
     "end_time": "2023-05-09T15:40:00.478141Z",
     "start_time": "2023-05-09T15:40:00.467708Z"
    },
    "hidden": true
   },
   "outputs": [],
   "source": [
    "default_table = test_df.groupby(['risk_category']).agg(\n",
    "    default_ratio=('default','mean'),\n",
    "    sum_bill=('SUM_BILL','mean'),\n",
    ").reset_index()\n"
   ]
  },
  {
   "cell_type": "code",
   "execution_count": 238,
   "id": "68cd7ba5",
   "metadata": {
    "ExecuteTime": {
     "end_time": "2023-05-09T15:40:00.992399Z",
     "start_time": "2023-05-09T15:40:00.968638Z"
    },
    "hidden": true
   },
   "outputs": [],
   "source": [
    "policy_table = test_df[test_df.default == 1].groupby(['risk_category']).agg(\n",
    "    EAD=('ead_ratio', 'mean'),\n",
    "    LGD=('lgd_ratio', 'mean'),\n",
    ").reset_index()\n",
    "\n",
    "policy_table = pd.merge(policy_table, default_table, on=['risk_category'])"
   ]
  },
  {
   "cell_type": "code",
   "execution_count": 239,
   "id": "1243edd3",
   "metadata": {
    "ExecuteTime": {
     "end_time": "2023-05-09T15:40:02.306373Z",
     "start_time": "2023-05-09T15:40:02.294490Z"
    },
    "hidden": true
   },
   "outputs": [
    {
     "data": {
      "text/html": [
       "<div>\n",
       "<style scoped>\n",
       "    .dataframe tbody tr th:only-of-type {\n",
       "        vertical-align: middle;\n",
       "    }\n",
       "\n",
       "    .dataframe tbody tr th {\n",
       "        vertical-align: top;\n",
       "    }\n",
       "\n",
       "    .dataframe thead th {\n",
       "        text-align: right;\n",
       "    }\n",
       "</style>\n",
       "<table border=\"1\" class=\"dataframe\">\n",
       "  <thead>\n",
       "    <tr style=\"text-align: right;\">\n",
       "      <th></th>\n",
       "      <th>risk_category</th>\n",
       "      <th>EAD</th>\n",
       "      <th>LGD</th>\n",
       "      <th>default_ratio</th>\n",
       "      <th>sum_bill</th>\n",
       "    </tr>\n",
       "  </thead>\n",
       "  <tbody>\n",
       "    <tr>\n",
       "      <th>0</th>\n",
       "      <td>A</td>\n",
       "      <td>-1.266227</td>\n",
       "      <td>2.169093</td>\n",
       "      <td>0.094222</td>\n",
       "      <td>0.648114</td>\n",
       "    </tr>\n",
       "    <tr>\n",
       "      <th>1</th>\n",
       "      <td>B</td>\n",
       "      <td>0.385857</td>\n",
       "      <td>5.142285</td>\n",
       "      <td>0.110222</td>\n",
       "      <td>0.599713</td>\n",
       "    </tr>\n",
       "    <tr>\n",
       "      <th>2</th>\n",
       "      <td>C</td>\n",
       "      <td>-1.186914</td>\n",
       "      <td>0.214451</td>\n",
       "      <td>0.111111</td>\n",
       "      <td>0.580265</td>\n",
       "    </tr>\n",
       "    <tr>\n",
       "      <th>3</th>\n",
       "      <td>D</td>\n",
       "      <td>-14.135026</td>\n",
       "      <td>-15.818046</td>\n",
       "      <td>0.166222</td>\n",
       "      <td>0.475718</td>\n",
       "    </tr>\n",
       "    <tr>\n",
       "      <th>4</th>\n",
       "      <td>E</td>\n",
       "      <td>0.737256</td>\n",
       "      <td>4.231884</td>\n",
       "      <td>0.173333</td>\n",
       "      <td>0.399699</td>\n",
       "    </tr>\n",
       "    <tr>\n",
       "      <th>5</th>\n",
       "      <td>F</td>\n",
       "      <td>0.098133</td>\n",
       "      <td>0.657134</td>\n",
       "      <td>0.189333</td>\n",
       "      <td>0.368921</td>\n",
       "    </tr>\n",
       "    <tr>\n",
       "      <th>6</th>\n",
       "      <td>G</td>\n",
       "      <td>0.490094</td>\n",
       "      <td>2.099038</td>\n",
       "      <td>0.282667</td>\n",
       "      <td>0.403784</td>\n",
       "    </tr>\n",
       "    <tr>\n",
       "      <th>7</th>\n",
       "      <td>H</td>\n",
       "      <td>-2.767207</td>\n",
       "      <td>-0.734916</td>\n",
       "      <td>0.508444</td>\n",
       "      <td>0.645875</td>\n",
       "    </tr>\n",
       "  </tbody>\n",
       "</table>\n",
       "</div>"
      ],
      "text/plain": [
       "  risk_category        EAD        LGD  default_ratio  sum_bill\n",
       "0             A  -1.266227   2.169093       0.094222  0.648114\n",
       "1             B   0.385857   5.142285       0.110222  0.599713\n",
       "2             C  -1.186914   0.214451       0.111111  0.580265\n",
       "3             D -14.135026 -15.818046       0.166222  0.475718\n",
       "4             E   0.737256   4.231884       0.173333  0.399699\n",
       "5             F   0.098133   0.657134       0.189333  0.368921\n",
       "6             G   0.490094   2.099038       0.282667  0.403784\n",
       "7             H  -2.767207  -0.734916       0.508444  0.645875"
      ]
     },
     "execution_count": 239,
     "metadata": {},
     "output_type": "execute_result"
    }
   ],
   "source": [
    "policy_table"
   ]
  },
  {
   "cell_type": "markdown",
   "id": "9411a822",
   "metadata": {
    "heading_collapsed": true
   },
   "source": [
    "## Criando Política de Crédito"
   ]
  },
  {
   "cell_type": "code",
   "execution_count": 240,
   "id": "b81e4964",
   "metadata": {
    "ExecuteTime": {
     "end_time": "2023-05-09T15:40:03.757288Z",
     "start_time": "2023-05-09T15:40:03.749101Z"
    },
    "hidden": true
   },
   "outputs": [
    {
     "data": {
      "text/plain": [
       "{'ROI': 0.97364,\n",
       " 'ROI_annualized': 0.32454666666666665,\n",
       " 'principal': 50000,\n",
       " 'expected_loss': 1218.0000000000002,\n",
       " 'profit': 50000,\n",
       " 'net_profit': 48682.0,\n",
       " 'default_prob': 0.14,\n",
       " 'EAD': 0.2,\n",
       " 'LGD': 0.87}"
      ]
     },
     "execution_count": 240,
     "metadata": {},
     "output_type": "execute_result"
    }
   ],
   "source": [
    "# term will have an effect on the probability of default, also on the EAD/LGD\n",
    "def compute_roi(loan_amnt, default_prob, EAD, LGD, loan_fees, term_years):\n",
    "    EAD_LGD = EAD*LGD\n",
    "    principal = loan_amnt\n",
    "    expected_loss = principal*EAD_LGD*default_prob\n",
    "    profit = loan_amnt\n",
    "    net_profit = profit - expected_loss - loan_fees*loan_amnt\n",
    "    ROI = net_profit/loan_amnt\n",
    "    ROI_annualized = ROI/term_years\n",
    "\n",
    "    return {\n",
    "        'ROI': ROI,\n",
    "        'ROI_annualized': ROI_annualized,\n",
    "        'principal': principal,\n",
    "        'expected_loss': expected_loss,\n",
    "        'profit': profit,\n",
    "        'net_profit': net_profit,\n",
    "        'default_prob': default_prob,\n",
    "        'EAD': EAD,\n",
    "        'LGD': LGD\n",
    "    }\n",
    "\n",
    "compute_roi(loan_amnt=50000, default_prob=0.14, EAD=0.2, LGD=0.87, loan_fees=0.002, term_years=3)"
   ]
  },
  {
   "cell_type": "code",
   "execution_count": 241,
   "id": "b35263f4",
   "metadata": {
    "ExecuteTime": {
     "end_time": "2023-05-09T15:40:04.238175Z",
     "start_time": "2023-05-09T15:40:04.216511Z"
    },
    "hidden": true
   },
   "outputs": [
    {
     "ename": "NameError",
     "evalue": "name 'policy_3' is not defined",
     "output_type": "error",
     "traceback": [
      "\u001b[0;31m---------------------------------------------------------------------------\u001b[0m",
      "\u001b[0;31mNameError\u001b[0m                                 Traceback (most recent call last)",
      "\u001b[0;32m/tmp/ipykernel_6544/130348134.py\u001b[0m in \u001b[0;36m<module>\u001b[0;34m\u001b[0m\n\u001b[1;32m     21\u001b[0m     \u001b[0;32mreturn\u001b[0m \u001b[0mpolicy_ret\u001b[0m\u001b[0;34m\u001b[0m\u001b[0;34m\u001b[0m\u001b[0m\n\u001b[1;32m     22\u001b[0m \u001b[0;34m\u001b[0m\u001b[0m\n\u001b[0;32m---> 23\u001b[0;31m \u001b[0mcompute_policy_interest_rate\u001b[0m\u001b[0;34m(\u001b[0m\u001b[0;36m50000\u001b[0m\u001b[0;34m,\u001b[0m \u001b[0;36m0.002\u001b[0m\u001b[0;34m,\u001b[0m \u001b[0;34m'B'\u001b[0m\u001b[0;34m,\u001b[0m  \u001b[0mpolicy_table\u001b[0m\u001b[0;34m)\u001b[0m\u001b[0;34m\u001b[0m\u001b[0;34m\u001b[0m\u001b[0m\n\u001b[0m",
      "\u001b[0;32m/tmp/ipykernel_6544/130348134.py\u001b[0m in \u001b[0;36mcompute_policy_interest_rate\u001b[0;34m(loan_amnt, loan_fees, risk, policy_table)\u001b[0m\n\u001b[1;32m      4\u001b[0m \u001b[0;34m\u001b[0m\u001b[0m\n\u001b[1;32m      5\u001b[0m \u001b[0;32mdef\u001b[0m \u001b[0mcompute_policy_interest_rate\u001b[0m\u001b[0;34m(\u001b[0m\u001b[0mloan_amnt\u001b[0m\u001b[0;34m,\u001b[0m \u001b[0mloan_fees\u001b[0m\u001b[0;34m,\u001b[0m \u001b[0mrisk\u001b[0m\u001b[0;34m,\u001b[0m \u001b[0mpolicy_table\u001b[0m\u001b[0;34m)\u001b[0m\u001b[0;34m:\u001b[0m\u001b[0;34m\u001b[0m\u001b[0;34m\u001b[0m\u001b[0m\n\u001b[0;32m----> 6\u001b[0;31m     \u001b[0mterm_months\u001b[0m \u001b[0;34m=\u001b[0m \u001b[0mpolicy_3\u001b[0m\u001b[0;34m.\u001b[0m\u001b[0mterm\u001b[0m\u001b[0;34m.\u001b[0m\u001b[0miloc\u001b[0m\u001b[0;34m[\u001b[0m\u001b[0;36m0\u001b[0m\u001b[0;34m]\u001b[0m\u001b[0;34m\u001b[0m\u001b[0;34m\u001b[0m\u001b[0m\n\u001b[0m\u001b[1;32m      7\u001b[0m     \u001b[0mterm_years\u001b[0m \u001b[0;34m=\u001b[0m \u001b[0mterm_months\u001b[0m\u001b[0;34m/\u001b[0m\u001b[0;36m12\u001b[0m\u001b[0;34m\u001b[0m\u001b[0;34m\u001b[0m\u001b[0m\n\u001b[1;32m      8\u001b[0m \u001b[0;34m\u001b[0m\u001b[0m\n",
      "\u001b[0;31mNameError\u001b[0m: name 'policy_3' is not defined"
     ]
    }
   ],
   "source": [
    "def compute_best_interest_rate(term_years, expected_losses, loan_fees, ir_constraint=0.025):\n",
    "    best_ir = (0.025*term_years + expected_losses + loan_fees)/(1 - expected_losses)\n",
    "    return best_ir\n",
    "\n",
    "def compute_policy_interest_rate(loan_amnt, loan_fees, risk, policy_table):\n",
    "    term_months = policy_3.term.iloc[0]\n",
    "    term_years = term_months/12\n",
    "\n",
    "    default_prob = policy_table.loc[policy_table.risk_category == risk, 'default_ratio'].item()\n",
    "    EAD = policy_table.loc[policy_table.risk_category == risk, 'EAD'].item()\n",
    "    LGD = policy_table.loc[policy_table.risk_category == risk, 'LGD'].item()\n",
    "\n",
    "    expected_losses = EAD*LGD*default_prob\n",
    "    best_ir = compute_best_interest_rate(term_years, expected_losses, loan_fees)\n",
    "\n",
    "    roi_return = compute_roi(best_ir, loan_amnt, default_prob, EAD, LGD, loan_fees, term_years)\n",
    "\n",
    "    policy_ret = {'best_interest_rate': best_ir}\n",
    "    policy_ret.update(roi_return)\n",
    "\n",
    "    return policy_ret\n",
    "\n",
    "compute_policy_interest_rate(50000, 0.002, 'B',  policy_table)"
   ]
  },
  {
   "cell_type": "code",
   "execution_count": 242,
   "id": "4e6e6fdc",
   "metadata": {
    "ExecuteTime": {
     "end_time": "2023-05-09T15:40:05.743046Z",
     "start_time": "2023-05-09T15:40:05.738618Z"
    },
    "hidden": true
   },
   "outputs": [
    {
     "data": {
      "text/plain": [
       "Index(['LIMIT_BAL', 'AGE', 'PAY_0', 'SUM_BILL', 'AVG_BILL', 'max_BILL',\n",
       "       'SUM_PAY', 'AVG_PAY', 'max_PAY'],\n",
       "      dtype='object')"
      ]
     },
     "execution_count": 242,
     "metadata": {},
     "output_type": "execute_result"
    }
   ],
   "source": [
    "X_smo.columns"
   ]
  },
  {
   "cell_type": "code",
   "execution_count": 140,
   "id": "f159e242",
   "metadata": {
    "ExecuteTime": {
     "end_time": "2023-05-09T13:08:54.871438Z",
     "start_time": "2023-05-09T13:08:54.868898Z"
    },
    "hidden": true
   },
   "outputs": [
    {
     "data": {
      "text/plain": [
       "14"
      ]
     },
     "execution_count": 140,
     "metadata": {},
     "output_type": "execute_result"
    }
   ],
   "source": [
    "len(X_smo.columns)"
   ]
  },
  {
   "cell_type": "code",
   "execution_count": 273,
   "id": "546b39a4",
   "metadata": {
    "ExecuteTime": {
     "end_time": "2023-05-09T16:38:14.418083Z",
     "start_time": "2023-05-09T16:38:14.415172Z"
    },
    "hidden": true
   },
   "outputs": [],
   "source": [
    "T = [2000000, 24, -1, 100, 100000, 1000, 100000, 100000, 10000]\n",
    "enter = np.array([T])"
   ]
  },
  {
   "cell_type": "code",
   "execution_count": 274,
   "id": "fc8281fb",
   "metadata": {
    "ExecuteTime": {
     "end_time": "2023-05-09T16:38:15.002239Z",
     "start_time": "2023-05-09T16:38:14.967095Z"
    },
    "hidden": true
   },
   "outputs": [
    {
     "data": {
      "text/plain": [
       "0"
      ]
     },
     "execution_count": 274,
     "metadata": {},
     "output_type": "execute_result"
    }
   ],
   "source": [
    "data['model'].predict(enter)[0]"
   ]
  },
  {
   "cell_type": "code",
   "execution_count": 280,
   "id": "5a8525a4",
   "metadata": {
    "ExecuteTime": {
     "end_time": "2023-05-09T16:58:35.881503Z",
     "start_time": "2023-05-09T16:58:35.853231Z"
    },
    "hidden": true
   },
   "outputs": [
    {
     "data": {
      "text/plain": [
       "0.84419775"
      ]
     },
     "execution_count": 280,
     "metadata": {},
     "output_type": "execute_result"
    }
   ],
   "source": [
    "data['model'].predict_proba(enter)[:,0][0]"
   ]
  },
  {
   "cell_type": "code",
   "execution_count": 209,
   "id": "4dbe566a",
   "metadata": {
    "ExecuteTime": {
     "end_time": "2023-05-09T14:05:46.523945Z",
     "start_time": "2023-05-09T14:05:46.520269Z"
    },
    "hidden": true
   },
   "outputs": [
    {
     "data": {
      "text/plain": [
       "array([ 2, -1,  0, -2,  1,  3,  4,  8,  7,  5,  6])"
      ]
     },
     "execution_count": 209,
     "metadata": {},
     "output_type": "execute_result"
    }
   ],
   "source": [
    "X_smo['PAY_0'].unique()"
   ]
  },
  {
   "cell_type": "code",
   "execution_count": 244,
   "id": "88950c46",
   "metadata": {
    "ExecuteTime": {
     "end_time": "2023-05-09T15:44:00.675192Z",
     "start_time": "2023-05-09T15:44:00.672225Z"
    },
    "hidden": true
   },
   "outputs": [],
   "source": [
    "pay = {\n",
    "'pago em dia': -1,\n",
    "'atraso 1 mês': 1,\n",
    "'atraso 2 meses': 2,\n",
    "'atraso 3 meses': 3,\n",
    "'atraso 4 meses': 4,\n",
    "'atraso 5 meses': 5,\n",
    "'atraso 6 meses': 6,\n",
    "'atraso 7 meses': 7,\n",
    "'atraso 8 meses': 8}"
   ]
  },
  {
   "cell_type": "code",
   "execution_count": 245,
   "id": "9054c644",
   "metadata": {
    "ExecuteTime": {
     "end_time": "2023-05-09T15:44:01.516945Z",
     "start_time": "2023-05-09T15:44:01.513650Z"
    },
    "hidden": true
   },
   "outputs": [
    {
     "data": {
      "text/plain": [
       "dict_keys(['pago em dia', 'atraso 1 mês', 'atraso 2 meses', 'atraso 3 meses', 'atraso 4 meses', 'atraso 5 meses', 'atraso 6 meses', 'atraso 7 meses', 'atraso 8 meses'])"
      ]
     },
     "execution_count": 245,
     "metadata": {},
     "output_type": "execute_result"
    }
   ],
   "source": [
    "pay.keys()"
   ]
  },
  {
   "cell_type": "code",
   "execution_count": 251,
   "id": "7d97b9ff",
   "metadata": {
    "ExecuteTime": {
     "end_time": "2023-05-09T15:46:17.049318Z",
     "start_time": "2023-05-09T15:46:17.045800Z"
    },
    "hidden": true
   },
   "outputs": [
    {
     "data": {
      "text/plain": [
       "-1"
      ]
     },
     "execution_count": 251,
     "metadata": {},
     "output_type": "execute_result"
    }
   ],
   "source": [
    "pay['pago em dia']"
   ]
  },
  {
   "cell_type": "markdown",
   "id": "ac0da6e0",
   "metadata": {
    "heading_collapsed": true
   },
   "source": [
    "# PASSO 10 - Tradução e Interpretação do Erro"
   ]
  },
  {
   "cell_type": "markdown",
   "id": "08393817",
   "metadata": {
    "heading_collapsed": true
   },
   "source": [
    "# PASSO 11 - Deploy Model To Production"
   ]
  },
  {
   "cell_type": "markdown",
   "id": "744eed1a",
   "metadata": {
    "heading_collapsed": true,
    "hidden": true
   },
   "source": [
    "## 10.1 Credit Class"
   ]
  },
  {
   "cell_type": "code",
   "execution_count": 105,
   "id": "81a9c76e",
   "metadata": {
    "ExecuteTime": {
     "end_time": "2023-05-02T19:35:51.954332Z",
     "start_time": "2023-05-02T19:35:51.950711Z"
    },
    "hidden": true
   },
   "outputs": [
    {
     "ename": "SyntaxError",
     "evalue": "invalid syntax (4000454909.py, line 11)",
     "output_type": "error",
     "traceback": [
      "\u001b[0;36m  File \u001b[0;32m\"/tmp/ipykernel_17363/4000454909.py\"\u001b[0;36m, line \u001b[0;32m11\u001b[0m\n\u001b[0;31m    self.home_path =\u001b[0m\n\u001b[0m                     ^\u001b[0m\n\u001b[0;31mSyntaxError\u001b[0m\u001b[0;31m:\u001b[0m invalid syntax\n"
     ]
    }
   ],
   "source": [
    "import pickle\n",
    "import inflection\n",
    "import pandas as pd\n",
    "import numpy as np\n",
    "import math\n",
    "import datetime\n",
    "\n",
    "class CreditCard( object ):\n",
    "    \n",
    "    def __init__(self):\n",
    "        self.home_path = \n",
    "        self.gender_scaler = \n",
    "        self.cols_scaler = \n",
    "        \n",
    "    def data_cleaning(self,df_raw):\n",
    "        \n",
    "        df_raw['SEX'] = df_raw['SEX'].apply(lambda x: 'male' if x==1 else 'female')\n",
    "        df_raw['EDUCATION'] = df_raw['EDUCATION'].apply(lambda x: 'graduate school' if x == 1 else 'university' if x==2 else\n",
    "                                               'high school' if x==3 else 'others')\n",
    "        df_raw['MARRIAGE'] = df_raw['MARRIAGE'].apply(lambda x: 'married' if x==1 else 'single' if x==2 else 'others')\n",
    "        \n",
    "        \n",
    "        return df_raw\n",
    "    \n",
    "    def feature_engineering(self,df2):\n",
    "        \n",
    "        df2['SUM_BILL'] = df2['BILL_AMT1'] + df2['BILL_AMT2'] + df2['BILL_AMT3'] + df2['BILL_AMT4'] + df2['BILL_AMT5'] + df2['BILL_AMT6']   \n",
    "        df2['AVG_BILL'] = df2['SUM_BILL'] / 6\n",
    "        df2['max_BILL'] = df2[['BILL_AMT1', 'BILL_AMT2', 'BILL_AMT3', 'BILL_AMT4', 'BILL_AMT5', 'BILL_AMT6']].max(axis=1)\n",
    "\n",
    "        df2['SUM_PAY'] = df2['PAY_AMT1'] + df2['PAY_AMT2'] + df2['PAY_AMT3'] + df2['PAY_AMT4'] + df2['PAY_AMT5'] + df2['PAY_AMT6']\n",
    "        df2['AVG_PAY'] = df2['SUM_PAY'] / 6\n",
    "        df2['max_PAY'] = df2[['PAY_AMT1', 'PAY_AMT2', 'PAY_AMT2', 'PAY_AMT3', 'PAY_AMT4', 'PAY_AMT5','PAY_AMT6']].max(axis=1)\n",
    "        \n",
    "        return df2\n",
    "    \n",
    "    def data_preparation(self, df5):\n",
    "        \n",
    "        return df5[cols_select]\n",
    "    \n",
    "    def get_prediction(self, model, original_data, test_data):\n",
    "        \n",
    "        return original_data.to_json()"
   ]
  },
  {
   "cell_type": "markdown",
   "id": "79c3e85f",
   "metadata": {
    "hidden": true
   },
   "source": [
    "## 10.2 API Handler"
   ]
  },
  {
   "cell_type": "markdown",
   "id": "4998c9cb",
   "metadata": {
    "heading_collapsed": true,
    "hidden": true
   },
   "source": [
    "## 10.3 API Tester"
   ]
  },
  {
   "cell_type": "code",
   "execution_count": 1,
   "id": "bc0afe7e",
   "metadata": {
    "ExecuteTime": {
     "end_time": "2023-05-09T12:26:59.890246Z",
     "start_time": "2023-05-09T12:26:59.854073Z"
    },
    "hidden": true
   },
   "outputs": [
    {
     "ename": "NameError",
     "evalue": "name 'model_tree' is not defined",
     "output_type": "error",
     "traceback": [
      "\u001b[0;31m---------------------------------------------------------------------------\u001b[0m",
      "\u001b[0;31mNameError\u001b[0m                                 Traceback (most recent call last)",
      "\u001b[0;32m/tmp/ipykernel_6544/3552605654.py\u001b[0m in \u001b[0;36m<module>\u001b[0;34m\u001b[0m\n\u001b[0;32m----> 1\u001b[0;31m \u001b[0mdata\u001b[0m \u001b[0;34m=\u001b[0m \u001b[0;34m{\u001b[0m\u001b[0;34m\"model\"\u001b[0m\u001b[0;34m:\u001b[0m \u001b[0mmodel_tree\u001b[0m \u001b[0;34m}\u001b[0m\u001b[0;34m\u001b[0m\u001b[0;34m\u001b[0m\u001b[0m\n\u001b[0m\u001b[1;32m      2\u001b[0m \u001b[0;32mwith\u001b[0m \u001b[0mopen\u001b[0m\u001b[0;34m(\u001b[0m\u001b[0;34m'saved_steps2.pkl'\u001b[0m \u001b[0;34m,\u001b[0m \u001b[0;34m'wb'\u001b[0m\u001b[0;34m)\u001b[0m \u001b[0;32mas\u001b[0m \u001b[0mfile\u001b[0m\u001b[0;34m:\u001b[0m\u001b[0;34m\u001b[0m\u001b[0;34m\u001b[0m\u001b[0m\n\u001b[1;32m      3\u001b[0m     \u001b[0mpickle\u001b[0m\u001b[0;34m.\u001b[0m\u001b[0mdump\u001b[0m\u001b[0;34m(\u001b[0m\u001b[0mdata\u001b[0m\u001b[0;34m,\u001b[0m\u001b[0mfile\u001b[0m\u001b[0;34m)\u001b[0m\u001b[0;34m\u001b[0m\u001b[0;34m\u001b[0m\u001b[0m\n",
      "\u001b[0;31mNameError\u001b[0m: name 'model_tree' is not defined"
     ]
    }
   ],
   "source": [
    "data = {\"model\": model_tree }\n",
    "with open('saved_steps2.pkl' , 'wb') as file:\n",
    "    pickle.dump(data,file)"
   ]
  },
  {
   "cell_type": "code",
   "execution_count": 2,
   "id": "13238c91",
   "metadata": {
    "ExecuteTime": {
     "end_time": "2023-05-09T12:26:59.897343Z",
     "start_time": "2023-05-09T12:26:59.893655Z"
    },
    "hidden": true
   },
   "outputs": [
    {
     "ename": "FileNotFoundError",
     "evalue": "[Errno 2] No such file or directory: 'saved_steps2.pkl'",
     "output_type": "error",
     "traceback": [
      "\u001b[0;31m---------------------------------------------------------------------------\u001b[0m",
      "\u001b[0;31mFileNotFoundError\u001b[0m                         Traceback (most recent call last)",
      "\u001b[0;32m/tmp/ipykernel_6544/2423888094.py\u001b[0m in \u001b[0;36m<module>\u001b[0;34m\u001b[0m\n\u001b[0;32m----> 1\u001b[0;31m \u001b[0;32mwith\u001b[0m \u001b[0mopen\u001b[0m\u001b[0;34m(\u001b[0m\u001b[0;34m'saved_steps2.pkl'\u001b[0m \u001b[0;34m,\u001b[0m \u001b[0;34m'rb'\u001b[0m\u001b[0;34m)\u001b[0m \u001b[0;32mas\u001b[0m \u001b[0mfile\u001b[0m\u001b[0;34m:\u001b[0m\u001b[0;34m\u001b[0m\u001b[0;34m\u001b[0m\u001b[0m\n\u001b[0m\u001b[1;32m      2\u001b[0m     \u001b[0mdata\u001b[0m \u001b[0;34m=\u001b[0m  \u001b[0mpickle\u001b[0m\u001b[0;34m.\u001b[0m\u001b[0mload\u001b[0m\u001b[0;34m(\u001b[0m\u001b[0mfile\u001b[0m\u001b[0;34m)\u001b[0m\u001b[0;34m\u001b[0m\u001b[0;34m\u001b[0m\u001b[0m\n",
      "\u001b[0;31mFileNotFoundError\u001b[0m: [Errno 2] No such file or directory: 'saved_steps2.pkl'"
     ]
    }
   ],
   "source": [
    "with open('saved_steps2.pkl' , 'rb') as file:\n",
    "    data =  pickle.load(file)"
   ]
  },
  {
   "cell_type": "code",
   "execution_count": null,
   "id": "e4915bd1",
   "metadata": {
    "ExecuteTime": {
     "end_time": "2023-04-27T19:20:23.567651Z",
     "start_time": "2023-04-27T19:20:23.567636Z"
    },
    "hidden": true
   },
   "outputs": [],
   "source": [
    "classificator = data['model']"
   ]
  },
  {
   "cell_type": "code",
   "execution_count": 130,
   "id": "73f2306f",
   "metadata": {
    "ExecuteTime": {
     "end_time": "2023-05-09T13:05:49.903571Z",
     "start_time": "2023-05-09T13:05:49.895301Z"
    },
    "hidden": true
   },
   "outputs": [
    {
     "ename": "NameError",
     "evalue": "name 'classificator' is not defined",
     "output_type": "error",
     "traceback": [
      "\u001b[0;31m---------------------------------------------------------------------------\u001b[0m",
      "\u001b[0;31mNameError\u001b[0m                                 Traceback (most recent call last)",
      "\u001b[0;32m/tmp/ipykernel_6544/3979093421.py\u001b[0m in \u001b[0;36m<module>\u001b[0;34m\u001b[0m\n\u001b[0;32m----> 1\u001b[0;31m \u001b[0mclassificator\u001b[0m\u001b[0;34m.\u001b[0m\u001b[0mpredict\u001b[0m\u001b[0;34m(\u001b[0m\u001b[0mX\u001b[0m\u001b[0;34m)\u001b[0m\u001b[0;34m\u001b[0m\u001b[0;34m\u001b[0m\u001b[0m\n\u001b[0m",
      "\u001b[0;31mNameError\u001b[0m: name 'classificator' is not defined"
     ]
    }
   ],
   "source": [
    "classificator.predict(X)[0]"
   ]
  },
  {
   "cell_type": "code",
   "execution_count": null,
   "id": "740be30a",
   "metadata": {
    "ExecuteTime": {
     "end_time": "2023-04-27T19:20:23.569468Z",
     "start_time": "2023-04-27T19:20:23.569453Z"
    },
    "hidden": true
   },
   "outputs": [],
   "source": [
    "cols_selected"
   ]
  },
  {
   "cell_type": "code",
   "execution_count": null,
   "id": "9e1a681f",
   "metadata": {
    "hidden": true
   },
   "outputs": [],
   "source": []
  }
 ],
 "metadata": {
  "kernelspec": {
   "display_name": "Python 3 (ipykernel)",
   "language": "python",
   "name": "python3"
  },
  "language_info": {
   "codemirror_mode": {
    "name": "ipython",
    "version": 3
   },
   "file_extension": ".py",
   "mimetype": "text/x-python",
   "name": "python",
   "nbconvert_exporter": "python",
   "pygments_lexer": "ipython3",
   "version": "3.10.6"
  }
 },
 "nbformat": 4,
 "nbformat_minor": 5
}
